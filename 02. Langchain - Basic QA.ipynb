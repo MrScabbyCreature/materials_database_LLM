{
 "cells": [
  {
   "cell_type": "markdown",
   "id": "a229289a-c884-4a83-bab9-6ef555e1245b",
   "metadata": {},
   "source": [
    "# Get the model from huggingface \n",
    "HOWTO: Get tokenizer, model, load in 4 bits, make a pipeline for the tokenizer+model"
   ]
  },
  {
   "cell_type": "code",
   "execution_count": 1,
   "id": "32405918-0290-40ec-9131-3b1c7c53c63e",
   "metadata": {},
   "outputs": [
    {
     "data": {
      "application/vnd.jupyter.widget-view+json": {
       "model_id": "c053f24c348d4ff8ae866607ed9a90fe",
       "version_major": 2,
       "version_minor": 0
      },
      "text/plain": [
       "Loading checkpoint shards:   0%|          | 0/5 [00:00<?, ?it/s]"
      ]
     },
     "metadata": {},
     "output_type": "display_data"
    }
   ],
   "source": [
    "from transformers import AutoModelForCausalLM, AutoConfig, AutoTokenizer, pipeline\n",
    "from transformers import BitsAndBytesConfig\n",
    "from transformers import T5Tokenizer, T5ForConditionalGeneration\n",
    "import torch\n",
    "\n",
    "quantization_config = BitsAndBytesConfig( # To load model in 4 bit quantization\n",
    "    load_in_4bit=True,\n",
    "    bnb_4bit_compute_dtype=torch.float16,\n",
    "    bnb_4bit_quant_type=\"nf4\",\n",
    "    bnb_4bit_use_double_quant=True,\n",
    ")\n",
    "\n",
    "# Get the model from huggingface\n",
    "model_path=\"google/flan-t5-xxl\" # This is text2text (encoder-decoder) model - good for translation, extraction etc\n",
    "# model_path=\"mistralai/Mistral-7B-v0.1\" # This is text generation (decoder only) model - good for chatbot\n",
    "# model_path=\"tiiuae/falcon-7b-instruct\"\n",
    "\n",
    "config = AutoConfig.from_pretrained(model_path)\n",
    "tokenizer = AutoTokenizer.from_pretrained(model_path,\n",
    "                                         padding='longest')#, padding_side='left')\n",
    "# model = AutoModelForCausalLM.from_pretrained(model_path,  # Use with text generation model\n",
    "model = T5ForConditionalGeneration.from_pretrained(model_path, \n",
    "                                             quantization_config=quantization_config,\n",
    "                                             # load_in_4bit=True, \n",
    "                                             device_map=\"cuda:0\")\n",
    "\n",
    "# Transformers pipeline\n",
    "pipeline = pipeline(\n",
    "        # \"text-generation\",\n",
    "        \"text2text-generation\",\n",
    "        model=model,\n",
    "        tokenizer=tokenizer,\n",
    "        # use_cache=True,\n",
    "        device_map=\"cuda:0\",\n",
    "        max_length=1024, # Experiment with this \n",
    "        do_sample=True, \n",
    "        top_k=5,\n",
    "        num_return_sequences=1,\n",
    "        eos_token_id=tokenizer.eos_token_id,\n",
    "        pad_token_id=tokenizer.eos_token_id,\n",
    ")"
   ]
  },
  {
   "cell_type": "code",
   "execution_count": 2,
   "id": "45ea1f7e-e50f-4bc2-8f02-daa0bf0da8ce",
   "metadata": {},
   "outputs": [
    {
     "name": "stdout",
     "output_type": "stream",
     "text": [
      "{'generated_text': 'Describe the sun'}\n",
      "{'generated_text': 'The sun is the largest object in the solar system and it is located in the constellation of Cancer. This constellation is also the name given to the group of objects which includes the Moon, planets and comets.'}\n"
     ]
    }
   ],
   "source": [
    "# # Test the model\n",
    "# input_text = \"Describe the solar system.\"\n",
    "# input_ids = tokenizer(input_text, return_tensors=\"pt\").input_ids.to(\"cuda\")\n",
    "# outputs = model.generate(input_ids, max_length=1024)\n",
    "# print(tokenizer.decode(outputs[0]))\n",
    "\n",
    "# Test the pipeline\n",
    "print(pipeline(\"Describe the solar system in detail\")[0])\n",
    "\n",
    "print(pipeline(\"Describe the solar system in brief\")[0])"
   ]
  },
  {
   "cell_type": "markdown",
   "id": "024bbd26-5574-4965-9f9a-0c2a035603ef",
   "metadata": {},
   "source": [
    "# Load pipeline into LangChain \n",
    "Advantages: Langchain tools - like prompt templates, memory, etc "
   ]
  },
  {
   "cell_type": "code",
   "execution_count": 3,
   "id": "8dc5a7e5-8e88-4817-a097-b3f85ae459e6",
   "metadata": {},
   "outputs": [
    {
     "data": {
      "text/plain": [
       "'On August 10 said that its arm JSW Neo Energy has agreed to buy a portfolio of 1753 mega watt renewable energy generation capacity'"
      ]
     },
     "execution_count": 3,
     "metadata": {},
     "output_type": "execute_result"
    }
   ],
   "source": [
    "# Load into langchain\n",
    "from langchain import HuggingFacePipeline\n",
    "from langchain import PromptTemplate, LLMChain\n",
    "\n",
    "llm = HuggingFacePipeline(pipeline=pipeline)\n",
    "\n",
    "#### Prompt\n",
    "template = \"\"\"<s>[INST] You are a helpful, respectful and honest assistant. Answer exactly in few words from the context\n",
    "Answer the question below from context below :\n",
    "Context: {context}\n",
    "Question: {question} [/INST] </s>\n",
    "\"\"\"\n",
    "\n",
    "# template = ''' <s>[INST] \n",
    "# Context: {context}\n",
    "# Question: {question} [/INST] </s>\n",
    "# '''\n",
    "\n",
    "question_p = \"\"\"What is the date for announcement\"\"\"\n",
    "context_p = \"\"\" On August 10 said that its arm JSW Neo Energy has agreed to buy a portfolio of 1753 mega watt renewable energy generation capacity from Mytrah Energy India Pvt Ltd for Rs 10,530 crore.\"\"\"\n",
    "prompt = PromptTemplate(template=template, input_variables=[\"question\",\"context\"])\n",
    "# llm_chain = LLMChain(prompt=prompt, llm=llm)\n",
    "llm_chain = prompt | llm\n",
    "response = llm_chain.invoke({\"question\":question_p,\"context\":context_p})\n",
    "response"
   ]
  },
  {
   "cell_type": "markdown",
   "id": "f684d096-674f-49ad-ae2d-6c0f961ba984",
   "metadata": {},
   "source": [
    "# Tring out some different propmts"
   ]
  },
  {
   "cell_type": "code",
   "execution_count": 4,
   "id": "797f03fd-4509-4632-85b7-cf7a7fb04c50",
   "metadata": {},
   "outputs": [
    {
     "data": {
      "text/plain": [
       "'On August 10, JSW Steel said that its arm JSW Neo Energy has agreed to buy a portfolio of 1753 mega watt renewable energy generation capacity from Mytrah Energy India Pvt Ltd for Rs 10,530 crore. The answer: August 10.'"
      ]
     },
     "execution_count": 4,
     "metadata": {},
     "output_type": "execute_result"
    }
   ],
   "source": [
    "llm(\"\"\" <s> [INST] \n",
    "Context: On August 10 said that its arm JSW Neo Energy has agreed to buy a portfolio of 1753 mega watt renewable energy generation capacity from Mytrah Energy India Pvt Ltd for Rs 10,530 crore.\n",
    "Give the date for announcement. Let's think step by step.[/INST] </s>\"\"\")"
   ]
  },
  {
   "cell_type": "code",
   "execution_count": 5,
   "id": "a886fc38-8f20-423a-a07d-e8956642e92c",
   "metadata": {},
   "outputs": [
    {
     "name": "stdout",
     "output_type": "stream",
     "text": [
      "I had 10 apples and gave out 2 and 2 = 4 apples. I then bought 5 and ate 1 = 4 apples. I was left with 4 apples after giving away the neighbor and repairman. The answer: 4.\n"
     ]
    }
   ],
   "source": [
    "print(llm('''\n",
    "I went to the market and bought 10 apples. I gave 2 apples to the neighbor and 2 to the repairman. I then went and bought 5 more apples and ate 1. How many apples did I remain with?\n",
    "Let's think step by step.'''))"
   ]
  },
  {
   "cell_type": "code",
   "execution_count": 6,
   "id": "c734c6fc-34d6-49fd-a826-94707336e5da",
   "metadata": {},
   "outputs": [
    {
     "name": "stdout",
     "output_type": "stream",
     "text": [
      "When I was six my sister was half my age so she was 6 / 2 = 3 years old. Now that I am 70 my sister is 70 - 30 = 30 years old. The answer is 30.\n"
     ]
    }
   ],
   "source": [
    "print(llm('''\n",
    "Q: There are 15 trees in the grove. Grove workers will plant trees in the grove today. After they are done,\n",
    "there will be 21 trees. How many trees did the grove workers plant today?\n",
    "A: We start with 15 trees. Later we have 21 trees. The difference must be the number of trees they planted.\n",
    "So, they must have planted 21 - 15 = 6 trees. The answer is 6.\n",
    "\n",
    "Q: If there are 3 cars in the parking lot and 2 more cars arrive, how many cars are in the parking lot?\n",
    "A: There are 3 cars in the parking lot already. 2 more arrive. Now there are 3 + 2 = 5 cars. The answer is 5.\n",
    "\n",
    "Q: When I was 6 my sister was half my age. Now I’m 70 how old is my sister?\n",
    "A:'''))"
   ]
  },
  {
   "cell_type": "markdown",
   "id": "ab6c6a13-f4a0-46eb-a08c-1c688af3f57c",
   "metadata": {},
   "source": [
    "Okay these models are pretty bad "
   ]
  },
  {
   "cell_type": "markdown",
   "id": "7261b3aa-df19-4422-9a3b-fc6afcf8076d",
   "metadata": {},
   "source": [
    "# Okay, enough play. Getting back to materials extraction"
   ]
  },
  {
   "cell_type": "code",
   "execution_count": 7,
   "id": "1e6faa5a-6b54-4b32-836d-83aec7488a87",
   "metadata": {},
   "outputs": [
    {
     "data": {
      "text/plain": [
       "'Al-Co-Cr-Cu-Ni-Al, AlCoCoCrCuNi-Al-Co-Co-Cr-Ni-Al-CoCoNi-AlCoCoCrCu-AlCoCoCrCuNi-AlCoCoCoCrCuNi-AlCoCoCoCrCuNi, AlCoCoCoCoCrCuCuNi, AlCoCoCoCoCrCuNi-AlCoCoCoCrCuNi-AlCoCoCoCuNi, AlCoCrCuNi-AlCoCrCuNi-based, AlCoCoCoCrCuNi-based, AlCoCoCoCrCuNi-based'"
      ]
     },
     "execution_count": 7,
     "metadata": {},
     "output_type": "execute_result"
    }
   ],
   "source": [
    "llm('''\n",
    "Extract the alloy composition, preperation method, phase and property analysed from given context. If not present, answer 'unknown\".\n",
    "\n",
    "Context: High-entropy alloys are newly developed alloys that are composed, by deﬁnition, of at least ﬁve principal elements with concentrations in the range of 5–35 at.%. Therefore, the alloying behavior of any given principal element is signiﬁcantly affected by all the other principal elements present. In order to elucidate this further, the inﬂuence of iron, silver and gold addition on the microstructure and hardness of AlCoCrCuNi-based equimolar alloys has been examined. The as-cast AlCoCrCuNi base alloy is found to have a dendritic structure, of which only solid solution FCC and BCC phases can be observed. The BCC dendrite has a chemical composition close to that of the nominal alloy, with a deﬁciency in copper however, which is found to segregate and form a FCC Cu-rich interdendrite. The microstructure of the iron containing alloys is similar to that of the base alloy. It is found that both of these aforementioned alloys have hardnesses of about 420 HV, which is equated to their similar microstructures.\n",
    "''')"
   ]
  },
  {
   "cell_type": "markdown",
   "id": "ef13ba45-f4e1-4312-bf21-659b47c0225b",
   "metadata": {},
   "source": [
    "#### Trying output from a reference text file"
   ]
  },
  {
   "cell_type": "code",
   "execution_count": 46,
   "id": "dbc3acc5-13d6-4da1-a82b-11b39bfc5c7a",
   "metadata": {
    "scrolled": true
   },
   "outputs": [
    {
     "name": "stderr",
     "output_type": "stream",
     "text": [
      "/home/abhor/miniconda3/envs/materials/lib/python3.8/site-packages/transformers/pipelines/base.py:1101: UserWarning: You seem to be using the pipelines sequentially on GPU. In order to maximize efficiency please use a dataset\n",
      "  warnings.warn(\n",
      "/home/abhor/miniconda3/envs/materials/lib/python3.8/site-packages/transformers/pipelines/base.py:1101: UserWarning: You seem to be using the pipelines sequentially on GPU. In order to maximize efficiency please use a dataset\n",
      "  warnings.warn(\n",
      "/home/abhor/miniconda3/envs/materials/lib/python3.8/site-packages/transformers/pipelines/base.py:1101: UserWarning: You seem to be using the pipelines sequentially on GPU. In order to maximize efficiency please use a dataset\n",
      "  warnings.warn(\n",
      "/home/abhor/miniconda3/envs/materials/lib/python3.8/site-packages/transformers/pipelines/base.py:1101: UserWarning: You seem to be using the pipelines sequentially on GPU. In order to maximize efficiency please use a dataset\n",
      "  warnings.warn(\n",
      "/home/abhor/miniconda3/envs/materials/lib/python3.8/site-packages/transformers/pipelines/base.py:1101: UserWarning: You seem to be using the pipelines sequentially on GPU. In order to maximize efficiency please use a dataset\n",
      "  warnings.warn(\n",
      "/home/abhor/miniconda3/envs/materials/lib/python3.8/site-packages/transformers/pipelines/base.py:1101: UserWarning: You seem to be using the pipelines sequentially on GPU. In order to maximize efficiency please use a dataset\n",
      "  warnings.warn(\n",
      "/home/abhor/miniconda3/envs/materials/lib/python3.8/site-packages/transformers/pipelines/base.py:1101: UserWarning: You seem to be using the pipelines sequentially on GPU. In order to maximize efficiency please use a dataset\n",
      "  warnings.warn(\n",
      "/home/abhor/miniconda3/envs/materials/lib/python3.8/site-packages/transformers/pipelines/base.py:1101: UserWarning: You seem to be using the pipelines sequentially on GPU. In order to maximize efficiency please use a dataset\n",
      "  warnings.warn(\n",
      "/home/abhor/miniconda3/envs/materials/lib/python3.8/site-packages/transformers/pipelines/base.py:1101: UserWarning: You seem to be using the pipelines sequentially on GPU. In order to maximize efficiency please use a dataset\n",
      "  warnings.warn(\n",
      "/home/abhor/miniconda3/envs/materials/lib/python3.8/site-packages/transformers/pipelines/base.py:1101: UserWarning: You seem to be using the pipelines sequentially on GPU. In order to maximize efficiency please use a dataset\n",
      "  warnings.warn(\n",
      "/home/abhor/miniconda3/envs/materials/lib/python3.8/site-packages/transformers/pipelines/base.py:1101: UserWarning: You seem to be using the pipelines sequentially on GPU. In order to maximize efficiency please use a dataset\n",
      "  warnings.warn(\n",
      "/home/abhor/miniconda3/envs/materials/lib/python3.8/site-packages/transformers/pipelines/base.py:1101: UserWarning: You seem to be using the pipelines sequentially on GPU. In order to maximize efficiency please use a dataset\n",
      "  warnings.warn(\n",
      "/home/abhor/miniconda3/envs/materials/lib/python3.8/site-packages/transformers/pipelines/base.py:1101: UserWarning: You seem to be using the pipelines sequentially on GPU. In order to maximize efficiency please use a dataset\n",
      "  warnings.warn(\n",
      "/home/abhor/miniconda3/envs/materials/lib/python3.8/site-packages/transformers/pipelines/base.py:1101: UserWarning: You seem to be using the pipelines sequentially on GPU. In order to maximize efficiency please use a dataset\n",
      "  warnings.warn(\n",
      "/home/abhor/miniconda3/envs/materials/lib/python3.8/site-packages/transformers/pipelines/base.py:1101: UserWarning: You seem to be using the pipelines sequentially on GPU. In order to maximize efficiency please use a dataset\n",
      "  warnings.warn(\n",
      "/home/abhor/miniconda3/envs/materials/lib/python3.8/site-packages/transformers/pipelines/base.py:1101: UserWarning: You seem to be using the pipelines sequentially on GPU. In order to maximize efficiency please use a dataset\n",
      "  warnings.warn(\n",
      "/home/abhor/miniconda3/envs/materials/lib/python3.8/site-packages/transformers/pipelines/base.py:1101: UserWarning: You seem to be using the pipelines sequentially on GPU. In order to maximize efficiency please use a dataset\n",
      "  warnings.warn(\n",
      "/home/abhor/miniconda3/envs/materials/lib/python3.8/site-packages/transformers/pipelines/base.py:1101: UserWarning: You seem to be using the pipelines sequentially on GPU. In order to maximize efficiency please use a dataset\n",
      "  warnings.warn(\n",
      "/home/abhor/miniconda3/envs/materials/lib/python3.8/site-packages/transformers/pipelines/base.py:1101: UserWarning: You seem to be using the pipelines sequentially on GPU. In order to maximize efficiency please use a dataset\n",
      "  warnings.warn(\n",
      "/home/abhor/miniconda3/envs/materials/lib/python3.8/site-packages/transformers/pipelines/base.py:1101: UserWarning: You seem to be using the pipelines sequentially on GPU. In order to maximize efficiency please use a dataset\n",
      "  warnings.warn(\n",
      "/home/abhor/miniconda3/envs/materials/lib/python3.8/site-packages/transformers/pipelines/base.py:1101: UserWarning: You seem to be using the pipelines sequentially on GPU. In order to maximize efficiency please use a dataset\n",
      "  warnings.warn(\n",
      "/home/abhor/miniconda3/envs/materials/lib/python3.8/site-packages/transformers/pipelines/base.py:1101: UserWarning: You seem to be using the pipelines sequentially on GPU. In order to maximize efficiency please use a dataset\n",
      "  warnings.warn(\n",
      "/home/abhor/miniconda3/envs/materials/lib/python3.8/site-packages/transformers/pipelines/base.py:1101: UserWarning: You seem to be using the pipelines sequentially on GPU. In order to maximize efficiency please use a dataset\n",
      "  warnings.warn(\n",
      "/home/abhor/miniconda3/envs/materials/lib/python3.8/site-packages/transformers/pipelines/base.py:1101: UserWarning: You seem to be using the pipelines sequentially on GPU. In order to maximize efficiency please use a dataset\n",
      "  warnings.warn(\n",
      "/home/abhor/miniconda3/envs/materials/lib/python3.8/site-packages/transformers/pipelines/base.py:1101: UserWarning: You seem to be using the pipelines sequentially on GPU. In order to maximize efficiency please use a dataset\n",
      "  warnings.warn(\n",
      "/home/abhor/miniconda3/envs/materials/lib/python3.8/site-packages/transformers/pipelines/base.py:1101: UserWarning: You seem to be using the pipelines sequentially on GPU. In order to maximize efficiency please use a dataset\n",
      "  warnings.warn(\n",
      "/home/abhor/miniconda3/envs/materials/lib/python3.8/site-packages/transformers/pipelines/base.py:1101: UserWarning: You seem to be using the pipelines sequentially on GPU. In order to maximize efficiency please use a dataset\n",
      "  warnings.warn(\n",
      "/home/abhor/miniconda3/envs/materials/lib/python3.8/site-packages/transformers/pipelines/base.py:1101: UserWarning: You seem to be using the pipelines sequentially on GPU. In order to maximize efficiency please use a dataset\n",
      "  warnings.warn(\n",
      "/home/abhor/miniconda3/envs/materials/lib/python3.8/site-packages/transformers/pipelines/base.py:1101: UserWarning: You seem to be using the pipelines sequentially on GPU. In order to maximize efficiency please use a dataset\n",
      "  warnings.warn(\n",
      "/home/abhor/miniconda3/envs/materials/lib/python3.8/site-packages/transformers/pipelines/base.py:1101: UserWarning: You seem to be using the pipelines sequentially on GPU. In order to maximize efficiency please use a dataset\n",
      "  warnings.warn(\n",
      "/home/abhor/miniconda3/envs/materials/lib/python3.8/site-packages/transformers/pipelines/base.py:1101: UserWarning: You seem to be using the pipelines sequentially on GPU. In order to maximize efficiency please use a dataset\n",
      "  warnings.warn(\n",
      "/home/abhor/miniconda3/envs/materials/lib/python3.8/site-packages/transformers/pipelines/base.py:1101: UserWarning: You seem to be using the pipelines sequentially on GPU. In order to maximize efficiency please use a dataset\n",
      "  warnings.warn(\n",
      "/home/abhor/miniconda3/envs/materials/lib/python3.8/site-packages/transformers/pipelines/base.py:1101: UserWarning: You seem to be using the pipelines sequentially on GPU. In order to maximize efficiency please use a dataset\n",
      "  warnings.warn(\n",
      "/home/abhor/miniconda3/envs/materials/lib/python3.8/site-packages/transformers/pipelines/base.py:1101: UserWarning: You seem to be using the pipelines sequentially on GPU. In order to maximize efficiency please use a dataset\n",
      "  warnings.warn(\n",
      "/home/abhor/miniconda3/envs/materials/lib/python3.8/site-packages/transformers/pipelines/base.py:1101: UserWarning: You seem to be using the pipelines sequentially on GPU. In order to maximize efficiency please use a dataset\n",
      "  warnings.warn(\n",
      "/home/abhor/miniconda3/envs/materials/lib/python3.8/site-packages/transformers/pipelines/base.py:1101: UserWarning: You seem to be using the pipelines sequentially on GPU. In order to maximize efficiency please use a dataset\n",
      "  warnings.warn(\n",
      "/home/abhor/miniconda3/envs/materials/lib/python3.8/site-packages/transformers/pipelines/base.py:1101: UserWarning: You seem to be using the pipelines sequentially on GPU. In order to maximize efficiency please use a dataset\n",
      "  warnings.warn(\n",
      "/home/abhor/miniconda3/envs/materials/lib/python3.8/site-packages/transformers/pipelines/base.py:1101: UserWarning: You seem to be using the pipelines sequentially on GPU. In order to maximize efficiency please use a dataset\n",
      "  warnings.warn(\n",
      "/home/abhor/miniconda3/envs/materials/lib/python3.8/site-packages/transformers/pipelines/base.py:1101: UserWarning: You seem to be using the pipelines sequentially on GPU. In order to maximize efficiency please use a dataset\n",
      "  warnings.warn(\n",
      "/home/abhor/miniconda3/envs/materials/lib/python3.8/site-packages/transformers/pipelines/base.py:1101: UserWarning: You seem to be using the pipelines sequentially on GPU. In order to maximize efficiency please use a dataset\n",
      "  warnings.warn(\n",
      "/home/abhor/miniconda3/envs/materials/lib/python3.8/site-packages/transformers/pipelines/base.py:1101: UserWarning: You seem to be using the pipelines sequentially on GPU. In order to maximize efficiency please use a dataset\n",
      "  warnings.warn(\n",
      "/home/abhor/miniconda3/envs/materials/lib/python3.8/site-packages/transformers/pipelines/base.py:1101: UserWarning: You seem to be using the pipelines sequentially on GPU. In order to maximize efficiency please use a dataset\n",
      "  warnings.warn(\n",
      "/home/abhor/miniconda3/envs/materials/lib/python3.8/site-packages/transformers/pipelines/base.py:1101: UserWarning: You seem to be using the pipelines sequentially on GPU. In order to maximize efficiency please use a dataset\n",
      "  warnings.warn(\n",
      "/home/abhor/miniconda3/envs/materials/lib/python3.8/site-packages/transformers/pipelines/base.py:1101: UserWarning: You seem to be using the pipelines sequentially on GPU. In order to maximize efficiency please use a dataset\n",
      "  warnings.warn(\n",
      "/home/abhor/miniconda3/envs/materials/lib/python3.8/site-packages/transformers/pipelines/base.py:1101: UserWarning: You seem to be using the pipelines sequentially on GPU. In order to maximize efficiency please use a dataset\n",
      "  warnings.warn(\n"
     ]
    }
   ],
   "source": [
    "# First we need a prompt template and chain\n",
    "# template = \"\"\"Extract the alloy compositions, preperation method, phase and property analysed from given context. If not present, answer 'unknown\".\n",
    "template = \"\"\"Extract the alloy compositions, preperation method, phase, property analysed from given context. Also extract values for these as well, if available. If any information is not present, answer 'unknown\".\n",
    "\n",
    "Context: {context}\n",
    "\"\"\"\n",
    "prompt = PromptTemplate(template=template, input_variables=[\"context\"])\n",
    "llm_chain = prompt | llm\n",
    "\n",
    "# Now,...........\n",
    "lines = open(\"reference_txts/reference_1.txt\", 'r').readlines()\n",
    "answers = []\n",
    "for line in lines: \n",
    "    answers.append(llm_chain.invoke({\"context\":line}))\n",
    "\n",
    "# To run as a batch\n",
    "# answers = llm_chain.batch([{\"context\":line} for line in lines])"
   ]
  },
  {
   "cell_type": "code",
   "execution_count": 47,
   "id": "d11ba540-43b2-43bd-9cb6-fd42b9d561bd",
   "metadata": {},
   "outputs": [
    {
     "data": {
      "text/plain": [
       "['Unknown',\n",
       " 'AlCoCrCuNi, as-cast, FCC, BCC, 420 HV',\n",
       " 'Ag, Cu, Pd, Pt, Cu, Pb, Sn, Sb, Au, Pd, Pc, Cu, Pt, Pb, Pc, Sb, Sr, Pd, Pt, Pd, Cu, Pt, Pb, Cu, Pd',\n",
       " 'The spherical particles were produced from 0.5 m diameter particles of the alumino-silicate glass powders by sonication, then the spherical powder was dried by heat treatment, then the powder was smelted in a crucible at 1300 °C for 1 hour and rolled into sheets.',\n",
       " 'Unknown',\n",
       " 'Unknown',\n",
       " 'unknown',\n",
       " 'AlCoCrCuNi, , microstructure, hardness',\n",
       " 'Unknown',\n",
       " 'AlCoCrCuNi, AlCoCrCuFeNi, AgAlCoCrCuNi, AlAuCoCrCuNi, hardness',\n",
       " 'Unknown',\n",
       " 'AlCoCrCuNi, XRD, phase, BCC, FCC, property, volume fraction, undefined',\n",
       " 'Cast',\n",
       " 'AlxCoCrCuFeNi, preparation method, phase, ID, respectively',\n",
       " 'AlCoCrCuNi base alloy, casting, unknown, phase, unknown, property analysed',\n",
       " 'unknown',\n",
       " 'AlCoCrCuNi: AlCoCrCuFeNi: AlCoCrCuFeNi%, %',\n",
       " 'cast alloy, composition, interdendrite region, majority dendrite, Cu, Co, Cr, Ni, Ni',\n",
       " 'AlCoCuNiFe AlCuNiFeAlCrCuNiFeAlCrCuNiFe',\n",
       " 'AlCoCrCuFeNi, cast, crystal structure, crystal structure and microstructure',\n",
       " 'unknown',\n",
       " 'composition, AlCoCrCuFeNi, unknown, unknown, unknown',\n",
       " 'Ag, -Ag, Ag, -Ag, Ag, -Ag, Ag, n-Ag, n-Ag, -Ni, n-Ag, n-Ni, n-Ag, n-Ni, n-Ni, n-Ni, n-Ni, -Ni, n-Ni, -Cr, n-Ni',\n",
       " 'unknown',\n",
       " 'Ag–Cu, hypoeutectic, phase, eutectic, XRD',\n",
       " 'unknown',\n",
       " 'AgAlCoCrCuNi',\n",
       " 'Al, Co, Cr and Ni, with a lesser amount of Cu, Ag-rich, Cu-rich FCC, BCC and ordered BCC phases',\n",
       " 'Unknown',\n",
       " 'Unknown',\n",
       " 'AlCoCrCuNi, phase, powder metallurgy, property analysed is tensile strength',\n",
       " 'AlAuCoCrCuNi',\n",
       " 'AgAlCoCrCuNi, Ag, Co, Cr, Cu, Ni, unknown, AgAlCoCrCuNi',\n",
       " 'AlAuCoCrCuNi, unknown, FCC, AuCu',\n",
       " 'AlCoCrCuNi-based six element equimolar alloys',\n",
       " 'AlCoCrCuNi AlCoCrCuFeNi AgAlCoCrCuNi AlAuCoCrCuNi',\n",
       " 'AgAlCoCrCuNi AlAuCoCrCuNi',\n",
       " 'AlCrCuNi, AlCoCrCuFeni, AgAlCoCrCuNi, unknown',\n",
       " 'Ag–Cu',\n",
       " 'Ag-Cu -Cu, Ag-Cu -Au -Cu, Ag–Cu, Cu, -Cu, Cu',\n",
       " 'AlCoCrCuNi, AlCoCrCuNi-Fe, Fe-containing AlCoCrCuNi',\n",
       " 'AlAgCuCrCoNi, AlxCoCrCuFeNi, AlxCoCrCuFeNi, AlxCoCrCuFeNi, AlxCoCrCuFeNi, AlxCoCrCuNi, AlxCoCrCuCuFeNi, AlxCoCrCuFeNi, AlxCoCrCuFeNi, AlxCoCrCuFeNi, AlxCoCrCuFeNi',\n",
       " 'Cu-Ni alloy 50% Cu–50% Ni for 408 ',\n",
       " 'unknown',\n",
       " 'unknown']"
      ]
     },
     "execution_count": 47,
     "metadata": {},
     "output_type": "execute_result"
    }
   ],
   "source": [
    "answers"
   ]
  },
  {
   "cell_type": "code",
   "execution_count": 50,
   "id": "36a8703f-9f22-409e-9eb5-2e391f0b3e31",
   "metadata": {},
   "outputs": [
    {
     "data": {
      "text/plain": [
       "['AlCoCrCuNi, as-cast, FCC, BCC, 420 HV',\n",
       " 'Ag, Cu, Pd, Pt, Cu, Pb, Sn, Sb, Au, Pd, Pc, Cu, Pt, Pb, Pc, Sb, Sr, Pd, Pt, Pd, Cu, Pt, Pb, Cu, Pd',\n",
       " 'The spherical particles were produced from 0.5 m diameter particles of the alumino-silicate glass powders by sonication, then the spherical powder was dried by heat treatment, then the powder was smelted in a crucible at 1300 °C for 1 hour and rolled into sheets.',\n",
       " 'AlCoCrCuNi, , microstructure, hardness',\n",
       " 'AlCoCrCuNi, AlCoCrCuFeNi, AgAlCoCrCuNi, AlAuCoCrCuNi, hardness',\n",
       " 'AlCoCrCuNi, XRD, phase, BCC, FCC, property, volume fraction, undefined',\n",
       " 'AlxCoCrCuFeNi, preparation method, phase, ID, respectively',\n",
       " 'AlCoCrCuNi base alloy, casting, unknown, phase, unknown, property analysed',\n",
       " 'AlCoCrCuNi: AlCoCrCuFeNi: AlCoCrCuFeNi%, %',\n",
       " 'cast alloy, composition, interdendrite region, majority dendrite, Cu, Co, Cr, Ni, Ni',\n",
       " 'AlCoCuNiFe AlCuNiFeAlCrCuNiFeAlCrCuNiFe',\n",
       " 'AlCoCrCuFeNi, cast, crystal structure, crystal structure and microstructure',\n",
       " 'composition, AlCoCrCuFeNi, unknown, unknown, unknown',\n",
       " 'Ag, -Ag, Ag, -Ag, Ag, -Ag, Ag, n-Ag, n-Ag, -Ni, n-Ag, n-Ni, n-Ag, n-Ni, n-Ni, n-Ni, n-Ni, -Ni, n-Ni, -Cr, n-Ni',\n",
       " 'Ag–Cu, hypoeutectic, phase, eutectic, XRD',\n",
       " 'Al, Co, Cr and Ni, with a lesser amount of Cu, Ag-rich, Cu-rich FCC, BCC and ordered BCC phases',\n",
       " 'AlCoCrCuNi, phase, powder metallurgy, property analysed is tensile strength',\n",
       " 'AgAlCoCrCuNi, Ag, Co, Cr, Cu, Ni, unknown, AgAlCoCrCuNi',\n",
       " 'AlAuCoCrCuNi, unknown, FCC, AuCu',\n",
       " 'AlCoCrCuNi-based six element equimolar alloys',\n",
       " 'AlCoCrCuNi AlCoCrCuFeNi AgAlCoCrCuNi AlAuCoCrCuNi',\n",
       " 'AgAlCoCrCuNi AlAuCoCrCuNi',\n",
       " 'AlCrCuNi, AlCoCrCuFeni, AgAlCoCrCuNi, unknown',\n",
       " 'Ag-Cu -Cu, Ag-Cu -Au -Cu, Ag–Cu, Cu, -Cu, Cu',\n",
       " 'AlCoCrCuNi, AlCoCrCuNi-Fe, Fe-containing AlCoCrCuNi',\n",
       " 'AlAgCuCrCoNi, AlxCoCrCuFeNi, AlxCoCrCuFeNi, AlxCoCrCuFeNi, AlxCoCrCuFeNi, AlxCoCrCuNi, AlxCoCrCuCuFeNi, AlxCoCrCuFeNi, AlxCoCrCuFeNi, AlxCoCrCuFeNi, AlxCoCrCuFeNi',\n",
       " 'Cu-Ni alloy 50% Cu–50% Ni for 408 ']"
      ]
     },
     "execution_count": 50,
     "metadata": {},
     "output_type": "execute_result"
    }
   ],
   "source": [
    "answers = list(filter(lambda x: \" \" in x, answers))\n",
    "answers"
   ]
  },
  {
   "cell_type": "code",
   "execution_count": 60,
   "id": "015665a7-b8d7-495e-8c85-85f9faa67673",
   "metadata": {},
   "outputs": [
    {
     "name": "stdout",
     "output_type": "stream",
     "text": [
      "Extract all the alloy multicompositions like 'AlCoCrCuFe' from the context.\n",
      "\n",
      "Context: The alloy composition was 0.02% by mass Fe and 0.8% Cu and the microstructure is amorphous. Al-Co-Cr-Cu-Ni-based alloys, %, Al-Co-Cr-Cu-Ni-based alloys, %, FCC, BCC, Cu-rich, Cu, %, Cu-rich %Silver, %Cu, %Cu, Cu, Ag, Ag, Cu, Ag, Cu, Cu, Ag, Cu, Cu, Cu, Cu In this study, the effect of the addition of niobium and titanium on the microstructures and mechanical properties of the reconstituted tungsten-nickel-iron-nickel alloy (RNI) has been investigated. Thermogravitational energy (G) of the system. m = 1 wt.%, s = 0.035 wt.% Inclusions: Inclusions, %, %, %, %, %, %, % AlCoCrCuNi, Fe, Cu, Ni, Ag, Au, Ag, AgCu, NiCu, NiCu, NiCo, NiCo, NiCo, NiCo, NiCo, NiCo, NiCo, NiCo, NiCo, NiCo, NiCo, NiCo, NiCo, NiCo, NiCo, NiCo The alloy compositions were: -0.1% -0.25 -0.28 -0.5% -0.4% -0.6% -0.8% -0.25% -0.25 -0.28% -0.5% -0.25% -0.52% AlCoCrCuNi, AlCoCrCuFeNi, AgAlCoCrCuNi, AlAuCoCrCuNi, hardness The results of tensile tests showed that the tensile strength was higher in spheroidal graphite cast than the cast spheroidal graphite. The tensile strength of cast spheroidal graphite is     . AlCoCrCuNi alloy, XRD pattern, BCC, FCC, peak intensity, 31 , volume fraction, greater, FCC Al, Co, Cr, Cu, Ni, Fe, Ni, Ag, AuCu, BCC, FCC, Cu-rich, FCC, AuCu, (cid:4) peaks of x = 0.0, 0.0, 0.0, 0.05 and 0.0, respectively. The modulated structure of the dendrite region consisting of BCC and ordered BCC (B2) phases, is considered to result from spinodal decomposition, as previously reported and discussed in detail for AlxCoCrCuFeNi high entropy alloys (x = 0–3) [7]. Thus, the FCC phase is of the interdendrite region. From Fig. 2, can be seen to be a higher volume fraction of dendrite than interdendrite. This is in agreement with the relative peak intensities of the BCC and FCC peak intensities of x = 0.0, 0.0, 0.0, 0.05 and 0.0, respectively. AlCoCrCuNi base base alloy The alloy compositions is Fe, Ni, Cu, Co, Ti, Ni, Cr, Mo, Ni, Cr, Mo, Ti, Ni, Cu, Ni, Cr, Mo, Ti, Cu, Cr, Mo, Ni, Cu, Ti, Ti, Ni, Cr, Mo, Ni, Ti, Ti, Ti, Ti, Ti and Ti AlCoCrCuNi, -0.25 AlCoCrCuFeNi, -0.20 Alloy compositions, %, Al, Ni, Cu AlCoCrCuNi Fe addition  0.2 wt% Fe addition  0.5 wt%  0.5 wt%  0.5 wt% Fe addition  0.5 wt%  0.5 wt% Fe addition  0.5 wt%  0.5 wt% Fe addition Fe addition  0.5 wt%  0.5 wt% AlCoCrCuFeNi alloy, AlCoCrCuNi base alloy, -Fe-rich interdendrite region, -Cu-rich interdendrite region, -Fe-rich interdendrite region, -Fe-rich interdendrite region, -Cu-rich interdendrite region, -Cu-rich interdendrite region, -Co-rich interdendrite region - alloy composition is AlCoCrCuNi- phase is slag AlCoCrCuFeNi Alloy compositions is Ag, Ni, Co, C, Cr, Ti, Al, Si Compositions is Ag, Co, Cr, Ni Ag-Cu, Ag rich layer, EDX, XRD, , 4.04, 3.65  A, 4.09, 4.62  A, Ag rich layer, Ag rich layer, EDX The silver layer, preparation method, phase, property analysed is a small fraction of a globule-like phase Ag = 0.09%, Al = 0.5%, Co = 0.5%, Cr = 0.5%, Cu = 0.5%, Ni = 0.1%, Sn = 0.15%, Mn = 0.055%, Ti = 0.03% AlCoCrCuNi alloys AlCoCrCuNi alloys AlCoCrCuNi alloys AlCoCrCuNi alloys AlCoCrCuNi alloys Ag-Cu-rich phase: Ag-Cu-rich phase, Ag-Cu-rich phase, Ag-Cu-rich phase, Ag-Cu-rich phase, Ag-Cu-rich phase, Ag-Cu-rich phase Alloy, Preparation method, Phase, Property Alloy compositions: Al: 0.35, Cr: 0.25, Cu: 0.15, N: 0.035, O: 0.05, Au: 0.005 AlAuCoCrCuNi alloy Dendritic phase interdendritic phase Ag, Al, Co, Cr, Cu, Ni, DR, globule-like phase, AgAlCoCrCuNi, AgAlCoCrCuNi, SEM, SEM, EDX, DR region, DR phase, DR phase, DR region In this paper, two alloy compositions are investigated: AuCoCrCuNi alloy and AuCoCrCuNi alloy. They are characterized by XRD. The alloy compositions are: Al: 20.0 wt.%, Co: 6.0 wt.%, Cu: 10.0 wt.%, Cr: 4.0 wt.% and Ni: 2.0 wt.%. Al,Co,Cr,Cu,Ni,Ag,O AlCoCrCuNi AlCoCrCuFeNi AgAlCoCrCuNi AlAuCoCrCuNi Compositions AgAlCoCrCuNi, Cu–Ni, Ag–Cu, Au–Co, Ag–Co, Au–Co AlCoCrCuNi, AlCoCrCuFeNi, AgAlCoCrCuNi, hardness Ag–Cu composition, Ag–Cu pair mixing enthalpy, +2 kJ/mol , compositions, phase, hardness, phase, Ag-Cu AlCoCrCuNi base alloy Fe-AlCoCrCuNi base alloy Al-Fe-Al-Co-Cr-Cu-Ni DR-ID region Al-Fe-Al-Co-Cr-Cu-Ni DR-Fe-Fe-Al-Co-Cr-Cu-Ni DR-Fe-Al-Co-Cr-Cu-Ni FCC-FCC-FCC-BCC-D-Fe-Al-Co-Cr-Cu-Ni-Ag-Al-Co-Cr-Cu-Ni-Ag-Al-Co-Cr-Cu-Ni-Ag AlxCoCrCuFeNi C, we have : The present equimolar alloy systems were prepared by a solid state method. The phases were amorphous, -, and . , compositions, preperation method, phase, property\n",
      "####################################################################################################################################################################################################################################################################################################################################################################################################################################################################################################################\n"
     ]
    },
    {
     "name": "stderr",
     "output_type": "stream",
     "text": [
      "/home/abhor/miniconda3/envs/materials/lib/python3.8/site-packages/transformers/pipelines/base.py:1101: UserWarning: You seem to be using the pipelines sequentially on GPU. In order to maximize efficiency please use a dataset\n",
      "  warnings.warn(\n"
     ]
    },
    {
     "name": "stdout",
     "output_type": "stream",
     "text": [
      "AlCoCrCuNi AlCoCrCuFeNi\n"
     ]
    }
   ],
   "source": [
    "string = ' '.join(answers)\n",
    "string = f\"Extract all the alloy multicompositions like 'AlCoCrCuFe' from the context.\\n\\nContext: {string}\"\n",
    "print(string)\n",
    "print(\"#\"*500)\n",
    "print(llm(string))"
   ]
  },
  {
   "cell_type": "code",
   "execution_count": 53,
   "id": "71e9b556-4ab1-4086-94f8-c0a9dc93d3f3",
   "metadata": {},
   "outputs": [
    {
     "name": "stderr",
     "output_type": "stream",
     "text": [
      "/home/abhor/miniconda3/envs/materials/lib/python3.8/site-packages/transformers/pipelines/base.py:1101: UserWarning: You seem to be using the pipelines sequentially on GPU. In order to maximize efficiency please use a dataset\n",
      "  warnings.warn(\n"
     ]
    },
    {
     "data": {
      "text/plain": [
       "'Cu-Ni alloy, casting, unknown, phase, unknown, undefined, property analysed AlCoCrCuNi, AgAlCoCrCuNi, AlAuCoCrCuNi, Ag, Co, Cr, Cu, Ni, unknown, AgAlCoCrCuNi, unknown Ag-Cu, Ag-Cu -Cu, Ag-Cu, Cu, -Cu, Cu AlCoCrCuNi, AlCoCrCuNi-Fe, Fe-containing AlCoCrCuNi AlAcCoCrCuNi, AlxCoCrCuFeNi, AlxCoCrCuFeNi, AlxCoCrCuFeNi, AlxCoCrCuNi, AlxCoCrCuFeNi, AlxCoCrCuFeNi, AlxCoCrCuFeNi, AlxCoCrCuFeNi, AlxCoCrCuCuFeNi, AlxCoCrCuFeNi, AlxCoCrCuFeNi, AlxCoCrCuFeNi, AlxCoCrCuNi, AlxCoCrCuFeNi, AlxCoCrCuFeNi, AlxCoCrCuFeNi, AlxCoCrCuFeNi, AlxCoCrCuFeNi, AlxCoCrCuFeNi, AlxCoCrCuFeNi, AlxCoCrCuFeNi, AlxCoCrCuNi, undefined, %, % cast alloy, composition, interdendrite region, majority dendrite, Ag, Cu, -Ag, Ag, -Ag, -Ag, Ag, n-Ag, n-Ag, n-Ag, n-Ni, n-Ag, n-Ni, n-Ni, n-Ni, n-Ni, n-Ni, n-Ni, n-Ni, n-Ni, -Cr, n-Ni'"
      ]
     },
     "execution_count": 53,
     "metadata": {},
     "output_type": "execute_result"
    }
   ],
   "source": [
    "llm_chain.invoke({\"context\":string})"
   ]
  },
  {
   "cell_type": "markdown",
   "id": "257e88af-52b0-4d2d-a65c-ffab03a92445",
   "metadata": {},
   "source": [
    "#### Trying out summary to see if it performs any better"
   ]
  },
  {
   "cell_type": "code",
   "execution_count": 57,
   "id": "69147155-8d35-44f0-b9da-240dc106f732",
   "metadata": {
    "scrolled": true
   },
   "outputs": [
    {
     "name": "stderr",
     "output_type": "stream",
     "text": [
      "/home/abhor/miniconda3/envs/materials/lib/python3.8/site-packages/transformers/pipelines/base.py:1101: UserWarning: You seem to be using the pipelines sequentially on GPU. In order to maximize efficiency please use a dataset\n",
      "  warnings.warn(\n",
      "/home/abhor/miniconda3/envs/materials/lib/python3.8/site-packages/transformers/pipelines/base.py:1101: UserWarning: You seem to be using the pipelines sequentially on GPU. In order to maximize efficiency please use a dataset\n",
      "  warnings.warn(\n",
      "/home/abhor/miniconda3/envs/materials/lib/python3.8/site-packages/transformers/pipelines/base.py:1101: UserWarning: You seem to be using the pipelines sequentially on GPU. In order to maximize efficiency please use a dataset\n",
      "  warnings.warn(\n",
      "/home/abhor/miniconda3/envs/materials/lib/python3.8/site-packages/transformers/pipelines/base.py:1101: UserWarning: You seem to be using the pipelines sequentially on GPU. In order to maximize efficiency please use a dataset\n",
      "  warnings.warn(\n",
      "/home/abhor/miniconda3/envs/materials/lib/python3.8/site-packages/transformers/pipelines/base.py:1101: UserWarning: You seem to be using the pipelines sequentially on GPU. In order to maximize efficiency please use a dataset\n",
      "  warnings.warn(\n",
      "/home/abhor/miniconda3/envs/materials/lib/python3.8/site-packages/transformers/pipelines/base.py:1101: UserWarning: You seem to be using the pipelines sequentially on GPU. In order to maximize efficiency please use a dataset\n",
      "  warnings.warn(\n",
      "/home/abhor/miniconda3/envs/materials/lib/python3.8/site-packages/transformers/pipelines/base.py:1101: UserWarning: You seem to be using the pipelines sequentially on GPU. In order to maximize efficiency please use a dataset\n",
      "  warnings.warn(\n",
      "/home/abhor/miniconda3/envs/materials/lib/python3.8/site-packages/transformers/pipelines/base.py:1101: UserWarning: You seem to be using the pipelines sequentially on GPU. In order to maximize efficiency please use a dataset\n",
      "  warnings.warn(\n",
      "/home/abhor/miniconda3/envs/materials/lib/python3.8/site-packages/transformers/pipelines/base.py:1101: UserWarning: You seem to be using the pipelines sequentially on GPU. In order to maximize efficiency please use a dataset\n",
      "  warnings.warn(\n",
      "/home/abhor/miniconda3/envs/materials/lib/python3.8/site-packages/transformers/pipelines/base.py:1101: UserWarning: You seem to be using the pipelines sequentially on GPU. In order to maximize efficiency please use a dataset\n",
      "  warnings.warn(\n",
      "/home/abhor/miniconda3/envs/materials/lib/python3.8/site-packages/transformers/pipelines/base.py:1101: UserWarning: You seem to be using the pipelines sequentially on GPU. In order to maximize efficiency please use a dataset\n",
      "  warnings.warn(\n",
      "/home/abhor/miniconda3/envs/materials/lib/python3.8/site-packages/transformers/pipelines/base.py:1101: UserWarning: You seem to be using the pipelines sequentially on GPU. In order to maximize efficiency please use a dataset\n",
      "  warnings.warn(\n",
      "/home/abhor/miniconda3/envs/materials/lib/python3.8/site-packages/transformers/pipelines/base.py:1101: UserWarning: You seem to be using the pipelines sequentially on GPU. In order to maximize efficiency please use a dataset\n",
      "  warnings.warn(\n",
      "/home/abhor/miniconda3/envs/materials/lib/python3.8/site-packages/transformers/pipelines/base.py:1101: UserWarning: You seem to be using the pipelines sequentially on GPU. In order to maximize efficiency please use a dataset\n",
      "  warnings.warn(\n",
      "/home/abhor/miniconda3/envs/materials/lib/python3.8/site-packages/transformers/pipelines/base.py:1101: UserWarning: You seem to be using the pipelines sequentially on GPU. In order to maximize efficiency please use a dataset\n",
      "  warnings.warn(\n",
      "/home/abhor/miniconda3/envs/materials/lib/python3.8/site-packages/transformers/pipelines/base.py:1101: UserWarning: You seem to be using the pipelines sequentially on GPU. In order to maximize efficiency please use a dataset\n",
      "  warnings.warn(\n",
      "/home/abhor/miniconda3/envs/materials/lib/python3.8/site-packages/transformers/pipelines/base.py:1101: UserWarning: You seem to be using the pipelines sequentially on GPU. In order to maximize efficiency please use a dataset\n",
      "  warnings.warn(\n",
      "/home/abhor/miniconda3/envs/materials/lib/python3.8/site-packages/transformers/pipelines/base.py:1101: UserWarning: You seem to be using the pipelines sequentially on GPU. In order to maximize efficiency please use a dataset\n",
      "  warnings.warn(\n",
      "/home/abhor/miniconda3/envs/materials/lib/python3.8/site-packages/transformers/pipelines/base.py:1101: UserWarning: You seem to be using the pipelines sequentially on GPU. In order to maximize efficiency please use a dataset\n",
      "  warnings.warn(\n",
      "/home/abhor/miniconda3/envs/materials/lib/python3.8/site-packages/transformers/pipelines/base.py:1101: UserWarning: You seem to be using the pipelines sequentially on GPU. In order to maximize efficiency please use a dataset\n",
      "  warnings.warn(\n",
      "/home/abhor/miniconda3/envs/materials/lib/python3.8/site-packages/transformers/pipelines/base.py:1101: UserWarning: You seem to be using the pipelines sequentially on GPU. In order to maximize efficiency please use a dataset\n",
      "  warnings.warn(\n",
      "/home/abhor/miniconda3/envs/materials/lib/python3.8/site-packages/transformers/pipelines/base.py:1101: UserWarning: You seem to be using the pipelines sequentially on GPU. In order to maximize efficiency please use a dataset\n",
      "  warnings.warn(\n",
      "/home/abhor/miniconda3/envs/materials/lib/python3.8/site-packages/transformers/pipelines/base.py:1101: UserWarning: You seem to be using the pipelines sequentially on GPU. In order to maximize efficiency please use a dataset\n",
      "  warnings.warn(\n",
      "/home/abhor/miniconda3/envs/materials/lib/python3.8/site-packages/transformers/pipelines/base.py:1101: UserWarning: You seem to be using the pipelines sequentially on GPU. In order to maximize efficiency please use a dataset\n",
      "  warnings.warn(\n",
      "/home/abhor/miniconda3/envs/materials/lib/python3.8/site-packages/transformers/pipelines/base.py:1101: UserWarning: You seem to be using the pipelines sequentially on GPU. In order to maximize efficiency please use a dataset\n",
      "  warnings.warn(\n",
      "/home/abhor/miniconda3/envs/materials/lib/python3.8/site-packages/transformers/pipelines/base.py:1101: UserWarning: You seem to be using the pipelines sequentially on GPU. In order to maximize efficiency please use a dataset\n",
      "  warnings.warn(\n",
      "/home/abhor/miniconda3/envs/materials/lib/python3.8/site-packages/transformers/pipelines/base.py:1101: UserWarning: You seem to be using the pipelines sequentially on GPU. In order to maximize efficiency please use a dataset\n",
      "  warnings.warn(\n",
      "/home/abhor/miniconda3/envs/materials/lib/python3.8/site-packages/transformers/pipelines/base.py:1101: UserWarning: You seem to be using the pipelines sequentially on GPU. In order to maximize efficiency please use a dataset\n",
      "  warnings.warn(\n",
      "/home/abhor/miniconda3/envs/materials/lib/python3.8/site-packages/transformers/pipelines/base.py:1101: UserWarning: You seem to be using the pipelines sequentially on GPU. In order to maximize efficiency please use a dataset\n",
      "  warnings.warn(\n",
      "/home/abhor/miniconda3/envs/materials/lib/python3.8/site-packages/transformers/pipelines/base.py:1101: UserWarning: You seem to be using the pipelines sequentially on GPU. In order to maximize efficiency please use a dataset\n",
      "  warnings.warn(\n",
      "/home/abhor/miniconda3/envs/materials/lib/python3.8/site-packages/transformers/pipelines/base.py:1101: UserWarning: You seem to be using the pipelines sequentially on GPU. In order to maximize efficiency please use a dataset\n",
      "  warnings.warn(\n",
      "/home/abhor/miniconda3/envs/materials/lib/python3.8/site-packages/transformers/pipelines/base.py:1101: UserWarning: You seem to be using the pipelines sequentially on GPU. In order to maximize efficiency please use a dataset\n",
      "  warnings.warn(\n",
      "/home/abhor/miniconda3/envs/materials/lib/python3.8/site-packages/transformers/pipelines/base.py:1101: UserWarning: You seem to be using the pipelines sequentially on GPU. In order to maximize efficiency please use a dataset\n",
      "  warnings.warn(\n",
      "/home/abhor/miniconda3/envs/materials/lib/python3.8/site-packages/transformers/pipelines/base.py:1101: UserWarning: You seem to be using the pipelines sequentially on GPU. In order to maximize efficiency please use a dataset\n",
      "  warnings.warn(\n",
      "/home/abhor/miniconda3/envs/materials/lib/python3.8/site-packages/transformers/pipelines/base.py:1101: UserWarning: You seem to be using the pipelines sequentially on GPU. In order to maximize efficiency please use a dataset\n",
      "  warnings.warn(\n",
      "/home/abhor/miniconda3/envs/materials/lib/python3.8/site-packages/transformers/pipelines/base.py:1101: UserWarning: You seem to be using the pipelines sequentially on GPU. In order to maximize efficiency please use a dataset\n",
      "  warnings.warn(\n",
      "/home/abhor/miniconda3/envs/materials/lib/python3.8/site-packages/transformers/pipelines/base.py:1101: UserWarning: You seem to be using the pipelines sequentially on GPU. In order to maximize efficiency please use a dataset\n",
      "  warnings.warn(\n",
      "/home/abhor/miniconda3/envs/materials/lib/python3.8/site-packages/transformers/pipelines/base.py:1101: UserWarning: You seem to be using the pipelines sequentially on GPU. In order to maximize efficiency please use a dataset\n",
      "  warnings.warn(\n",
      "/home/abhor/miniconda3/envs/materials/lib/python3.8/site-packages/transformers/pipelines/base.py:1101: UserWarning: You seem to be using the pipelines sequentially on GPU. In order to maximize efficiency please use a dataset\n",
      "  warnings.warn(\n",
      "/home/abhor/miniconda3/envs/materials/lib/python3.8/site-packages/transformers/pipelines/base.py:1101: UserWarning: You seem to be using the pipelines sequentially on GPU. In order to maximize efficiency please use a dataset\n",
      "  warnings.warn(\n",
      "/home/abhor/miniconda3/envs/materials/lib/python3.8/site-packages/transformers/pipelines/base.py:1101: UserWarning: You seem to be using the pipelines sequentially on GPU. In order to maximize efficiency please use a dataset\n",
      "  warnings.warn(\n",
      "/home/abhor/miniconda3/envs/materials/lib/python3.8/site-packages/transformers/pipelines/base.py:1101: UserWarning: You seem to be using the pipelines sequentially on GPU. In order to maximize efficiency please use a dataset\n",
      "  warnings.warn(\n",
      "/home/abhor/miniconda3/envs/materials/lib/python3.8/site-packages/transformers/pipelines/base.py:1101: UserWarning: You seem to be using the pipelines sequentially on GPU. In order to maximize efficiency please use a dataset\n",
      "  warnings.warn(\n",
      "/home/abhor/miniconda3/envs/materials/lib/python3.8/site-packages/transformers/pipelines/base.py:1101: UserWarning: You seem to be using the pipelines sequentially on GPU. In order to maximize efficiency please use a dataset\n",
      "  warnings.warn(\n",
      "/home/abhor/miniconda3/envs/materials/lib/python3.8/site-packages/transformers/pipelines/base.py:1101: UserWarning: You seem to be using the pipelines sequentially on GPU. In order to maximize efficiency please use a dataset\n",
      "  warnings.warn(\n"
     ]
    }
   ],
   "source": [
    "# First we need a prompt template and chain\n",
    "# template = \"\"\"Extract the alloy compositions, preperation method, phase and property analysed from given context. If not present, answer 'unknown\".\n",
    "template = \"\"\"Summarize and keep all relevant information about the alloy compositions, preperation method, phase, property analysed from given context. Also extract values for these as well, if available.\n",
    "\n",
    "Context: {context}\n",
    "\"\"\"\n",
    "prompt = PromptTemplate(template=template, input_variables=[\"context\"])\n",
    "llm_chain = prompt | llm\n",
    "\n",
    "# Now,...........\n",
    "lines = open(\"reference_txts/reference_1.txt\", 'r').readlines()\n",
    "answers = []\n",
    "for line in lines: \n",
    "    answers.append(llm_chain.invoke({\"context\":line}))\n",
    "\n",
    "# To run as a batch\n",
    "# answers = llm_chain.batch([{\"context\":line} for line in lines])"
   ]
  },
  {
   "cell_type": "code",
   "execution_count": 58,
   "id": "4cccd6ed-c90a-4384-83a2-e00fb807a7fb",
   "metadata": {},
   "outputs": [
    {
     "data": {
      "text/plain": [
       "['The alloy composition was 0.02% by mass Fe and 0.8% Cu and the microstructure is amorphous.',\n",
       " 'Al-Co-Cr-Cu-Ni-based alloys, %, Al-Co-Cr-Cu-Ni-based alloys, %, FCC, BCC, Cu-rich, Cu, %, Cu-rich',\n",
       " '%Silver, %Cu, %Cu, Cu, Ag, Ag, Cu, Ag, Cu, Cu, Ag, Cu, Cu, Cu, Cu',\n",
       " 'In this study, the effect of the addition of niobium and titanium on the microstructures and mechanical properties of the reconstituted tungsten-nickel-iron-nickel alloy (RNI) has been investigated.',\n",
       " 'Thermogravitational energy (G) of the system.',\n",
       " 'm = 1 wt.%, s = 0.035 wt.%',\n",
       " 'Inclusions: Inclusions, %, %, %, %, %, %, %',\n",
       " 'AlCoCrCuNi, Fe, Cu, Ni, Ag, Au, Ag, AgCu, NiCu, NiCu, NiCo, NiCo, NiCo, NiCo, NiCo, NiCo, NiCo, NiCo, NiCo, NiCo, NiCo, NiCo, NiCo, NiCo, NiCo, NiCo',\n",
       " 'The alloy compositions were: -0.1% -0.25 -0.28 -0.5% -0.4% -0.6% -0.8% -0.25% -0.25 -0.28% -0.5% -0.25% -0.52%',\n",
       " 'AlCoCrCuNi, AlCoCrCuFeNi, AgAlCoCrCuNi, AlAuCoCrCuNi, hardness',\n",
       " 'The results of tensile tests showed that the tensile strength was higher in spheroidal graphite cast than the cast spheroidal graphite. The tensile strength of cast spheroidal graphite is     .',\n",
       " 'AlCoCrCuNi alloy, XRD pattern, BCC, FCC, peak intensity, 31 , volume fraction, greater, FCC',\n",
       " 'Al, Co, Cr, Cu, Ni, Fe, Ni, Ag, AuCu, BCC, FCC, Cu-rich, FCC, AuCu, (cid:4)',\n",
       " 'peaks of x = 0.0, 0.0, 0.0, 0.05 and 0.0, respectively. The modulated structure of the dendrite region consisting of BCC and ordered BCC (B2) phases, is considered to result from spinodal decomposition, as previously reported and discussed in detail for AlxCoCrCuFeNi high entropy alloys (x = 0–3) [7]. Thus, the FCC phase is of the interdendrite region. From Fig. 2, can be seen to be a higher volume fraction of dendrite than interdendrite. This is in agreement with the relative peak intensities of the BCC and FCC peak intensities of x = 0.0, 0.0, 0.0, 0.05 and 0.0, respectively.',\n",
       " 'AlCoCrCuNi base base alloy',\n",
       " 'The alloy compositions is Fe, Ni, Cu, Co, Ti, Ni, Cr, Mo, Ni, Cr, Mo, Ti, Ni, Cu, Ni, Cr, Mo, Ti, Cu, Cr, Mo, Ni, Cu, Ti, Ti, Ni, Cr, Mo, Ni, Ti, Ti, Ti, Ti, Ti and Ti',\n",
       " 'AlCoCrCuNi, -0.25 AlCoCrCuFeNi, -0.20',\n",
       " 'Alloy compositions, %, Al, Ni, Cu',\n",
       " 'AlCoCrCuNi Fe addition  0.2 wt% Fe addition  0.5 wt%  0.5 wt%  0.5 wt% Fe addition  0.5 wt%  0.5 wt% Fe addition  0.5 wt%  0.5 wt% Fe addition Fe addition  0.5 wt%  0.5 wt%',\n",
       " 'AlCoCrCuFeNi alloy, AlCoCrCuNi base alloy, -Fe-rich interdendrite region, -Cu-rich interdendrite region, -Fe-rich interdendrite region, -Fe-rich interdendrite region, -Cu-rich interdendrite region, -Cu-rich interdendrite region, -Co-rich interdendrite region',\n",
       " '- alloy composition is AlCoCrCuNi- phase is slag',\n",
       " 'AlCoCrCuFeNi',\n",
       " 'Alloy compositions is Ag, Ni, Co, C, Cr, Ti, Al, Si',\n",
       " 'Compositions is Ag, Co, Cr, Ni',\n",
       " 'Ag-Cu, Ag rich layer, EDX, XRD, , 4.04, 3.65  A, 4.09, 4.62  A, Ag rich layer, Ag rich layer, EDX',\n",
       " 'The silver layer, preparation method, phase, property analysed is a small fraction of a globule-like phase',\n",
       " 'Ag = 0.09%, Al = 0.5%, Co = 0.5%, Cr = 0.5%, Cu = 0.5%, Ni = 0.1%, Sn = 0.15%, Mn = 0.055%, Ti = 0.03%',\n",
       " 'AlCoCrCuNi alloys AlCoCrCuNi alloys AlCoCrCuNi alloys AlCoCrCuNi alloys AlCoCrCuNi alloys',\n",
       " 'Ag-Cu-rich phase: Ag-Cu-rich phase, Ag-Cu-rich phase, Ag-Cu-rich phase, Ag-Cu-rich phase, Ag-Cu-rich phase, Ag-Cu-rich phase',\n",
       " 'Alloy, Preparation method, Phase, Property',\n",
       " 'Alloy compositions: Al: 0.35, Cr: 0.25, Cu: 0.15, N: 0.035, O: 0.05, Au: 0.005',\n",
       " 'AlAuCoCrCuNi alloy Dendritic phase interdendritic phase',\n",
       " 'Ag, Al, Co, Cr, Cu, Ni, DR, globule-like phase, AgAlCoCrCuNi, AgAlCoCrCuNi, SEM, SEM, EDX, DR region, DR phase, DR phase, DR region',\n",
       " 'In this paper, two alloy compositions are investigated: AuCoCrCuNi alloy and AuCoCrCuNi alloy. They are characterized by XRD. The alloy compositions are: Al: 20.0 wt.%, Co: 6.0 wt.%, Cu: 10.0 wt.%, Cr: 4.0 wt.% and Ni: 2.0 wt.%.',\n",
       " 'Al,Co,Cr,Cu,Ni,Ag,O',\n",
       " 'AlCoCrCuNi AlCoCrCuFeNi AgAlCoCrCuNi AlAuCoCrCuNi',\n",
       " 'Compositions AgAlCoCrCuNi, Cu–Ni, Ag–Cu, Au–Co, Ag–Co, Au–Co',\n",
       " 'AlCoCrCuNi, AlCoCrCuFeNi, AgAlCoCrCuNi, hardness',\n",
       " 'Ag–Cu composition, Ag–Cu pair mixing enthalpy, +2 kJ/mol',\n",
       " ', compositions, phase, hardness, phase, Ag-Cu',\n",
       " 'AlCoCrCuNi base alloy Fe-AlCoCrCuNi base alloy Al-Fe-Al-Co-Cr-Cu-Ni DR-ID region Al-Fe-Al-Co-Cr-Cu-Ni DR-Fe-Fe-Al-Co-Cr-Cu-Ni DR-Fe-Al-Co-Cr-Cu-Ni FCC-FCC-FCC-BCC-D-Fe-Al-Co-Cr-Cu-Ni-Ag-Al-Co-Cr-Cu-Ni-Ag-Al-Co-Cr-Cu-Ni-Ag',\n",
       " 'AlxCoCrCuFeNi',\n",
       " 'C, we have :',\n",
       " 'The present equimolar alloy systems were prepared by a solid state method. The phases were amorphous, -, and .',\n",
       " ', compositions, preperation method, phase, property']"
      ]
     },
     "execution_count": 58,
     "metadata": {},
     "output_type": "execute_result"
    }
   ],
   "source": [
    "answers"
   ]
  }
 ],
 "metadata": {
  "kernelspec": {
   "display_name": "Python 3 (ipykernel)",
   "language": "python",
   "name": "python3"
  },
  "language_info": {
   "codemirror_mode": {
    "name": "ipython",
    "version": 3
   },
   "file_extension": ".py",
   "mimetype": "text/x-python",
   "name": "python",
   "nbconvert_exporter": "python",
   "pygments_lexer": "ipython3",
   "version": "3.8.18"
  }
 },
 "nbformat": 4,
 "nbformat_minor": 5
}
