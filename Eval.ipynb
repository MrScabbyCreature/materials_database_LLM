{
 "cells": [
  {
   "cell_type": "code",
   "execution_count": 9,
   "id": "e208ca26-2d73-4396-8a26-b45c8eb24124",
   "metadata": {},
   "outputs": [],
   "source": [
    "import pandas as pd\n",
    "\n",
    "original_df = pd.read_csv(\"results/Original.csv\", index_col=0)\n",
    "eval_df = pd.read_csv(\"results/basic_QA.csv\", index_col=0)"
   ]
  },
  {
   "cell_type": "code",
   "execution_count": null,
   "id": "ffcb110d-f388-4681-b454-2e1c0aac1413",
   "metadata": {},
   "outputs": [],
   "source": [
    "import re, glob\n",
    "references = list(map(lambda x: int(re.findall(\"([0-9]+).txt\", x)[0]), glob.glob(\"reference_txts/*\")))\n",
    "\n",
    "original_df = original_df[original_df[\"References\"].isin(references)]\n",
    "# Fill compositions in original for matching\n",
    "original_df[\"Composition\"] = original_df[\"Composition\"].fillna(method='ffill')"
   ]
  },
  {
   "cell_type": "code",
   "execution_count": 18,
   "id": "38508e21-addc-49e5-a02a-bc4ac3df2b5d",
   "metadata": {},
   "outputs": [],
   "source": [
    "# Need to first fix the composition of eval_df to be in alphabetic order - or no exact matching can be done\n",
    "def composition_permute(c):\n",
    "    elements = re.findall(\"[A-Z][^A-Z]*\", c)\n",
    "    elements = sorted(elements)\n",
    "    return \"\".join(elements)\n",
    "eval_df[\"Composition\"] = eval_df[\"Composition\"].apply(composition_permute)"
   ]
  },
  {
   "cell_type": "markdown",
   "id": "577d9a5c-31d3-4c86-a6a3-21b365320ce8",
   "metadata": {},
   "source": [
    "### Choosing to evaluate the \"Composition\" column using precision and recall. \n",
    "\n",
    "Precision = How many of the ones in eval are actually present?  \n",
    "Recall = How many of the ones in original are in eval"
   ]
  },
  {
   "cell_type": "code",
   "execution_count": 79,
   "id": "c82fd2c0-093c-4b44-8dd6-e0cd45ad2d44",
   "metadata": {},
   "outputs": [],
   "source": [
    "# There are retrievals for 'x' (Alx) in eval that might correspond to \n",
    "# numbers in the original (Al2). So elaborate procedure for matching :(\n",
    "composition_matching = {} \n",
    "\n",
    "for comp in eval_df[\"Composition\"]:\n",
    "    if 'x' in comp:\n",
    "        # Do a regex matching\n",
    "        composition_matching[comp] = original_df[\"Composition\"][original_df[\"Composition\"].apply(lambda x: len(re.findall(comp.replace(\"x\", \"[0-9\\.]+\"), x)) > 0)].values.tolist()\n",
    "    else:\n",
    "        if comp in original_df[\"Composition\"].tolist():\n",
    "            composition_matching[comp] = [comp]\n",
    "        else:\n",
    "            composition_matching[comp] = []\n",
    "\n",
    "\n",
    "composition_precision =  sum([len(composition_matching[key])>0 for key in composition_matching]) / len(composition_matching.keys())\n",
    "composition_recall =  len(sum(list(composition_matching.values()), [])) / original_df.shape[0]"
   ]
  },
  {
   "cell_type": "code",
   "execution_count": 80,
   "id": "600a41cb-11f7-40ac-9749-6c1ac5c628b6",
   "metadata": {},
   "outputs": [
    {
     "data": {
      "text/plain": [
       "(0.7317073170731707, 0.3333333333333333)"
      ]
     },
     "execution_count": 80,
     "metadata": {},
     "output_type": "execute_result"
    }
   ],
   "source": [
    "composition_precision, composition_recall"
   ]
  },
  {
   "cell_type": "markdown",
   "id": "240e544c-797a-475e-a1f6-5e252528716a",
   "metadata": {},
   "source": [
    "Recall is likely low because my pdf-to-txt method is not very good, so a lot of relevant information might have been missed from the txt files. Nothing much I can do about that, unless I get good data. Precision seems to be decent though, for a first attempt. \n",
    "\n",
    "Now the other columns should likely be evaluated on accuracy, but how to determine accuracy for a column with multiple values is task-dependent. I'll go with the simplest - if I got it even partly right, it counts."
   ]
  },
  {
   "cell_type": "code",
   "execution_count": 82,
   "id": "13943dd5-9299-42dd-bd28-e6afbc218280",
   "metadata": {},
   "outputs": [
    {
     "data": {
      "text/plain": [
       "Index(['Alloy System', 'Composition', 'Processing Condition', 'SS or IM',\n",
       "       'Phases', '# EL', '# Phases', 'Property', 'References'],\n",
       "      dtype='object')"
      ]
     },
     "execution_count": 82,
     "metadata": {},
     "output_type": "execute_result"
    }
   ],
   "source": [
    "original_df.columns"
   ]
  },
  {
   "cell_type": "code",
   "execution_count": 83,
   "id": "9601c8c1-92f1-432c-9455-009f261dfd70",
   "metadata": {},
   "outputs": [
    {
     "data": {
      "text/plain": [
       "Index(['Composition', 'Processing Condition', 'SS or IM', 'Phases', 'Property',\n",
       "       'References'],\n",
       "      dtype='object')"
      ]
     },
     "execution_count": 83,
     "metadata": {},
     "output_type": "execute_result"
    }
   ],
   "source": [
    "eval_df.columns"
   ]
  },
  {
   "cell_type": "code",
   "execution_count": 94,
   "id": "b28973e7-9ee6-488c-83eb-2bee861d6a5b",
   "metadata": {},
   "outputs": [],
   "source": [
    "from IPython.display import display"
   ]
  },
  {
   "cell_type": "code",
   "execution_count": null,
   "id": "4362f6f0-fc9d-4110-b3bb-f1accd2e6a0f",
   "metadata": {
    "scrolled": true
   },
   "outputs": [],
   "source": [
    "columns = [\"Processing Condition\", \"SS or IM\", \"Phases\", \"Property\"]\n",
    "correct = [0 for c in columns]\n",
    "incorrect = [0 for c in columns]\n",
    "\n",
    "for i in range(eval_df.shape[0]):\n",
    "    comp = eval_df.iloc[i][\"Composition\"]\n",
    "    ref = eval_df.iloc[i][\"References\"]\n",
    "    if not composition_matching[comp]:\n",
    "        continue\n",
    "    corr_original_df = original_df[original_df[\"Composition\"].isin(composition_matching[comp]) & (original_df[\"References\"]==ref)]\n",
    "\n",
    "    # For each row\n",
    "    for j in range(corr_original_df.shape[0]):\n",
    "        # Add to accuracy for each column\n",
    "        for k, col in enumerate(columns):\n",
    "            if not corr_original_df.iloc[j][col] or (corr_original_df.iloc[j][col] in [\"unk\", \"Unk\"]):\n",
    "                continue\n",
    "            if eval_df.iloc[i][col] in str(corr_original_df.iloc[j][col]):\n",
    "                correct[k] += 1\n",
    "            else:\n",
    "                incorrect[k] += 1"
   ]
  },
  {
   "cell_type": "code",
   "execution_count": 105,
   "id": "66cc1dc9-261b-4f27-8f00-139eb61f89a9",
   "metadata": {},
   "outputs": [
    {
     "name": "stdout",
     "output_type": "stream",
     "text": [
      "[71, 63, 47, 54] [5, 10, 29, 22]\n"
     ]
    }
   ],
   "source": [
    "print(correct, incorrect)"
   ]
  },
  {
   "cell_type": "code",
   "execution_count": 113,
   "id": "b009748e-38fb-4d2d-a797-16c455660ba0",
   "metadata": {},
   "outputs": [
    {
     "name": "stdout",
     "output_type": "stream",
     "text": [
      "Column-wise accuracy\n"
     ]
    },
    {
     "data": {
      "text/html": [
       "<div>\n",
       "<style scoped>\n",
       "    .dataframe tbody tr th:only-of-type {\n",
       "        vertical-align: middle;\n",
       "    }\n",
       "\n",
       "    .dataframe tbody tr th {\n",
       "        vertical-align: top;\n",
       "    }\n",
       "\n",
       "    .dataframe thead th {\n",
       "        text-align: right;\n",
       "    }\n",
       "</style>\n",
       "<table border=\"1\" class=\"dataframe\">\n",
       "  <thead>\n",
       "    <tr style=\"text-align: right;\">\n",
       "      <th></th>\n",
       "      <th>Processing Condition</th>\n",
       "      <th>SS or IM</th>\n",
       "      <th>Phases</th>\n",
       "      <th>Property</th>\n",
       "    </tr>\n",
       "  </thead>\n",
       "  <tbody>\n",
       "    <tr>\n",
       "      <th>0</th>\n",
       "      <td>0.934211</td>\n",
       "      <td>0.863014</td>\n",
       "      <td>0.618421</td>\n",
       "      <td>0.710526</td>\n",
       "    </tr>\n",
       "  </tbody>\n",
       "</table>\n",
       "</div>"
      ],
      "text/plain": [
       "   Processing Condition  SS or IM    Phases  Property\n",
       "0              0.934211  0.863014  0.618421  0.710526"
      ]
     },
     "metadata": {},
     "output_type": "display_data"
    },
    {
     "name": "stdout",
     "output_type": "stream",
     "text": [
      "Overall: 0.7815428983417447\n"
     ]
    }
   ],
   "source": [
    "# Per column accuracy\n",
    "per_col_acc = {\n",
    "    col: [correct[k]/(correct[k] + incorrect[k])] for k, col in enumerate(columns)\n",
    "}\n",
    "\n",
    "per_col_df = pd.DataFrame(per_col_acc)\n",
    "print(\"Column-wise accuracy\")\n",
    "display(per_col_df)\n",
    "\n",
    "print(\"Overall:\", per_col_df.values.mean())"
   ]
  }
 ],
 "metadata": {
  "kernelspec": {
   "display_name": "Python 3 (ipykernel)",
   "language": "python",
   "name": "python3"
  },
  "language_info": {
   "codemirror_mode": {
    "name": "ipython",
    "version": 3
   },
   "file_extension": ".py",
   "mimetype": "text/x-python",
   "name": "python",
   "nbconvert_exporter": "python",
   "pygments_lexer": "ipython3",
   "version": "3.8.18"
  }
 },
 "nbformat": 4,
 "nbformat_minor": 5
}
