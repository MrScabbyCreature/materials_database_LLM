{
 "cells": [
  {
   "cell_type": "code",
   "execution_count": 1,
   "id": "7221864a-935b-45c2-985e-b4be477a6131",
   "metadata": {},
   "outputs": [],
   "source": [
    "import pandas as pd"
   ]
  },
  {
   "cell_type": "code",
   "execution_count": 30,
   "id": "7f88ccd6-54c9-4728-96ba-aa778c27443d",
   "metadata": {},
   "outputs": [
    {
     "data": {
      "text/plain": [
       "(648, 10)"
      ]
     },
     "execution_count": 30,
     "metadata": {},
     "output_type": "execute_result"
    }
   ],
   "source": [
    "df = pd.read_csv(\"results/Original.csv\")\n",
    "df.shape"
   ]
  },
  {
   "cell_type": "code",
   "execution_count": 29,
   "id": "16c2c1c7-c20d-46a6-b038-36e0a1f557e1",
   "metadata": {},
   "outputs": [
    {
     "data": {
      "text/plain": [
       "(648, 9)"
      ]
     },
     "execution_count": 29,
     "metadata": {},
     "output_type": "execute_result"
    }
   ],
   "source": [
    "df = df[~df[\"Processing Condition\"].isna()]\n",
    "df.shape"
   ]
  },
  {
   "cell_type": "code",
   "execution_count": 24,
   "id": "fdfba502-9f90-410e-9e5d-acd9f9e2cf6b",
   "metadata": {},
   "outputs": [
    {
     "name": "stderr",
     "output_type": "stream",
     "text": [
      "/tmp/ipykernel_218038/952141405.py:6: SettingWithCopyWarning: \n",
      "A value is trying to be set on a copy of a slice from a DataFrame.\n",
      "Try using .loc[row_indexer,col_indexer] = value instead\n",
      "\n",
      "See the caveats in the documentation: https://pandas.pydata.org/pandas-docs/stable/user_guide/indexing.html#returning-a-view-versus-a-copy\n",
      "  df[\"References\"]= df[\"References\"].apply(ref_ext)\n"
     ]
    }
   ],
   "source": [
    "import re\n",
    "\n",
    "def ref_ext(r):\n",
    "    return int(re.findall(\"\\[([0-9]+)\\]\", r)[0])\n",
    "    \n",
    "df[\"References\"]= df[\"References\"].apply(ref_ext)"
   ]
  },
  {
   "cell_type": "code",
   "execution_count": 26,
   "id": "2d5f7b93-d435-4a0d-91b5-b9258941c51a",
   "metadata": {},
   "outputs": [],
   "source": [
    "df.to_csv(\"results/Original.csv\")"
   ]
  }
 ],
 "metadata": {
  "kernelspec": {
   "display_name": "Python 3 (ipykernel)",
   "language": "python",
   "name": "python3"
  },
  "language_info": {
   "codemirror_mode": {
    "name": "ipython",
    "version": 3
   },
   "file_extension": ".py",
   "mimetype": "text/x-python",
   "name": "python",
   "nbconvert_exporter": "python",
   "pygments_lexer": "ipython3",
   "version": "3.8.18"
  }
 },
 "nbformat": 4,
 "nbformat_minor": 5
}
