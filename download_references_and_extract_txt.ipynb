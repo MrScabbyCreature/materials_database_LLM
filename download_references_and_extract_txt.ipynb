{
 "cells": [
  {
   "cell_type": "markdown",
   "id": "5de05421-01a0-423e-af49-c486443e13cc",
   "metadata": {},
   "source": [
    "# Notebook to download all reference papers and extract txt files from them\n",
    "I've made a list of references - \"reference_list.txt\" and reading information from there. "
   ]
  },
  {
   "cell_type": "code",
   "execution_count": 1,
   "id": "6f2612de-b60b-4a39-ae1a-06414176f63e",
   "metadata": {},
   "outputs": [],
   "source": [
    "reference_txt = open(\"reference_list.txt\", 'r').readlines()"
   ]
  },
  {
   "cell_type": "code",
   "execution_count": 39,
   "id": "c7704624-69d4-4cf9-88f3-1c2b56511449",
   "metadata": {},
   "outputs": [],
   "source": [
    "# Get titles from \n",
    "def parse_reference(ref):\n",
    "    asd = \",\".join(ref.split(\",\")[:-1])\n",
    "    asd = asd.split(\". \")[-1]\n",
    "    # asd = list(filter(lambda x: len(x) > 10, asd))\n",
    "    return asd\n",
    "\n",
    "list_of_paper_names = []\n",
    "\n",
    "for r in reference_txt:\n",
    "    list_of_paper_names.append(parse_reference(r))\n",
    "    "
   ]
  },
  {
   "cell_type": "code",
   "execution_count": 40,
   "id": "2bc763c2-9227-4cb2-a28c-95f9e1a8034b",
   "metadata": {
    "scrolled": true
   },
   "outputs": [
    {
     "data": {
      "text/plain": [
       "['Alloying behavior of iron, gold and silver in AlCoCrCuNi-based equimolar high-entropy alloys',\n",
       " 'FCC and BCC equivalents in as-cast solid solutions of AlxCo yCrzCu0.5FevNiw high-entropy alloys',\n",
       " 'Alloying behavior in multi-component AlCoCrCuFe and NiCoCrCuFe high entropy alloys',\n",
       " 'Effects of Mn, Ti and V on the microstructure and properties of AlCrFeCoNiCu high entropy alloy',\n",
       " 'Microstructure and compressive properties of multicomponent Alx(TiVCrMnFeCoNiCu)100−x high-entropy alloys',\n",
       " 'Microstructures and compressive properties of multicomponent AlCoCrCuFeNiMox alloys',\n",
       " 'Phase transformation induced by lattice distortion in multiprincipal component CoCrFeNiCuxAl1−x solid-solution alloys',\n",
       " 'Morphology, structure and composition of precipitates in Al0.3CoCrCu0.5FeNi high-entropy alloy',\n",
       " 'Nanostructured high-entropy alloys with multiple principal elements: Novel alloy design concepts and outcomes',\n",
       " 'Effect of the substitution of Co by Mn in Al-Cr-Cu-Fe-Co-Ni high-entropy alloys',\n",
       " 'Investigation of phases in Al23Co15Cr23Cu8Fe15Ni16 and Al8Co17Cr17Cu8Fe17Ni33 high entropy alloys and comparison with equilibrium phases predicted by Thermo-Calc',\n",
       " 'Formation of simple crystal structures in Cu-Co-Ni-Cr-Al-Fe-Ti-V alloys with multiprincipal metallic elements',\n",
       " 'Wear resistance and high-temperature compression strength of FCC CuCoNiCrAl0.5Fe alloy with boron addition',\n",
       " 'Adhesive wear behavior of AlxCoCrCuFeNi high-entropy alloys as a function of aluminum content',\n",
       " 'Microstructure and properties of Al0.5CoCrCuFeNiTix (x=0-2.0) high-entropy alloys',\n",
       " 'Effect of vanadium addition on the microstructure, hardness, and wear resistance of Al0.5CoCrCuFeNi high-entropy alloy',\n",
       " 'On the elemental effect of AlCoCrCuFeNi high-entropy alloy system',\n",
       " 'Deformation and annealing behaviors of high-entropy alloy Al0.5CoCrCuFeNi',\n",
       " 'Effect of temperature on mechanical properties of Al0.5CoCrCuFeNi wrought alloy',\n",
       " 'Entropy-driven phase stability and slow diffusion kinetics in an Al0.5CoCrCuFeNi high entropy alloy',\n",
       " 'Fatigue behavior of Al0.5CoCrCuFeNi high entropy alloys',\n",
       " 'Microstructure and tensile properties of Al0.5CoCrCuFeNi high-entropy alloy',\n",
       " 'Micromechanical characterization of casting-induced inhomogeneity in an Al0.8CoCrCuFeNi high-entropy alloy',\n",
       " 'Solid-solution phase formation rules for multi-component alloys',\n",
       " 'Anomalous decrease in X-ray diffraction intensities of Cu–Ni–Al–Co–Cr–Fe–Si alloy systems with multi-principal elements',\n",
       " 'Effect of aging temperature on microstructure and properties of AlCoCrCuFeNi high-entropy alloy',\n",
       " 'Annealing on the structure and properties evolution of the CoCrFeNiCuAl high-entropy alloy',\n",
       " 'Decomposition in multi-component AlCoCrCuFeNi high-entropy alloy',\n",
       " 'Magnetic and vibrational properties of high-entropy alloys',\n",
       " 'Tensile properties of an AlCrCuNiFeCo high-entropy alloy in as-cast and wrought conditions',\n",
       " 'Effect of elemental interaction on microstructure and mechanical properties of FeCoNiCuAl alloys',\n",
       " 'Mechanical properties of a bulk Cu0.5NiAlCoCrFeSi glassy alloy in 288 degrees C high-purity water',\n",
       " 'Atomic packing efficiency and phase transition in a high entropy alloy',\n",
       " 'Effect of Cu addition on the microstructure and mechanical properties of AlCoCrFeNiTi0.5 solid-solution alloy',\n",
       " 'Effect of rare earth Y addition on the microstructure and mechanical properties of high entropy AlCoCrCuNiTi alloys',\n",
       " 'Effects of Al addition on structural evolution and tensile properties of the FeCoNiCrMn high-entropy alloy system',\n",
       " 'Criterion for sigma phase formation in Cr- and V-containing high-entropy alloys',\n",
       " 'Formation of ordered/disordered nanoparticles in FCC high entropy alloys',\n",
       " 'The effects of secondary elemental Mo or Ti addition in Al0.3CoCrFeNi high-entropy alloy on age hardening at 700 C',\n",
       " 'Microstructure and mechanical properties of new AlCoxCrFeMo0.5Ni high-entropy alloys',\n",
       " 'On the superior hot hardness and softening resistance of AlCoCrxFeMo0.5Ni high-entropy alloys',\n",
       " 'Effect of iron content on wear behavior of AlCoCrFexMo0.5Ni high-entropy alloys',\n",
       " 'Microstructures and compressive properties of multicomponent AlCoCrFeNiMox alloys',\n",
       " 'Effect of Nb addition on the microstructure and properties of AlCoCrFeNi high-entropy alloy',\n",
       " 'Alloy design and properties optimization of high-entropy alloys',\n",
       " 'Effects of Al addition on the microstructure and mechanical property of AlxCoCrFeNi high-entropy alloys',\n",
       " 'Microstructure and mechanical property of as-cast, -homogenized, and -deformed AlxCoCrFeNi (0≤x≤2) high-entropy alloys',\n",
       " 'Microstructure, thermophysical and electrical properties in AlxCoCrFeNi (0≤x≤2) high-entropy alloys',\n",
       " 'Microstructure and tensile behaviors of FCC Al0.3CoCrFeNi high entropy alloy',\n",
       " 'High-Temperature Oxidation Behavior of Al-Co-Cr-Ni-(Fe or Si) Multicomponent High-Entropy Alloys',\n",
       " 'Evolution of microstructure, hardness, and corrosion properties of high-entropy Al0.5CoCrFeNi alloy',\n",
       " 'Solid solution alloys of AlCoCrFeNiTix with excellent room-temperature mechanical properties',\n",
       " 'Microstructure and compressive properties of AlCrFeCoNi high entropy alloy',\n",
       " 'B2 structure of high-entropy alloys with addition of Al',\n",
       " 'Cooling Rate and Size Effect on the Microstructure and Mechanical Properties of AlCoCrFeNi High Entropy Alloy',\n",
       " 'Effect of aluminum contents on microstructure and properties of AlxCoCrFeNi alloys',\n",
       " 'Synthesis and properties of multiprincipal component AlCoCrFeNiSix alloys',\n",
       " 'Microstructure and compressive properties of multiprincipal component AlCoCrFeNiCx alloys',\n",
       " 'Morphology transition from dendrites to equiaxed grains for AlCoCrFeNi high-entropy alloys by copper mold casting and Bridgman solidification',\n",
       " 'A Promising New Class of High-Temperature Alloys: Eutectic High-Entropy Alloys',\n",
       " 'Near-constant resistivity in 4.2-360 K in a B2 Al2.08CoCrFeNi',\n",
       " 'Microstructure and wear behavior of AlxCo1.5CrFeNi1.5Tiy high-entropy alloys',\n",
       " 'Microstructure and mechanical properties of CoCrFeNiTiAlx high-entropy alloys',\n",
       " 'Effects of annealing treatment on phase composition and microstructure of CoCrFeNiTiAlx high-entropy alloys',\n",
       " 'Alloying behavior and deformation twinning in a CoNiFeCrAl0.6Ti0.4 high entropy alloy processed by spark plasma sintering',\n",
       " 'Effect of Co addition on crystal structure and mechanical properties of Ti0.5CrFeNiAlCo high entropy alloy',\n",
       " 'Effect of Co element on microstructure and mechanical properties of FeCoxNiCuAl alloys',\n",
       " 'Effect of Ti, Al and Cu addition on structural evolution and phase constitution of FeCoNi system equimolar alloys',\n",
       " 'Processing and properties of nanocrystalline CuNiCoZnAlTi high entropy alloys by mechanical alloying',\n",
       " 'Effects of Al and Si addition on the structure and properties of CoFeNi equal atomic ratio alloy',\n",
       " 'Processing, microstructure and properties of Al0.6CoNiFeTi0.4 high entropy alloy with nanoscale twins',\n",
       " 'Anomalous solidification microstructures in Co-free AlxCrCuFeNi2 high-entropy alloys',\n",
       " 'Effect of valence electron concentration on stability of fcc or bcc phase in high entropy alloys',\n",
       " 'Microstructure and properties of AlCrFeCuNix (0.6<x<1.4) high-entropy alloys',\n",
       " 'Microstructure and mechanical properties of AlTiFeNiCuCrx high-entropy alloy with multi-principal elements',\n",
       " 'Microstructure and property of AlTiCrFeNiCu high-entropy alloy',\n",
       " 'Effect of the aluminium content of AlxCrFe1.5MnNi0.5 high-entropy alloys on the corrosion behaviour in aqueous environments',\n",
       " 'Microstructure and properties of age-hardenable AlxCrFe1.5MnNi0.5 alloys',\n",
       " 'Microstructure and mechanical properties of multi-component AlCrFeNiMox high-entropy alloys',\n",
       " 'Effect of aluminium content of AlxCrFe1.5Ni0.5 multiprincipal alloys on microstructure and alloy hardness',\n",
       " 'Relative effects of enthalpy and entropy on the phase stability of equiatomic high-entropy alloys',\n",
       " 'Microstructural development in equiatomic multicomponent alloys',\n",
       " 'Corrosion behavior of FeCoNiCrCux high-entropy alloys in 3.5% sodium chloride solution',\n",
       " 'Equilibrium phase of high-entropy FeCoNiCrCu0.5 alloy at elevated temperature',\n",
       " 'Effect of aging treatment on microstructure and properties of high-entropy Cu0.5CoCrFeNi alloy',\n",
       " 'Novel microstructure and properties of multicomponent CoCrCuFeNiTix alloys',\n",
       " 'Design of a twinning-induced plasticity high entropy alloy',\n",
       " 'A novel, single phase, non-equiatomic FeMnNiCoCr high-entropy alloy with exceptional phase stability and tensile ductility',\n",
       " 'Recovery, recrystallization, grain growth and phase stability of a family of FCC-structured multi-component equiatomic solid solution alloys',\n",
       " 'Mechanical properties, microstructure and thermal stability of a nanocrystalline CoCrFeMnNi high-entropy alloy after severe plastic deformation',\n",
       " 'Tensile properties of low-stacking fault energy high-entropy alloys',\n",
       " 'Effect of V content on microstructure and mechanical properties of the CoCrFeMnNiVx high entropy alloys',\n",
       " 'Microstructure and mechanical properties of multiprincipal component CoCrFeNiMox alloys',\n",
       " 'The effect of molybdenum on the corrosion behaviour of the high-entropy alloys Co1.5CrFeNi1.5Ti0.5Mox in aqueous environments',\n",
       " 'Effects of Nb additions on the microstructure and mechanical property of CoCrFeNi high-entropy alloys',\n",
       " 'The use of high-entropy alloys in additive manufacturing',\n",
       " 'Fabrication and properties of nanocrystalline Co0.5FeNiCrTi0.5 high entropy alloy by MA-SPS technique',\n",
       " 'Annealing effects on the microstructure and properties of bulk high-entropy CoCrFeNiTi0.5 alloy casting ingot',\n",
       " 'Microstructure and tensile properties of FeMnNiCuCoSnx high entropy alloys',\n",
       " 'Microstructure and the properties of FeCoCuNiSnx high entropy alloys',\n",
       " 'Hydrogen storage properties of multi-principal-component CoFeMnTixVyZrz alloys',\n",
       " 'Effect of elemental interaction on microstructure of CuCrFeNiMn high entropy alloy system',\n",
       " 'Microstructures and mechanical properties of compositionally complex Co-free FeNiMnCr18 FCC solid solution alloy',\n",
       " 'Nitride films deposited from an equimolar Al-Cr-Mo-Si-Ti alloy target by reactive direct current magnetron sputtering',\n",
       " 'Effect of aluminum on the microstructure and properties of two refractory high entropy alloys',\n",
       " 'Microstructure and Properties of Aluminum-Containing Refractory High-Entropy Alloys',\n",
       " 'Development of a Refractory High Entropy Superalloy',\n",
       " 'Characterization of the microstructure of the compositionally complex alloy Al1Mo0.5Nb1Ta0.5Ti1Zr1',\n",
       " 'Microstructure and compressive properties of NbTiVTaAlx high entropy alloys',\n",
       " 'Microstructure and properties of a refractory NbCrMo0.5Ta0.5TiZr alloy',\n",
       " 'Low-density, refractory multi-principal element alloys of the Cr–Nb–Ti–V–Zr system: Microstructure and phase analysis',\n",
       " 'Microstructure and room temperature properties of a high-entropy TaNbHfZrTi alloy',\n",
       " 'Microstructure and properties of a refractory high-entropy alloy after cold working',\n",
       " 'A refractory Hf25Nb25Ti25Zr25 high-entropy alloy with excellent structural stability and tensile properties',\n",
       " 'Refractory high-entropy alloys',\n",
       " 'Mechanical properties of Nb25Mo25Ta25W25 and V20Nb20Mo20Ta20W20 refractory high entropy alloys',\n",
       " 'Phase Stability of Low-Density, Multiprincipal Component Alloys Containing Aluminum, Magnesium, and Lithium',\n",
       " 'A novel low density, high hardness, high-entropy alloy with close-packed single-phase nanocrystalline structures',\n",
       " 'High-Entropy Alloys with a Hexagonal Close-Packed Structure Designed by Equi-Atomic Alloy Strategy and Binary Phase Diagrams',\n",
       " 'Bulk glass formation of Ti-Zr-Hf-Cu-M (M=Fe, Co, Ni) alloys',\n",
       " 'Phase equilibria in the quaternary molybdenum-ruthenium-rhodium-palladium system']"
      ]
     },
     "execution_count": 40,
     "metadata": {},
     "output_type": "execute_result"
    }
   ],
   "source": [
    "list_of_paper_names"
   ]
  },
  {
   "cell_type": "code",
   "execution_count": 43,
   "id": "d739a27d-14db-4e7d-aaae-f9136bcfa5e8",
   "metadata": {
    "scrolled": true
   },
   "outputs": [
    {
     "name": "stderr",
     "output_type": "stream",
     "text": [
      "\u001b[1m[INFO]\u001b[0m | \u001b[32m2023/12/06 12:33:19\u001b[0m | \u001b[1mChoose scihub url [0]: https://sci-hub.ru\u001b[0m\n",
      "\u001b[1m[INFO]\u001b[0m | \u001b[32m2023/12/06 12:33:19\u001b[0m | \u001b[1m<- Request: scihub_url=https://sci-hub.ru, source=TitleSource[type=title, id=Effect of iron content on wear behavior of AlCoCrFexMo0.5Ni high-entropy alloys], proxies={}\u001b[0m\n"
     ]
    },
    {
     "name": "stdout",
     "output_type": "stream",
     "text": [
      "Starting from reference_42\n",
      "42\n"
     ]
    },
    {
     "name": "stderr",
     "output_type": "stream",
     "text": [
      "\u001b[1m[INFO]\u001b[0m | \u001b[32m2023/12/06 12:33:19\u001b[0m | \u001b[1m-> Response: status_code=200, content_length=5895\u001b[0m\n",
      "\u001b[33m\u001b[1m[WARNING]\u001b[0m | \u001b[32m2023/12/06 12:33:19\u001b[0m | \u001b[33m\u001b[1mError occurs, task status: extracting_failed, error: No pdf tag was found in the given content with the selector: #pdf\u001b[0m\n",
      "\u001b[1m[INFO]\u001b[0m | \u001b[32m2023/12/06 12:33:19\u001b[0m | \u001b[1mChoose scihub url [1]: http://sci-hub.ru\u001b[0m\n",
      "\u001b[1m[INFO]\u001b[0m | \u001b[32m2023/12/06 12:33:19\u001b[0m | \u001b[1m<- Request: scihub_url=http://sci-hub.ru, source=TitleSource[type=title, id=Effect of iron content on wear behavior of AlCoCrFexMo0.5Ni high-entropy alloys], proxies={}\u001b[0m\n",
      "\u001b[1m[INFO]\u001b[0m | \u001b[32m2023/12/06 12:33:20\u001b[0m | \u001b[1m-> Response: status_code=200, content_length=5895\u001b[0m\n",
      "\u001b[33m\u001b[1m[WARNING]\u001b[0m | \u001b[32m2023/12/06 12:33:20\u001b[0m | \u001b[33m\u001b[1mError occurs, task status: extracting_failed, error: No pdf tag was found in the given content with the selector: #pdf\u001b[0m\n",
      "\u001b[1m[INFO]\u001b[0m | \u001b[32m2023/12/06 12:33:20\u001b[0m | \u001b[1mChoose scihub url [2]: https://sci-hub.st\u001b[0m\n",
      "\u001b[1m[INFO]\u001b[0m | \u001b[32m2023/12/06 12:33:20\u001b[0m | \u001b[1m<- Request: scihub_url=https://sci-hub.st, source=TitleSource[type=title, id=Effect of iron content on wear behavior of AlCoCrFexMo0.5Ni high-entropy alloys], proxies={}\u001b[0m\n",
      "\u001b[1m[INFO]\u001b[0m | \u001b[32m2023/12/06 12:33:21\u001b[0m | \u001b[1m-> Response: status_code=403, content_length=747\u001b[0m\n",
      "\u001b[33m\u001b[1m[WARNING]\u001b[0m | \u001b[32m2023/12/06 12:33:21\u001b[0m | \u001b[33m\u001b[1mError occurs, task status: crawling_failed, error: Error occurs when crawling source: TitleSource[type=title, id=Effect of iron content on wear behavior of AlCoCrFexMo0.5Ni high-entropy alloys]\u001b[0m\n",
      "\u001b[1m[INFO]\u001b[0m | \u001b[32m2023/12/06 12:33:21\u001b[0m | \u001b[1mChoose scihub url [3]: https://sci-hub.mobi\u001b[0m\n",
      "\u001b[1m[INFO]\u001b[0m | \u001b[32m2023/12/06 12:33:21\u001b[0m | \u001b[1m<- Request: scihub_url=https://sci-hub.mobi, source=TitleSource[type=title, id=Effect of iron content on wear behavior of AlCoCrFexMo0.5Ni high-entropy alloys], proxies={}\u001b[0m\n",
      "\u001b[1m[INFO]\u001b[0m | \u001b[32m2023/12/06 12:33:22\u001b[0m | \u001b[1m-> Response: status_code=200, content_length=5895\u001b[0m\n",
      "\u001b[33m\u001b[1m[WARNING]\u001b[0m | \u001b[32m2023/12/06 12:33:22\u001b[0m | \u001b[33m\u001b[1mError occurs, task status: extracting_failed, error: No pdf tag was found in the given content with the selector: #pdf\u001b[0m\n",
      "\u001b[1m[INFO]\u001b[0m | \u001b[32m2023/12/06 12:33:22\u001b[0m | \u001b[1mChoose scihub url [4]: https://sci-hub.se\u001b[0m\n",
      "\u001b[1m[INFO]\u001b[0m | \u001b[32m2023/12/06 12:33:22\u001b[0m | \u001b[1m<- Request: scihub_url=https://sci-hub.se, source=TitleSource[type=title, id=Effect of iron content on wear behavior of AlCoCrFexMo0.5Ni high-entropy alloys], proxies={}\u001b[0m\n",
      "\u001b[1m[INFO]\u001b[0m | \u001b[32m2023/12/06 12:33:23\u001b[0m | \u001b[1m-> Response: status_code=403, content_length=747\u001b[0m\n",
      "\u001b[33m\u001b[1m[WARNING]\u001b[0m | \u001b[32m2023/12/06 12:33:23\u001b[0m | \u001b[33m\u001b[1mError occurs, task status: crawling_failed, error: Error occurs when crawling source: TitleSource[type=title, id=Effect of iron content on wear behavior of AlCoCrFexMo0.5Ni high-entropy alloys]\u001b[0m\n",
      "\u001b[1m[INFO]\u001b[0m | \u001b[32m2023/12/06 12:33:23\u001b[0m | \u001b[1mChoose scihub url [5]: http://sci-hub.se\u001b[0m\n",
      "\u001b[1m[INFO]\u001b[0m | \u001b[32m2023/12/06 12:33:23\u001b[0m | \u001b[1m<- Request: scihub_url=http://sci-hub.se, source=TitleSource[type=title, id=Effect of iron content on wear behavior of AlCoCrFexMo0.5Ni high-entropy alloys], proxies={}\u001b[0m\n",
      "\u001b[1m[INFO]\u001b[0m | \u001b[32m2023/12/06 12:33:24\u001b[0m | \u001b[1m-> Response: status_code=403, content_length=747\u001b[0m\n",
      "\u001b[33m\u001b[1m[WARNING]\u001b[0m | \u001b[32m2023/12/06 12:33:24\u001b[0m | \u001b[33m\u001b[1mError occurs, task status: crawling_failed, error: Error occurs when crawling source: TitleSource[type=title, id=Effect of iron content on wear behavior of AlCoCrFexMo0.5Ni high-entropy alloys]\u001b[0m\n",
      "\u001b[1m[INFO]\u001b[0m | \u001b[32m2023/12/06 12:33:24\u001b[0m | \u001b[1mChoose scihub url [6]: http://sci-hub.mobi\u001b[0m\n",
      "\u001b[1m[INFO]\u001b[0m | \u001b[32m2023/12/06 12:33:24\u001b[0m | \u001b[1m<- Request: scihub_url=http://sci-hub.mobi, source=TitleSource[type=title, id=Effect of iron content on wear behavior of AlCoCrFexMo0.5Ni high-entropy alloys], proxies={}\u001b[0m\n",
      "\u001b[1m[INFO]\u001b[0m | \u001b[32m2023/12/06 12:33:25\u001b[0m | \u001b[1m-> Response: status_code=200, content_length=39030\u001b[0m\n",
      "\u001b[33m\u001b[1m[WARNING]\u001b[0m | \u001b[32m2023/12/06 12:33:25\u001b[0m | \u001b[33m\u001b[1mError occurs, task status: extracting_failed, error: No pdf tag was found in the given content with the selector: #pdf\u001b[0m\n",
      "\u001b[1m[INFO]\u001b[0m | \u001b[32m2023/12/06 12:33:25\u001b[0m | \u001b[1mChoose scihub url [7]: http://sci-hub.st\u001b[0m\n",
      "\u001b[1m[INFO]\u001b[0m | \u001b[32m2023/12/06 12:33:25\u001b[0m | \u001b[1m<- Request: scihub_url=http://sci-hub.st, source=TitleSource[type=title, id=Effect of iron content on wear behavior of AlCoCrFexMo0.5Ni high-entropy alloys], proxies={}\u001b[0m\n",
      "\u001b[1m[INFO]\u001b[0m | \u001b[32m2023/12/06 12:33:26\u001b[0m | \u001b[1m-> Response: status_code=403, content_length=747\u001b[0m\n",
      "\u001b[33m\u001b[1m[WARNING]\u001b[0m | \u001b[32m2023/12/06 12:33:26\u001b[0m | \u001b[33m\u001b[1mError occurs, task status: crawling_failed, error: Error occurs when crawling source: TitleSource[type=title, id=Effect of iron content on wear behavior of AlCoCrFexMo0.5Ni high-entropy alloys]\u001b[0m\n",
      "\u001b[31m\u001b[1m[ERROR]\u001b[0m | \u001b[32m2023/12/06 12:33:26\u001b[0m | \u001b[31m\u001b[1mFailed to download the paper: Effect of iron content on wear behavior of AlCoCrFexMo0.5Ni high-entropy alloys. Please try again.\u001b[0m\n",
      "\u001b[1m[INFO]\u001b[0m | \u001b[32m2023/12/06 12:33:26\u001b[0m | \u001b[1mChoose scihub url [0]: https://sci-hub.ru\u001b[0m\n",
      "\u001b[1m[INFO]\u001b[0m | \u001b[32m2023/12/06 12:33:26\u001b[0m | \u001b[1m<- Request: scihub_url=https://sci-hub.ru, source=TitleSource[type=title, id=Microstructures and compressive properties of multicomponent AlCoCrFeNiMox alloys], proxies={}\u001b[0m\n"
     ]
    },
    {
     "name": "stdout",
     "output_type": "stream",
     "text": [
      "43\n"
     ]
    },
    {
     "name": "stderr",
     "output_type": "stream",
     "text": [
      "\u001b[1m[INFO]\u001b[0m | \u001b[32m2023/12/06 12:33:27\u001b[0m | \u001b[1m-> Response: status_code=200, content_length=7654\u001b[0m\n",
      "\u001b[1m[INFO]\u001b[0m | \u001b[32m2023/12/06 12:33:27\u001b[0m | \u001b[1m* Extracted information: {'url': 'https://moscow.sci-hub.ru/312/c86e63e8e34128d9f605ca5a208dc47a/zhu2010.pdf', 'title': 'Microstructures and compressive properties of multicomponent AlCoCrFeNiMox alloys. Materials Science and Engineering  A, 527(26), 6975–6979'}\u001b[0m\n"
     ]
    },
    {
     "name": "stdout",
     "output_type": "stream",
     "text": [
      "100% [==================================================] 698932/698932\n"
     ]
    },
    {
     "name": "stderr",
     "output_type": "stream",
     "text": [
      "\u001b[1m[INFO]\u001b[0m | \u001b[32m2023/12/06 12:33:29\u001b[0m | \u001b[1m↓ Successfully download the url to: references/reference_43.pdf\u001b[0m\n",
      "\u001b[1m[INFO]\u001b[0m | \u001b[32m2023/12/06 12:33:29\u001b[0m | \u001b[1mChoose scihub url [0]: https://sci-hub.ru\u001b[0m\n",
      "\u001b[1m[INFO]\u001b[0m | \u001b[32m2023/12/06 12:33:29\u001b[0m | \u001b[1m<- Request: scihub_url=https://sci-hub.ru, source=TitleSource[type=title, id=Effect of Nb addition on the microstructure and properties of AlCoCrFeNi high-entropy alloy], proxies={}\u001b[0m\n"
     ]
    },
    {
     "name": "stdout",
     "output_type": "stream",
     "text": [
      "44\n"
     ]
    },
    {
     "name": "stderr",
     "output_type": "stream",
     "text": [
      "\u001b[1m[INFO]\u001b[0m | \u001b[32m2023/12/06 12:33:30\u001b[0m | \u001b[1m-> Response: status_code=200, content_length=7611\u001b[0m\n",
      "\u001b[1m[INFO]\u001b[0m | \u001b[32m2023/12/06 12:33:30\u001b[0m | \u001b[1m* Extracted information: {'url': 'https://zero.sci-hub.ru/1350/76fcbb533f342a4ab3bc92498a869dea/ma2012.pdf', 'title': 'Effect of Nb addition on the microstructure and properties of AlCoCrFeNi high-entropy alloy. Materials Science and Engineering  A, 532, 480–486'}\u001b[0m\n"
     ]
    },
    {
     "name": "stdout",
     "output_type": "stream",
     "text": [
      "100% [==================================================] 1532939/1532939\n"
     ]
    },
    {
     "name": "stderr",
     "output_type": "stream",
     "text": [
      "\u001b[1m[INFO]\u001b[0m | \u001b[32m2023/12/06 12:33:32\u001b[0m | \u001b[1m↓ Successfully download the url to: references/reference_44.pdf\u001b[0m\n"
     ]
    },
    {
     "name": "stdout",
     "output_type": "stream",
     "text": [
      "45\n"
     ]
    },
    {
     "name": "stderr",
     "output_type": "stream",
     "text": [
      "\u001b[1m[INFO]\u001b[0m | \u001b[32m2023/12/06 12:33:32\u001b[0m | \u001b[1mChoose scihub url [0]: https://sci-hub.ru\u001b[0m\n",
      "\u001b[1m[INFO]\u001b[0m | \u001b[32m2023/12/06 12:33:32\u001b[0m | \u001b[1m<- Request: scihub_url=https://sci-hub.ru, source=TitleSource[type=title, id=Alloy design and properties optimization of high-entropy alloys], proxies={}\u001b[0m\n",
      "\u001b[1m[INFO]\u001b[0m | \u001b[32m2023/12/06 12:33:33\u001b[0m | \u001b[1m-> Response: status_code=200, content_length=7542\u001b[0m\n",
      "\u001b[1m[INFO]\u001b[0m | \u001b[32m2023/12/06 12:33:33\u001b[0m | \u001b[1m* Extracted information: {'url': 'https://dacemirror.sci-hub.ru/journal-article/f7967f92c96f7c16ce946892fa0ca070/zhang2012.pdf', 'title': 'Alloy Design and Properties Optimization of High-Entropy Alloys. JOM, 64(7), 830–838'}\u001b[0m\n"
     ]
    },
    {
     "name": "stdout",
     "output_type": "stream",
     "text": [
      "100% [==================================================] 1286017/1286017\n"
     ]
    },
    {
     "name": "stderr",
     "output_type": "stream",
     "text": [
      "\u001b[1m[INFO]\u001b[0m | \u001b[32m2023/12/06 12:33:35\u001b[0m | \u001b[1m↓ Successfully download the url to: references/reference_45.pdf\u001b[0m\n"
     ]
    },
    {
     "name": "stdout",
     "output_type": "stream",
     "text": [
      "46\n"
     ]
    },
    {
     "name": "stderr",
     "output_type": "stream",
     "text": [
      "\u001b[1m[INFO]\u001b[0m | \u001b[32m2023/12/06 12:33:35\u001b[0m | \u001b[1mChoose scihub url [0]: https://sci-hub.ru\u001b[0m\n",
      "\u001b[1m[INFO]\u001b[0m | \u001b[32m2023/12/06 12:33:35\u001b[0m | \u001b[1m<- Request: scihub_url=https://sci-hub.ru, source=TitleSource[type=title, id=Effects of Al addition on the microstructure and mechanical property of AlxCoCrFeNi high-entropy alloys], proxies={}\u001b[0m\n",
      "\u001b[1m[INFO]\u001b[0m | \u001b[32m2023/12/06 12:33:36\u001b[0m | \u001b[1m-> Response: status_code=200, content_length=7689\u001b[0m\n",
      "\u001b[1m[INFO]\u001b[0m | \u001b[32m2023/12/06 12:33:36\u001b[0m | \u001b[1m* Extracted information: {'url': 'https://dacemirror.sci-hub.ru/journal-article/b07e68d34da8798de18730e9e99ae749/wang2012.pdf', 'title': 'Effects of Al addition on the microstructure and mechanical property of AlxCoCrFeNi high-entropy alloys. Intermetallics, 26, 44–51'}\u001b[0m\n"
     ]
    },
    {
     "name": "stdout",
     "output_type": "stream",
     "text": [
      "100% [==================================================] 1978670/1978670\n"
     ]
    },
    {
     "name": "stderr",
     "output_type": "stream",
     "text": [
      "\u001b[1m[INFO]\u001b[0m | \u001b[32m2023/12/06 12:33:37\u001b[0m | \u001b[1m↓ Successfully download the url to: references/reference_46.pdf\u001b[0m\n"
     ]
    },
    {
     "name": "stdout",
     "output_type": "stream",
     "text": [
      "47\n"
     ]
    },
    {
     "name": "stderr",
     "output_type": "stream",
     "text": [
      "\u001b[1m[INFO]\u001b[0m | \u001b[32m2023/12/06 12:33:37\u001b[0m | \u001b[1mChoose scihub url [0]: https://sci-hub.ru\u001b[0m\n",
      "\u001b[1m[INFO]\u001b[0m | \u001b[32m2023/12/06 12:33:37\u001b[0m | \u001b[1m<- Request: scihub_url=https://sci-hub.ru, source=TitleSource[type=title, id=Microstructure and mechanical property of as-cast, -homogenized, and -deformed AlxCoCrFeNi (0≤x≤2) high-entropy alloys], proxies={}\u001b[0m\n",
      "\u001b[1m[INFO]\u001b[0m | \u001b[32m2023/12/06 12:33:38\u001b[0m | \u001b[1m-> Response: status_code=200, content_length=7700\u001b[0m\n",
      "\u001b[1m[INFO]\u001b[0m | \u001b[32m2023/12/06 12:33:38\u001b[0m | \u001b[1m* Extracted information: {'url': 'https://moscow.sci-hub.ru/1671/099d79ef5039ee52c9814d16d17241d5/kao2009.pdf', 'title': 'Microstructure and mechanical property of as-cast, -homogenized, and -deformed AlxCoCrFeNi (0≤x≤2) high-entropy alloys. Journal of Alloys and Compounds, 488(1), 57–64'}\u001b[0m\n"
     ]
    },
    {
     "name": "stdout",
     "output_type": "stream",
     "text": [
      "100% [==================================================] 1828392/1828392\n"
     ]
    },
    {
     "name": "stderr",
     "output_type": "stream",
     "text": [
      "\u001b[1m[INFO]\u001b[0m | \u001b[32m2023/12/06 12:33:40\u001b[0m | \u001b[1m↓ Successfully download the url to: references/reference_47.pdf\u001b[0m\n"
     ]
    },
    {
     "name": "stdout",
     "output_type": "stream",
     "text": [
      "48\n"
     ]
    },
    {
     "name": "stderr",
     "output_type": "stream",
     "text": [
      "\u001b[1m[INFO]\u001b[0m | \u001b[32m2023/12/06 12:33:40\u001b[0m | \u001b[1mChoose scihub url [0]: https://sci-hub.ru\u001b[0m\n",
      "\u001b[1m[INFO]\u001b[0m | \u001b[32m2023/12/06 12:33:40\u001b[0m | \u001b[1m<- Request: scihub_url=https://sci-hub.ru, source=TitleSource[type=title, id=Microstructure, thermophysical and electrical properties in AlxCoCrFeNi (0≤x≤2) high-entropy alloys], proxies={}\u001b[0m\n",
      "\u001b[1m[INFO]\u001b[0m | \u001b[32m2023/12/06 12:33:41\u001b[0m | \u001b[1m-> Response: status_code=200, content_length=7669\u001b[0m\n",
      "\u001b[1m[INFO]\u001b[0m | \u001b[32m2023/12/06 12:33:41\u001b[0m | \u001b[1m* Extracted information: {'url': 'https://moscow.sci-hub.ru/312/99bc868e1bd649abf065cafcb57fcfab/chou2009.pdf', 'title': 'Microstructure, thermophysical and electrical properties in AlxCoCrFeNi (0≤x≤2) high-entropy alloys. Materials Science and Engineering  B, 163(3), 184–189'}\u001b[0m\n"
     ]
    },
    {
     "name": "stdout",
     "output_type": "stream",
     "text": [
      "100% [==================================================] 1132351/1132351\n"
     ]
    },
    {
     "name": "stderr",
     "output_type": "stream",
     "text": [
      "\u001b[1m[INFO]\u001b[0m | \u001b[32m2023/12/06 12:33:42\u001b[0m | \u001b[1m↓ Successfully download the url to: references/reference_48.pdf\u001b[0m\n"
     ]
    },
    {
     "name": "stdout",
     "output_type": "stream",
     "text": [
      "49\n"
     ]
    },
    {
     "name": "stderr",
     "output_type": "stream",
     "text": [
      "\u001b[1m[INFO]\u001b[0m | \u001b[32m2023/12/06 12:33:42\u001b[0m | \u001b[1mChoose scihub url [0]: https://sci-hub.ru\u001b[0m\n",
      "\u001b[1m[INFO]\u001b[0m | \u001b[32m2023/12/06 12:33:42\u001b[0m | \u001b[1m<- Request: scihub_url=https://sci-hub.ru, source=TitleSource[type=title, id=Microstructure and tensile behaviors of FCC Al0.3CoCrFeNi high entropy alloy], proxies={}\u001b[0m\n",
      "\u001b[1m[INFO]\u001b[0m | \u001b[32m2023/12/06 12:33:43\u001b[0m | \u001b[1m-> Response: status_code=200, content_length=5892\u001b[0m\n",
      "\u001b[33m\u001b[1m[WARNING]\u001b[0m | \u001b[32m2023/12/06 12:33:43\u001b[0m | \u001b[33m\u001b[1mError occurs, task status: extracting_failed, error: No pdf tag was found in the given content with the selector: #pdf\u001b[0m\n",
      "\u001b[1m[INFO]\u001b[0m | \u001b[32m2023/12/06 12:33:43\u001b[0m | \u001b[1mChoose scihub url [1]: http://sci-hub.ru\u001b[0m\n",
      "\u001b[1m[INFO]\u001b[0m | \u001b[32m2023/12/06 12:33:43\u001b[0m | \u001b[1m<- Request: scihub_url=http://sci-hub.ru, source=TitleSource[type=title, id=Microstructure and tensile behaviors of FCC Al0.3CoCrFeNi high entropy alloy], proxies={}\u001b[0m\n",
      "\u001b[1m[INFO]\u001b[0m | \u001b[32m2023/12/06 12:33:44\u001b[0m | \u001b[1m-> Response: status_code=200, content_length=5892\u001b[0m\n",
      "\u001b[33m\u001b[1m[WARNING]\u001b[0m | \u001b[32m2023/12/06 12:33:44\u001b[0m | \u001b[33m\u001b[1mError occurs, task status: extracting_failed, error: No pdf tag was found in the given content with the selector: #pdf\u001b[0m\n",
      "\u001b[1m[INFO]\u001b[0m | \u001b[32m2023/12/06 12:33:44\u001b[0m | \u001b[1mChoose scihub url [2]: https://sci-hub.st\u001b[0m\n",
      "\u001b[1m[INFO]\u001b[0m | \u001b[32m2023/12/06 12:33:44\u001b[0m | \u001b[1m<- Request: scihub_url=https://sci-hub.st, source=TitleSource[type=title, id=Microstructure and tensile behaviors of FCC Al0.3CoCrFeNi high entropy alloy], proxies={}\u001b[0m\n",
      "\u001b[1m[INFO]\u001b[0m | \u001b[32m2023/12/06 12:33:44\u001b[0m | \u001b[1m-> Response: status_code=403, content_length=747\u001b[0m\n",
      "\u001b[33m\u001b[1m[WARNING]\u001b[0m | \u001b[32m2023/12/06 12:33:44\u001b[0m | \u001b[33m\u001b[1mError occurs, task status: crawling_failed, error: Error occurs when crawling source: TitleSource[type=title, id=Microstructure and tensile behaviors of FCC Al0.3CoCrFeNi high entropy alloy]\u001b[0m\n",
      "\u001b[1m[INFO]\u001b[0m | \u001b[32m2023/12/06 12:33:44\u001b[0m | \u001b[1mChoose scihub url [3]: https://sci-hub.mobi\u001b[0m\n",
      "\u001b[1m[INFO]\u001b[0m | \u001b[32m2023/12/06 12:33:44\u001b[0m | \u001b[1m<- Request: scihub_url=https://sci-hub.mobi, source=TitleSource[type=title, id=Microstructure and tensile behaviors of FCC Al0.3CoCrFeNi high entropy alloy], proxies={}\u001b[0m\n",
      "\u001b[1m[INFO]\u001b[0m | \u001b[32m2023/12/06 12:33:46\u001b[0m | \u001b[1m-> Response: status_code=200, content_length=5892\u001b[0m\n",
      "\u001b[33m\u001b[1m[WARNING]\u001b[0m | \u001b[32m2023/12/06 12:33:46\u001b[0m | \u001b[33m\u001b[1mError occurs, task status: extracting_failed, error: No pdf tag was found in the given content with the selector: #pdf\u001b[0m\n",
      "\u001b[1m[INFO]\u001b[0m | \u001b[32m2023/12/06 12:33:46\u001b[0m | \u001b[1mChoose scihub url [4]: https://sci-hub.se\u001b[0m\n",
      "\u001b[1m[INFO]\u001b[0m | \u001b[32m2023/12/06 12:33:46\u001b[0m | \u001b[1m<- Request: scihub_url=https://sci-hub.se, source=TitleSource[type=title, id=Microstructure and tensile behaviors of FCC Al0.3CoCrFeNi high entropy alloy], proxies={}\u001b[0m\n",
      "\u001b[1m[INFO]\u001b[0m | \u001b[32m2023/12/06 12:33:46\u001b[0m | \u001b[1m-> Response: status_code=403, content_length=747\u001b[0m\n",
      "\u001b[33m\u001b[1m[WARNING]\u001b[0m | \u001b[32m2023/12/06 12:33:46\u001b[0m | \u001b[33m\u001b[1mError occurs, task status: crawling_failed, error: Error occurs when crawling source: TitleSource[type=title, id=Microstructure and tensile behaviors of FCC Al0.3CoCrFeNi high entropy alloy]\u001b[0m\n",
      "\u001b[1m[INFO]\u001b[0m | \u001b[32m2023/12/06 12:33:46\u001b[0m | \u001b[1mChoose scihub url [5]: http://sci-hub.se\u001b[0m\n",
      "\u001b[1m[INFO]\u001b[0m | \u001b[32m2023/12/06 12:33:46\u001b[0m | \u001b[1m<- Request: scihub_url=http://sci-hub.se, source=TitleSource[type=title, id=Microstructure and tensile behaviors of FCC Al0.3CoCrFeNi high entropy alloy], proxies={}\u001b[0m\n",
      "\u001b[1m[INFO]\u001b[0m | \u001b[32m2023/12/06 12:33:47\u001b[0m | \u001b[1m-> Response: status_code=403, content_length=747\u001b[0m\n",
      "\u001b[33m\u001b[1m[WARNING]\u001b[0m | \u001b[32m2023/12/06 12:33:47\u001b[0m | \u001b[33m\u001b[1mError occurs, task status: crawling_failed, error: Error occurs when crawling source: TitleSource[type=title, id=Microstructure and tensile behaviors of FCC Al0.3CoCrFeNi high entropy alloy]\u001b[0m\n",
      "\u001b[1m[INFO]\u001b[0m | \u001b[32m2023/12/06 12:33:47\u001b[0m | \u001b[1mChoose scihub url [6]: http://sci-hub.mobi\u001b[0m\n",
      "\u001b[1m[INFO]\u001b[0m | \u001b[32m2023/12/06 12:33:47\u001b[0m | \u001b[1m<- Request: scihub_url=http://sci-hub.mobi, source=TitleSource[type=title, id=Microstructure and tensile behaviors of FCC Al0.3CoCrFeNi high entropy alloy], proxies={}\u001b[0m\n",
      "\u001b[1m[INFO]\u001b[0m | \u001b[32m2023/12/06 12:33:49\u001b[0m | \u001b[1m-> Response: status_code=200, content_length=39030\u001b[0m\n",
      "\u001b[33m\u001b[1m[WARNING]\u001b[0m | \u001b[32m2023/12/06 12:33:49\u001b[0m | \u001b[33m\u001b[1mError occurs, task status: extracting_failed, error: No pdf tag was found in the given content with the selector: #pdf\u001b[0m\n",
      "\u001b[1m[INFO]\u001b[0m | \u001b[32m2023/12/06 12:33:49\u001b[0m | \u001b[1mChoose scihub url [7]: http://sci-hub.st\u001b[0m\n",
      "\u001b[1m[INFO]\u001b[0m | \u001b[32m2023/12/06 12:33:49\u001b[0m | \u001b[1m<- Request: scihub_url=http://sci-hub.st, source=TitleSource[type=title, id=Microstructure and tensile behaviors of FCC Al0.3CoCrFeNi high entropy alloy], proxies={}\u001b[0m\n",
      "\u001b[1m[INFO]\u001b[0m | \u001b[32m2023/12/06 12:33:50\u001b[0m | \u001b[1m-> Response: status_code=403, content_length=747\u001b[0m\n",
      "\u001b[33m\u001b[1m[WARNING]\u001b[0m | \u001b[32m2023/12/06 12:33:50\u001b[0m | \u001b[33m\u001b[1mError occurs, task status: crawling_failed, error: Error occurs when crawling source: TitleSource[type=title, id=Microstructure and tensile behaviors of FCC Al0.3CoCrFeNi high entropy alloy]\u001b[0m\n",
      "\u001b[31m\u001b[1m[ERROR]\u001b[0m | \u001b[32m2023/12/06 12:33:50\u001b[0m | \u001b[31m\u001b[1mFailed to download the paper: Microstructure and tensile behaviors of FCC Al0.3CoCrFeNi high entropy alloy. Please try again.\u001b[0m\n",
      "\u001b[1m[INFO]\u001b[0m | \u001b[32m2023/12/06 12:33:50\u001b[0m | \u001b[1mChoose scihub url [0]: https://sci-hub.ru\u001b[0m\n",
      "\u001b[1m[INFO]\u001b[0m | \u001b[32m2023/12/06 12:33:50\u001b[0m | \u001b[1m<- Request: scihub_url=https://sci-hub.ru, source=TitleSource[type=title, id=High-Temperature Oxidation Behavior of Al-Co-Cr-Ni-(Fe or Si) Multicomponent High-Entropy Alloys], proxies={}\u001b[0m\n"
     ]
    },
    {
     "name": "stdout",
     "output_type": "stream",
     "text": [
      "50\n"
     ]
    },
    {
     "name": "stderr",
     "output_type": "stream",
     "text": [
      "\u001b[1m[INFO]\u001b[0m | \u001b[32m2023/12/06 12:33:51\u001b[0m | \u001b[1m-> Response: status_code=200, content_length=7607\u001b[0m\n",
      "\u001b[1m[INFO]\u001b[0m | \u001b[32m2023/12/06 12:33:51\u001b[0m | \u001b[1m* Extracted information: {'url': 'https://moscow.sci-hub.ru/3525/1dd4f7c53ef91602d1cb989d2338c326/butler2014.pdf', 'title': 'High-Temperature Oxidation Behavior of Al-Co-Cr-Ni-(Fe or Si) Multicomponent High-Entropy Alloys. JOM, 67(1), 246–259'}\u001b[0m\n"
     ]
    },
    {
     "name": "stdout",
     "output_type": "stream",
     "text": [
      "100% [==================================================] 3491650/3491650\n"
     ]
    },
    {
     "name": "stderr",
     "output_type": "stream",
     "text": [
      "\u001b[1m[INFO]\u001b[0m | \u001b[32m2023/12/06 12:33:52\u001b[0m | \u001b[1m↓ Successfully download the url to: references/reference_50.pdf\u001b[0m\n"
     ]
    },
    {
     "name": "stdout",
     "output_type": "stream",
     "text": [
      "51\n"
     ]
    },
    {
     "name": "stderr",
     "output_type": "stream",
     "text": [
      "\u001b[1m[INFO]\u001b[0m | \u001b[32m2023/12/06 12:33:52\u001b[0m | \u001b[1mChoose scihub url [0]: https://sci-hub.ru\u001b[0m\n",
      "\u001b[1m[INFO]\u001b[0m | \u001b[32m2023/12/06 12:33:52\u001b[0m | \u001b[1m<- Request: scihub_url=https://sci-hub.ru, source=TitleSource[type=title, id=Evolution of microstructure, hardness, and corrosion properties of high-entropy Al0.5CoCrFeNi alloy], proxies={}\u001b[0m\n",
      "\u001b[1m[INFO]\u001b[0m | \u001b[32m2023/12/06 12:33:52\u001b[0m | \u001b[1m-> Response: status_code=200, content_length=5915\u001b[0m\n",
      "\u001b[33m\u001b[1m[WARNING]\u001b[0m | \u001b[32m2023/12/06 12:33:52\u001b[0m | \u001b[33m\u001b[1mError occurs, task status: extracting_failed, error: No pdf tag was found in the given content with the selector: #pdf\u001b[0m\n",
      "\u001b[1m[INFO]\u001b[0m | \u001b[32m2023/12/06 12:33:52\u001b[0m | \u001b[1mChoose scihub url [1]: http://sci-hub.ru\u001b[0m\n",
      "\u001b[1m[INFO]\u001b[0m | \u001b[32m2023/12/06 12:33:52\u001b[0m | \u001b[1m<- Request: scihub_url=http://sci-hub.ru, source=TitleSource[type=title, id=Evolution of microstructure, hardness, and corrosion properties of high-entropy Al0.5CoCrFeNi alloy], proxies={}\u001b[0m\n",
      "\u001b[1m[INFO]\u001b[0m | \u001b[32m2023/12/06 12:33:53\u001b[0m | \u001b[1m-> Response: status_code=200, content_length=5915\u001b[0m\n",
      "\u001b[33m\u001b[1m[WARNING]\u001b[0m | \u001b[32m2023/12/06 12:33:53\u001b[0m | \u001b[33m\u001b[1mError occurs, task status: extracting_failed, error: No pdf tag was found in the given content with the selector: #pdf\u001b[0m\n",
      "\u001b[1m[INFO]\u001b[0m | \u001b[32m2023/12/06 12:33:53\u001b[0m | \u001b[1mChoose scihub url [2]: https://sci-hub.st\u001b[0m\n",
      "\u001b[1m[INFO]\u001b[0m | \u001b[32m2023/12/06 12:33:53\u001b[0m | \u001b[1m<- Request: scihub_url=https://sci-hub.st, source=TitleSource[type=title, id=Evolution of microstructure, hardness, and corrosion properties of high-entropy Al0.5CoCrFeNi alloy], proxies={}\u001b[0m\n",
      "\u001b[1m[INFO]\u001b[0m | \u001b[32m2023/12/06 12:33:54\u001b[0m | \u001b[1m-> Response: status_code=403, content_length=747\u001b[0m\n",
      "\u001b[33m\u001b[1m[WARNING]\u001b[0m | \u001b[32m2023/12/06 12:33:54\u001b[0m | \u001b[33m\u001b[1mError occurs, task status: crawling_failed, error: Error occurs when crawling source: TitleSource[type=title, id=Evolution of microstructure, hardness, and corrosion properties of high-entropy Al0.5CoCrFeNi alloy]\u001b[0m\n",
      "\u001b[1m[INFO]\u001b[0m | \u001b[32m2023/12/06 12:33:54\u001b[0m | \u001b[1mChoose scihub url [3]: https://sci-hub.mobi\u001b[0m\n",
      "\u001b[1m[INFO]\u001b[0m | \u001b[32m2023/12/06 12:33:54\u001b[0m | \u001b[1m<- Request: scihub_url=https://sci-hub.mobi, source=TitleSource[type=title, id=Evolution of microstructure, hardness, and corrosion properties of high-entropy Al0.5CoCrFeNi alloy], proxies={}\u001b[0m\n",
      "\u001b[1m[INFO]\u001b[0m | \u001b[32m2023/12/06 12:33:55\u001b[0m | \u001b[1m-> Response: status_code=200, content_length=5915\u001b[0m\n",
      "\u001b[33m\u001b[1m[WARNING]\u001b[0m | \u001b[32m2023/12/06 12:33:55\u001b[0m | \u001b[33m\u001b[1mError occurs, task status: extracting_failed, error: No pdf tag was found in the given content with the selector: #pdf\u001b[0m\n",
      "\u001b[1m[INFO]\u001b[0m | \u001b[32m2023/12/06 12:33:55\u001b[0m | \u001b[1mChoose scihub url [4]: https://sci-hub.se\u001b[0m\n",
      "\u001b[1m[INFO]\u001b[0m | \u001b[32m2023/12/06 12:33:55\u001b[0m | \u001b[1m<- Request: scihub_url=https://sci-hub.se, source=TitleSource[type=title, id=Evolution of microstructure, hardness, and corrosion properties of high-entropy Al0.5CoCrFeNi alloy], proxies={}\u001b[0m\n",
      "\u001b[1m[INFO]\u001b[0m | \u001b[32m2023/12/06 12:33:56\u001b[0m | \u001b[1m-> Response: status_code=403, content_length=747\u001b[0m\n",
      "\u001b[33m\u001b[1m[WARNING]\u001b[0m | \u001b[32m2023/12/06 12:33:56\u001b[0m | \u001b[33m\u001b[1mError occurs, task status: crawling_failed, error: Error occurs when crawling source: TitleSource[type=title, id=Evolution of microstructure, hardness, and corrosion properties of high-entropy Al0.5CoCrFeNi alloy]\u001b[0m\n",
      "\u001b[1m[INFO]\u001b[0m | \u001b[32m2023/12/06 12:33:56\u001b[0m | \u001b[1mChoose scihub url [5]: http://sci-hub.se\u001b[0m\n",
      "\u001b[1m[INFO]\u001b[0m | \u001b[32m2023/12/06 12:33:56\u001b[0m | \u001b[1m<- Request: scihub_url=http://sci-hub.se, source=TitleSource[type=title, id=Evolution of microstructure, hardness, and corrosion properties of high-entropy Al0.5CoCrFeNi alloy], proxies={}\u001b[0m\n",
      "\u001b[1m[INFO]\u001b[0m | \u001b[32m2023/12/06 12:33:57\u001b[0m | \u001b[1m-> Response: status_code=403, content_length=747\u001b[0m\n",
      "\u001b[33m\u001b[1m[WARNING]\u001b[0m | \u001b[32m2023/12/06 12:33:57\u001b[0m | \u001b[33m\u001b[1mError occurs, task status: crawling_failed, error: Error occurs when crawling source: TitleSource[type=title, id=Evolution of microstructure, hardness, and corrosion properties of high-entropy Al0.5CoCrFeNi alloy]\u001b[0m\n",
      "\u001b[1m[INFO]\u001b[0m | \u001b[32m2023/12/06 12:33:57\u001b[0m | \u001b[1mChoose scihub url [6]: http://sci-hub.mobi\u001b[0m\n",
      "\u001b[1m[INFO]\u001b[0m | \u001b[32m2023/12/06 12:33:57\u001b[0m | \u001b[1m<- Request: scihub_url=http://sci-hub.mobi, source=TitleSource[type=title, id=Evolution of microstructure, hardness, and corrosion properties of high-entropy Al0.5CoCrFeNi alloy], proxies={}\u001b[0m\n",
      "\u001b[1m[INFO]\u001b[0m | \u001b[32m2023/12/06 12:33:58\u001b[0m | \u001b[1m-> Response: status_code=200, content_length=39030\u001b[0m\n",
      "\u001b[33m\u001b[1m[WARNING]\u001b[0m | \u001b[32m2023/12/06 12:33:58\u001b[0m | \u001b[33m\u001b[1mError occurs, task status: extracting_failed, error: No pdf tag was found in the given content with the selector: #pdf\u001b[0m\n",
      "\u001b[1m[INFO]\u001b[0m | \u001b[32m2023/12/06 12:33:58\u001b[0m | \u001b[1mChoose scihub url [7]: http://sci-hub.st\u001b[0m\n",
      "\u001b[1m[INFO]\u001b[0m | \u001b[32m2023/12/06 12:33:58\u001b[0m | \u001b[1m<- Request: scihub_url=http://sci-hub.st, source=TitleSource[type=title, id=Evolution of microstructure, hardness, and corrosion properties of high-entropy Al0.5CoCrFeNi alloy], proxies={}\u001b[0m\n",
      "\u001b[1m[INFO]\u001b[0m | \u001b[32m2023/12/06 12:33:59\u001b[0m | \u001b[1m-> Response: status_code=403, content_length=747\u001b[0m\n",
      "\u001b[33m\u001b[1m[WARNING]\u001b[0m | \u001b[32m2023/12/06 12:33:59\u001b[0m | \u001b[33m\u001b[1mError occurs, task status: crawling_failed, error: Error occurs when crawling source: TitleSource[type=title, id=Evolution of microstructure, hardness, and corrosion properties of high-entropy Al0.5CoCrFeNi alloy]\u001b[0m\n",
      "\u001b[31m\u001b[1m[ERROR]\u001b[0m | \u001b[32m2023/12/06 12:33:59\u001b[0m | \u001b[31m\u001b[1mFailed to download the paper: Evolution of microstructure, hardness, and corrosion properties of high-entropy Al0.5CoCrFeNi alloy. Please try again.\u001b[0m\n",
      "\u001b[1m[INFO]\u001b[0m | \u001b[32m2023/12/06 12:33:59\u001b[0m | \u001b[1mChoose scihub url [0]: https://sci-hub.ru\u001b[0m\n",
      "\u001b[1m[INFO]\u001b[0m | \u001b[32m2023/12/06 12:33:59\u001b[0m | \u001b[1m<- Request: scihub_url=https://sci-hub.ru, source=TitleSource[type=title, id=Solid solution alloys of AlCoCrFeNiTix with excellent room-temperature mechanical properties], proxies={}\u001b[0m\n"
     ]
    },
    {
     "name": "stdout",
     "output_type": "stream",
     "text": [
      "52\n"
     ]
    },
    {
     "name": "stderr",
     "output_type": "stream",
     "text": [
      "\u001b[1m[INFO]\u001b[0m | \u001b[32m2023/12/06 12:34:00\u001b[0m | \u001b[1m-> Response: status_code=200, content_length=7600\u001b[0m\n",
      "\u001b[1m[INFO]\u001b[0m | \u001b[32m2023/12/06 12:34:00\u001b[0m | \u001b[1m* Extracted information: {'url': 'https://moscow.sci-hub.ru/1144/84ecd149fc1711e9d23eeb5498f9dcf1/zhou2007.pdf', 'title': 'Solid solution alloys of AlCoCrFeNiTix with excellent room-temperature mechanical properties. Applied Physics Letters, 90(18), 181904'}\u001b[0m\n"
     ]
    },
    {
     "name": "stdout",
     "output_type": "stream",
     "text": [
      "100% [==================================================] 557395/557395\n"
     ]
    },
    {
     "name": "stderr",
     "output_type": "stream",
     "text": [
      "\u001b[1m[INFO]\u001b[0m | \u001b[32m2023/12/06 12:34:02\u001b[0m | \u001b[1m↓ Successfully download the url to: references/reference_52.pdf\u001b[0m\n"
     ]
    },
    {
     "name": "stdout",
     "output_type": "stream",
     "text": [
      "53\n"
     ]
    },
    {
     "name": "stderr",
     "output_type": "stream",
     "text": [
      "\u001b[1m[INFO]\u001b[0m | \u001b[32m2023/12/06 12:34:02\u001b[0m | \u001b[1mChoose scihub url [0]: https://sci-hub.ru\u001b[0m\n",
      "\u001b[1m[INFO]\u001b[0m | \u001b[32m2023/12/06 12:34:02\u001b[0m | \u001b[1m<- Request: scihub_url=https://sci-hub.ru, source=TitleSource[type=title, id=Microstructure and compressive properties of AlCrFeCoNi high entropy alloy], proxies={}\u001b[0m\n",
      "\u001b[1m[INFO]\u001b[0m | \u001b[32m2023/12/06 12:34:03\u001b[0m | \u001b[1m-> Response: status_code=200, content_length=7624\u001b[0m\n",
      "\u001b[1m[INFO]\u001b[0m | \u001b[32m2023/12/06 12:34:03\u001b[0m | \u001b[1m* Extracted information: {'url': 'https://zero.sci-hub.ru/312/6465600a998e57fd43a9fe45371574c5/wang2008.pdf', 'title': 'Microstructure and compressive properties of AlCrFeCoNi high entropy alloy. Materials Science and Engineering  A, 491(1-2), 154–158'}\u001b[0m\n"
     ]
    },
    {
     "name": "stdout",
     "output_type": "stream",
     "text": [
      "100% [==================================================] 1067565/1067565\n"
     ]
    },
    {
     "name": "stderr",
     "output_type": "stream",
     "text": [
      "\u001b[1m[INFO]\u001b[0m | \u001b[32m2023/12/06 12:34:04\u001b[0m | \u001b[1m↓ Successfully download the url to: references/reference_53.pdf\u001b[0m\n"
     ]
    },
    {
     "name": "stdout",
     "output_type": "stream",
     "text": [
      "54\n"
     ]
    },
    {
     "name": "stderr",
     "output_type": "stream",
     "text": [
      "\u001b[1m[INFO]\u001b[0m | \u001b[32m2023/12/06 12:34:04\u001b[0m | \u001b[1mChoose scihub url [0]: https://sci-hub.ru\u001b[0m\n",
      "\u001b[1m[INFO]\u001b[0m | \u001b[32m2023/12/06 12:34:04\u001b[0m | \u001b[1m<- Request: scihub_url=https://sci-hub.ru, source=TitleSource[type=title, id=B2 structure of high-entropy alloys with addition of Al], proxies={}\u001b[0m\n",
      "\u001b[1m[INFO]\u001b[0m | \u001b[32m2023/12/06 12:34:05\u001b[0m | \u001b[1m-> Response: status_code=200, content_length=7516\u001b[0m\n",
      "\u001b[1m[INFO]\u001b[0m | \u001b[32m2023/12/06 12:34:05\u001b[0m | \u001b[1m* Extracted information: {'url': 'https://zero.sci-hub.ru/2663/17d1e3ed1190e9bd70236540343c824a/li2008.pdf', 'title': 'B2 structure of high-entropy alloys with addition of Al. Journal of Applied Physics, 104(11), 113504'}\u001b[0m\n"
     ]
    },
    {
     "name": "stdout",
     "output_type": "stream",
     "text": [
      "100% [==================================================] 774994/774994\n"
     ]
    },
    {
     "name": "stderr",
     "output_type": "stream",
     "text": [
      "\u001b[1m[INFO]\u001b[0m | \u001b[32m2023/12/06 12:34:07\u001b[0m | \u001b[1m↓ Successfully download the url to: references/reference_54.pdf\u001b[0m\n"
     ]
    },
    {
     "name": "stdout",
     "output_type": "stream",
     "text": [
      "55"
     ]
    },
    {
     "name": "stderr",
     "output_type": "stream",
     "text": [
      "\u001b[1m[INFO]\u001b[0m | \u001b[32m2023/12/06 12:34:07\u001b[0m | \u001b[1mChoose scihub url [0]: https://sci-hub.ru\u001b[0m\n",
      "\u001b[1m[INFO]\u001b[0m | \u001b[32m2023/12/06 12:34:07\u001b[0m | \u001b[1m<- Request: scihub_url=https://sci-hub.ru, source=TitleSource[type=title, id=Cooling Rate and Size Effect on the Microstructure and Mechanical Properties of AlCoCrFeNi High Entropy Alloy], proxies={}\u001b[0m\n"
     ]
    },
    {
     "name": "stdout",
     "output_type": "stream",
     "text": [
      "\n"
     ]
    },
    {
     "name": "stderr",
     "output_type": "stream",
     "text": [
      "\u001b[1m[INFO]\u001b[0m | \u001b[32m2023/12/06 12:34:09\u001b[0m | \u001b[1m-> Response: status_code=200, content_length=7680\u001b[0m\n",
      "\u001b[1m[INFO]\u001b[0m | \u001b[32m2023/12/06 12:34:09\u001b[0m | \u001b[1m* Extracted information: {'url': 'https://zero.sci-hub.ru/2338/00ee684641e98b30fd75ce073f975995/wang2009.pdf', 'title': 'Cooling Rate and Size Effect on the Microstructure and Mechanical Properties of AlCoCrFeNi High Entropy Alloy. Journal of Engineering Materials and Technology, 131(3), 034501'}\u001b[0m\n"
     ]
    },
    {
     "name": "stdout",
     "output_type": "stream",
     "text": [
      "100% [==================================================] 511761/511761\n"
     ]
    },
    {
     "name": "stderr",
     "output_type": "stream",
     "text": [
      "\u001b[1m[INFO]\u001b[0m | \u001b[32m2023/12/06 12:34:10\u001b[0m | \u001b[1m↓ Successfully download the url to: references/reference_55.pdf\u001b[0m\n",
      "\u001b[1m[INFO]\u001b[0m | \u001b[32m2023/12/06 12:34:10\u001b[0m | \u001b[1mChoose scihub url [0]: https://sci-hub.ru\u001b[0m\n",
      "\u001b[1m[INFO]\u001b[0m | \u001b[32m2023/12/06 12:34:10\u001b[0m | \u001b[1m<- Request: scihub_url=https://sci-hub.ru, source=TitleSource[type=title, id=Effect of aluminum contents on microstructure and properties of AlxCoCrFeNi alloys], proxies={}\u001b[0m\n"
     ]
    },
    {
     "name": "stdout",
     "output_type": "stream",
     "text": [
      "56\n"
     ]
    },
    {
     "name": "stderr",
     "output_type": "stream",
     "text": [
      "\u001b[1m[INFO]\u001b[0m | \u001b[32m2023/12/06 12:34:11\u001b[0m | \u001b[1m-> Response: status_code=200, content_length=7614\u001b[0m\n",
      "\u001b[1m[INFO]\u001b[0m | \u001b[32m2023/12/06 12:34:11\u001b[0m | \u001b[1m* Extracted information: {'url': 'https://zero.sci-hub.ru/1671/d68be863497284896e360c697ce7aaa7/li2010.pdf', 'title': 'Effect of aluminum contents on microstructure and properties of AlxCoCrFeNi alloys. Journal of Alloys and Compounds, 504, S515–S518'}\u001b[0m\n"
     ]
    },
    {
     "name": "stdout",
     "output_type": "stream",
     "text": [
      "100% [==================================================] 419771/419771\n"
     ]
    },
    {
     "name": "stderr",
     "output_type": "stream",
     "text": [
      "\u001b[1m[INFO]\u001b[0m | \u001b[32m2023/12/06 12:34:14\u001b[0m | \u001b[1m↓ Successfully download the url to: references/reference_56.pdf\u001b[0m\n",
      "\u001b[1m[INFO]\u001b[0m | \u001b[32m2023/12/06 12:34:14\u001b[0m | \u001b[1mChoose scihub url [0]: https://sci-hub.ru\u001b[0m\n",
      "\u001b[1m[INFO]\u001b[0m | \u001b[32m2023/12/06 12:34:14\u001b[0m | \u001b[1m<- Request: scihub_url=https://sci-hub.ru, source=TitleSource[type=title, id=Synthesis and properties of multiprincipal component AlCoCrFeNiSix alloys], proxies={}\u001b[0m\n"
     ]
    },
    {
     "name": "stdout",
     "output_type": "stream",
     "text": [
      "57\n"
     ]
    },
    {
     "name": "stderr",
     "output_type": "stream",
     "text": [
      "\u001b[1m[INFO]\u001b[0m | \u001b[32m2023/12/06 12:34:15\u001b[0m | \u001b[1m-> Response: status_code=200, content_length=7676\u001b[0m\n",
      "\u001b[1m[INFO]\u001b[0m | \u001b[32m2023/12/06 12:34:15\u001b[0m | \u001b[1m* Extracted information: {'url': 'https://dacemirror.sci-hub.ru/journal-article/e277ce5bf207546abffcfd45fdb7c829/zhu2010.pdf', 'title': 'Synthesis and properties of multiprincipal component AlCoCrFeNiSix alloys. Materials Science and Engineering  A, 527(27-28), 7210–7214'}\u001b[0m\n"
     ]
    },
    {
     "name": "stdout",
     "output_type": "stream",
     "text": [
      "100% [==================================================] 1121158/1121158\n"
     ]
    },
    {
     "name": "stderr",
     "output_type": "stream",
     "text": [
      "\u001b[1m[INFO]\u001b[0m | \u001b[32m2023/12/06 12:34:17\u001b[0m | \u001b[1m↓ Successfully download the url to: references/reference_57.pdf\u001b[0m\n"
     ]
    },
    {
     "name": "stdout",
     "output_type": "stream",
     "text": [
      "58\n"
     ]
    },
    {
     "name": "stderr",
     "output_type": "stream",
     "text": [
      "\u001b[1m[INFO]\u001b[0m | \u001b[32m2023/12/06 12:34:17\u001b[0m | \u001b[1mChoose scihub url [0]: https://sci-hub.ru\u001b[0m\n",
      "\u001b[1m[INFO]\u001b[0m | \u001b[32m2023/12/06 12:34:17\u001b[0m | \u001b[1m<- Request: scihub_url=https://sci-hub.ru, source=TitleSource[type=title, id=Microstructure and compressive properties of multiprincipal component AlCoCrFeNiCx alloys], proxies={}\u001b[0m\n",
      "\u001b[1m[INFO]\u001b[0m | \u001b[32m2023/12/06 12:34:17\u001b[0m | \u001b[1m-> Response: status_code=200, content_length=7665\u001b[0m\n",
      "\u001b[1m[INFO]\u001b[0m | \u001b[32m2023/12/06 12:34:17\u001b[0m | \u001b[1m* Extracted information: {'url': 'https://zero.sci-hub.ru/1671/83a2faf85b0239c3adb34df9cd213e21/zhu2011.pdf', 'title': 'Microstructure and compressive properties of multiprincipal component AlCoCrFeNiCx alloys. Journal of Alloys and Compounds, 509(8), 3476–3480'}\u001b[0m\n"
     ]
    },
    {
     "name": "stdout",
     "output_type": "stream",
     "text": [
      "100% [==================================================] 970102/970102\n"
     ]
    },
    {
     "name": "stderr",
     "output_type": "stream",
     "text": [
      "\u001b[1m[INFO]\u001b[0m | \u001b[32m2023/12/06 12:34:19\u001b[0m | \u001b[1m↓ Successfully download the url to: references/reference_58.pdf\u001b[0m\n"
     ]
    },
    {
     "name": "stdout",
     "output_type": "stream",
     "text": [
      "59\n"
     ]
    },
    {
     "name": "stderr",
     "output_type": "stream",
     "text": [
      "\u001b[1m[INFO]\u001b[0m | \u001b[32m2023/12/06 12:34:19\u001b[0m | \u001b[1mChoose scihub url [0]: https://sci-hub.ru\u001b[0m\n",
      "\u001b[1m[INFO]\u001b[0m | \u001b[32m2023/12/06 12:34:19\u001b[0m | \u001b[1m<- Request: scihub_url=https://sci-hub.ru, source=TitleSource[type=title, id=Morphology transition from dendrites to equiaxed grains for AlCoCrFeNi high-entropy alloys by copper mold casting and Bridgman solidification], proxies={}\u001b[0m\n",
      "\u001b[1m[INFO]\u001b[0m | \u001b[32m2023/12/06 12:34:20\u001b[0m | \u001b[1m-> Response: status_code=200, content_length=7781\u001b[0m\n",
      "\u001b[1m[INFO]\u001b[0m | \u001b[32m2023/12/06 12:34:20\u001b[0m | \u001b[1m* Extracted information: {'url': 'https://dacemirror.sci-hub.ru/journal-article/a41510ca2763c56c942e1be1eca0a9dc/zhang2011.pdf', 'title': 'Morphology Transition from Dendrites to Equiaxed Grains for AlCoCrFeNi High-Entropy Alloys by Copper Mold Casting and Bridgman Solidification. Metallurgical and Materials Transactions A, 43(8), 2625–'}\u001b[0m\n"
     ]
    },
    {
     "name": "stdout",
     "output_type": "stream",
     "text": [
      "100% [==================================================] 1064005/1064005\n"
     ]
    },
    {
     "name": "stderr",
     "output_type": "stream",
     "text": [
      "\u001b[1m[INFO]\u001b[0m | \u001b[32m2023/12/06 12:34:23\u001b[0m | \u001b[1m↓ Successfully download the url to: references/reference_59.pdf\u001b[0m\n"
     ]
    },
    {
     "name": "stdout",
     "output_type": "stream",
     "text": [
      "60\n"
     ]
    },
    {
     "name": "stderr",
     "output_type": "stream",
     "text": [
      "\u001b[1m[INFO]\u001b[0m | \u001b[32m2023/12/06 12:34:23\u001b[0m | \u001b[1mChoose scihub url [0]: https://sci-hub.ru\u001b[0m\n",
      "\u001b[1m[INFO]\u001b[0m | \u001b[32m2023/12/06 12:34:23\u001b[0m | \u001b[1m<- Request: scihub_url=https://sci-hub.ru, source=TitleSource[type=title, id=A Promising New Class of High-Temperature Alloys: Eutectic High-Entropy Alloys], proxies={}\u001b[0m\n",
      "\u001b[1m[INFO]\u001b[0m | \u001b[32m2023/12/06 12:34:24\u001b[0m | \u001b[1m-> Response: status_code=200, content_length=7554\u001b[0m\n",
      "\u001b[1m[INFO]\u001b[0m | \u001b[32m2023/12/06 12:34:24\u001b[0m | \u001b[1m* Extracted information: {'url': 'https://moscow.sci-hub.ru/2747/ec8a08b50b6bc870f553c067efd85e18/lu2014.pdf', 'title': 'A Promising New Class of High-Temperature Alloys  Eutectic High-Entropy Alloys. Scientific Reports, 4(1)'}\u001b[0m\n"
     ]
    },
    {
     "name": "stdout",
     "output_type": "stream",
     "text": [
      "100% [==================================================] 775689/775689\n"
     ]
    },
    {
     "name": "stderr",
     "output_type": "stream",
     "text": [
      "\u001b[1m[INFO]\u001b[0m | \u001b[32m2023/12/06 12:34:26\u001b[0m | \u001b[1m↓ Successfully download the url to: references/reference_60.pdf\u001b[0m\n",
      "\u001b[1m[INFO]\u001b[0m | \u001b[32m2023/12/06 12:34:26\u001b[0m | \u001b[1mChoose scihub url [0]: https://sci-hub.ru\u001b[0m\n",
      "\u001b[1m[INFO]\u001b[0m | \u001b[32m2023/12/06 12:34:26\u001b[0m | \u001b[1m<- Request: scihub_url=https://sci-hub.ru, source=TitleSource[type=title, id=Near-constant resistivity in 4.2-360 K in a B2 Al2.08CoCrFeNi], proxies={}\u001b[0m\n"
     ]
    },
    {
     "name": "stdout",
     "output_type": "stream",
     "text": [
      "61\n"
     ]
    },
    {
     "name": "stderr",
     "output_type": "stream",
     "text": [
      "\u001b[1m[INFO]\u001b[0m | \u001b[32m2023/12/06 12:34:26\u001b[0m | \u001b[1m-> Response: status_code=200, content_length=5877\u001b[0m\n",
      "\u001b[33m\u001b[1m[WARNING]\u001b[0m | \u001b[32m2023/12/06 12:34:26\u001b[0m | \u001b[33m\u001b[1mError occurs, task status: extracting_failed, error: No pdf tag was found in the given content with the selector: #pdf\u001b[0m\n",
      "\u001b[1m[INFO]\u001b[0m | \u001b[32m2023/12/06 12:34:26\u001b[0m | \u001b[1mChoose scihub url [1]: http://sci-hub.ru\u001b[0m\n",
      "\u001b[1m[INFO]\u001b[0m | \u001b[32m2023/12/06 12:34:26\u001b[0m | \u001b[1m<- Request: scihub_url=http://sci-hub.ru, source=TitleSource[type=title, id=Near-constant resistivity in 4.2-360 K in a B2 Al2.08CoCrFeNi], proxies={}\u001b[0m\n",
      "\u001b[1m[INFO]\u001b[0m | \u001b[32m2023/12/06 12:34:27\u001b[0m | \u001b[1m-> Response: status_code=200, content_length=5877\u001b[0m\n",
      "\u001b[33m\u001b[1m[WARNING]\u001b[0m | \u001b[32m2023/12/06 12:34:27\u001b[0m | \u001b[33m\u001b[1mError occurs, task status: extracting_failed, error: No pdf tag was found in the given content with the selector: #pdf\u001b[0m\n",
      "\u001b[1m[INFO]\u001b[0m | \u001b[32m2023/12/06 12:34:27\u001b[0m | \u001b[1mChoose scihub url [2]: https://sci-hub.st\u001b[0m\n",
      "\u001b[1m[INFO]\u001b[0m | \u001b[32m2023/12/06 12:34:27\u001b[0m | \u001b[1m<- Request: scihub_url=https://sci-hub.st, source=TitleSource[type=title, id=Near-constant resistivity in 4.2-360 K in a B2 Al2.08CoCrFeNi], proxies={}\u001b[0m\n",
      "\u001b[1m[INFO]\u001b[0m | \u001b[32m2023/12/06 12:34:28\u001b[0m | \u001b[1m-> Response: status_code=403, content_length=747\u001b[0m\n",
      "\u001b[33m\u001b[1m[WARNING]\u001b[0m | \u001b[32m2023/12/06 12:34:28\u001b[0m | \u001b[33m\u001b[1mError occurs, task status: crawling_failed, error: Error occurs when crawling source: TitleSource[type=title, id=Near-constant resistivity in 4.2-360 K in a B2 Al2.08CoCrFeNi]\u001b[0m\n",
      "\u001b[1m[INFO]\u001b[0m | \u001b[32m2023/12/06 12:34:28\u001b[0m | \u001b[1mChoose scihub url [3]: https://sci-hub.mobi\u001b[0m\n",
      "\u001b[1m[INFO]\u001b[0m | \u001b[32m2023/12/06 12:34:28\u001b[0m | \u001b[1m<- Request: scihub_url=https://sci-hub.mobi, source=TitleSource[type=title, id=Near-constant resistivity in 4.2-360 K in a B2 Al2.08CoCrFeNi], proxies={}\u001b[0m\n",
      "\u001b[1m[INFO]\u001b[0m | \u001b[32m2023/12/06 12:34:29\u001b[0m | \u001b[1m-> Response: status_code=200, content_length=5877\u001b[0m\n",
      "\u001b[33m\u001b[1m[WARNING]\u001b[0m | \u001b[32m2023/12/06 12:34:29\u001b[0m | \u001b[33m\u001b[1mError occurs, task status: extracting_failed, error: No pdf tag was found in the given content with the selector: #pdf\u001b[0m\n",
      "\u001b[1m[INFO]\u001b[0m | \u001b[32m2023/12/06 12:34:29\u001b[0m | \u001b[1mChoose scihub url [4]: https://sci-hub.se\u001b[0m\n",
      "\u001b[1m[INFO]\u001b[0m | \u001b[32m2023/12/06 12:34:29\u001b[0m | \u001b[1m<- Request: scihub_url=https://sci-hub.se, source=TitleSource[type=title, id=Near-constant resistivity in 4.2-360 K in a B2 Al2.08CoCrFeNi], proxies={}\u001b[0m\n",
      "\u001b[1m[INFO]\u001b[0m | \u001b[32m2023/12/06 12:34:30\u001b[0m | \u001b[1m-> Response: status_code=403, content_length=747\u001b[0m\n",
      "\u001b[33m\u001b[1m[WARNING]\u001b[0m | \u001b[32m2023/12/06 12:34:30\u001b[0m | \u001b[33m\u001b[1mError occurs, task status: crawling_failed, error: Error occurs when crawling source: TitleSource[type=title, id=Near-constant resistivity in 4.2-360 K in a B2 Al2.08CoCrFeNi]\u001b[0m\n",
      "\u001b[1m[INFO]\u001b[0m | \u001b[32m2023/12/06 12:34:30\u001b[0m | \u001b[1mChoose scihub url [5]: http://sci-hub.se\u001b[0m\n",
      "\u001b[1m[INFO]\u001b[0m | \u001b[32m2023/12/06 12:34:30\u001b[0m | \u001b[1m<- Request: scihub_url=http://sci-hub.se, source=TitleSource[type=title, id=Near-constant resistivity in 4.2-360 K in a B2 Al2.08CoCrFeNi], proxies={}\u001b[0m\n",
      "\u001b[1m[INFO]\u001b[0m | \u001b[32m2023/12/06 12:34:31\u001b[0m | \u001b[1m-> Response: status_code=200, content_length=5877\u001b[0m\n",
      "\u001b[33m\u001b[1m[WARNING]\u001b[0m | \u001b[32m2023/12/06 12:34:31\u001b[0m | \u001b[33m\u001b[1mError occurs, task status: extracting_failed, error: No pdf tag was found in the given content with the selector: #pdf\u001b[0m\n",
      "\u001b[1m[INFO]\u001b[0m | \u001b[32m2023/12/06 12:34:31\u001b[0m | \u001b[1mChoose scihub url [6]: http://sci-hub.mobi\u001b[0m\n",
      "\u001b[1m[INFO]\u001b[0m | \u001b[32m2023/12/06 12:34:31\u001b[0m | \u001b[1m<- Request: scihub_url=http://sci-hub.mobi, source=TitleSource[type=title, id=Near-constant resistivity in 4.2-360 K in a B2 Al2.08CoCrFeNi], proxies={}\u001b[0m\n",
      "\u001b[1m[INFO]\u001b[0m | \u001b[32m2023/12/06 12:34:32\u001b[0m | \u001b[1m-> Response: status_code=200, content_length=39030\u001b[0m\n",
      "\u001b[33m\u001b[1m[WARNING]\u001b[0m | \u001b[32m2023/12/06 12:34:32\u001b[0m | \u001b[33m\u001b[1mError occurs, task status: extracting_failed, error: No pdf tag was found in the given content with the selector: #pdf\u001b[0m\n",
      "\u001b[1m[INFO]\u001b[0m | \u001b[32m2023/12/06 12:34:32\u001b[0m | \u001b[1mChoose scihub url [7]: http://sci-hub.st\u001b[0m\n",
      "\u001b[1m[INFO]\u001b[0m | \u001b[32m2023/12/06 12:34:32\u001b[0m | \u001b[1m<- Request: scihub_url=http://sci-hub.st, source=TitleSource[type=title, id=Near-constant resistivity in 4.2-360 K in a B2 Al2.08CoCrFeNi], proxies={}\u001b[0m\n",
      "\u001b[1m[INFO]\u001b[0m | \u001b[32m2023/12/06 12:34:33\u001b[0m | \u001b[1m-> Response: status_code=403, content_length=747\u001b[0m\n",
      "\u001b[33m\u001b[1m[WARNING]\u001b[0m | \u001b[32m2023/12/06 12:34:33\u001b[0m | \u001b[33m\u001b[1mError occurs, task status: crawling_failed, error: Error occurs when crawling source: TitleSource[type=title, id=Near-constant resistivity in 4.2-360 K in a B2 Al2.08CoCrFeNi]\u001b[0m\n",
      "\u001b[31m\u001b[1m[ERROR]\u001b[0m | \u001b[32m2023/12/06 12:34:33\u001b[0m | \u001b[31m\u001b[1mFailed to download the paper: Near-constant resistivity in 4.2-360 K in a B2 Al2.08CoCrFeNi. Please try again.\u001b[0m\n",
      "\u001b[1m[INFO]\u001b[0m | \u001b[32m2023/12/06 12:34:33\u001b[0m | \u001b[1mChoose scihub url [0]: https://sci-hub.ru\u001b[0m\n",
      "\u001b[1m[INFO]\u001b[0m | \u001b[32m2023/12/06 12:34:33\u001b[0m | \u001b[1m<- Request: scihub_url=https://sci-hub.ru, source=TitleSource[type=title, id=Microstructure and wear behavior of AlxCo1.5CrFeNi1.5Tiy high-entropy alloys], proxies={}\u001b[0m\n"
     ]
    },
    {
     "name": "stdout",
     "output_type": "stream",
     "text": [
      "62\n"
     ]
    },
    {
     "name": "stderr",
     "output_type": "stream",
     "text": [
      "\u001b[1m[INFO]\u001b[0m | \u001b[32m2023/12/06 12:34:34\u001b[0m | \u001b[1m-> Response: status_code=200, content_length=5892\u001b[0m\n",
      "\u001b[33m\u001b[1m[WARNING]\u001b[0m | \u001b[32m2023/12/06 12:34:34\u001b[0m | \u001b[33m\u001b[1mError occurs, task status: extracting_failed, error: No pdf tag was found in the given content with the selector: #pdf\u001b[0m\n",
      "\u001b[1m[INFO]\u001b[0m | \u001b[32m2023/12/06 12:34:34\u001b[0m | \u001b[1mChoose scihub url [1]: http://sci-hub.ru\u001b[0m\n",
      "\u001b[1m[INFO]\u001b[0m | \u001b[32m2023/12/06 12:34:34\u001b[0m | \u001b[1m<- Request: scihub_url=http://sci-hub.ru, source=TitleSource[type=title, id=Microstructure and wear behavior of AlxCo1.5CrFeNi1.5Tiy high-entropy alloys], proxies={}\u001b[0m\n",
      "\u001b[1m[INFO]\u001b[0m | \u001b[32m2023/12/06 12:34:35\u001b[0m | \u001b[1m-> Response: status_code=200, content_length=5892\u001b[0m\n",
      "\u001b[33m\u001b[1m[WARNING]\u001b[0m | \u001b[32m2023/12/06 12:34:35\u001b[0m | \u001b[33m\u001b[1mError occurs, task status: extracting_failed, error: No pdf tag was found in the given content with the selector: #pdf\u001b[0m\n",
      "\u001b[1m[INFO]\u001b[0m | \u001b[32m2023/12/06 12:34:35\u001b[0m | \u001b[1mChoose scihub url [2]: https://sci-hub.st\u001b[0m\n",
      "\u001b[1m[INFO]\u001b[0m | \u001b[32m2023/12/06 12:34:35\u001b[0m | \u001b[1m<- Request: scihub_url=https://sci-hub.st, source=TitleSource[type=title, id=Microstructure and wear behavior of AlxCo1.5CrFeNi1.5Tiy high-entropy alloys], proxies={}\u001b[0m\n",
      "\u001b[1m[INFO]\u001b[0m | \u001b[32m2023/12/06 12:34:35\u001b[0m | \u001b[1m-> Response: status_code=403, content_length=747\u001b[0m\n",
      "\u001b[33m\u001b[1m[WARNING]\u001b[0m | \u001b[32m2023/12/06 12:34:35\u001b[0m | \u001b[33m\u001b[1mError occurs, task status: crawling_failed, error: Error occurs when crawling source: TitleSource[type=title, id=Microstructure and wear behavior of AlxCo1.5CrFeNi1.5Tiy high-entropy alloys]\u001b[0m\n",
      "\u001b[1m[INFO]\u001b[0m | \u001b[32m2023/12/06 12:34:35\u001b[0m | \u001b[1mChoose scihub url [3]: https://sci-hub.mobi\u001b[0m\n",
      "\u001b[1m[INFO]\u001b[0m | \u001b[32m2023/12/06 12:34:35\u001b[0m | \u001b[1m<- Request: scihub_url=https://sci-hub.mobi, source=TitleSource[type=title, id=Microstructure and wear behavior of AlxCo1.5CrFeNi1.5Tiy high-entropy alloys], proxies={}\u001b[0m\n",
      "\u001b[1m[INFO]\u001b[0m | \u001b[32m2023/12/06 12:34:36\u001b[0m | \u001b[1m-> Response: status_code=200, content_length=5892\u001b[0m\n",
      "\u001b[33m\u001b[1m[WARNING]\u001b[0m | \u001b[32m2023/12/06 12:34:36\u001b[0m | \u001b[33m\u001b[1mError occurs, task status: extracting_failed, error: No pdf tag was found in the given content with the selector: #pdf\u001b[0m\n",
      "\u001b[1m[INFO]\u001b[0m | \u001b[32m2023/12/06 12:34:36\u001b[0m | \u001b[1mChoose scihub url [4]: https://sci-hub.se\u001b[0m\n",
      "\u001b[1m[INFO]\u001b[0m | \u001b[32m2023/12/06 12:34:36\u001b[0m | \u001b[1m<- Request: scihub_url=https://sci-hub.se, source=TitleSource[type=title, id=Microstructure and wear behavior of AlxCo1.5CrFeNi1.5Tiy high-entropy alloys], proxies={}\u001b[0m\n",
      "\u001b[1m[INFO]\u001b[0m | \u001b[32m2023/12/06 12:34:37\u001b[0m | \u001b[1m-> Response: status_code=200, content_length=5892\u001b[0m\n",
      "\u001b[33m\u001b[1m[WARNING]\u001b[0m | \u001b[32m2023/12/06 12:34:37\u001b[0m | \u001b[33m\u001b[1mError occurs, task status: extracting_failed, error: No pdf tag was found in the given content with the selector: #pdf\u001b[0m\n",
      "\u001b[1m[INFO]\u001b[0m | \u001b[32m2023/12/06 12:34:37\u001b[0m | \u001b[1mChoose scihub url [5]: http://sci-hub.se\u001b[0m\n",
      "\u001b[1m[INFO]\u001b[0m | \u001b[32m2023/12/06 12:34:37\u001b[0m | \u001b[1m<- Request: scihub_url=http://sci-hub.se, source=TitleSource[type=title, id=Microstructure and wear behavior of AlxCo1.5CrFeNi1.5Tiy high-entropy alloys], proxies={}\u001b[0m\n",
      "\u001b[1m[INFO]\u001b[0m | \u001b[32m2023/12/06 12:34:39\u001b[0m | \u001b[1m-> Response: status_code=200, content_length=5892\u001b[0m\n",
      "\u001b[33m\u001b[1m[WARNING]\u001b[0m | \u001b[32m2023/12/06 12:34:39\u001b[0m | \u001b[33m\u001b[1mError occurs, task status: extracting_failed, error: No pdf tag was found in the given content with the selector: #pdf\u001b[0m\n",
      "\u001b[1m[INFO]\u001b[0m | \u001b[32m2023/12/06 12:34:39\u001b[0m | \u001b[1mChoose scihub url [6]: http://sci-hub.mobi\u001b[0m\n",
      "\u001b[1m[INFO]\u001b[0m | \u001b[32m2023/12/06 12:34:39\u001b[0m | \u001b[1m<- Request: scihub_url=http://sci-hub.mobi, source=TitleSource[type=title, id=Microstructure and wear behavior of AlxCo1.5CrFeNi1.5Tiy high-entropy alloys], proxies={}\u001b[0m\n",
      "\u001b[1m[INFO]\u001b[0m | \u001b[32m2023/12/06 12:34:40\u001b[0m | \u001b[1m-> Response: status_code=200, content_length=39030\u001b[0m\n",
      "\u001b[33m\u001b[1m[WARNING]\u001b[0m | \u001b[32m2023/12/06 12:34:40\u001b[0m | \u001b[33m\u001b[1mError occurs, task status: extracting_failed, error: No pdf tag was found in the given content with the selector: #pdf\u001b[0m\n",
      "\u001b[1m[INFO]\u001b[0m | \u001b[32m2023/12/06 12:34:40\u001b[0m | \u001b[1mChoose scihub url [7]: http://sci-hub.st\u001b[0m\n",
      "\u001b[1m[INFO]\u001b[0m | \u001b[32m2023/12/06 12:34:40\u001b[0m | \u001b[1m<- Request: scihub_url=http://sci-hub.st, source=TitleSource[type=title, id=Microstructure and wear behavior of AlxCo1.5CrFeNi1.5Tiy high-entropy alloys], proxies={}\u001b[0m\n",
      "\u001b[1m[INFO]\u001b[0m | \u001b[32m2023/12/06 12:34:41\u001b[0m | \u001b[1m-> Response: status_code=403, content_length=747\u001b[0m\n",
      "\u001b[33m\u001b[1m[WARNING]\u001b[0m | \u001b[32m2023/12/06 12:34:41\u001b[0m | \u001b[33m\u001b[1mError occurs, task status: crawling_failed, error: Error occurs when crawling source: TitleSource[type=title, id=Microstructure and wear behavior of AlxCo1.5CrFeNi1.5Tiy high-entropy alloys]\u001b[0m\n",
      "\u001b[31m\u001b[1m[ERROR]\u001b[0m | \u001b[32m2023/12/06 12:34:41\u001b[0m | \u001b[31m\u001b[1mFailed to download the paper: Microstructure and wear behavior of AlxCo1.5CrFeNi1.5Tiy high-entropy alloys. Please try again.\u001b[0m\n",
      "\u001b[1m[INFO]\u001b[0m | \u001b[32m2023/12/06 12:34:41\u001b[0m | \u001b[1mChoose scihub url [0]: https://sci-hub.ru\u001b[0m\n",
      "\u001b[1m[INFO]\u001b[0m | \u001b[32m2023/12/06 12:34:41\u001b[0m | \u001b[1m<- Request: scihub_url=https://sci-hub.ru, source=TitleSource[type=title, id=Microstructure and mechanical properties of CoCrFeNiTiAlx high-entropy alloys], proxies={}\u001b[0m\n"
     ]
    },
    {
     "name": "stdout",
     "output_type": "stream",
     "text": [
      "63\n"
     ]
    },
    {
     "name": "stderr",
     "output_type": "stream",
     "text": [
      "\u001b[1m[INFO]\u001b[0m | \u001b[32m2023/12/06 12:34:42\u001b[0m | \u001b[1m-> Response: status_code=200, content_length=7659\u001b[0m\n",
      "\u001b[1m[INFO]\u001b[0m | \u001b[32m2023/12/06 12:34:42\u001b[0m | \u001b[1m* Extracted information: {'url': 'https://zero.sci-hub.ru/375/4b261e6202dba7c409edce523bc010d0/zhang2009.pdf', 'title': 'Microstructure and mechanical properties of CoCrFeNiTiAlx high-entropy alloys. Materials Science and Engineering  A, 508(1-2), 214–219'}\u001b[0m\n"
     ]
    },
    {
     "name": "stdout",
     "output_type": "stream",
     "text": [
      "100% [==================================================] 1627025/1627025\n"
     ]
    },
    {
     "name": "stderr",
     "output_type": "stream",
     "text": [
      "\u001b[1m[INFO]\u001b[0m | \u001b[32m2023/12/06 12:34:45\u001b[0m | \u001b[1m↓ Successfully download the url to: references/reference_63.pdf\u001b[0m\n",
      "\u001b[1m[INFO]\u001b[0m | \u001b[32m2023/12/06 12:34:45\u001b[0m | \u001b[1mChoose scihub url [0]: https://sci-hub.ru\u001b[0m\n",
      "\u001b[1m[INFO]\u001b[0m | \u001b[32m2023/12/06 12:34:45\u001b[0m | \u001b[1m<- Request: scihub_url=https://sci-hub.ru, source=TitleSource[type=title, id=Effects of annealing treatment on phase composition and microstructure of CoCrFeNiTiAlx high-entropy alloys], proxies={}\u001b[0m\n"
     ]
    },
    {
     "name": "stdout",
     "output_type": "stream",
     "text": [
      "64\n"
     ]
    },
    {
     "name": "stderr",
     "output_type": "stream",
     "text": [
      "\u001b[1m[INFO]\u001b[0m | \u001b[32m2023/12/06 12:34:45\u001b[0m | \u001b[1m-> Response: status_code=200, content_length=7608\u001b[0m\n",
      "\u001b[1m[INFO]\u001b[0m | \u001b[32m2023/12/06 12:34:45\u001b[0m | \u001b[1m* Extracted information: {'url': 'https://zero.sci-hub.ru/1668/e854b09d5897c5ad59aa1552050473f7/zhang2012.pdf', 'title': 'Effects of annealing treatment on phase composition and microstructure of CoCrFeNiTiAlx high-entropy alloys. Intermetallics, 22, 24–32'}\u001b[0m\n"
     ]
    },
    {
     "name": "stdout",
     "output_type": "stream",
     "text": [
      "100% [==================================================] 2665639/2665639\n"
     ]
    },
    {
     "name": "stderr",
     "output_type": "stream",
     "text": [
      "\u001b[1m[INFO]\u001b[0m | \u001b[32m2023/12/06 12:34:47\u001b[0m | \u001b[1m↓ Successfully download the url to: references/reference_64.pdf\u001b[0m\n"
     ]
    },
    {
     "name": "stdout",
     "output_type": "stream",
     "text": [
      "65\n"
     ]
    },
    {
     "name": "stderr",
     "output_type": "stream",
     "text": [
      "\u001b[1m[INFO]\u001b[0m | \u001b[32m2023/12/06 12:34:47\u001b[0m | \u001b[1mChoose scihub url [0]: https://sci-hub.ru\u001b[0m\n",
      "\u001b[1m[INFO]\u001b[0m | \u001b[32m2023/12/06 12:34:47\u001b[0m | \u001b[1m<- Request: scihub_url=https://sci-hub.ru, source=TitleSource[type=title, id=Alloying behavior and deformation twinning in a CoNiFeCrAl0.6Ti0.4 high entropy alloy processed by spark plasma sintering], proxies={}\u001b[0m\n",
      "\u001b[1m[INFO]\u001b[0m | \u001b[32m2023/12/06 12:34:48\u001b[0m | \u001b[1m-> Response: status_code=200, content_length=5937\u001b[0m\n",
      "\u001b[33m\u001b[1m[WARNING]\u001b[0m | \u001b[32m2023/12/06 12:34:48\u001b[0m | \u001b[33m\u001b[1mError occurs, task status: extracting_failed, error: No pdf tag was found in the given content with the selector: #pdf\u001b[0m\n",
      "\u001b[1m[INFO]\u001b[0m | \u001b[32m2023/12/06 12:34:48\u001b[0m | \u001b[1mChoose scihub url [1]: http://sci-hub.ru\u001b[0m\n",
      "\u001b[1m[INFO]\u001b[0m | \u001b[32m2023/12/06 12:34:48\u001b[0m | \u001b[1m<- Request: scihub_url=http://sci-hub.ru, source=TitleSource[type=title, id=Alloying behavior and deformation twinning in a CoNiFeCrAl0.6Ti0.4 high entropy alloy processed by spark plasma sintering], proxies={}\u001b[0m\n",
      "\u001b[1m[INFO]\u001b[0m | \u001b[32m2023/12/06 12:34:49\u001b[0m | \u001b[1m-> Response: status_code=200, content_length=5937\u001b[0m\n",
      "\u001b[33m\u001b[1m[WARNING]\u001b[0m | \u001b[32m2023/12/06 12:34:49\u001b[0m | \u001b[33m\u001b[1mError occurs, task status: extracting_failed, error: No pdf tag was found in the given content with the selector: #pdf\u001b[0m\n",
      "\u001b[1m[INFO]\u001b[0m | \u001b[32m2023/12/06 12:34:49\u001b[0m | \u001b[1mChoose scihub url [2]: https://sci-hub.st\u001b[0m\n",
      "\u001b[1m[INFO]\u001b[0m | \u001b[32m2023/12/06 12:34:49\u001b[0m | \u001b[1m<- Request: scihub_url=https://sci-hub.st, source=TitleSource[type=title, id=Alloying behavior and deformation twinning in a CoNiFeCrAl0.6Ti0.4 high entropy alloy processed by spark plasma sintering], proxies={}\u001b[0m\n",
      "\u001b[1m[INFO]\u001b[0m | \u001b[32m2023/12/06 12:34:49\u001b[0m | \u001b[1m-> Response: status_code=403, content_length=747\u001b[0m\n",
      "\u001b[33m\u001b[1m[WARNING]\u001b[0m | \u001b[32m2023/12/06 12:34:50\u001b[0m | \u001b[33m\u001b[1mError occurs, task status: crawling_failed, error: Error occurs when crawling source: TitleSource[type=title, id=Alloying behavior and deformation twinning in a CoNiFeCrAl0.6Ti0.4 high entropy alloy processed by spark plasma sintering]\u001b[0m\n",
      "\u001b[1m[INFO]\u001b[0m | \u001b[32m2023/12/06 12:34:50\u001b[0m | \u001b[1mChoose scihub url [3]: https://sci-hub.mobi\u001b[0m\n",
      "\u001b[1m[INFO]\u001b[0m | \u001b[32m2023/12/06 12:34:50\u001b[0m | \u001b[1m<- Request: scihub_url=https://sci-hub.mobi, source=TitleSource[type=title, id=Alloying behavior and deformation twinning in a CoNiFeCrAl0.6Ti0.4 high entropy alloy processed by spark plasma sintering], proxies={}\u001b[0m\n",
      "\u001b[1m[INFO]\u001b[0m | \u001b[32m2023/12/06 12:34:51\u001b[0m | \u001b[1m-> Response: status_code=200, content_length=5937\u001b[0m\n",
      "\u001b[33m\u001b[1m[WARNING]\u001b[0m | \u001b[32m2023/12/06 12:34:51\u001b[0m | \u001b[33m\u001b[1mError occurs, task status: extracting_failed, error: No pdf tag was found in the given content with the selector: #pdf\u001b[0m\n",
      "\u001b[1m[INFO]\u001b[0m | \u001b[32m2023/12/06 12:34:51\u001b[0m | \u001b[1mChoose scihub url [4]: https://sci-hub.se\u001b[0m\n",
      "\u001b[1m[INFO]\u001b[0m | \u001b[32m2023/12/06 12:34:51\u001b[0m | \u001b[1m<- Request: scihub_url=https://sci-hub.se, source=TitleSource[type=title, id=Alloying behavior and deformation twinning in a CoNiFeCrAl0.6Ti0.4 high entropy alloy processed by spark plasma sintering], proxies={}\u001b[0m\n",
      "\u001b[1m[INFO]\u001b[0m | \u001b[32m2023/12/06 12:34:52\u001b[0m | \u001b[1m-> Response: status_code=200, content_length=5937\u001b[0m\n",
      "\u001b[33m\u001b[1m[WARNING]\u001b[0m | \u001b[32m2023/12/06 12:34:52\u001b[0m | \u001b[33m\u001b[1mError occurs, task status: extracting_failed, error: No pdf tag was found in the given content with the selector: #pdf\u001b[0m\n",
      "\u001b[1m[INFO]\u001b[0m | \u001b[32m2023/12/06 12:34:52\u001b[0m | \u001b[1mChoose scihub url [5]: http://sci-hub.se\u001b[0m\n",
      "\u001b[1m[INFO]\u001b[0m | \u001b[32m2023/12/06 12:34:52\u001b[0m | \u001b[1m<- Request: scihub_url=http://sci-hub.se, source=TitleSource[type=title, id=Alloying behavior and deformation twinning in a CoNiFeCrAl0.6Ti0.4 high entropy alloy processed by spark plasma sintering], proxies={}\u001b[0m\n",
      "\u001b[1m[INFO]\u001b[0m | \u001b[32m2023/12/06 12:34:53\u001b[0m | \u001b[1m-> Response: status_code=200, content_length=5937\u001b[0m\n",
      "\u001b[33m\u001b[1m[WARNING]\u001b[0m | \u001b[32m2023/12/06 12:34:53\u001b[0m | \u001b[33m\u001b[1mError occurs, task status: extracting_failed, error: No pdf tag was found in the given content with the selector: #pdf\u001b[0m\n",
      "\u001b[1m[INFO]\u001b[0m | \u001b[32m2023/12/06 12:34:53\u001b[0m | \u001b[1mChoose scihub url [6]: http://sci-hub.mobi\u001b[0m\n",
      "\u001b[1m[INFO]\u001b[0m | \u001b[32m2023/12/06 12:34:53\u001b[0m | \u001b[1m<- Request: scihub_url=http://sci-hub.mobi, source=TitleSource[type=title, id=Alloying behavior and deformation twinning in a CoNiFeCrAl0.6Ti0.4 high entropy alloy processed by spark plasma sintering], proxies={}\u001b[0m\n",
      "\u001b[1m[INFO]\u001b[0m | \u001b[32m2023/12/06 12:34:54\u001b[0m | \u001b[1m-> Response: status_code=200, content_length=39030\u001b[0m\n",
      "\u001b[33m\u001b[1m[WARNING]\u001b[0m | \u001b[32m2023/12/06 12:34:54\u001b[0m | \u001b[33m\u001b[1mError occurs, task status: extracting_failed, error: No pdf tag was found in the given content with the selector: #pdf\u001b[0m\n",
      "\u001b[1m[INFO]\u001b[0m | \u001b[32m2023/12/06 12:34:54\u001b[0m | \u001b[1mChoose scihub url [7]: http://sci-hub.st\u001b[0m\n",
      "\u001b[1m[INFO]\u001b[0m | \u001b[32m2023/12/06 12:34:54\u001b[0m | \u001b[1m<- Request: scihub_url=http://sci-hub.st, source=TitleSource[type=title, id=Alloying behavior and deformation twinning in a CoNiFeCrAl0.6Ti0.4 high entropy alloy processed by spark plasma sintering], proxies={}\u001b[0m\n",
      "\u001b[1m[INFO]\u001b[0m | \u001b[32m2023/12/06 12:34:55\u001b[0m | \u001b[1m-> Response: status_code=403, content_length=747\u001b[0m\n",
      "\u001b[33m\u001b[1m[WARNING]\u001b[0m | \u001b[32m2023/12/06 12:34:55\u001b[0m | \u001b[33m\u001b[1mError occurs, task status: crawling_failed, error: Error occurs when crawling source: TitleSource[type=title, id=Alloying behavior and deformation twinning in a CoNiFeCrAl0.6Ti0.4 high entropy alloy processed by spark plasma sintering]\u001b[0m\n",
      "\u001b[31m\u001b[1m[ERROR]\u001b[0m | \u001b[32m2023/12/06 12:34:55\u001b[0m | \u001b[31m\u001b[1mFailed to download the paper: Alloying behavior and deformation twinning in a CoNiFeCrAl0.6Ti0.4 high entropy alloy processed by spark plasma sintering. Please try again.\u001b[0m\n",
      "\u001b[1m[INFO]\u001b[0m | \u001b[32m2023/12/06 12:34:55\u001b[0m | \u001b[1mChoose scihub url [0]: https://sci-hub.ru\u001b[0m\n",
      "\u001b[1m[INFO]\u001b[0m | \u001b[32m2023/12/06 12:34:55\u001b[0m | \u001b[1m<- Request: scihub_url=https://sci-hub.ru, source=TitleSource[type=title, id=Effect of Co addition on crystal structure and mechanical properties of Ti0.5CrFeNiAlCo high entropy alloy], proxies={}\u001b[0m\n"
     ]
    },
    {
     "name": "stdout",
     "output_type": "stream",
     "text": [
      "66\n"
     ]
    },
    {
     "name": "stderr",
     "output_type": "stream",
     "text": [
      "\u001b[1m[INFO]\u001b[0m | \u001b[32m2023/12/06 12:34:56\u001b[0m | \u001b[1m-> Response: status_code=200, content_length=5922\u001b[0m\n",
      "\u001b[33m\u001b[1m[WARNING]\u001b[0m | \u001b[32m2023/12/06 12:34:56\u001b[0m | \u001b[33m\u001b[1mError occurs, task status: extracting_failed, error: No pdf tag was found in the given content with the selector: #pdf\u001b[0m\n",
      "\u001b[1m[INFO]\u001b[0m | \u001b[32m2023/12/06 12:34:56\u001b[0m | \u001b[1mChoose scihub url [1]: http://sci-hub.ru\u001b[0m\n",
      "\u001b[1m[INFO]\u001b[0m | \u001b[32m2023/12/06 12:34:56\u001b[0m | \u001b[1m<- Request: scihub_url=http://sci-hub.ru, source=TitleSource[type=title, id=Effect of Co addition on crystal structure and mechanical properties of Ti0.5CrFeNiAlCo high entropy alloy], proxies={}\u001b[0m\n",
      "\u001b[1m[INFO]\u001b[0m | \u001b[32m2023/12/06 12:34:57\u001b[0m | \u001b[1m-> Response: status_code=200, content_length=5922\u001b[0m\n",
      "\u001b[33m\u001b[1m[WARNING]\u001b[0m | \u001b[32m2023/12/06 12:34:57\u001b[0m | \u001b[33m\u001b[1mError occurs, task status: extracting_failed, error: No pdf tag was found in the given content with the selector: #pdf\u001b[0m\n",
      "\u001b[1m[INFO]\u001b[0m | \u001b[32m2023/12/06 12:34:57\u001b[0m | \u001b[1mChoose scihub url [2]: https://sci-hub.st\u001b[0m\n",
      "\u001b[1m[INFO]\u001b[0m | \u001b[32m2023/12/06 12:34:57\u001b[0m | \u001b[1m<- Request: scihub_url=https://sci-hub.st, source=TitleSource[type=title, id=Effect of Co addition on crystal structure and mechanical properties of Ti0.5CrFeNiAlCo high entropy alloy], proxies={}\u001b[0m\n",
      "\u001b[1m[INFO]\u001b[0m | \u001b[32m2023/12/06 12:34:57\u001b[0m | \u001b[1m-> Response: status_code=403, content_length=747\u001b[0m\n",
      "\u001b[33m\u001b[1m[WARNING]\u001b[0m | \u001b[32m2023/12/06 12:34:57\u001b[0m | \u001b[33m\u001b[1mError occurs, task status: crawling_failed, error: Error occurs when crawling source: TitleSource[type=title, id=Effect of Co addition on crystal structure and mechanical properties of Ti0.5CrFeNiAlCo high entropy alloy]\u001b[0m\n",
      "\u001b[1m[INFO]\u001b[0m | \u001b[32m2023/12/06 12:34:57\u001b[0m | \u001b[1mChoose scihub url [3]: https://sci-hub.mobi\u001b[0m\n",
      "\u001b[1m[INFO]\u001b[0m | \u001b[32m2023/12/06 12:34:57\u001b[0m | \u001b[1m<- Request: scihub_url=https://sci-hub.mobi, source=TitleSource[type=title, id=Effect of Co addition on crystal structure and mechanical properties of Ti0.5CrFeNiAlCo high entropy alloy], proxies={}\u001b[0m\n",
      "\u001b[1m[INFO]\u001b[0m | \u001b[32m2023/12/06 12:34:59\u001b[0m | \u001b[1m-> Response: status_code=200, content_length=5922\u001b[0m\n",
      "\u001b[33m\u001b[1m[WARNING]\u001b[0m | \u001b[32m2023/12/06 12:34:59\u001b[0m | \u001b[33m\u001b[1mError occurs, task status: extracting_failed, error: No pdf tag was found in the given content with the selector: #pdf\u001b[0m\n",
      "\u001b[1m[INFO]\u001b[0m | \u001b[32m2023/12/06 12:34:59\u001b[0m | \u001b[1mChoose scihub url [4]: https://sci-hub.se\u001b[0m\n",
      "\u001b[1m[INFO]\u001b[0m | \u001b[32m2023/12/06 12:34:59\u001b[0m | \u001b[1m<- Request: scihub_url=https://sci-hub.se, source=TitleSource[type=title, id=Effect of Co addition on crystal structure and mechanical properties of Ti0.5CrFeNiAlCo high entropy alloy], proxies={}\u001b[0m\n",
      "\u001b[1m[INFO]\u001b[0m | \u001b[32m2023/12/06 12:34:59\u001b[0m | \u001b[1m-> Response: status_code=200, content_length=5922\u001b[0m\n",
      "\u001b[33m\u001b[1m[WARNING]\u001b[0m | \u001b[32m2023/12/06 12:34:59\u001b[0m | \u001b[33m\u001b[1mError occurs, task status: extracting_failed, error: No pdf tag was found in the given content with the selector: #pdf\u001b[0m\n",
      "\u001b[1m[INFO]\u001b[0m | \u001b[32m2023/12/06 12:34:59\u001b[0m | \u001b[1mChoose scihub url [5]: http://sci-hub.se\u001b[0m\n",
      "\u001b[1m[INFO]\u001b[0m | \u001b[32m2023/12/06 12:34:59\u001b[0m | \u001b[1m<- Request: scihub_url=http://sci-hub.se, source=TitleSource[type=title, id=Effect of Co addition on crystal structure and mechanical properties of Ti0.5CrFeNiAlCo high entropy alloy], proxies={}\u001b[0m\n",
      "\u001b[1m[INFO]\u001b[0m | \u001b[32m2023/12/06 12:35:01\u001b[0m | \u001b[1m-> Response: status_code=200, content_length=5922\u001b[0m\n",
      "\u001b[33m\u001b[1m[WARNING]\u001b[0m | \u001b[32m2023/12/06 12:35:01\u001b[0m | \u001b[33m\u001b[1mError occurs, task status: extracting_failed, error: No pdf tag was found in the given content with the selector: #pdf\u001b[0m\n",
      "\u001b[1m[INFO]\u001b[0m | \u001b[32m2023/12/06 12:35:01\u001b[0m | \u001b[1mChoose scihub url [6]: http://sci-hub.mobi\u001b[0m\n",
      "\u001b[1m[INFO]\u001b[0m | \u001b[32m2023/12/06 12:35:01\u001b[0m | \u001b[1m<- Request: scihub_url=http://sci-hub.mobi, source=TitleSource[type=title, id=Effect of Co addition on crystal structure and mechanical properties of Ti0.5CrFeNiAlCo high entropy alloy], proxies={}\u001b[0m\n",
      "\u001b[1m[INFO]\u001b[0m | \u001b[32m2023/12/06 12:35:02\u001b[0m | \u001b[1m-> Response: status_code=200, content_length=39030\u001b[0m\n",
      "\u001b[33m\u001b[1m[WARNING]\u001b[0m | \u001b[32m2023/12/06 12:35:02\u001b[0m | \u001b[33m\u001b[1mError occurs, task status: extracting_failed, error: No pdf tag was found in the given content with the selector: #pdf\u001b[0m\n",
      "\u001b[1m[INFO]\u001b[0m | \u001b[32m2023/12/06 12:35:02\u001b[0m | \u001b[1mChoose scihub url [7]: http://sci-hub.st\u001b[0m\n",
      "\u001b[1m[INFO]\u001b[0m | \u001b[32m2023/12/06 12:35:02\u001b[0m | \u001b[1m<- Request: scihub_url=http://sci-hub.st, source=TitleSource[type=title, id=Effect of Co addition on crystal structure and mechanical properties of Ti0.5CrFeNiAlCo high entropy alloy], proxies={}\u001b[0m\n",
      "\u001b[1m[INFO]\u001b[0m | \u001b[32m2023/12/06 12:35:03\u001b[0m | \u001b[1m-> Response: status_code=403, content_length=747\u001b[0m\n",
      "\u001b[33m\u001b[1m[WARNING]\u001b[0m | \u001b[32m2023/12/06 12:35:03\u001b[0m | \u001b[33m\u001b[1mError occurs, task status: crawling_failed, error: Error occurs when crawling source: TitleSource[type=title, id=Effect of Co addition on crystal structure and mechanical properties of Ti0.5CrFeNiAlCo high entropy alloy]\u001b[0m\n",
      "\u001b[31m\u001b[1m[ERROR]\u001b[0m | \u001b[32m2023/12/06 12:35:03\u001b[0m | \u001b[31m\u001b[1mFailed to download the paper: Effect of Co addition on crystal structure and mechanical properties of Ti0.5CrFeNiAlCo high entropy alloy. Please try again.\u001b[0m\n",
      "\u001b[1m[INFO]\u001b[0m | \u001b[32m2023/12/06 12:35:03\u001b[0m | \u001b[1mChoose scihub url [0]: https://sci-hub.ru\u001b[0m\n",
      "\u001b[1m[INFO]\u001b[0m | \u001b[32m2023/12/06 12:35:03\u001b[0m | \u001b[1m<- Request: scihub_url=https://sci-hub.ru, source=TitleSource[type=title, id=Effect of Co element on microstructure and mechanical properties of FeCoxNiCuAl alloys], proxies={}\u001b[0m\n"
     ]
    },
    {
     "name": "stdout",
     "output_type": "stream",
     "text": [
      "67\n"
     ]
    },
    {
     "name": "stderr",
     "output_type": "stream",
     "text": [
      "\u001b[1m[INFO]\u001b[0m | \u001b[32m2023/12/06 12:35:04\u001b[0m | \u001b[1m-> Response: status_code=200, content_length=5894\u001b[0m\n",
      "\u001b[33m\u001b[1m[WARNING]\u001b[0m | \u001b[32m2023/12/06 12:35:04\u001b[0m | \u001b[33m\u001b[1mError occurs, task status: extracting_failed, error: No pdf tag was found in the given content with the selector: #pdf\u001b[0m\n",
      "\u001b[1m[INFO]\u001b[0m | \u001b[32m2023/12/06 12:35:04\u001b[0m | \u001b[1mChoose scihub url [1]: http://sci-hub.ru\u001b[0m\n",
      "\u001b[1m[INFO]\u001b[0m | \u001b[32m2023/12/06 12:35:04\u001b[0m | \u001b[1m<- Request: scihub_url=http://sci-hub.ru, source=TitleSource[type=title, id=Effect of Co element on microstructure and mechanical properties of FeCoxNiCuAl alloys], proxies={}\u001b[0m\n",
      "\u001b[1m[INFO]\u001b[0m | \u001b[32m2023/12/06 12:35:05\u001b[0m | \u001b[1m-> Response: status_code=200, content_length=5894\u001b[0m\n",
      "\u001b[33m\u001b[1m[WARNING]\u001b[0m | \u001b[32m2023/12/06 12:35:05\u001b[0m | \u001b[33m\u001b[1mError occurs, task status: extracting_failed, error: No pdf tag was found in the given content with the selector: #pdf\u001b[0m\n",
      "\u001b[1m[INFO]\u001b[0m | \u001b[32m2023/12/06 12:35:05\u001b[0m | \u001b[1mChoose scihub url [2]: https://sci-hub.st\u001b[0m\n",
      "\u001b[1m[INFO]\u001b[0m | \u001b[32m2023/12/06 12:35:05\u001b[0m | \u001b[1m<- Request: scihub_url=https://sci-hub.st, source=TitleSource[type=title, id=Effect of Co element on microstructure and mechanical properties of FeCoxNiCuAl alloys], proxies={}\u001b[0m\n",
      "\u001b[1m[INFO]\u001b[0m | \u001b[32m2023/12/06 12:35:05\u001b[0m | \u001b[1m-> Response: status_code=403, content_length=747\u001b[0m\n",
      "\u001b[33m\u001b[1m[WARNING]\u001b[0m | \u001b[32m2023/12/06 12:35:05\u001b[0m | \u001b[33m\u001b[1mError occurs, task status: crawling_failed, error: Error occurs when crawling source: TitleSource[type=title, id=Effect of Co element on microstructure and mechanical properties of FeCoxNiCuAl alloys]\u001b[0m\n",
      "\u001b[1m[INFO]\u001b[0m | \u001b[32m2023/12/06 12:35:05\u001b[0m | \u001b[1mChoose scihub url [3]: https://sci-hub.mobi\u001b[0m\n",
      "\u001b[1m[INFO]\u001b[0m | \u001b[32m2023/12/06 12:35:05\u001b[0m | \u001b[1m<- Request: scihub_url=https://sci-hub.mobi, source=TitleSource[type=title, id=Effect of Co element on microstructure and mechanical properties of FeCoxNiCuAl alloys], proxies={}\u001b[0m\n",
      "\u001b[1m[INFO]\u001b[0m | \u001b[32m2023/12/06 12:35:06\u001b[0m | \u001b[1m-> Response: status_code=200, content_length=5894\u001b[0m\n",
      "\u001b[33m\u001b[1m[WARNING]\u001b[0m | \u001b[32m2023/12/06 12:35:06\u001b[0m | \u001b[33m\u001b[1mError occurs, task status: extracting_failed, error: No pdf tag was found in the given content with the selector: #pdf\u001b[0m\n",
      "\u001b[1m[INFO]\u001b[0m | \u001b[32m2023/12/06 12:35:06\u001b[0m | \u001b[1mChoose scihub url [4]: https://sci-hub.se\u001b[0m\n",
      "\u001b[1m[INFO]\u001b[0m | \u001b[32m2023/12/06 12:35:06\u001b[0m | \u001b[1m<- Request: scihub_url=https://sci-hub.se, source=TitleSource[type=title, id=Effect of Co element on microstructure and mechanical properties of FeCoxNiCuAl alloys], proxies={}\u001b[0m\n",
      "\u001b[1m[INFO]\u001b[0m | \u001b[32m2023/12/06 12:35:07\u001b[0m | \u001b[1m-> Response: status_code=200, content_length=5894\u001b[0m\n",
      "\u001b[33m\u001b[1m[WARNING]\u001b[0m | \u001b[32m2023/12/06 12:35:07\u001b[0m | \u001b[33m\u001b[1mError occurs, task status: extracting_failed, error: No pdf tag was found in the given content with the selector: #pdf\u001b[0m\n",
      "\u001b[1m[INFO]\u001b[0m | \u001b[32m2023/12/06 12:35:07\u001b[0m | \u001b[1mChoose scihub url [5]: http://sci-hub.se\u001b[0m\n",
      "\u001b[1m[INFO]\u001b[0m | \u001b[32m2023/12/06 12:35:07\u001b[0m | \u001b[1m<- Request: scihub_url=http://sci-hub.se, source=TitleSource[type=title, id=Effect of Co element on microstructure and mechanical properties of FeCoxNiCuAl alloys], proxies={}\u001b[0m\n",
      "\u001b[1m[INFO]\u001b[0m | \u001b[32m2023/12/06 12:35:09\u001b[0m | \u001b[1m-> Response: status_code=200, content_length=5894\u001b[0m\n",
      "\u001b[33m\u001b[1m[WARNING]\u001b[0m | \u001b[32m2023/12/06 12:35:09\u001b[0m | \u001b[33m\u001b[1mError occurs, task status: extracting_failed, error: No pdf tag was found in the given content with the selector: #pdf\u001b[0m\n",
      "\u001b[1m[INFO]\u001b[0m | \u001b[32m2023/12/06 12:35:09\u001b[0m | \u001b[1mChoose scihub url [6]: http://sci-hub.mobi\u001b[0m\n",
      "\u001b[1m[INFO]\u001b[0m | \u001b[32m2023/12/06 12:35:09\u001b[0m | \u001b[1m<- Request: scihub_url=http://sci-hub.mobi, source=TitleSource[type=title, id=Effect of Co element on microstructure and mechanical properties of FeCoxNiCuAl alloys], proxies={}\u001b[0m\n",
      "\u001b[1m[INFO]\u001b[0m | \u001b[32m2023/12/06 12:35:10\u001b[0m | \u001b[1m-> Response: status_code=200, content_length=39030\u001b[0m\n",
      "\u001b[33m\u001b[1m[WARNING]\u001b[0m | \u001b[32m2023/12/06 12:35:10\u001b[0m | \u001b[33m\u001b[1mError occurs, task status: extracting_failed, error: No pdf tag was found in the given content with the selector: #pdf\u001b[0m\n",
      "\u001b[1m[INFO]\u001b[0m | \u001b[32m2023/12/06 12:35:10\u001b[0m | \u001b[1mChoose scihub url [7]: http://sci-hub.st\u001b[0m\n",
      "\u001b[1m[INFO]\u001b[0m | \u001b[32m2023/12/06 12:35:10\u001b[0m | \u001b[1m<- Request: scihub_url=http://sci-hub.st, source=TitleSource[type=title, id=Effect of Co element on microstructure and mechanical properties of FeCoxNiCuAl alloys], proxies={}\u001b[0m\n",
      "\u001b[1m[INFO]\u001b[0m | \u001b[32m2023/12/06 12:35:11\u001b[0m | \u001b[1m-> Response: status_code=403, content_length=747\u001b[0m\n",
      "\u001b[33m\u001b[1m[WARNING]\u001b[0m | \u001b[32m2023/12/06 12:35:11\u001b[0m | \u001b[33m\u001b[1mError occurs, task status: crawling_failed, error: Error occurs when crawling source: TitleSource[type=title, id=Effect of Co element on microstructure and mechanical properties of FeCoxNiCuAl alloys]\u001b[0m\n",
      "\u001b[31m\u001b[1m[ERROR]\u001b[0m | \u001b[32m2023/12/06 12:35:11\u001b[0m | \u001b[31m\u001b[1mFailed to download the paper: Effect of Co element on microstructure and mechanical properties of FeCoxNiCuAl alloys. Please try again.\u001b[0m\n",
      "\u001b[1m[INFO]\u001b[0m | \u001b[32m2023/12/06 12:35:11\u001b[0m | \u001b[1mChoose scihub url [0]: https://sci-hub.ru\u001b[0m\n",
      "\u001b[1m[INFO]\u001b[0m | \u001b[32m2023/12/06 12:35:11\u001b[0m | \u001b[1m<- Request: scihub_url=https://sci-hub.ru, source=TitleSource[type=title, id=Effect of Ti, Al and Cu addition on structural evolution and phase constitution of FeCoNi system equimolar alloys], proxies={}\u001b[0m\n"
     ]
    },
    {
     "name": "stdout",
     "output_type": "stream",
     "text": [
      "68\n"
     ]
    },
    {
     "name": "stderr",
     "output_type": "stream",
     "text": [
      "\u001b[1m[INFO]\u001b[0m | \u001b[32m2023/12/06 12:35:12\u001b[0m | \u001b[1m-> Response: status_code=200, content_length=7720\u001b[0m\n",
      "\u001b[1m[INFO]\u001b[0m | \u001b[32m2023/12/06 12:35:12\u001b[0m | \u001b[1m* Extracted information: {'url': 'https://dacemirror.sci-hub.ru/journal-article/a3ee76b0995f5896379141471ca37f88/wang2012.pdf', 'title': 'Effect of Ti, Al and Cu Addition on Structural Evolution and Phase Constitution of FeCoNi System Equimolar Alloys. Materials Science Forum, 724, 335–338'}\u001b[0m\n"
     ]
    },
    {
     "name": "stdout",
     "output_type": "stream",
     "text": [
      "100% [==================================================] 1971789/1971789\n"
     ]
    },
    {
     "name": "stderr",
     "output_type": "stream",
     "text": [
      "\u001b[1m[INFO]\u001b[0m | \u001b[32m2023/12/06 12:35:15\u001b[0m | \u001b[1m↓ Successfully download the url to: references/reference_68.pdf\u001b[0m\n"
     ]
    },
    {
     "name": "stdout",
     "output_type": "stream",
     "text": [
      "69\n"
     ]
    },
    {
     "name": "stderr",
     "output_type": "stream",
     "text": [
      "\u001b[1m[INFO]\u001b[0m | \u001b[32m2023/12/06 12:35:15\u001b[0m | \u001b[1mChoose scihub url [0]: https://sci-hub.ru\u001b[0m\n",
      "\u001b[1m[INFO]\u001b[0m | \u001b[32m2023/12/06 12:35:15\u001b[0m | \u001b[1m<- Request: scihub_url=https://sci-hub.ru, source=TitleSource[type=title, id=Processing and properties of nanocrystalline CuNiCoZnAlTi high entropy alloys by mechanical alloying], proxies={}\u001b[0m\n",
      "\u001b[1m[INFO]\u001b[0m | \u001b[32m2023/12/06 12:35:16\u001b[0m | \u001b[1m-> Response: status_code=200, content_length=7685\u001b[0m\n",
      "\u001b[1m[INFO]\u001b[0m | \u001b[32m2023/12/06 12:35:16\u001b[0m | \u001b[1m* Extracted information: {'url': 'https://moscow.sci-hub.ru/860/2972b5e3fd6a9c8e0b8d59f370945e8d/varalakshmi2010.pdf', 'title': 'Processing and properties of nanocrystalline CuNiCoZnAlTi high entropy alloys by mechanical alloying. Materials Science and Engineering  A, 527(4-5), 1027–1030'}\u001b[0m\n"
     ]
    },
    {
     "name": "stdout",
     "output_type": "stream",
     "text": [
      "100% [==================================================] 567097/567097\n"
     ]
    },
    {
     "name": "stderr",
     "output_type": "stream",
     "text": [
      "\u001b[1m[INFO]\u001b[0m | \u001b[32m2023/12/06 12:35:18\u001b[0m | \u001b[1m↓ Successfully download the url to: references/reference_69.pdf\u001b[0m\n"
     ]
    },
    {
     "name": "stdout",
     "output_type": "stream",
     "text": [
      "70\n"
     ]
    },
    {
     "name": "stderr",
     "output_type": "stream",
     "text": [
      "\u001b[1m[INFO]\u001b[0m | \u001b[32m2023/12/06 12:35:18\u001b[0m | \u001b[1mChoose scihub url [0]: https://sci-hub.ru\u001b[0m\n",
      "\u001b[1m[INFO]\u001b[0m | \u001b[32m2023/12/06 12:35:18\u001b[0m | \u001b[1m<- Request: scihub_url=https://sci-hub.ru, source=TitleSource[type=title, id=Effects of Al and Si addition on the structure and properties of CoFeNi equal atomic ratio alloy], proxies={}\u001b[0m\n",
      "\u001b[1m[INFO]\u001b[0m | \u001b[32m2023/12/06 12:35:19\u001b[0m | \u001b[1m-> Response: status_code=200, content_length=7691\u001b[0m\n",
      "\u001b[1m[INFO]\u001b[0m | \u001b[32m2023/12/06 12:35:19\u001b[0m | \u001b[1m* Extracted information: {'url': 'https://dacemirror.sci-hub.ru/journal-article/d7c6c26ec2c4ebcbac784863a89b7c0e/zuo2014.pdf', 'title': 'Effects of Al and Si addition on the structure and properties of CoFeNi equal atomic ratio alloy. Journal of Magnetism and Magnetic Materials, 371, 60–68'}\u001b[0m\n"
     ]
    },
    {
     "name": "stdout",
     "output_type": "stream",
     "text": [
      "100% [==================================================] 3246146/3246146\n"
     ]
    },
    {
     "name": "stderr",
     "output_type": "stream",
     "text": [
      "\u001b[1m[INFO]\u001b[0m | \u001b[32m2023/12/06 12:35:20\u001b[0m | \u001b[1m↓ Successfully download the url to: references/reference_70.pdf\u001b[0m\n"
     ]
    },
    {
     "name": "stdout",
     "output_type": "stream",
     "text": [
      "71\n"
     ]
    },
    {
     "name": "stderr",
     "output_type": "stream",
     "text": [
      "\u001b[1m[INFO]\u001b[0m | \u001b[32m2023/12/06 12:35:20\u001b[0m | \u001b[1mChoose scihub url [0]: https://sci-hub.ru\u001b[0m\n",
      "\u001b[1m[INFO]\u001b[0m | \u001b[32m2023/12/06 12:35:20\u001b[0m | \u001b[1m<- Request: scihub_url=https://sci-hub.ru, source=TitleSource[type=title, id=Processing, microstructure and properties of Al0.6CoNiFeTi0.4 high entropy alloy with nanoscale twins], proxies={}\u001b[0m\n",
      "\u001b[1m[INFO]\u001b[0m | \u001b[32m2023/12/06 12:35:21\u001b[0m | \u001b[1m-> Response: status_code=200, content_length=5917\u001b[0m\n",
      "\u001b[33m\u001b[1m[WARNING]\u001b[0m | \u001b[32m2023/12/06 12:35:21\u001b[0m | \u001b[33m\u001b[1mError occurs, task status: extracting_failed, error: No pdf tag was found in the given content with the selector: #pdf\u001b[0m\n",
      "\u001b[1m[INFO]\u001b[0m | \u001b[32m2023/12/06 12:35:21\u001b[0m | \u001b[1mChoose scihub url [1]: http://sci-hub.ru\u001b[0m\n",
      "\u001b[1m[INFO]\u001b[0m | \u001b[32m2023/12/06 12:35:21\u001b[0m | \u001b[1m<- Request: scihub_url=http://sci-hub.ru, source=TitleSource[type=title, id=Processing, microstructure and properties of Al0.6CoNiFeTi0.4 high entropy alloy with nanoscale twins], proxies={}\u001b[0m\n",
      "\u001b[1m[INFO]\u001b[0m | \u001b[32m2023/12/06 12:35:22\u001b[0m | \u001b[1m-> Response: status_code=200, content_length=5917\u001b[0m\n",
      "\u001b[33m\u001b[1m[WARNING]\u001b[0m | \u001b[32m2023/12/06 12:35:22\u001b[0m | \u001b[33m\u001b[1mError occurs, task status: extracting_failed, error: No pdf tag was found in the given content with the selector: #pdf\u001b[0m\n",
      "\u001b[1m[INFO]\u001b[0m | \u001b[32m2023/12/06 12:35:22\u001b[0m | \u001b[1mChoose scihub url [2]: https://sci-hub.st\u001b[0m\n",
      "\u001b[1m[INFO]\u001b[0m | \u001b[32m2023/12/06 12:35:22\u001b[0m | \u001b[1m<- Request: scihub_url=https://sci-hub.st, source=TitleSource[type=title, id=Processing, microstructure and properties of Al0.6CoNiFeTi0.4 high entropy alloy with nanoscale twins], proxies={}\u001b[0m\n",
      "\u001b[1m[INFO]\u001b[0m | \u001b[32m2023/12/06 12:35:23\u001b[0m | \u001b[1m-> Response: status_code=403, content_length=747\u001b[0m\n",
      "\u001b[33m\u001b[1m[WARNING]\u001b[0m | \u001b[32m2023/12/06 12:35:23\u001b[0m | \u001b[33m\u001b[1mError occurs, task status: crawling_failed, error: Error occurs when crawling source: TitleSource[type=title, id=Processing, microstructure and properties of Al0.6CoNiFeTi0.4 high entropy alloy with nanoscale twins]\u001b[0m\n",
      "\u001b[1m[INFO]\u001b[0m | \u001b[32m2023/12/06 12:35:23\u001b[0m | \u001b[1mChoose scihub url [3]: https://sci-hub.mobi\u001b[0m\n",
      "\u001b[1m[INFO]\u001b[0m | \u001b[32m2023/12/06 12:35:23\u001b[0m | \u001b[1m<- Request: scihub_url=https://sci-hub.mobi, source=TitleSource[type=title, id=Processing, microstructure and properties of Al0.6CoNiFeTi0.4 high entropy alloy with nanoscale twins], proxies={}\u001b[0m\n",
      "\u001b[1m[INFO]\u001b[0m | \u001b[32m2023/12/06 12:35:24\u001b[0m | \u001b[1m-> Response: status_code=200, content_length=5917\u001b[0m\n",
      "\u001b[33m\u001b[1m[WARNING]\u001b[0m | \u001b[32m2023/12/06 12:35:24\u001b[0m | \u001b[33m\u001b[1mError occurs, task status: extracting_failed, error: No pdf tag was found in the given content with the selector: #pdf\u001b[0m\n",
      "\u001b[1m[INFO]\u001b[0m | \u001b[32m2023/12/06 12:35:24\u001b[0m | \u001b[1mChoose scihub url [4]: https://sci-hub.se\u001b[0m\n",
      "\u001b[1m[INFO]\u001b[0m | \u001b[32m2023/12/06 12:35:24\u001b[0m | \u001b[1m<- Request: scihub_url=https://sci-hub.se, source=TitleSource[type=title, id=Processing, microstructure and properties of Al0.6CoNiFeTi0.4 high entropy alloy with nanoscale twins], proxies={}\u001b[0m\n",
      "\u001b[1m[INFO]\u001b[0m | \u001b[32m2023/12/06 12:35:25\u001b[0m | \u001b[1m-> Response: status_code=200, content_length=5917\u001b[0m\n",
      "\u001b[33m\u001b[1m[WARNING]\u001b[0m | \u001b[32m2023/12/06 12:35:25\u001b[0m | \u001b[33m\u001b[1mError occurs, task status: extracting_failed, error: No pdf tag was found in the given content with the selector: #pdf\u001b[0m\n",
      "\u001b[1m[INFO]\u001b[0m | \u001b[32m2023/12/06 12:35:25\u001b[0m | \u001b[1mChoose scihub url [5]: http://sci-hub.se\u001b[0m\n",
      "\u001b[1m[INFO]\u001b[0m | \u001b[32m2023/12/06 12:35:25\u001b[0m | \u001b[1m<- Request: scihub_url=http://sci-hub.se, source=TitleSource[type=title, id=Processing, microstructure and properties of Al0.6CoNiFeTi0.4 high entropy alloy with nanoscale twins], proxies={}\u001b[0m\n",
      "\u001b[1m[INFO]\u001b[0m | \u001b[32m2023/12/06 12:35:26\u001b[0m | \u001b[1m-> Response: status_code=200, content_length=5917\u001b[0m\n",
      "\u001b[33m\u001b[1m[WARNING]\u001b[0m | \u001b[32m2023/12/06 12:35:26\u001b[0m | \u001b[33m\u001b[1mError occurs, task status: extracting_failed, error: No pdf tag was found in the given content with the selector: #pdf\u001b[0m\n",
      "\u001b[1m[INFO]\u001b[0m | \u001b[32m2023/12/06 12:35:26\u001b[0m | \u001b[1mChoose scihub url [6]: http://sci-hub.mobi\u001b[0m\n",
      "\u001b[1m[INFO]\u001b[0m | \u001b[32m2023/12/06 12:35:26\u001b[0m | \u001b[1m<- Request: scihub_url=http://sci-hub.mobi, source=TitleSource[type=title, id=Processing, microstructure and properties of Al0.6CoNiFeTi0.4 high entropy alloy with nanoscale twins], proxies={}\u001b[0m\n",
      "\u001b[1m[INFO]\u001b[0m | \u001b[32m2023/12/06 12:35:28\u001b[0m | \u001b[1m-> Response: status_code=200, content_length=39030\u001b[0m\n",
      "\u001b[33m\u001b[1m[WARNING]\u001b[0m | \u001b[32m2023/12/06 12:35:28\u001b[0m | \u001b[33m\u001b[1mError occurs, task status: extracting_failed, error: No pdf tag was found in the given content with the selector: #pdf\u001b[0m\n",
      "\u001b[1m[INFO]\u001b[0m | \u001b[32m2023/12/06 12:35:28\u001b[0m | \u001b[1mChoose scihub url [7]: http://sci-hub.st\u001b[0m\n",
      "\u001b[1m[INFO]\u001b[0m | \u001b[32m2023/12/06 12:35:28\u001b[0m | \u001b[1m<- Request: scihub_url=http://sci-hub.st, source=TitleSource[type=title, id=Processing, microstructure and properties of Al0.6CoNiFeTi0.4 high entropy alloy with nanoscale twins], proxies={}\u001b[0m\n",
      "\u001b[1m[INFO]\u001b[0m | \u001b[32m2023/12/06 12:35:29\u001b[0m | \u001b[1m-> Response: status_code=403, content_length=747\u001b[0m\n",
      "\u001b[33m\u001b[1m[WARNING]\u001b[0m | \u001b[32m2023/12/06 12:35:29\u001b[0m | \u001b[33m\u001b[1mError occurs, task status: crawling_failed, error: Error occurs when crawling source: TitleSource[type=title, id=Processing, microstructure and properties of Al0.6CoNiFeTi0.4 high entropy alloy with nanoscale twins]\u001b[0m\n",
      "\u001b[31m\u001b[1m[ERROR]\u001b[0m | \u001b[32m2023/12/06 12:35:29\u001b[0m | \u001b[31m\u001b[1mFailed to download the paper: Processing, microstructure and properties of Al0.6CoNiFeTi0.4 high entropy alloy with nanoscale twins. Please try again.\u001b[0m\n",
      "\u001b[1m[INFO]\u001b[0m | \u001b[32m2023/12/06 12:35:29\u001b[0m | \u001b[1mChoose scihub url [0]: https://sci-hub.ru\u001b[0m\n",
      "\u001b[1m[INFO]\u001b[0m | \u001b[32m2023/12/06 12:35:29\u001b[0m | \u001b[1m<- Request: scihub_url=https://sci-hub.ru, source=TitleSource[type=title, id=Anomalous solidification microstructures in Co-free AlxCrCuFeNi2 high-entropy alloys], proxies={}\u001b[0m\n"
     ]
    },
    {
     "name": "stdout",
     "output_type": "stream",
     "text": [
      "72\n"
     ]
    },
    {
     "name": "stderr",
     "output_type": "stream",
     "text": [
      "\u001b[1m[INFO]\u001b[0m | \u001b[32m2023/12/06 12:35:30\u001b[0m | \u001b[1m-> Response: status_code=200, content_length=7601\u001b[0m\n",
      "\u001b[1m[INFO]\u001b[0m | \u001b[32m2023/12/06 12:35:30\u001b[0m | \u001b[1m* Extracted information: {'url': 'https://zero.sci-hub.ru/2143/2ad394b523b69ecb284536591420e06c/guo2013.pdf', 'title': 'Anomalous solidification microstructures in Co-free AlxCrCuFeNi2 high-entropy alloys. Journal of Alloys and Compounds, 557, 77–81'}\u001b[0m\n"
     ]
    },
    {
     "name": "stdout",
     "output_type": "stream",
     "text": [
      "100% [==================================================] 1191070/1191070\n"
     ]
    },
    {
     "name": "stderr",
     "output_type": "stream",
     "text": [
      "\u001b[1m[INFO]\u001b[0m | \u001b[32m2023/12/06 12:35:32\u001b[0m | \u001b[1m↓ Successfully download the url to: references/reference_72.pdf\u001b[0m\n"
     ]
    },
    {
     "name": "stdout",
     "output_type": "stream",
     "text": [
      "73\n"
     ]
    },
    {
     "name": "stderr",
     "output_type": "stream",
     "text": [
      "\u001b[1m[INFO]\u001b[0m | \u001b[32m2023/12/06 12:35:32\u001b[0m | \u001b[1mChoose scihub url [0]: https://sci-hub.ru\u001b[0m\n",
      "\u001b[1m[INFO]\u001b[0m | \u001b[32m2023/12/06 12:35:32\u001b[0m | \u001b[1m<- Request: scihub_url=https://sci-hub.ru, source=TitleSource[type=title, id=Effect of valence electron concentration on stability of fcc or bcc phase in high entropy alloys], proxies={}\u001b[0m\n",
      "\u001b[1m[INFO]\u001b[0m | \u001b[32m2023/12/06 12:35:33\u001b[0m | \u001b[1m-> Response: status_code=200, content_length=7631\u001b[0m\n",
      "\u001b[1m[INFO]\u001b[0m | \u001b[32m2023/12/06 12:35:33\u001b[0m | \u001b[1m* Extracted information: {'url': 'https://dacemirror.sci-hub.ru/journal-article/35c250d2f5fe6c5476f857fbd93b7581/guo2011.pdf', 'title': 'Effect of valence electron concentration on stability of fcc or bcc phase in high entropy alloys. Journal of Applied Physics, 109(10), 103505'}\u001b[0m\n"
     ]
    },
    {
     "name": "stdout",
     "output_type": "stream",
     "text": [
      "100% [==================================================] 1260678/1260678\n"
     ]
    },
    {
     "name": "stderr",
     "output_type": "stream",
     "text": [
      "\u001b[1m[INFO]\u001b[0m | \u001b[32m2023/12/06 12:35:35\u001b[0m | \u001b[1m↓ Successfully download the url to: references/reference_73.pdf\u001b[0m\n",
      "\u001b[1m[INFO]\u001b[0m | \u001b[32m2023/12/06 12:35:35\u001b[0m | \u001b[1mChoose scihub url [0]: https://sci-hub.ru\u001b[0m\n",
      "\u001b[1m[INFO]\u001b[0m | \u001b[32m2023/12/06 12:35:35\u001b[0m | \u001b[1m<- Request: scihub_url=https://sci-hub.ru, source=TitleSource[type=title, id=Microstructure and properties of AlCrFeCuNix (0.6<x<1.4) high-entropy alloys], proxies={}\u001b[0m\n"
     ]
    },
    {
     "name": "stdout",
     "output_type": "stream",
     "text": [
      "74\n"
     ]
    },
    {
     "name": "stderr",
     "output_type": "stream",
     "text": [
      "\u001b[1m[INFO]\u001b[0m | \u001b[32m2023/12/06 12:35:35\u001b[0m | \u001b[1m-> Response: status_code=200, content_length=5898\u001b[0m\n",
      "\u001b[33m\u001b[1m[WARNING]\u001b[0m | \u001b[32m2023/12/06 12:35:35\u001b[0m | \u001b[33m\u001b[1mError occurs, task status: extracting_failed, error: No pdf tag was found in the given content with the selector: #pdf\u001b[0m\n",
      "\u001b[1m[INFO]\u001b[0m | \u001b[32m2023/12/06 12:35:35\u001b[0m | \u001b[1mChoose scihub url [1]: http://sci-hub.ru\u001b[0m\n",
      "\u001b[1m[INFO]\u001b[0m | \u001b[32m2023/12/06 12:35:35\u001b[0m | \u001b[1m<- Request: scihub_url=http://sci-hub.ru, source=TitleSource[type=title, id=Microstructure and properties of AlCrFeCuNix (0.6<x<1.4) high-entropy alloys], proxies={}\u001b[0m\n",
      "\u001b[1m[INFO]\u001b[0m | \u001b[32m2023/12/06 12:35:36\u001b[0m | \u001b[1m-> Response: status_code=200, content_length=5898\u001b[0m\n",
      "\u001b[33m\u001b[1m[WARNING]\u001b[0m | \u001b[32m2023/12/06 12:35:36\u001b[0m | \u001b[33m\u001b[1mError occurs, task status: extracting_failed, error: No pdf tag was found in the given content with the selector: #pdf\u001b[0m\n",
      "\u001b[1m[INFO]\u001b[0m | \u001b[32m2023/12/06 12:35:36\u001b[0m | \u001b[1mChoose scihub url [2]: https://sci-hub.st\u001b[0m\n",
      "\u001b[1m[INFO]\u001b[0m | \u001b[32m2023/12/06 12:35:36\u001b[0m | \u001b[1m<- Request: scihub_url=https://sci-hub.st, source=TitleSource[type=title, id=Microstructure and properties of AlCrFeCuNix (0.6<x<1.4) high-entropy alloys], proxies={}\u001b[0m\n",
      "\u001b[1m[INFO]\u001b[0m | \u001b[32m2023/12/06 12:35:37\u001b[0m | \u001b[1m-> Response: status_code=403, content_length=747\u001b[0m\n",
      "\u001b[33m\u001b[1m[WARNING]\u001b[0m | \u001b[32m2023/12/06 12:35:37\u001b[0m | \u001b[33m\u001b[1mError occurs, task status: crawling_failed, error: Error occurs when crawling source: TitleSource[type=title, id=Microstructure and properties of AlCrFeCuNix (0.6<x<1.4) high-entropy alloys]\u001b[0m\n",
      "\u001b[1m[INFO]\u001b[0m | \u001b[32m2023/12/06 12:35:37\u001b[0m | \u001b[1mChoose scihub url [3]: https://sci-hub.mobi\u001b[0m\n",
      "\u001b[1m[INFO]\u001b[0m | \u001b[32m2023/12/06 12:35:37\u001b[0m | \u001b[1m<- Request: scihub_url=https://sci-hub.mobi, source=TitleSource[type=title, id=Microstructure and properties of AlCrFeCuNix (0.6<x<1.4) high-entropy alloys], proxies={}\u001b[0m\n",
      "\u001b[1m[INFO]\u001b[0m | \u001b[32m2023/12/06 12:35:38\u001b[0m | \u001b[1m-> Response: status_code=200, content_length=5898\u001b[0m\n",
      "\u001b[33m\u001b[1m[WARNING]\u001b[0m | \u001b[32m2023/12/06 12:35:38\u001b[0m | \u001b[33m\u001b[1mError occurs, task status: extracting_failed, error: No pdf tag was found in the given content with the selector: #pdf\u001b[0m\n",
      "\u001b[1m[INFO]\u001b[0m | \u001b[32m2023/12/06 12:35:38\u001b[0m | \u001b[1mChoose scihub url [4]: https://sci-hub.se\u001b[0m\n",
      "\u001b[1m[INFO]\u001b[0m | \u001b[32m2023/12/06 12:35:38\u001b[0m | \u001b[1m<- Request: scihub_url=https://sci-hub.se, source=TitleSource[type=title, id=Microstructure and properties of AlCrFeCuNix (0.6<x<1.4) high-entropy alloys], proxies={}\u001b[0m\n",
      "\u001b[1m[INFO]\u001b[0m | \u001b[32m2023/12/06 12:35:39\u001b[0m | \u001b[1m-> Response: status_code=200, content_length=5898\u001b[0m\n",
      "\u001b[33m\u001b[1m[WARNING]\u001b[0m | \u001b[32m2023/12/06 12:35:39\u001b[0m | \u001b[33m\u001b[1mError occurs, task status: extracting_failed, error: No pdf tag was found in the given content with the selector: #pdf\u001b[0m\n",
      "\u001b[1m[INFO]\u001b[0m | \u001b[32m2023/12/06 12:35:39\u001b[0m | \u001b[1mChoose scihub url [5]: http://sci-hub.se\u001b[0m\n",
      "\u001b[1m[INFO]\u001b[0m | \u001b[32m2023/12/06 12:35:39\u001b[0m | \u001b[1m<- Request: scihub_url=http://sci-hub.se, source=TitleSource[type=title, id=Microstructure and properties of AlCrFeCuNix (0.6<x<1.4) high-entropy alloys], proxies={}\u001b[0m\n",
      "\u001b[1m[INFO]\u001b[0m | \u001b[32m2023/12/06 12:35:40\u001b[0m | \u001b[1m-> Response: status_code=200, content_length=5898\u001b[0m\n",
      "\u001b[33m\u001b[1m[WARNING]\u001b[0m | \u001b[32m2023/12/06 12:35:40\u001b[0m | \u001b[33m\u001b[1mError occurs, task status: extracting_failed, error: No pdf tag was found in the given content with the selector: #pdf\u001b[0m\n",
      "\u001b[1m[INFO]\u001b[0m | \u001b[32m2023/12/06 12:35:40\u001b[0m | \u001b[1mChoose scihub url [6]: http://sci-hub.mobi\u001b[0m\n",
      "\u001b[1m[INFO]\u001b[0m | \u001b[32m2023/12/06 12:35:40\u001b[0m | \u001b[1m<- Request: scihub_url=http://sci-hub.mobi, source=TitleSource[type=title, id=Microstructure and properties of AlCrFeCuNix (0.6<x<1.4) high-entropy alloys], proxies={}\u001b[0m\n",
      "\u001b[1m[INFO]\u001b[0m | \u001b[32m2023/12/06 12:35:42\u001b[0m | \u001b[1m-> Response: status_code=200, content_length=39030\u001b[0m\n",
      "\u001b[33m\u001b[1m[WARNING]\u001b[0m | \u001b[32m2023/12/06 12:35:42\u001b[0m | \u001b[33m\u001b[1mError occurs, task status: extracting_failed, error: No pdf tag was found in the given content with the selector: #pdf\u001b[0m\n",
      "\u001b[1m[INFO]\u001b[0m | \u001b[32m2023/12/06 12:35:42\u001b[0m | \u001b[1mChoose scihub url [7]: http://sci-hub.st\u001b[0m\n",
      "\u001b[1m[INFO]\u001b[0m | \u001b[32m2023/12/06 12:35:42\u001b[0m | \u001b[1m<- Request: scihub_url=http://sci-hub.st, source=TitleSource[type=title, id=Microstructure and properties of AlCrFeCuNix (0.6<x<1.4) high-entropy alloys], proxies={}\u001b[0m\n",
      "\u001b[1m[INFO]\u001b[0m | \u001b[32m2023/12/06 12:35:43\u001b[0m | \u001b[1m-> Response: status_code=403, content_length=747\u001b[0m\n",
      "\u001b[33m\u001b[1m[WARNING]\u001b[0m | \u001b[32m2023/12/06 12:35:43\u001b[0m | \u001b[33m\u001b[1mError occurs, task status: crawling_failed, error: Error occurs when crawling source: TitleSource[type=title, id=Microstructure and properties of AlCrFeCuNix (0.6<x<1.4) high-entropy alloys]\u001b[0m\n",
      "\u001b[31m\u001b[1m[ERROR]\u001b[0m | \u001b[32m2023/12/06 12:35:43\u001b[0m | \u001b[31m\u001b[1mFailed to download the paper: Microstructure and properties of AlCrFeCuNix (0.6<x<1.4) high-entropy alloys. Please try again.\u001b[0m\n",
      "\u001b[1m[INFO]\u001b[0m | \u001b[32m2023/12/06 12:35:43\u001b[0m | \u001b[1mChoose scihub url [0]: https://sci-hub.ru\u001b[0m\n",
      "\u001b[1m[INFO]\u001b[0m | \u001b[32m2023/12/06 12:35:43\u001b[0m | \u001b[1m<- Request: scihub_url=https://sci-hub.ru, source=TitleSource[type=title, id=Microstructure and mechanical properties of AlTiFeNiCuCrx high-entropy alloy with multi-principal elements], proxies={}\u001b[0m\n"
     ]
    },
    {
     "name": "stdout",
     "output_type": "stream",
     "text": [
      "75\n"
     ]
    },
    {
     "name": "stderr",
     "output_type": "stream",
     "text": [
      "\u001b[1m[INFO]\u001b[0m | \u001b[32m2023/12/06 12:35:43\u001b[0m | \u001b[1m-> Response: status_code=200, content_length=5914\u001b[0m\n",
      "\u001b[33m\u001b[1m[WARNING]\u001b[0m | \u001b[32m2023/12/06 12:35:43\u001b[0m | \u001b[33m\u001b[1mError occurs, task status: extracting_failed, error: No pdf tag was found in the given content with the selector: #pdf\u001b[0m\n",
      "\u001b[1m[INFO]\u001b[0m | \u001b[32m2023/12/06 12:35:43\u001b[0m | \u001b[1mChoose scihub url [1]: http://sci-hub.ru\u001b[0m\n",
      "\u001b[1m[INFO]\u001b[0m | \u001b[32m2023/12/06 12:35:43\u001b[0m | \u001b[1m<- Request: scihub_url=http://sci-hub.ru, source=TitleSource[type=title, id=Microstructure and mechanical properties of AlTiFeNiCuCrx high-entropy alloy with multi-principal elements], proxies={}\u001b[0m\n",
      "\u001b[1m[INFO]\u001b[0m | \u001b[32m2023/12/06 12:35:44\u001b[0m | \u001b[1m-> Response: status_code=200, content_length=5914\u001b[0m\n",
      "\u001b[33m\u001b[1m[WARNING]\u001b[0m | \u001b[32m2023/12/06 12:35:44\u001b[0m | \u001b[33m\u001b[1mError occurs, task status: extracting_failed, error: No pdf tag was found in the given content with the selector: #pdf\u001b[0m\n",
      "\u001b[1m[INFO]\u001b[0m | \u001b[32m2023/12/06 12:35:44\u001b[0m | \u001b[1mChoose scihub url [2]: https://sci-hub.st\u001b[0m\n",
      "\u001b[1m[INFO]\u001b[0m | \u001b[32m2023/12/06 12:35:44\u001b[0m | \u001b[1m<- Request: scihub_url=https://sci-hub.st, source=TitleSource[type=title, id=Microstructure and mechanical properties of AlTiFeNiCuCrx high-entropy alloy with multi-principal elements], proxies={}\u001b[0m\n",
      "\u001b[1m[INFO]\u001b[0m | \u001b[32m2023/12/06 12:35:45\u001b[0m | \u001b[1m-> Response: status_code=403, content_length=747\u001b[0m\n",
      "\u001b[33m\u001b[1m[WARNING]\u001b[0m | \u001b[32m2023/12/06 12:35:45\u001b[0m | \u001b[33m\u001b[1mError occurs, task status: crawling_failed, error: Error occurs when crawling source: TitleSource[type=title, id=Microstructure and mechanical properties of AlTiFeNiCuCrx high-entropy alloy with multi-principal elements]\u001b[0m\n",
      "\u001b[1m[INFO]\u001b[0m | \u001b[32m2023/12/06 12:35:45\u001b[0m | \u001b[1mChoose scihub url [3]: https://sci-hub.mobi\u001b[0m\n",
      "\u001b[1m[INFO]\u001b[0m | \u001b[32m2023/12/06 12:35:45\u001b[0m | \u001b[1m<- Request: scihub_url=https://sci-hub.mobi, source=TitleSource[type=title, id=Microstructure and mechanical properties of AlTiFeNiCuCrx high-entropy alloy with multi-principal elements], proxies={}\u001b[0m\n",
      "\u001b[1m[INFO]\u001b[0m | \u001b[32m2023/12/06 12:35:46\u001b[0m | \u001b[1m-> Response: status_code=200, content_length=5914\u001b[0m\n",
      "\u001b[33m\u001b[1m[WARNING]\u001b[0m | \u001b[32m2023/12/06 12:35:46\u001b[0m | \u001b[33m\u001b[1mError occurs, task status: extracting_failed, error: No pdf tag was found in the given content with the selector: #pdf\u001b[0m\n",
      "\u001b[1m[INFO]\u001b[0m | \u001b[32m2023/12/06 12:35:46\u001b[0m | \u001b[1mChoose scihub url [4]: https://sci-hub.se\u001b[0m\n",
      "\u001b[1m[INFO]\u001b[0m | \u001b[32m2023/12/06 12:35:46\u001b[0m | \u001b[1m<- Request: scihub_url=https://sci-hub.se, source=TitleSource[type=title, id=Microstructure and mechanical properties of AlTiFeNiCuCrx high-entropy alloy with multi-principal elements], proxies={}\u001b[0m\n",
      "\u001b[1m[INFO]\u001b[0m | \u001b[32m2023/12/06 12:35:47\u001b[0m | \u001b[1m-> Response: status_code=200, content_length=5914\u001b[0m\n",
      "\u001b[33m\u001b[1m[WARNING]\u001b[0m | \u001b[32m2023/12/06 12:35:47\u001b[0m | \u001b[33m\u001b[1mError occurs, task status: extracting_failed, error: No pdf tag was found in the given content with the selector: #pdf\u001b[0m\n",
      "\u001b[1m[INFO]\u001b[0m | \u001b[32m2023/12/06 12:35:47\u001b[0m | \u001b[1mChoose scihub url [5]: http://sci-hub.se\u001b[0m\n",
      "\u001b[1m[INFO]\u001b[0m | \u001b[32m2023/12/06 12:35:47\u001b[0m | \u001b[1m<- Request: scihub_url=http://sci-hub.se, source=TitleSource[type=title, id=Microstructure and mechanical properties of AlTiFeNiCuCrx high-entropy alloy with multi-principal elements], proxies={}\u001b[0m\n",
      "\u001b[1m[INFO]\u001b[0m | \u001b[32m2023/12/06 12:35:49\u001b[0m | \u001b[1m-> Response: status_code=200, content_length=5914\u001b[0m\n",
      "\u001b[33m\u001b[1m[WARNING]\u001b[0m | \u001b[32m2023/12/06 12:35:49\u001b[0m | \u001b[33m\u001b[1mError occurs, task status: extracting_failed, error: No pdf tag was found in the given content with the selector: #pdf\u001b[0m\n",
      "\u001b[1m[INFO]\u001b[0m | \u001b[32m2023/12/06 12:35:49\u001b[0m | \u001b[1mChoose scihub url [6]: http://sci-hub.mobi\u001b[0m\n",
      "\u001b[1m[INFO]\u001b[0m | \u001b[32m2023/12/06 12:35:49\u001b[0m | \u001b[1m<- Request: scihub_url=http://sci-hub.mobi, source=TitleSource[type=title, id=Microstructure and mechanical properties of AlTiFeNiCuCrx high-entropy alloy with multi-principal elements], proxies={}\u001b[0m\n",
      "\u001b[1m[INFO]\u001b[0m | \u001b[32m2023/12/06 12:35:50\u001b[0m | \u001b[1m-> Response: status_code=200, content_length=39030\u001b[0m\n",
      "\u001b[33m\u001b[1m[WARNING]\u001b[0m | \u001b[32m2023/12/06 12:35:50\u001b[0m | \u001b[33m\u001b[1mError occurs, task status: extracting_failed, error: No pdf tag was found in the given content with the selector: #pdf\u001b[0m\n",
      "\u001b[1m[INFO]\u001b[0m | \u001b[32m2023/12/06 12:35:50\u001b[0m | \u001b[1mChoose scihub url [7]: http://sci-hub.st\u001b[0m\n",
      "\u001b[1m[INFO]\u001b[0m | \u001b[32m2023/12/06 12:35:50\u001b[0m | \u001b[1m<- Request: scihub_url=http://sci-hub.st, source=TitleSource[type=title, id=Microstructure and mechanical properties of AlTiFeNiCuCrx high-entropy alloy with multi-principal elements], proxies={}\u001b[0m\n",
      "\u001b[1m[INFO]\u001b[0m | \u001b[32m2023/12/06 12:35:51\u001b[0m | \u001b[1m-> Response: status_code=200, content_length=5914\u001b[0m\n",
      "\u001b[33m\u001b[1m[WARNING]\u001b[0m | \u001b[32m2023/12/06 12:35:51\u001b[0m | \u001b[33m\u001b[1mError occurs, task status: extracting_failed, error: No pdf tag was found in the given content with the selector: #pdf\u001b[0m\n",
      "\u001b[31m\u001b[1m[ERROR]\u001b[0m | \u001b[32m2023/12/06 12:35:51\u001b[0m | \u001b[31m\u001b[1mFailed to download the paper: Microstructure and mechanical properties of AlTiFeNiCuCrx high-entropy alloy with multi-principal elements. Please try again.\u001b[0m\n",
      "\u001b[1m[INFO]\u001b[0m | \u001b[32m2023/12/06 12:35:51\u001b[0m | \u001b[1mChoose scihub url [0]: https://sci-hub.ru\u001b[0m\n",
      "\u001b[1m[INFO]\u001b[0m | \u001b[32m2023/12/06 12:35:51\u001b[0m | \u001b[1m<- Request: scihub_url=https://sci-hub.ru, source=TitleSource[type=title, id=Microstructure and property of AlTiCrFeNiCu high-entropy alloy], proxies={}\u001b[0m\n"
     ]
    },
    {
     "name": "stdout",
     "output_type": "stream",
     "text": [
      "76\n"
     ]
    },
    {
     "name": "stderr",
     "output_type": "stream",
     "text": [
      "\u001b[1m[INFO]\u001b[0m | \u001b[32m2023/12/06 12:35:52\u001b[0m | \u001b[1m-> Response: status_code=200, content_length=7584\u001b[0m\n",
      "\u001b[1m[INFO]\u001b[0m | \u001b[32m2023/12/06 12:35:52\u001b[0m | \u001b[1m* Extracted information: {'url': 'https://zero.sci-hub.ru/1671/c00bb058c5d5f9f0958cde663b461eed/pi2011.pdf', 'title': 'Microstructure and property of AlTiCrFeNiCu high-entropy alloy. Journal of Alloys and Compounds, 509(18), 5641–5645'}\u001b[0m\n"
     ]
    },
    {
     "name": "stdout",
     "output_type": "stream",
     "text": [
      "100% [==================================================] 1282944/1282944\n"
     ]
    },
    {
     "name": "stderr",
     "output_type": "stream",
     "text": [
      "\u001b[1m[INFO]\u001b[0m | \u001b[32m2023/12/06 12:35:54\u001b[0m | \u001b[1m↓ Successfully download the url to: references/reference_76.pdf\u001b[0m\n"
     ]
    },
    {
     "name": "stdout",
     "output_type": "stream",
     "text": [
      "77\n"
     ]
    },
    {
     "name": "stderr",
     "output_type": "stream",
     "text": [
      "\u001b[1m[INFO]\u001b[0m | \u001b[32m2023/12/06 12:35:54\u001b[0m | \u001b[1mChoose scihub url [0]: https://sci-hub.ru\u001b[0m\n",
      "\u001b[1m[INFO]\u001b[0m | \u001b[32m2023/12/06 12:35:54\u001b[0m | \u001b[1m<- Request: scihub_url=https://sci-hub.ru, source=TitleSource[type=title, id=Effect of the aluminium content of AlxCrFe1.5MnNi0.5 high-entropy alloys on the corrosion behaviour in aqueous environments], proxies={}\u001b[0m\n",
      "\u001b[1m[INFO]\u001b[0m | \u001b[32m2023/12/06 12:35:55\u001b[0m | \u001b[1m-> Response: status_code=200, content_length=5939\u001b[0m\n",
      "\u001b[33m\u001b[1m[WARNING]\u001b[0m | \u001b[32m2023/12/06 12:35:55\u001b[0m | \u001b[33m\u001b[1mError occurs, task status: extracting_failed, error: No pdf tag was found in the given content with the selector: #pdf\u001b[0m\n",
      "\u001b[1m[INFO]\u001b[0m | \u001b[32m2023/12/06 12:35:55\u001b[0m | \u001b[1mChoose scihub url [1]: http://sci-hub.ru\u001b[0m\n",
      "\u001b[1m[INFO]\u001b[0m | \u001b[32m2023/12/06 12:35:55\u001b[0m | \u001b[1m<- Request: scihub_url=http://sci-hub.ru, source=TitleSource[type=title, id=Effect of the aluminium content of AlxCrFe1.5MnNi0.5 high-entropy alloys on the corrosion behaviour in aqueous environments], proxies={}\u001b[0m\n",
      "\u001b[1m[INFO]\u001b[0m | \u001b[32m2023/12/06 12:35:55\u001b[0m | \u001b[1m-> Response: status_code=200, content_length=5939\u001b[0m\n",
      "\u001b[33m\u001b[1m[WARNING]\u001b[0m | \u001b[32m2023/12/06 12:35:55\u001b[0m | \u001b[33m\u001b[1mError occurs, task status: extracting_failed, error: No pdf tag was found in the given content with the selector: #pdf\u001b[0m\n",
      "\u001b[1m[INFO]\u001b[0m | \u001b[32m2023/12/06 12:35:55\u001b[0m | \u001b[1mChoose scihub url [2]: https://sci-hub.st\u001b[0m\n",
      "\u001b[1m[INFO]\u001b[0m | \u001b[32m2023/12/06 12:35:55\u001b[0m | \u001b[1m<- Request: scihub_url=https://sci-hub.st, source=TitleSource[type=title, id=Effect of the aluminium content of AlxCrFe1.5MnNi0.5 high-entropy alloys on the corrosion behaviour in aqueous environments], proxies={}\u001b[0m\n",
      "\u001b[1m[INFO]\u001b[0m | \u001b[32m2023/12/06 12:35:56\u001b[0m | \u001b[1m-> Response: status_code=403, content_length=747\u001b[0m\n",
      "\u001b[33m\u001b[1m[WARNING]\u001b[0m | \u001b[32m2023/12/06 12:35:56\u001b[0m | \u001b[33m\u001b[1mError occurs, task status: crawling_failed, error: Error occurs when crawling source: TitleSource[type=title, id=Effect of the aluminium content of AlxCrFe1.5MnNi0.5 high-entropy alloys on the corrosion behaviour in aqueous environments]\u001b[0m\n",
      "\u001b[1m[INFO]\u001b[0m | \u001b[32m2023/12/06 12:35:56\u001b[0m | \u001b[1mChoose scihub url [3]: https://sci-hub.mobi\u001b[0m\n",
      "\u001b[1m[INFO]\u001b[0m | \u001b[32m2023/12/06 12:35:56\u001b[0m | \u001b[1m<- Request: scihub_url=https://sci-hub.mobi, source=TitleSource[type=title, id=Effect of the aluminium content of AlxCrFe1.5MnNi0.5 high-entropy alloys on the corrosion behaviour in aqueous environments], proxies={}\u001b[0m\n",
      "\u001b[1m[INFO]\u001b[0m | \u001b[32m2023/12/06 12:35:57\u001b[0m | \u001b[1m-> Response: status_code=200, content_length=5939\u001b[0m\n",
      "\u001b[33m\u001b[1m[WARNING]\u001b[0m | \u001b[32m2023/12/06 12:35:57\u001b[0m | \u001b[33m\u001b[1mError occurs, task status: extracting_failed, error: No pdf tag was found in the given content with the selector: #pdf\u001b[0m\n",
      "\u001b[1m[INFO]\u001b[0m | \u001b[32m2023/12/06 12:35:57\u001b[0m | \u001b[1mChoose scihub url [4]: https://sci-hub.se\u001b[0m\n",
      "\u001b[1m[INFO]\u001b[0m | \u001b[32m2023/12/06 12:35:57\u001b[0m | \u001b[1m<- Request: scihub_url=https://sci-hub.se, source=TitleSource[type=title, id=Effect of the aluminium content of AlxCrFe1.5MnNi0.5 high-entropy alloys on the corrosion behaviour in aqueous environments], proxies={}\u001b[0m\n",
      "\u001b[1m[INFO]\u001b[0m | \u001b[32m2023/12/06 12:35:58\u001b[0m | \u001b[1m-> Response: status_code=200, content_length=5939\u001b[0m\n",
      "\u001b[33m\u001b[1m[WARNING]\u001b[0m | \u001b[32m2023/12/06 12:35:58\u001b[0m | \u001b[33m\u001b[1mError occurs, task status: extracting_failed, error: No pdf tag was found in the given content with the selector: #pdf\u001b[0m\n",
      "\u001b[1m[INFO]\u001b[0m | \u001b[32m2023/12/06 12:35:58\u001b[0m | \u001b[1mChoose scihub url [5]: http://sci-hub.se\u001b[0m\n",
      "\u001b[1m[INFO]\u001b[0m | \u001b[32m2023/12/06 12:35:58\u001b[0m | \u001b[1m<- Request: scihub_url=http://sci-hub.se, source=TitleSource[type=title, id=Effect of the aluminium content of AlxCrFe1.5MnNi0.5 high-entropy alloys on the corrosion behaviour in aqueous environments], proxies={}\u001b[0m\n",
      "\u001b[1m[INFO]\u001b[0m | \u001b[32m2023/12/06 12:35:59\u001b[0m | \u001b[1m-> Response: status_code=200, content_length=5939\u001b[0m\n",
      "\u001b[33m\u001b[1m[WARNING]\u001b[0m | \u001b[32m2023/12/06 12:35:59\u001b[0m | \u001b[33m\u001b[1mError occurs, task status: extracting_failed, error: No pdf tag was found in the given content with the selector: #pdf\u001b[0m\n",
      "\u001b[1m[INFO]\u001b[0m | \u001b[32m2023/12/06 12:35:59\u001b[0m | \u001b[1mChoose scihub url [6]: http://sci-hub.mobi\u001b[0m\n",
      "\u001b[1m[INFO]\u001b[0m | \u001b[32m2023/12/06 12:35:59\u001b[0m | \u001b[1m<- Request: scihub_url=http://sci-hub.mobi, source=TitleSource[type=title, id=Effect of the aluminium content of AlxCrFe1.5MnNi0.5 high-entropy alloys on the corrosion behaviour in aqueous environments], proxies={}\u001b[0m\n",
      "\u001b[1m[INFO]\u001b[0m | \u001b[32m2023/12/06 12:36:01\u001b[0m | \u001b[1m-> Response: status_code=200, content_length=39030\u001b[0m\n",
      "\u001b[33m\u001b[1m[WARNING]\u001b[0m | \u001b[32m2023/12/06 12:36:01\u001b[0m | \u001b[33m\u001b[1mError occurs, task status: extracting_failed, error: No pdf tag was found in the given content with the selector: #pdf\u001b[0m\n",
      "\u001b[1m[INFO]\u001b[0m | \u001b[32m2023/12/06 12:36:01\u001b[0m | \u001b[1mChoose scihub url [7]: http://sci-hub.st\u001b[0m\n",
      "\u001b[1m[INFO]\u001b[0m | \u001b[32m2023/12/06 12:36:01\u001b[0m | \u001b[1m<- Request: scihub_url=http://sci-hub.st, source=TitleSource[type=title, id=Effect of the aluminium content of AlxCrFe1.5MnNi0.5 high-entropy alloys on the corrosion behaviour in aqueous environments], proxies={}\u001b[0m\n",
      "\u001b[1m[INFO]\u001b[0m | \u001b[32m2023/12/06 12:36:02\u001b[0m | \u001b[1m-> Response: status_code=403, content_length=747\u001b[0m\n",
      "\u001b[33m\u001b[1m[WARNING]\u001b[0m | \u001b[32m2023/12/06 12:36:02\u001b[0m | \u001b[33m\u001b[1mError occurs, task status: crawling_failed, error: Error occurs when crawling source: TitleSource[type=title, id=Effect of the aluminium content of AlxCrFe1.5MnNi0.5 high-entropy alloys on the corrosion behaviour in aqueous environments]\u001b[0m\n",
      "\u001b[31m\u001b[1m[ERROR]\u001b[0m | \u001b[32m2023/12/06 12:36:02\u001b[0m | \u001b[31m\u001b[1mFailed to download the paper: Effect of the aluminium content of AlxCrFe1.5MnNi0.5 high-entropy alloys on the corrosion behaviour in aqueous environments. Please try again.\u001b[0m\n",
      "\u001b[1m[INFO]\u001b[0m | \u001b[32m2023/12/06 12:36:02\u001b[0m | \u001b[1mChoose scihub url [0]: https://sci-hub.ru\u001b[0m\n",
      "\u001b[1m[INFO]\u001b[0m | \u001b[32m2023/12/06 12:36:02\u001b[0m | \u001b[1m<- Request: scihub_url=https://sci-hub.ru, source=TitleSource[type=title, id=Microstructure and properties of age-hardenable AlxCrFe1.5MnNi0.5 alloys], proxies={}\u001b[0m\n"
     ]
    },
    {
     "name": "stdout",
     "output_type": "stream",
     "text": [
      "78\n"
     ]
    },
    {
     "name": "stderr",
     "output_type": "stream",
     "text": [
      "\u001b[1m[INFO]\u001b[0m | \u001b[32m2023/12/06 12:36:04\u001b[0m | \u001b[1m-> Response: status_code=200, content_length=5888\u001b[0m\n",
      "\u001b[33m\u001b[1m[WARNING]\u001b[0m | \u001b[32m2023/12/06 12:36:04\u001b[0m | \u001b[33m\u001b[1mError occurs, task status: extracting_failed, error: No pdf tag was found in the given content with the selector: #pdf\u001b[0m\n",
      "\u001b[1m[INFO]\u001b[0m | \u001b[32m2023/12/06 12:36:04\u001b[0m | \u001b[1mChoose scihub url [1]: http://sci-hub.ru\u001b[0m\n",
      "\u001b[1m[INFO]\u001b[0m | \u001b[32m2023/12/06 12:36:04\u001b[0m | \u001b[1m<- Request: scihub_url=http://sci-hub.ru, source=TitleSource[type=title, id=Microstructure and properties of age-hardenable AlxCrFe1.5MnNi0.5 alloys], proxies={}\u001b[0m\n",
      "\u001b[1m[INFO]\u001b[0m | \u001b[32m2023/12/06 12:36:04\u001b[0m | \u001b[1m-> Response: status_code=200, content_length=5888\u001b[0m\n",
      "\u001b[33m\u001b[1m[WARNING]\u001b[0m | \u001b[32m2023/12/06 12:36:04\u001b[0m | \u001b[33m\u001b[1mError occurs, task status: extracting_failed, error: No pdf tag was found in the given content with the selector: #pdf\u001b[0m\n",
      "\u001b[1m[INFO]\u001b[0m | \u001b[32m2023/12/06 12:36:04\u001b[0m | \u001b[1mChoose scihub url [2]: https://sci-hub.st\u001b[0m\n",
      "\u001b[1m[INFO]\u001b[0m | \u001b[32m2023/12/06 12:36:04\u001b[0m | \u001b[1m<- Request: scihub_url=https://sci-hub.st, source=TitleSource[type=title, id=Microstructure and properties of age-hardenable AlxCrFe1.5MnNi0.5 alloys], proxies={}\u001b[0m\n",
      "\u001b[1m[INFO]\u001b[0m | \u001b[32m2023/12/06 12:36:05\u001b[0m | \u001b[1m-> Response: status_code=403, content_length=747\u001b[0m\n",
      "\u001b[33m\u001b[1m[WARNING]\u001b[0m | \u001b[32m2023/12/06 12:36:05\u001b[0m | \u001b[33m\u001b[1mError occurs, task status: crawling_failed, error: Error occurs when crawling source: TitleSource[type=title, id=Microstructure and properties of age-hardenable AlxCrFe1.5MnNi0.5 alloys]\u001b[0m\n",
      "\u001b[1m[INFO]\u001b[0m | \u001b[32m2023/12/06 12:36:05\u001b[0m | \u001b[1mChoose scihub url [3]: https://sci-hub.mobi\u001b[0m\n",
      "\u001b[1m[INFO]\u001b[0m | \u001b[32m2023/12/06 12:36:05\u001b[0m | \u001b[1m<- Request: scihub_url=https://sci-hub.mobi, source=TitleSource[type=title, id=Microstructure and properties of age-hardenable AlxCrFe1.5MnNi0.5 alloys], proxies={}\u001b[0m\n",
      "\u001b[1m[INFO]\u001b[0m | \u001b[32m2023/12/06 12:36:06\u001b[0m | \u001b[1m-> Response: status_code=200, content_length=5888\u001b[0m\n",
      "\u001b[33m\u001b[1m[WARNING]\u001b[0m | \u001b[32m2023/12/06 12:36:06\u001b[0m | \u001b[33m\u001b[1mError occurs, task status: extracting_failed, error: No pdf tag was found in the given content with the selector: #pdf\u001b[0m\n",
      "\u001b[1m[INFO]\u001b[0m | \u001b[32m2023/12/06 12:36:06\u001b[0m | \u001b[1mChoose scihub url [4]: https://sci-hub.se\u001b[0m\n",
      "\u001b[1m[INFO]\u001b[0m | \u001b[32m2023/12/06 12:36:06\u001b[0m | \u001b[1m<- Request: scihub_url=https://sci-hub.se, source=TitleSource[type=title, id=Microstructure and properties of age-hardenable AlxCrFe1.5MnNi0.5 alloys], proxies={}\u001b[0m\n",
      "\u001b[1m[INFO]\u001b[0m | \u001b[32m2023/12/06 12:36:07\u001b[0m | \u001b[1m-> Response: status_code=200, content_length=5888\u001b[0m\n",
      "\u001b[33m\u001b[1m[WARNING]\u001b[0m | \u001b[32m2023/12/06 12:36:07\u001b[0m | \u001b[33m\u001b[1mError occurs, task status: extracting_failed, error: No pdf tag was found in the given content with the selector: #pdf\u001b[0m\n",
      "\u001b[1m[INFO]\u001b[0m | \u001b[32m2023/12/06 12:36:07\u001b[0m | \u001b[1mChoose scihub url [5]: http://sci-hub.se\u001b[0m\n",
      "\u001b[1m[INFO]\u001b[0m | \u001b[32m2023/12/06 12:36:07\u001b[0m | \u001b[1m<- Request: scihub_url=http://sci-hub.se, source=TitleSource[type=title, id=Microstructure and properties of age-hardenable AlxCrFe1.5MnNi0.5 alloys], proxies={}\u001b[0m\n",
      "\u001b[1m[INFO]\u001b[0m | \u001b[32m2023/12/06 12:36:09\u001b[0m | \u001b[1m-> Response: status_code=200, content_length=5888\u001b[0m\n",
      "\u001b[33m\u001b[1m[WARNING]\u001b[0m | \u001b[32m2023/12/06 12:36:09\u001b[0m | \u001b[33m\u001b[1mError occurs, task status: extracting_failed, error: No pdf tag was found in the given content with the selector: #pdf\u001b[0m\n",
      "\u001b[1m[INFO]\u001b[0m | \u001b[32m2023/12/06 12:36:09\u001b[0m | \u001b[1mChoose scihub url [6]: http://sci-hub.mobi\u001b[0m\n",
      "\u001b[1m[INFO]\u001b[0m | \u001b[32m2023/12/06 12:36:09\u001b[0m | \u001b[1m<- Request: scihub_url=http://sci-hub.mobi, source=TitleSource[type=title, id=Microstructure and properties of age-hardenable AlxCrFe1.5MnNi0.5 alloys], proxies={}\u001b[0m\n",
      "\u001b[1m[INFO]\u001b[0m | \u001b[32m2023/12/06 12:36:10\u001b[0m | \u001b[1m-> Response: status_code=200, content_length=39030\u001b[0m\n",
      "\u001b[33m\u001b[1m[WARNING]\u001b[0m | \u001b[32m2023/12/06 12:36:10\u001b[0m | \u001b[33m\u001b[1mError occurs, task status: extracting_failed, error: No pdf tag was found in the given content with the selector: #pdf\u001b[0m\n",
      "\u001b[1m[INFO]\u001b[0m | \u001b[32m2023/12/06 12:36:10\u001b[0m | \u001b[1mChoose scihub url [7]: http://sci-hub.st\u001b[0m\n",
      "\u001b[1m[INFO]\u001b[0m | \u001b[32m2023/12/06 12:36:10\u001b[0m | \u001b[1m<- Request: scihub_url=http://sci-hub.st, source=TitleSource[type=title, id=Microstructure and properties of age-hardenable AlxCrFe1.5MnNi0.5 alloys], proxies={}\u001b[0m\n",
      "\u001b[1m[INFO]\u001b[0m | \u001b[32m2023/12/06 12:36:11\u001b[0m | \u001b[1m-> Response: status_code=403, content_length=747\u001b[0m\n",
      "\u001b[33m\u001b[1m[WARNING]\u001b[0m | \u001b[32m2023/12/06 12:36:11\u001b[0m | \u001b[33m\u001b[1mError occurs, task status: crawling_failed, error: Error occurs when crawling source: TitleSource[type=title, id=Microstructure and properties of age-hardenable AlxCrFe1.5MnNi0.5 alloys]\u001b[0m\n",
      "\u001b[31m\u001b[1m[ERROR]\u001b[0m | \u001b[32m2023/12/06 12:36:11\u001b[0m | \u001b[31m\u001b[1mFailed to download the paper: Microstructure and properties of age-hardenable AlxCrFe1.5MnNi0.5 alloys. Please try again.\u001b[0m\n",
      "\u001b[1m[INFO]\u001b[0m | \u001b[32m2023/12/06 12:36:11\u001b[0m | \u001b[1mChoose scihub url [0]: https://sci-hub.ru\u001b[0m\n",
      "\u001b[1m[INFO]\u001b[0m | \u001b[32m2023/12/06 12:36:11\u001b[0m | \u001b[1m<- Request: scihub_url=https://sci-hub.ru, source=TitleSource[type=title, id=Microstructure and mechanical properties of multi-component AlCrFeNiMox high-entropy alloys], proxies={}\u001b[0m\n"
     ]
    },
    {
     "name": "stdout",
     "output_type": "stream",
     "text": [
      "79\n"
     ]
    },
    {
     "name": "stderr",
     "output_type": "stream",
     "text": [
      "\u001b[1m[INFO]\u001b[0m | \u001b[32m2023/12/06 12:36:12\u001b[0m | \u001b[1m-> Response: status_code=200, content_length=7671\u001b[0m\n",
      "\u001b[1m[INFO]\u001b[0m | \u001b[32m2023/12/06 12:36:12\u001b[0m | \u001b[1m* Extracted information: {'url': 'https://dacemirror.sci-hub.ru/journal-article/69a4e68dcffadd63e6499b81df4028f9/dong2013.pdf', 'title': 'Microstructure and mechanical properties of multi-component AlCrFeNiMox high-entropy alloys. Journal of Alloys and Compounds, 573, 96–101'}\u001b[0m\n"
     ]
    },
    {
     "name": "stdout",
     "output_type": "stream",
     "text": [
      "100% [==================================================] 747/747\n"
     ]
    },
    {
     "name": "stderr",
     "output_type": "stream",
     "text": [
      "\u001b[1m[INFO]\u001b[0m | \u001b[32m2023/12/06 12:36:12\u001b[0m | \u001b[1m↓ Successfully download the url to: references/reference_79.pdf\u001b[0m\n",
      "\u001b[1m[INFO]\u001b[0m | \u001b[32m2023/12/06 12:36:12\u001b[0m | \u001b[1mChoose scihub url [0]: https://sci-hub.ru\u001b[0m\n",
      "\u001b[1m[INFO]\u001b[0m | \u001b[32m2023/12/06 12:36:12\u001b[0m | \u001b[1m<- Request: scihub_url=https://sci-hub.ru, source=TitleSource[type=title, id=Effect of aluminium content of AlxCrFe1.5Ni0.5 multiprincipal alloys on microstructure and alloy hardness], proxies={}\u001b[0m\n"
     ]
    },
    {
     "name": "stdout",
     "output_type": "stream",
     "text": [
      "80\n"
     ]
    },
    {
     "name": "stderr",
     "output_type": "stream",
     "text": [
      "\u001b[1m[INFO]\u001b[0m | \u001b[32m2023/12/06 12:36:13\u001b[0m | \u001b[1m-> Response: status_code=200, content_length=5921\u001b[0m\n",
      "\u001b[33m\u001b[1m[WARNING]\u001b[0m | \u001b[32m2023/12/06 12:36:13\u001b[0m | \u001b[33m\u001b[1mError occurs, task status: extracting_failed, error: No pdf tag was found in the given content with the selector: #pdf\u001b[0m\n",
      "\u001b[1m[INFO]\u001b[0m | \u001b[32m2023/12/06 12:36:13\u001b[0m | \u001b[1mChoose scihub url [1]: http://sci-hub.ru\u001b[0m\n",
      "\u001b[1m[INFO]\u001b[0m | \u001b[32m2023/12/06 12:36:13\u001b[0m | \u001b[1m<- Request: scihub_url=http://sci-hub.ru, source=TitleSource[type=title, id=Effect of aluminium content of AlxCrFe1.5Ni0.5 multiprincipal alloys on microstructure and alloy hardness], proxies={}\u001b[0m\n",
      "\u001b[1m[INFO]\u001b[0m | \u001b[32m2023/12/06 12:36:15\u001b[0m | \u001b[1m-> Response: status_code=200, content_length=5921\u001b[0m\n",
      "\u001b[33m\u001b[1m[WARNING]\u001b[0m | \u001b[32m2023/12/06 12:36:15\u001b[0m | \u001b[33m\u001b[1mError occurs, task status: extracting_failed, error: No pdf tag was found in the given content with the selector: #pdf\u001b[0m\n",
      "\u001b[1m[INFO]\u001b[0m | \u001b[32m2023/12/06 12:36:15\u001b[0m | \u001b[1mChoose scihub url [2]: https://sci-hub.st\u001b[0m\n",
      "\u001b[1m[INFO]\u001b[0m | \u001b[32m2023/12/06 12:36:15\u001b[0m | \u001b[1m<- Request: scihub_url=https://sci-hub.st, source=TitleSource[type=title, id=Effect of aluminium content of AlxCrFe1.5Ni0.5 multiprincipal alloys on microstructure and alloy hardness], proxies={}\u001b[0m\n",
      "\u001b[1m[INFO]\u001b[0m | \u001b[32m2023/12/06 12:36:15\u001b[0m | \u001b[1m-> Response: status_code=403, content_length=747\u001b[0m\n",
      "\u001b[33m\u001b[1m[WARNING]\u001b[0m | \u001b[32m2023/12/06 12:36:15\u001b[0m | \u001b[33m\u001b[1mError occurs, task status: crawling_failed, error: Error occurs when crawling source: TitleSource[type=title, id=Effect of aluminium content of AlxCrFe1.5Ni0.5 multiprincipal alloys on microstructure and alloy hardness]\u001b[0m\n",
      "\u001b[1m[INFO]\u001b[0m | \u001b[32m2023/12/06 12:36:15\u001b[0m | \u001b[1mChoose scihub url [3]: https://sci-hub.mobi\u001b[0m\n",
      "\u001b[1m[INFO]\u001b[0m | \u001b[32m2023/12/06 12:36:15\u001b[0m | \u001b[1m<- Request: scihub_url=https://sci-hub.mobi, source=TitleSource[type=title, id=Effect of aluminium content of AlxCrFe1.5Ni0.5 multiprincipal alloys on microstructure and alloy hardness], proxies={}\u001b[0m\n",
      "\u001b[1m[INFO]\u001b[0m | \u001b[32m2023/12/06 12:36:17\u001b[0m | \u001b[1m-> Response: status_code=200, content_length=5921\u001b[0m\n",
      "\u001b[33m\u001b[1m[WARNING]\u001b[0m | \u001b[32m2023/12/06 12:36:17\u001b[0m | \u001b[33m\u001b[1mError occurs, task status: extracting_failed, error: No pdf tag was found in the given content with the selector: #pdf\u001b[0m\n",
      "\u001b[1m[INFO]\u001b[0m | \u001b[32m2023/12/06 12:36:17\u001b[0m | \u001b[1mChoose scihub url [4]: https://sci-hub.se\u001b[0m\n",
      "\u001b[1m[INFO]\u001b[0m | \u001b[32m2023/12/06 12:36:17\u001b[0m | \u001b[1m<- Request: scihub_url=https://sci-hub.se, source=TitleSource[type=title, id=Effect of aluminium content of AlxCrFe1.5Ni0.5 multiprincipal alloys on microstructure and alloy hardness], proxies={}\u001b[0m\n",
      "\u001b[1m[INFO]\u001b[0m | \u001b[32m2023/12/06 12:36:18\u001b[0m | \u001b[1m-> Response: status_code=200, content_length=5921\u001b[0m\n",
      "\u001b[33m\u001b[1m[WARNING]\u001b[0m | \u001b[32m2023/12/06 12:36:18\u001b[0m | \u001b[33m\u001b[1mError occurs, task status: extracting_failed, error: No pdf tag was found in the given content with the selector: #pdf\u001b[0m\n",
      "\u001b[1m[INFO]\u001b[0m | \u001b[32m2023/12/06 12:36:18\u001b[0m | \u001b[1mChoose scihub url [5]: http://sci-hub.se\u001b[0m\n",
      "\u001b[1m[INFO]\u001b[0m | \u001b[32m2023/12/06 12:36:18\u001b[0m | \u001b[1m<- Request: scihub_url=http://sci-hub.se, source=TitleSource[type=title, id=Effect of aluminium content of AlxCrFe1.5Ni0.5 multiprincipal alloys on microstructure and alloy hardness], proxies={}\u001b[0m\n",
      "\u001b[1m[INFO]\u001b[0m | \u001b[32m2023/12/06 12:36:19\u001b[0m | \u001b[1m-> Response: status_code=200, content_length=5921\u001b[0m\n",
      "\u001b[33m\u001b[1m[WARNING]\u001b[0m | \u001b[32m2023/12/06 12:36:19\u001b[0m | \u001b[33m\u001b[1mError occurs, task status: extracting_failed, error: No pdf tag was found in the given content with the selector: #pdf\u001b[0m\n",
      "\u001b[1m[INFO]\u001b[0m | \u001b[32m2023/12/06 12:36:19\u001b[0m | \u001b[1mChoose scihub url [6]: http://sci-hub.mobi\u001b[0m\n",
      "\u001b[1m[INFO]\u001b[0m | \u001b[32m2023/12/06 12:36:19\u001b[0m | \u001b[1m<- Request: scihub_url=http://sci-hub.mobi, source=TitleSource[type=title, id=Effect of aluminium content of AlxCrFe1.5Ni0.5 multiprincipal alloys on microstructure and alloy hardness], proxies={}\u001b[0m\n",
      "\u001b[1m[INFO]\u001b[0m | \u001b[32m2023/12/06 12:36:20\u001b[0m | \u001b[1m-> Response: status_code=200, content_length=39030\u001b[0m\n",
      "\u001b[33m\u001b[1m[WARNING]\u001b[0m | \u001b[32m2023/12/06 12:36:20\u001b[0m | \u001b[33m\u001b[1mError occurs, task status: extracting_failed, error: No pdf tag was found in the given content with the selector: #pdf\u001b[0m\n",
      "\u001b[1m[INFO]\u001b[0m | \u001b[32m2023/12/06 12:36:20\u001b[0m | \u001b[1mChoose scihub url [7]: http://sci-hub.st\u001b[0m\n",
      "\u001b[1m[INFO]\u001b[0m | \u001b[32m2023/12/06 12:36:20\u001b[0m | \u001b[1m<- Request: scihub_url=http://sci-hub.st, source=TitleSource[type=title, id=Effect of aluminium content of AlxCrFe1.5Ni0.5 multiprincipal alloys on microstructure and alloy hardness], proxies={}\u001b[0m\n",
      "\u001b[1m[INFO]\u001b[0m | \u001b[32m2023/12/06 12:36:21\u001b[0m | \u001b[1m-> Response: status_code=403, content_length=747\u001b[0m\n",
      "\u001b[33m\u001b[1m[WARNING]\u001b[0m | \u001b[32m2023/12/06 12:36:21\u001b[0m | \u001b[33m\u001b[1mError occurs, task status: crawling_failed, error: Error occurs when crawling source: TitleSource[type=title, id=Effect of aluminium content of AlxCrFe1.5Ni0.5 multiprincipal alloys on microstructure and alloy hardness]\u001b[0m\n",
      "\u001b[31m\u001b[1m[ERROR]\u001b[0m | \u001b[32m2023/12/06 12:36:21\u001b[0m | \u001b[31m\u001b[1mFailed to download the paper: Effect of aluminium content of AlxCrFe1.5Ni0.5 multiprincipal alloys on microstructure and alloy hardness. Please try again.\u001b[0m\n",
      "\u001b[1m[INFO]\u001b[0m | \u001b[32m2023/12/06 12:36:21\u001b[0m | \u001b[1mChoose scihub url [0]: https://sci-hub.ru\u001b[0m\n",
      "\u001b[1m[INFO]\u001b[0m | \u001b[32m2023/12/06 12:36:21\u001b[0m | \u001b[1m<- Request: scihub_url=https://sci-hub.ru, source=TitleSource[type=title, id=Relative effects of enthalpy and entropy on the phase stability of equiatomic high-entropy alloys], proxies={}\u001b[0m\n"
     ]
    },
    {
     "name": "stdout",
     "output_type": "stream",
     "text": [
      "81\n"
     ]
    },
    {
     "name": "stderr",
     "output_type": "stream",
     "text": [
      "\u001b[1m[INFO]\u001b[0m | \u001b[32m2023/12/06 12:36:22\u001b[0m | \u001b[1m-> Response: status_code=200, content_length=7658\u001b[0m\n",
      "\u001b[1m[INFO]\u001b[0m | \u001b[32m2023/12/06 12:36:22\u001b[0m | \u001b[1m* Extracted information: {'url': 'https://dacemirror.sci-hub.ru/journal-article/62f6b90fe5b128bb0128701dcf2777ae/otto2013.pdf', 'title': 'Relative effects of enthalpy and entropy on the phase stability of equiatomic high-entropy alloys. Acta Materialia, 61(7), 2628–2638'}\u001b[0m\n"
     ]
    },
    {
     "name": "stdout",
     "output_type": "stream",
     "text": [
      "100% [==================================================] 747/747\n"
     ]
    },
    {
     "name": "stderr",
     "output_type": "stream",
     "text": [
      "\u001b[1m[INFO]\u001b[0m | \u001b[32m2023/12/06 12:36:23\u001b[0m | \u001b[1m↓ Successfully download the url to: references/reference_81.pdf\u001b[0m\n",
      "\u001b[1m[INFO]\u001b[0m | \u001b[32m2023/12/06 12:36:23\u001b[0m | \u001b[1mChoose scihub url [0]: https://sci-hub.ru\u001b[0m\n",
      "\u001b[1m[INFO]\u001b[0m | \u001b[32m2023/12/06 12:36:23\u001b[0m | \u001b[1m<- Request: scihub_url=https://sci-hub.ru, source=TitleSource[type=title, id=Microstructural development in equiatomic multicomponent alloys], proxies={}\u001b[0m\n"
     ]
    },
    {
     "name": "stdout",
     "output_type": "stream",
     "text": [
      "82\n"
     ]
    },
    {
     "name": "stderr",
     "output_type": "stream",
     "text": [
      "\u001b[1m[INFO]\u001b[0m | \u001b[32m2023/12/06 12:36:24\u001b[0m | \u001b[1m-> Response: status_code=200, content_length=7609\u001b[0m\n",
      "\u001b[1m[INFO]\u001b[0m | \u001b[32m2023/12/06 12:36:24\u001b[0m | \u001b[1m* Extracted information: {'url': 'https://zero.sci-hub.ru/1893/8d90aaa857306ee6e05b3f29950a5dc0/cantor2004.pdf', 'title': 'Microstructural development in equiatomic multicomponent alloys. Materials Science and Engineering  A, 375-377, 213–218'}\u001b[0m\n"
     ]
    },
    {
     "name": "stdout",
     "output_type": "stream",
     "text": [
      "100% [==================================================] 544683/544683\n"
     ]
    },
    {
     "name": "stderr",
     "output_type": "stream",
     "text": [
      "\u001b[1m[INFO]\u001b[0m | \u001b[32m2023/12/06 12:36:24\u001b[0m | \u001b[1m↓ Successfully download the url to: references/reference_82.pdf\u001b[0m\n",
      "\u001b[1m[INFO]\u001b[0m | \u001b[32m2023/12/06 12:36:24\u001b[0m | \u001b[1mChoose scihub url [0]: https://sci-hub.ru\u001b[0m\n",
      "\u001b[1m[INFO]\u001b[0m | \u001b[32m2023/12/06 12:36:24\u001b[0m | \u001b[1m<- Request: scihub_url=https://sci-hub.ru, source=TitleSource[type=title, id=Corrosion behavior of FeCoNiCrCux high-entropy alloys in 3.5% sodium chloride solution], proxies={}\u001b[0m\n"
     ]
    },
    {
     "name": "stdout",
     "output_type": "stream",
     "text": [
      "83\n"
     ]
    },
    {
     "name": "stderr",
     "output_type": "stream",
     "text": [
      "\u001b[1m[INFO]\u001b[0m | \u001b[32m2023/12/06 12:36:25\u001b[0m | \u001b[1m-> Response: status_code=200, content_length=5902\u001b[0m\n",
      "\u001b[33m\u001b[1m[WARNING]\u001b[0m | \u001b[32m2023/12/06 12:36:25\u001b[0m | \u001b[33m\u001b[1mError occurs, task status: extracting_failed, error: No pdf tag was found in the given content with the selector: #pdf\u001b[0m\n",
      "\u001b[1m[INFO]\u001b[0m | \u001b[32m2023/12/06 12:36:25\u001b[0m | \u001b[1mChoose scihub url [1]: http://sci-hub.ru\u001b[0m\n",
      "\u001b[1m[INFO]\u001b[0m | \u001b[32m2023/12/06 12:36:25\u001b[0m | \u001b[1m<- Request: scihub_url=http://sci-hub.ru, source=TitleSource[type=title, id=Corrosion behavior of FeCoNiCrCux high-entropy alloys in 3.5% sodium chloride solution], proxies={}\u001b[0m\n",
      "\u001b[1m[INFO]\u001b[0m | \u001b[32m2023/12/06 12:36:26\u001b[0m | \u001b[1m-> Response: status_code=200, content_length=5902\u001b[0m\n",
      "\u001b[33m\u001b[1m[WARNING]\u001b[0m | \u001b[32m2023/12/06 12:36:26\u001b[0m | \u001b[33m\u001b[1mError occurs, task status: extracting_failed, error: No pdf tag was found in the given content with the selector: #pdf\u001b[0m\n",
      "\u001b[1m[INFO]\u001b[0m | \u001b[32m2023/12/06 12:36:26\u001b[0m | \u001b[1mChoose scihub url [2]: https://sci-hub.st\u001b[0m\n",
      "\u001b[1m[INFO]\u001b[0m | \u001b[32m2023/12/06 12:36:26\u001b[0m | \u001b[1m<- Request: scihub_url=https://sci-hub.st, source=TitleSource[type=title, id=Corrosion behavior of FeCoNiCrCux high-entropy alloys in 3.5% sodium chloride solution], proxies={}\u001b[0m\n",
      "\u001b[1m[INFO]\u001b[0m | \u001b[32m2023/12/06 12:36:26\u001b[0m | \u001b[1m-> Response: status_code=403, content_length=747\u001b[0m\n",
      "\u001b[33m\u001b[1m[WARNING]\u001b[0m | \u001b[32m2023/12/06 12:36:26\u001b[0m | \u001b[33m\u001b[1mError occurs, task status: crawling_failed, error: Error occurs when crawling source: TitleSource[type=title, id=Corrosion behavior of FeCoNiCrCux high-entropy alloys in 3.5% sodium chloride solution]\u001b[0m\n",
      "\u001b[1m[INFO]\u001b[0m | \u001b[32m2023/12/06 12:36:26\u001b[0m | \u001b[1mChoose scihub url [3]: https://sci-hub.mobi\u001b[0m\n",
      "\u001b[1m[INFO]\u001b[0m | \u001b[32m2023/12/06 12:36:26\u001b[0m | \u001b[1m<- Request: scihub_url=https://sci-hub.mobi, source=TitleSource[type=title, id=Corrosion behavior of FeCoNiCrCux high-entropy alloys in 3.5% sodium chloride solution], proxies={}\u001b[0m\n",
      "\u001b[1m[INFO]\u001b[0m | \u001b[32m2023/12/06 12:36:28\u001b[0m | \u001b[1m-> Response: status_code=200, content_length=5902\u001b[0m\n",
      "\u001b[33m\u001b[1m[WARNING]\u001b[0m | \u001b[32m2023/12/06 12:36:28\u001b[0m | \u001b[33m\u001b[1mError occurs, task status: extracting_failed, error: No pdf tag was found in the given content with the selector: #pdf\u001b[0m\n",
      "\u001b[1m[INFO]\u001b[0m | \u001b[32m2023/12/06 12:36:28\u001b[0m | \u001b[1mChoose scihub url [4]: https://sci-hub.se\u001b[0m\n",
      "\u001b[1m[INFO]\u001b[0m | \u001b[32m2023/12/06 12:36:28\u001b[0m | \u001b[1m<- Request: scihub_url=https://sci-hub.se, source=TitleSource[type=title, id=Corrosion behavior of FeCoNiCrCux high-entropy alloys in 3.5% sodium chloride solution], proxies={}\u001b[0m\n",
      "\u001b[1m[INFO]\u001b[0m | \u001b[32m2023/12/06 12:36:29\u001b[0m | \u001b[1m-> Response: status_code=200, content_length=5902\u001b[0m\n",
      "\u001b[33m\u001b[1m[WARNING]\u001b[0m | \u001b[32m2023/12/06 12:36:29\u001b[0m | \u001b[33m\u001b[1mError occurs, task status: extracting_failed, error: No pdf tag was found in the given content with the selector: #pdf\u001b[0m\n",
      "\u001b[1m[INFO]\u001b[0m | \u001b[32m2023/12/06 12:36:29\u001b[0m | \u001b[1mChoose scihub url [5]: http://sci-hub.se\u001b[0m\n",
      "\u001b[1m[INFO]\u001b[0m | \u001b[32m2023/12/06 12:36:29\u001b[0m | \u001b[1m<- Request: scihub_url=http://sci-hub.se, source=TitleSource[type=title, id=Corrosion behavior of FeCoNiCrCux high-entropy alloys in 3.5% sodium chloride solution], proxies={}\u001b[0m\n",
      "\u001b[1m[INFO]\u001b[0m | \u001b[32m2023/12/06 12:36:30\u001b[0m | \u001b[1m-> Response: status_code=200, content_length=5902\u001b[0m\n",
      "\u001b[33m\u001b[1m[WARNING]\u001b[0m | \u001b[32m2023/12/06 12:36:30\u001b[0m | \u001b[33m\u001b[1mError occurs, task status: extracting_failed, error: No pdf tag was found in the given content with the selector: #pdf\u001b[0m\n",
      "\u001b[1m[INFO]\u001b[0m | \u001b[32m2023/12/06 12:36:30\u001b[0m | \u001b[1mChoose scihub url [6]: http://sci-hub.mobi\u001b[0m\n",
      "\u001b[1m[INFO]\u001b[0m | \u001b[32m2023/12/06 12:36:30\u001b[0m | \u001b[1m<- Request: scihub_url=http://sci-hub.mobi, source=TitleSource[type=title, id=Corrosion behavior of FeCoNiCrCux high-entropy alloys in 3.5% sodium chloride solution], proxies={}\u001b[0m\n",
      "\u001b[1m[INFO]\u001b[0m | \u001b[32m2023/12/06 12:36:31\u001b[0m | \u001b[1m-> Response: status_code=200, content_length=39030\u001b[0m\n",
      "\u001b[33m\u001b[1m[WARNING]\u001b[0m | \u001b[32m2023/12/06 12:36:31\u001b[0m | \u001b[33m\u001b[1mError occurs, task status: extracting_failed, error: No pdf tag was found in the given content with the selector: #pdf\u001b[0m\n",
      "\u001b[1m[INFO]\u001b[0m | \u001b[32m2023/12/06 12:36:31\u001b[0m | \u001b[1mChoose scihub url [7]: http://sci-hub.st\u001b[0m\n",
      "\u001b[1m[INFO]\u001b[0m | \u001b[32m2023/12/06 12:36:31\u001b[0m | \u001b[1m<- Request: scihub_url=http://sci-hub.st, source=TitleSource[type=title, id=Corrosion behavior of FeCoNiCrCux high-entropy alloys in 3.5% sodium chloride solution], proxies={}\u001b[0m\n",
      "\u001b[1m[INFO]\u001b[0m | \u001b[32m2023/12/06 12:36:32\u001b[0m | \u001b[1m-> Response: status_code=403, content_length=747\u001b[0m\n",
      "\u001b[33m\u001b[1m[WARNING]\u001b[0m | \u001b[32m2023/12/06 12:36:32\u001b[0m | \u001b[33m\u001b[1mError occurs, task status: crawling_failed, error: Error occurs when crawling source: TitleSource[type=title, id=Corrosion behavior of FeCoNiCrCux high-entropy alloys in 3.5% sodium chloride solution]\u001b[0m\n",
      "\u001b[31m\u001b[1m[ERROR]\u001b[0m | \u001b[32m2023/12/06 12:36:32\u001b[0m | \u001b[31m\u001b[1mFailed to download the paper: Corrosion behavior of FeCoNiCrCux high-entropy alloys in 3.5% sodium chloride solution. Please try again.\u001b[0m\n",
      "\u001b[1m[INFO]\u001b[0m | \u001b[32m2023/12/06 12:36:32\u001b[0m | \u001b[1mChoose scihub url [0]: https://sci-hub.ru\u001b[0m\n",
      "\u001b[1m[INFO]\u001b[0m | \u001b[32m2023/12/06 12:36:32\u001b[0m | \u001b[1m<- Request: scihub_url=https://sci-hub.ru, source=TitleSource[type=title, id=Equilibrium phase of high-entropy FeCoNiCrCu0.5 alloy at elevated temperature], proxies={}\u001b[0m\n"
     ]
    },
    {
     "name": "stdout",
     "output_type": "stream",
     "text": [
      "84\n"
     ]
    },
    {
     "name": "stderr",
     "output_type": "stream",
     "text": [
      "\u001b[1m[INFO]\u001b[0m | \u001b[32m2023/12/06 12:36:33\u001b[0m | \u001b[1m-> Response: status_code=200, content_length=5893\u001b[0m\n",
      "\u001b[33m\u001b[1m[WARNING]\u001b[0m | \u001b[32m2023/12/06 12:36:33\u001b[0m | \u001b[33m\u001b[1mError occurs, task status: extracting_failed, error: No pdf tag was found in the given content with the selector: #pdf\u001b[0m\n",
      "\u001b[1m[INFO]\u001b[0m | \u001b[32m2023/12/06 12:36:33\u001b[0m | \u001b[1mChoose scihub url [1]: http://sci-hub.ru\u001b[0m\n",
      "\u001b[1m[INFO]\u001b[0m | \u001b[32m2023/12/06 12:36:33\u001b[0m | \u001b[1m<- Request: scihub_url=http://sci-hub.ru, source=TitleSource[type=title, id=Equilibrium phase of high-entropy FeCoNiCrCu0.5 alloy at elevated temperature], proxies={}\u001b[0m\n",
      "\u001b[1m[INFO]\u001b[0m | \u001b[32m2023/12/06 12:36:34\u001b[0m | \u001b[1m-> Response: status_code=200, content_length=5893\u001b[0m\n",
      "\u001b[33m\u001b[1m[WARNING]\u001b[0m | \u001b[32m2023/12/06 12:36:34\u001b[0m | \u001b[33m\u001b[1mError occurs, task status: extracting_failed, error: No pdf tag was found in the given content with the selector: #pdf\u001b[0m\n",
      "\u001b[1m[INFO]\u001b[0m | \u001b[32m2023/12/06 12:36:34\u001b[0m | \u001b[1mChoose scihub url [2]: https://sci-hub.st\u001b[0m\n",
      "\u001b[1m[INFO]\u001b[0m | \u001b[32m2023/12/06 12:36:34\u001b[0m | \u001b[1m<- Request: scihub_url=https://sci-hub.st, source=TitleSource[type=title, id=Equilibrium phase of high-entropy FeCoNiCrCu0.5 alloy at elevated temperature], proxies={}\u001b[0m\n",
      "\u001b[1m[INFO]\u001b[0m | \u001b[32m2023/12/06 12:36:34\u001b[0m | \u001b[1m-> Response: status_code=403, content_length=747\u001b[0m\n",
      "\u001b[33m\u001b[1m[WARNING]\u001b[0m | \u001b[32m2023/12/06 12:36:34\u001b[0m | \u001b[33m\u001b[1mError occurs, task status: crawling_failed, error: Error occurs when crawling source: TitleSource[type=title, id=Equilibrium phase of high-entropy FeCoNiCrCu0.5 alloy at elevated temperature]\u001b[0m\n",
      "\u001b[1m[INFO]\u001b[0m | \u001b[32m2023/12/06 12:36:34\u001b[0m | \u001b[1mChoose scihub url [3]: https://sci-hub.mobi\u001b[0m\n",
      "\u001b[1m[INFO]\u001b[0m | \u001b[32m2023/12/06 12:36:34\u001b[0m | \u001b[1m<- Request: scihub_url=https://sci-hub.mobi, source=TitleSource[type=title, id=Equilibrium phase of high-entropy FeCoNiCrCu0.5 alloy at elevated temperature], proxies={}\u001b[0m\n",
      "\u001b[1m[INFO]\u001b[0m | \u001b[32m2023/12/06 12:36:36\u001b[0m | \u001b[1m-> Response: status_code=200, content_length=5893\u001b[0m\n",
      "\u001b[33m\u001b[1m[WARNING]\u001b[0m | \u001b[32m2023/12/06 12:36:36\u001b[0m | \u001b[33m\u001b[1mError occurs, task status: extracting_failed, error: No pdf tag was found in the given content with the selector: #pdf\u001b[0m\n",
      "\u001b[1m[INFO]\u001b[0m | \u001b[32m2023/12/06 12:36:36\u001b[0m | \u001b[1mChoose scihub url [4]: https://sci-hub.se\u001b[0m\n",
      "\u001b[1m[INFO]\u001b[0m | \u001b[32m2023/12/06 12:36:36\u001b[0m | \u001b[1m<- Request: scihub_url=https://sci-hub.se, source=TitleSource[type=title, id=Equilibrium phase of high-entropy FeCoNiCrCu0.5 alloy at elevated temperature], proxies={}\u001b[0m\n",
      "\u001b[1m[INFO]\u001b[0m | \u001b[32m2023/12/06 12:36:37\u001b[0m | \u001b[1m-> Response: status_code=200, content_length=5893\u001b[0m\n",
      "\u001b[33m\u001b[1m[WARNING]\u001b[0m | \u001b[32m2023/12/06 12:36:37\u001b[0m | \u001b[33m\u001b[1mError occurs, task status: extracting_failed, error: No pdf tag was found in the given content with the selector: #pdf\u001b[0m\n",
      "\u001b[1m[INFO]\u001b[0m | \u001b[32m2023/12/06 12:36:37\u001b[0m | \u001b[1mChoose scihub url [5]: http://sci-hub.se\u001b[0m\n",
      "\u001b[1m[INFO]\u001b[0m | \u001b[32m2023/12/06 12:36:37\u001b[0m | \u001b[1m<- Request: scihub_url=http://sci-hub.se, source=TitleSource[type=title, id=Equilibrium phase of high-entropy FeCoNiCrCu0.5 alloy at elevated temperature], proxies={}\u001b[0m\n",
      "\u001b[1m[INFO]\u001b[0m | \u001b[32m2023/12/06 12:36:38\u001b[0m | \u001b[1m-> Response: status_code=200, content_length=5893\u001b[0m\n",
      "\u001b[33m\u001b[1m[WARNING]\u001b[0m | \u001b[32m2023/12/06 12:36:38\u001b[0m | \u001b[33m\u001b[1mError occurs, task status: extracting_failed, error: No pdf tag was found in the given content with the selector: #pdf\u001b[0m\n",
      "\u001b[1m[INFO]\u001b[0m | \u001b[32m2023/12/06 12:36:38\u001b[0m | \u001b[1mChoose scihub url [6]: http://sci-hub.mobi\u001b[0m\n",
      "\u001b[1m[INFO]\u001b[0m | \u001b[32m2023/12/06 12:36:38\u001b[0m | \u001b[1m<- Request: scihub_url=http://sci-hub.mobi, source=TitleSource[type=title, id=Equilibrium phase of high-entropy FeCoNiCrCu0.5 alloy at elevated temperature], proxies={}\u001b[0m\n",
      "\u001b[1m[INFO]\u001b[0m | \u001b[32m2023/12/06 12:36:39\u001b[0m | \u001b[1m-> Response: status_code=200, content_length=39030\u001b[0m\n",
      "\u001b[33m\u001b[1m[WARNING]\u001b[0m | \u001b[32m2023/12/06 12:36:39\u001b[0m | \u001b[33m\u001b[1mError occurs, task status: extracting_failed, error: No pdf tag was found in the given content with the selector: #pdf\u001b[0m\n",
      "\u001b[1m[INFO]\u001b[0m | \u001b[32m2023/12/06 12:36:39\u001b[0m | \u001b[1mChoose scihub url [7]: http://sci-hub.st\u001b[0m\n",
      "\u001b[1m[INFO]\u001b[0m | \u001b[32m2023/12/06 12:36:39\u001b[0m | \u001b[1m<- Request: scihub_url=http://sci-hub.st, source=TitleSource[type=title, id=Equilibrium phase of high-entropy FeCoNiCrCu0.5 alloy at elevated temperature], proxies={}\u001b[0m\n",
      "\u001b[1m[INFO]\u001b[0m | \u001b[32m2023/12/06 12:36:40\u001b[0m | \u001b[1m-> Response: status_code=403, content_length=747\u001b[0m\n",
      "\u001b[33m\u001b[1m[WARNING]\u001b[0m | \u001b[32m2023/12/06 12:36:40\u001b[0m | \u001b[33m\u001b[1mError occurs, task status: crawling_failed, error: Error occurs when crawling source: TitleSource[type=title, id=Equilibrium phase of high-entropy FeCoNiCrCu0.5 alloy at elevated temperature]\u001b[0m\n",
      "\u001b[31m\u001b[1m[ERROR]\u001b[0m | \u001b[32m2023/12/06 12:36:40\u001b[0m | \u001b[31m\u001b[1mFailed to download the paper: Equilibrium phase of high-entropy FeCoNiCrCu0.5 alloy at elevated temperature. Please try again.\u001b[0m\n",
      "\u001b[1m[INFO]\u001b[0m | \u001b[32m2023/12/06 12:36:40\u001b[0m | \u001b[1mChoose scihub url [0]: https://sci-hub.ru\u001b[0m\n",
      "\u001b[1m[INFO]\u001b[0m | \u001b[32m2023/12/06 12:36:40\u001b[0m | \u001b[1m<- Request: scihub_url=https://sci-hub.ru, source=TitleSource[type=title, id=Effect of aging treatment on microstructure and properties of high-entropy Cu0.5CoCrFeNi alloy], proxies={}\u001b[0m\n"
     ]
    },
    {
     "name": "stdout",
     "output_type": "stream",
     "text": [
      "85\n"
     ]
    },
    {
     "name": "stderr",
     "output_type": "stream",
     "text": [
      "\u001b[1m[INFO]\u001b[0m | \u001b[32m2023/12/06 12:36:41\u001b[0m | \u001b[1m-> Response: status_code=200, content_length=5910\u001b[0m\n",
      "\u001b[33m\u001b[1m[WARNING]\u001b[0m | \u001b[32m2023/12/06 12:36:41\u001b[0m | \u001b[33m\u001b[1mError occurs, task status: extracting_failed, error: No pdf tag was found in the given content with the selector: #pdf\u001b[0m\n",
      "\u001b[1m[INFO]\u001b[0m | \u001b[32m2023/12/06 12:36:41\u001b[0m | \u001b[1mChoose scihub url [1]: http://sci-hub.ru\u001b[0m\n",
      "\u001b[1m[INFO]\u001b[0m | \u001b[32m2023/12/06 12:36:41\u001b[0m | \u001b[1m<- Request: scihub_url=http://sci-hub.ru, source=TitleSource[type=title, id=Effect of aging treatment on microstructure and properties of high-entropy Cu0.5CoCrFeNi alloy], proxies={}\u001b[0m\n",
      "\u001b[1m[INFO]\u001b[0m | \u001b[32m2023/12/06 12:36:42\u001b[0m | \u001b[1m-> Response: status_code=200, content_length=5910\u001b[0m\n",
      "\u001b[33m\u001b[1m[WARNING]\u001b[0m | \u001b[32m2023/12/06 12:36:42\u001b[0m | \u001b[33m\u001b[1mError occurs, task status: extracting_failed, error: No pdf tag was found in the given content with the selector: #pdf\u001b[0m\n",
      "\u001b[1m[INFO]\u001b[0m | \u001b[32m2023/12/06 12:36:42\u001b[0m | \u001b[1mChoose scihub url [2]: https://sci-hub.st\u001b[0m\n",
      "\u001b[1m[INFO]\u001b[0m | \u001b[32m2023/12/06 12:36:42\u001b[0m | \u001b[1m<- Request: scihub_url=https://sci-hub.st, source=TitleSource[type=title, id=Effect of aging treatment on microstructure and properties of high-entropy Cu0.5CoCrFeNi alloy], proxies={}\u001b[0m\n",
      "\u001b[1m[INFO]\u001b[0m | \u001b[32m2023/12/06 12:36:42\u001b[0m | \u001b[1m-> Response: status_code=403, content_length=747\u001b[0m\n",
      "\u001b[33m\u001b[1m[WARNING]\u001b[0m | \u001b[32m2023/12/06 12:36:43\u001b[0m | \u001b[33m\u001b[1mError occurs, task status: crawling_failed, error: Error occurs when crawling source: TitleSource[type=title, id=Effect of aging treatment on microstructure and properties of high-entropy Cu0.5CoCrFeNi alloy]\u001b[0m\n",
      "\u001b[1m[INFO]\u001b[0m | \u001b[32m2023/12/06 12:36:43\u001b[0m | \u001b[1mChoose scihub url [3]: https://sci-hub.mobi\u001b[0m\n",
      "\u001b[1m[INFO]\u001b[0m | \u001b[32m2023/12/06 12:36:43\u001b[0m | \u001b[1m<- Request: scihub_url=https://sci-hub.mobi, source=TitleSource[type=title, id=Effect of aging treatment on microstructure and properties of high-entropy Cu0.5CoCrFeNi alloy], proxies={}\u001b[0m\n",
      "\u001b[1m[INFO]\u001b[0m | \u001b[32m2023/12/06 12:36:44\u001b[0m | \u001b[1m-> Response: status_code=200, content_length=5910\u001b[0m\n",
      "\u001b[33m\u001b[1m[WARNING]\u001b[0m | \u001b[32m2023/12/06 12:36:44\u001b[0m | \u001b[33m\u001b[1mError occurs, task status: extracting_failed, error: No pdf tag was found in the given content with the selector: #pdf\u001b[0m\n",
      "\u001b[1m[INFO]\u001b[0m | \u001b[32m2023/12/06 12:36:44\u001b[0m | \u001b[1mChoose scihub url [4]: https://sci-hub.se\u001b[0m\n",
      "\u001b[1m[INFO]\u001b[0m | \u001b[32m2023/12/06 12:36:44\u001b[0m | \u001b[1m<- Request: scihub_url=https://sci-hub.se, source=TitleSource[type=title, id=Effect of aging treatment on microstructure and properties of high-entropy Cu0.5CoCrFeNi alloy], proxies={}\u001b[0m\n",
      "\u001b[1m[INFO]\u001b[0m | \u001b[32m2023/12/06 12:36:45\u001b[0m | \u001b[1m-> Response: status_code=200, content_length=5910\u001b[0m\n",
      "\u001b[33m\u001b[1m[WARNING]\u001b[0m | \u001b[32m2023/12/06 12:36:45\u001b[0m | \u001b[33m\u001b[1mError occurs, task status: extracting_failed, error: No pdf tag was found in the given content with the selector: #pdf\u001b[0m\n",
      "\u001b[1m[INFO]\u001b[0m | \u001b[32m2023/12/06 12:36:45\u001b[0m | \u001b[1mChoose scihub url [5]: http://sci-hub.se\u001b[0m\n",
      "\u001b[1m[INFO]\u001b[0m | \u001b[32m2023/12/06 12:36:45\u001b[0m | \u001b[1m<- Request: scihub_url=http://sci-hub.se, source=TitleSource[type=title, id=Effect of aging treatment on microstructure and properties of high-entropy Cu0.5CoCrFeNi alloy], proxies={}\u001b[0m\n",
      "\u001b[1m[INFO]\u001b[0m | \u001b[32m2023/12/06 12:36:46\u001b[0m | \u001b[1m-> Response: status_code=200, content_length=5910\u001b[0m\n",
      "\u001b[33m\u001b[1m[WARNING]\u001b[0m | \u001b[32m2023/12/06 12:36:46\u001b[0m | \u001b[33m\u001b[1mError occurs, task status: extracting_failed, error: No pdf tag was found in the given content with the selector: #pdf\u001b[0m\n",
      "\u001b[1m[INFO]\u001b[0m | \u001b[32m2023/12/06 12:36:46\u001b[0m | \u001b[1mChoose scihub url [6]: http://sci-hub.mobi\u001b[0m\n",
      "\u001b[1m[INFO]\u001b[0m | \u001b[32m2023/12/06 12:36:46\u001b[0m | \u001b[1m<- Request: scihub_url=http://sci-hub.mobi, source=TitleSource[type=title, id=Effect of aging treatment on microstructure and properties of high-entropy Cu0.5CoCrFeNi alloy], proxies={}\u001b[0m\n",
      "\u001b[1m[INFO]\u001b[0m | \u001b[32m2023/12/06 12:36:47\u001b[0m | \u001b[1m-> Response: status_code=200, content_length=39030\u001b[0m\n",
      "\u001b[33m\u001b[1m[WARNING]\u001b[0m | \u001b[32m2023/12/06 12:36:47\u001b[0m | \u001b[33m\u001b[1mError occurs, task status: extracting_failed, error: No pdf tag was found in the given content with the selector: #pdf\u001b[0m\n",
      "\u001b[1m[INFO]\u001b[0m | \u001b[32m2023/12/06 12:36:47\u001b[0m | \u001b[1mChoose scihub url [7]: http://sci-hub.st\u001b[0m\n",
      "\u001b[1m[INFO]\u001b[0m | \u001b[32m2023/12/06 12:36:47\u001b[0m | \u001b[1m<- Request: scihub_url=http://sci-hub.st, source=TitleSource[type=title, id=Effect of aging treatment on microstructure and properties of high-entropy Cu0.5CoCrFeNi alloy], proxies={}\u001b[0m\n",
      "\u001b[1m[INFO]\u001b[0m | \u001b[32m2023/12/06 12:36:49\u001b[0m | \u001b[1m-> Response: status_code=403, content_length=747\u001b[0m\n",
      "\u001b[33m\u001b[1m[WARNING]\u001b[0m | \u001b[32m2023/12/06 12:36:49\u001b[0m | \u001b[33m\u001b[1mError occurs, task status: crawling_failed, error: Error occurs when crawling source: TitleSource[type=title, id=Effect of aging treatment on microstructure and properties of high-entropy Cu0.5CoCrFeNi alloy]\u001b[0m\n",
      "\u001b[31m\u001b[1m[ERROR]\u001b[0m | \u001b[32m2023/12/06 12:36:49\u001b[0m | \u001b[31m\u001b[1mFailed to download the paper: Effect of aging treatment on microstructure and properties of high-entropy Cu0.5CoCrFeNi alloy. Please try again.\u001b[0m\n",
      "\u001b[1m[INFO]\u001b[0m | \u001b[32m2023/12/06 12:36:49\u001b[0m | \u001b[1mChoose scihub url [0]: https://sci-hub.ru\u001b[0m\n",
      "\u001b[1m[INFO]\u001b[0m | \u001b[32m2023/12/06 12:36:49\u001b[0m | \u001b[1m<- Request: scihub_url=https://sci-hub.ru, source=TitleSource[type=title, id=Novel microstructure and properties of multicomponent CoCrCuFeNiTix alloys], proxies={}\u001b[0m\n"
     ]
    },
    {
     "name": "stdout",
     "output_type": "stream",
     "text": [
      "86\n"
     ]
    },
    {
     "name": "stderr",
     "output_type": "stream",
     "text": [
      "\u001b[1m[INFO]\u001b[0m | \u001b[32m2023/12/06 12:36:49\u001b[0m | \u001b[1m-> Response: status_code=200, content_length=7582\u001b[0m\n",
      "\u001b[1m[INFO]\u001b[0m | \u001b[32m2023/12/06 12:36:49\u001b[0m | \u001b[1m* Extracted information: {'url': 'https://moscow.sci-hub.ru/1667/ab7eb3cf632abb1fd7d4ef99b5e4fbf8/wang2007.pdf', 'title': 'Novel microstructure and properties of multicomponent CoCrCuFeNiTix alloys. Intermetallics, 15(3), 357–362'}\u001b[0m\n"
     ]
    },
    {
     "name": "stdout",
     "output_type": "stream",
     "text": [
      "100% [==================================================] 1333733/1333733\n"
     ]
    },
    {
     "name": "stderr",
     "output_type": "stream",
     "text": [
      "\u001b[1m[INFO]\u001b[0m | \u001b[32m2023/12/06 12:36:51\u001b[0m | \u001b[1m↓ Successfully download the url to: references/reference_86.pdf\u001b[0m\n"
     ]
    },
    {
     "name": "stdout",
     "output_type": "stream",
     "text": [
      "87\n"
     ]
    },
    {
     "name": "stderr",
     "output_type": "stream",
     "text": [
      "\u001b[1m[INFO]\u001b[0m | \u001b[32m2023/12/06 12:36:51\u001b[0m | \u001b[1mChoose scihub url [0]: https://sci-hub.ru\u001b[0m\n",
      "\u001b[1m[INFO]\u001b[0m | \u001b[32m2023/12/06 12:36:51\u001b[0m | \u001b[1m<- Request: scihub_url=https://sci-hub.ru, source=TitleSource[type=title, id=Design of a twinning-induced plasticity high entropy alloy], proxies={}\u001b[0m\n",
      "\u001b[1m[INFO]\u001b[0m | \u001b[32m2023/12/06 12:36:52\u001b[0m | \u001b[1m-> Response: status_code=200, content_length=7573\u001b[0m\n",
      "\u001b[1m[INFO]\u001b[0m | \u001b[32m2023/12/06 12:36:52\u001b[0m | \u001b[1m* Extracted information: {'url': 'https://moscow.sci-hub.ru/3933/b6cac373cbfcd1228458c6ca899888b9/deng2015.pdf', 'title': 'Design of a twinning-induced plasticity high entropy alloy. Acta Materialia, 94, 124–133'}\u001b[0m\n"
     ]
    },
    {
     "name": "stdout",
     "output_type": "stream",
     "text": [
      "100% [==================================================] 4275381/4275381\n"
     ]
    },
    {
     "name": "stderr",
     "output_type": "stream",
     "text": [
      "\u001b[1m[INFO]\u001b[0m | \u001b[32m2023/12/06 12:36:54\u001b[0m | \u001b[1m↓ Successfully download the url to: references/reference_87.pdf\u001b[0m\n",
      "\u001b[1m[INFO]\u001b[0m | \u001b[32m2023/12/06 12:36:54\u001b[0m | \u001b[1mChoose scihub url [0]: https://sci-hub.ru\u001b[0m\n",
      "\u001b[1m[INFO]\u001b[0m | \u001b[32m2023/12/06 12:36:54\u001b[0m | \u001b[1m<- Request: scihub_url=https://sci-hub.ru, source=TitleSource[type=title, id=A novel, single phase, non-equiatomic FeMnNiCoCr high-entropy alloy with exceptional phase stability and tensile ductility], proxies={}\u001b[0m\n"
     ]
    },
    {
     "name": "stdout",
     "output_type": "stream",
     "text": [
      "88\n"
     ]
    },
    {
     "name": "stderr",
     "output_type": "stream",
     "text": [
      "\u001b[1m[INFO]\u001b[0m | \u001b[32m2023/12/06 12:36:55\u001b[0m | \u001b[1m-> Response: status_code=200, content_length=7718\u001b[0m\n",
      "\u001b[1m[INFO]\u001b[0m | \u001b[32m2023/12/06 12:36:55\u001b[0m | \u001b[1m* Extracted information: {'url': 'https://dacemirror.sci-hub.ru/journal-article/579709454dfbff1fb284df1b12d3ef12/yao2014.pdf', 'title': 'A novel, single phase, non-equiatomic FeMnNiCoCr high-entropy alloy with exceptional phase stability and tensile ductility. Scripta Materialia, 72-73, 5–8'}\u001b[0m\n"
     ]
    },
    {
     "name": "stdout",
     "output_type": "stream",
     "text": [
      "100% [==================================================] 747/747\n"
     ]
    },
    {
     "name": "stderr",
     "output_type": "stream",
     "text": [
      "\u001b[1m[INFO]\u001b[0m | \u001b[32m2023/12/06 12:36:56\u001b[0m | \u001b[1m↓ Successfully download the url to: references/reference_88.pdf\u001b[0m\n",
      "\u001b[1m[INFO]\u001b[0m | \u001b[32m2023/12/06 12:36:56\u001b[0m | \u001b[1mChoose scihub url [0]: https://sci-hub.ru\u001b[0m\n",
      "\u001b[1m[INFO]\u001b[0m | \u001b[32m2023/12/06 12:36:56\u001b[0m | \u001b[1m<- Request: scihub_url=https://sci-hub.ru, source=TitleSource[type=title, id=Recovery, recrystallization, grain growth and phase stability of a family of FCC-structured multi-component equiatomic solid solution alloys], proxies={}\u001b[0m\n"
     ]
    },
    {
     "name": "stdout",
     "output_type": "stream",
     "text": [
      "89\n"
     ]
    },
    {
     "name": "stderr",
     "output_type": "stream",
     "text": [
      "\u001b[1m[INFO]\u001b[0m | \u001b[32m2023/12/06 12:36:57\u001b[0m | \u001b[1m-> Response: status_code=200, content_length=7713\u001b[0m\n",
      "\u001b[1m[INFO]\u001b[0m | \u001b[32m2023/12/06 12:36:57\u001b[0m | \u001b[1m* Extracted information: {'url': 'https://moscow.sci-hub.ru/2262/f79ed1cba99908fef4e661f6efb8dc68/wu2014.pdf', 'title': 'Recovery, recrystallization, grain growth and phase stability of a family of FCC-structured multi-component equiatomic solid solution alloys. Intermetallics, 46, 131–140'}\u001b[0m\n"
     ]
    },
    {
     "name": "stdout",
     "output_type": "stream",
     "text": [
      "100% [==================================================] 5003944/5003944\n"
     ]
    },
    {
     "name": "stderr",
     "output_type": "stream",
     "text": [
      "\u001b[1m[INFO]\u001b[0m | \u001b[32m2023/12/06 12:36:59\u001b[0m | \u001b[1m↓ Successfully download the url to: references/reference_89.pdf\u001b[0m\n",
      "\u001b[1m[INFO]\u001b[0m | \u001b[32m2023/12/06 12:36:59\u001b[0m | \u001b[1mChoose scihub url [0]: https://sci-hub.ru\u001b[0m\n",
      "\u001b[1m[INFO]\u001b[0m | \u001b[32m2023/12/06 12:36:59\u001b[0m | \u001b[1m<- Request: scihub_url=https://sci-hub.ru, source=TitleSource[type=title, id=Mechanical properties, microstructure and thermal stability of a nanocrystalline CoCrFeMnNi high-entropy alloy after severe plastic deformation], proxies={}\u001b[0m\n"
     ]
    },
    {
     "name": "stdout",
     "output_type": "stream",
     "text": [
      "90\n"
     ]
    },
    {
     "name": "stderr",
     "output_type": "stream",
     "text": [
      "\u001b[1m[INFO]\u001b[0m | \u001b[32m2023/12/06 12:37:00\u001b[0m | \u001b[1m-> Response: status_code=200, content_length=7797\u001b[0m\n",
      "\u001b[1m[INFO]\u001b[0m | \u001b[32m2023/12/06 12:37:00\u001b[0m | \u001b[1m* Extracted information: {'url': 'https://dacemirror.sci-hub.ru/journal-article/499befd96df1368fe4379c94a395822e/schuh2015.pdf', 'title': 'Mechanical properties, microstructure and thermal stability of a nanocrystalline CoCrFeMnNi high-entropy alloy after severe plastic deformation. Acta Materialia, 96, 258–268'}\u001b[0m\n"
     ]
    },
    {
     "name": "stdout",
     "output_type": "stream",
     "text": [
      "100% [==================================================] 747/747\n"
     ]
    },
    {
     "name": "stderr",
     "output_type": "stream",
     "text": [
      "\u001b[1m[INFO]\u001b[0m | \u001b[32m2023/12/06 12:37:01\u001b[0m | \u001b[1m↓ Successfully download the url to: references/reference_90.pdf\u001b[0m\n",
      "\u001b[1m[INFO]\u001b[0m | \u001b[32m2023/12/06 12:37:01\u001b[0m | \u001b[1mChoose scihub url [0]: https://sci-hub.ru\u001b[0m\n",
      "\u001b[1m[INFO]\u001b[0m | \u001b[32m2023/12/06 12:37:01\u001b[0m | \u001b[1m<- Request: scihub_url=https://sci-hub.ru, source=TitleSource[type=title, id=Tensile properties of low-stacking fault energy high-entropy alloys], proxies={}\u001b[0m\n"
     ]
    },
    {
     "name": "stdout",
     "output_type": "stream",
     "text": [
      "91\n"
     ]
    },
    {
     "name": "stderr",
     "output_type": "stream",
     "text": [
      "\u001b[1m[INFO]\u001b[0m | \u001b[32m2023/12/06 12:37:02\u001b[0m | \u001b[1m-> Response: status_code=200, content_length=7604\u001b[0m\n",
      "\u001b[1m[INFO]\u001b[0m | \u001b[32m2023/12/06 12:37:02\u001b[0m | \u001b[1m* Extracted information: {'url': 'https://moscow.sci-hub.ru/3797/3e27cd4472608e6690c6494a679decd6/zaddach2015.pdf', 'title': 'Tensile properties of low-stacking fault energy high-entropy alloys. Materials Science and Engineering  A, 636, 373–378'}\u001b[0m\n"
     ]
    },
    {
     "name": "stdout",
     "output_type": "stream",
     "text": [
      "100% [==================================================] 1595509/1595509\n"
     ]
    },
    {
     "name": "stderr",
     "output_type": "stream",
     "text": [
      "\u001b[1m[INFO]\u001b[0m | \u001b[32m2023/12/06 12:37:03\u001b[0m | \u001b[1m↓ Successfully download the url to: references/reference_91.pdf\u001b[0m\n"
     ]
    },
    {
     "name": "stdout",
     "output_type": "stream",
     "text": [
      "92\n"
     ]
    },
    {
     "name": "stderr",
     "output_type": "stream",
     "text": [
      "\u001b[1m[INFO]\u001b[0m | \u001b[32m2023/12/06 12:37:03\u001b[0m | \u001b[1mChoose scihub url [0]: https://sci-hub.ru\u001b[0m\n",
      "\u001b[1m[INFO]\u001b[0m | \u001b[32m2023/12/06 12:37:03\u001b[0m | \u001b[1m<- Request: scihub_url=https://sci-hub.ru, source=TitleSource[type=title, id=Effect of V content on microstructure and mechanical properties of the CoCrFeMnNiVx high entropy alloys], proxies={}\u001b[0m\n",
      "\u001b[1m[INFO]\u001b[0m | \u001b[32m2023/12/06 12:37:05\u001b[0m | \u001b[1m-> Response: status_code=200, content_length=7752\u001b[0m\n",
      "\u001b[1m[INFO]\u001b[0m | \u001b[32m2023/12/06 12:37:05\u001b[0m | \u001b[1m* Extracted information: {'url': 'https://moscow.sci-hub.ru/3537/1be9ae3a24e8670fc1add700b26efe0b/stepanov2015.pdf', 'title': 'Effect of V content on microstructure and mechanical properties of the CoCrFeMnNiVx high entropy alloys. Journal of Alloys and Compounds, 628, 170–185'}\u001b[0m\n"
     ]
    },
    {
     "name": "stdout",
     "output_type": "stream",
     "text": [
      "100% [==================================================] 2682103/2682103\n"
     ]
    },
    {
     "name": "stderr",
     "output_type": "stream",
     "text": [
      "\u001b[1m[INFO]\u001b[0m | \u001b[32m2023/12/06 12:37:06\u001b[0m | \u001b[1m↓ Successfully download the url to: references/reference_92.pdf\u001b[0m\n",
      "\u001b[1m[INFO]\u001b[0m | \u001b[32m2023/12/06 12:37:06\u001b[0m | \u001b[1mChoose scihub url [0]: https://sci-hub.ru\u001b[0m\n",
      "\u001b[1m[INFO]\u001b[0m | \u001b[32m2023/12/06 12:37:06\u001b[0m | \u001b[1m<- Request: scihub_url=https://sci-hub.ru, source=TitleSource[type=title, id=Microstructure and mechanical properties of multiprincipal component CoCrFeNiMox alloys], proxies={}\u001b[0m\n"
     ]
    },
    {
     "name": "stdout",
     "output_type": "stream",
     "text": [
      "93\n"
     ]
    },
    {
     "name": "stderr",
     "output_type": "stream",
     "text": [
      "\u001b[1m[INFO]\u001b[0m | \u001b[32m2023/12/06 12:37:07\u001b[0m | \u001b[1m-> Response: status_code=200, content_length=7612\u001b[0m\n",
      "\u001b[1m[INFO]\u001b[0m | \u001b[32m2023/12/06 12:37:07\u001b[0m | \u001b[1m* Extracted information: {'url': 'https://moscow.sci-hub.ru/1347/99a96a9c02348633ae8c5f13818d20d5/shun2012.pdf', 'title': 'Microstructure and mechanical properties of multiprincipal component CoCrFeNiMox alloys. Materials Characterization, 70, 63–67'}\u001b[0m\n"
     ]
    },
    {
     "name": "stdout",
     "output_type": "stream",
     "text": [
      "100% [==================================================] 1042345/1042345\n"
     ]
    },
    {
     "name": "stderr",
     "output_type": "stream",
     "text": [
      "\u001b[1m[INFO]\u001b[0m | \u001b[32m2023/12/06 12:37:09\u001b[0m | \u001b[1m↓ Successfully download the url to: references/reference_93.pdf\u001b[0m\n"
     ]
    },
    {
     "name": "stdout",
     "output_type": "stream",
     "text": [
      "94\n"
     ]
    },
    {
     "name": "stderr",
     "output_type": "stream",
     "text": [
      "\u001b[1m[INFO]\u001b[0m | \u001b[32m2023/12/06 12:37:09\u001b[0m | \u001b[1mChoose scihub url [0]: https://sci-hub.ru\u001b[0m\n",
      "\u001b[1m[INFO]\u001b[0m | \u001b[32m2023/12/06 12:37:09\u001b[0m | \u001b[1m<- Request: scihub_url=https://sci-hub.ru, source=TitleSource[type=title, id=The effect of molybdenum on the corrosion behaviour of the high-entropy alloys Co1.5CrFeNi1.5Ti0.5Mox in aqueous environments], proxies={}\u001b[0m\n",
      "\u001b[1m[INFO]\u001b[0m | \u001b[32m2023/12/06 12:37:10\u001b[0m | \u001b[1m-> Response: status_code=200, content_length=5941\u001b[0m\n",
      "\u001b[33m\u001b[1m[WARNING]\u001b[0m | \u001b[32m2023/12/06 12:37:10\u001b[0m | \u001b[33m\u001b[1mError occurs, task status: extracting_failed, error: No pdf tag was found in the given content with the selector: #pdf\u001b[0m\n",
      "\u001b[1m[INFO]\u001b[0m | \u001b[32m2023/12/06 12:37:10\u001b[0m | \u001b[1mChoose scihub url [1]: http://sci-hub.ru\u001b[0m\n",
      "\u001b[1m[INFO]\u001b[0m | \u001b[32m2023/12/06 12:37:10\u001b[0m | \u001b[1m<- Request: scihub_url=http://sci-hub.ru, source=TitleSource[type=title, id=The effect of molybdenum on the corrosion behaviour of the high-entropy alloys Co1.5CrFeNi1.5Ti0.5Mox in aqueous environments], proxies={}\u001b[0m\n",
      "\u001b[1m[INFO]\u001b[0m | \u001b[32m2023/12/06 12:37:11\u001b[0m | \u001b[1m-> Response: status_code=200, content_length=5941\u001b[0m\n",
      "\u001b[33m\u001b[1m[WARNING]\u001b[0m | \u001b[32m2023/12/06 12:37:11\u001b[0m | \u001b[33m\u001b[1mError occurs, task status: extracting_failed, error: No pdf tag was found in the given content with the selector: #pdf\u001b[0m\n",
      "\u001b[1m[INFO]\u001b[0m | \u001b[32m2023/12/06 12:37:11\u001b[0m | \u001b[1mChoose scihub url [2]: https://sci-hub.st\u001b[0m\n",
      "\u001b[1m[INFO]\u001b[0m | \u001b[32m2023/12/06 12:37:11\u001b[0m | \u001b[1m<- Request: scihub_url=https://sci-hub.st, source=TitleSource[type=title, id=The effect of molybdenum on the corrosion behaviour of the high-entropy alloys Co1.5CrFeNi1.5Ti0.5Mox in aqueous environments], proxies={}\u001b[0m\n",
      "\u001b[1m[INFO]\u001b[0m | \u001b[32m2023/12/06 12:37:12\u001b[0m | \u001b[1m-> Response: status_code=403, content_length=747\u001b[0m\n",
      "\u001b[33m\u001b[1m[WARNING]\u001b[0m | \u001b[32m2023/12/06 12:37:12\u001b[0m | \u001b[33m\u001b[1mError occurs, task status: crawling_failed, error: Error occurs when crawling source: TitleSource[type=title, id=The effect of molybdenum on the corrosion behaviour of the high-entropy alloys Co1.5CrFeNi1.5Ti0.5Mox in aqueous environments]\u001b[0m\n",
      "\u001b[1m[INFO]\u001b[0m | \u001b[32m2023/12/06 12:37:12\u001b[0m | \u001b[1mChoose scihub url [3]: https://sci-hub.mobi\u001b[0m\n",
      "\u001b[1m[INFO]\u001b[0m | \u001b[32m2023/12/06 12:37:12\u001b[0m | \u001b[1m<- Request: scihub_url=https://sci-hub.mobi, source=TitleSource[type=title, id=The effect of molybdenum on the corrosion behaviour of the high-entropy alloys Co1.5CrFeNi1.5Ti0.5Mox in aqueous environments], proxies={}\u001b[0m\n",
      "\u001b[1m[INFO]\u001b[0m | \u001b[32m2023/12/06 12:37:17\u001b[0m | \u001b[1m-> Response: status_code=200, content_length=5941\u001b[0m\n",
      "\u001b[33m\u001b[1m[WARNING]\u001b[0m | \u001b[32m2023/12/06 12:37:17\u001b[0m | \u001b[33m\u001b[1mError occurs, task status: extracting_failed, error: No pdf tag was found in the given content with the selector: #pdf\u001b[0m\n",
      "\u001b[1m[INFO]\u001b[0m | \u001b[32m2023/12/06 12:37:17\u001b[0m | \u001b[1mChoose scihub url [4]: https://sci-hub.se\u001b[0m\n",
      "\u001b[1m[INFO]\u001b[0m | \u001b[32m2023/12/06 12:37:17\u001b[0m | \u001b[1m<- Request: scihub_url=https://sci-hub.se, source=TitleSource[type=title, id=The effect of molybdenum on the corrosion behaviour of the high-entropy alloys Co1.5CrFeNi1.5Ti0.5Mox in aqueous environments], proxies={}\u001b[0m\n",
      "\u001b[1m[INFO]\u001b[0m | \u001b[32m2023/12/06 12:37:18\u001b[0m | \u001b[1m-> Response: status_code=200, content_length=5941\u001b[0m\n",
      "\u001b[33m\u001b[1m[WARNING]\u001b[0m | \u001b[32m2023/12/06 12:37:18\u001b[0m | \u001b[33m\u001b[1mError occurs, task status: extracting_failed, error: No pdf tag was found in the given content with the selector: #pdf\u001b[0m\n",
      "\u001b[1m[INFO]\u001b[0m | \u001b[32m2023/12/06 12:37:18\u001b[0m | \u001b[1mChoose scihub url [5]: http://sci-hub.se\u001b[0m\n",
      "\u001b[1m[INFO]\u001b[0m | \u001b[32m2023/12/06 12:37:18\u001b[0m | \u001b[1m<- Request: scihub_url=http://sci-hub.se, source=TitleSource[type=title, id=The effect of molybdenum on the corrosion behaviour of the high-entropy alloys Co1.5CrFeNi1.5Ti0.5Mox in aqueous environments], proxies={}\u001b[0m\n",
      "\u001b[1m[INFO]\u001b[0m | \u001b[32m2023/12/06 12:37:19\u001b[0m | \u001b[1m-> Response: status_code=200, content_length=5941\u001b[0m\n",
      "\u001b[33m\u001b[1m[WARNING]\u001b[0m | \u001b[32m2023/12/06 12:37:19\u001b[0m | \u001b[33m\u001b[1mError occurs, task status: extracting_failed, error: No pdf tag was found in the given content with the selector: #pdf\u001b[0m\n",
      "\u001b[1m[INFO]\u001b[0m | \u001b[32m2023/12/06 12:37:19\u001b[0m | \u001b[1mChoose scihub url [6]: http://sci-hub.mobi\u001b[0m\n",
      "\u001b[1m[INFO]\u001b[0m | \u001b[32m2023/12/06 12:37:19\u001b[0m | \u001b[1m<- Request: scihub_url=http://sci-hub.mobi, source=TitleSource[type=title, id=The effect of molybdenum on the corrosion behaviour of the high-entropy alloys Co1.5CrFeNi1.5Ti0.5Mox in aqueous environments], proxies={}\u001b[0m\n",
      "\u001b[1m[INFO]\u001b[0m | \u001b[32m2023/12/06 12:37:20\u001b[0m | \u001b[1m-> Response: status_code=200, content_length=39030\u001b[0m\n",
      "\u001b[33m\u001b[1m[WARNING]\u001b[0m | \u001b[32m2023/12/06 12:37:20\u001b[0m | \u001b[33m\u001b[1mError occurs, task status: extracting_failed, error: No pdf tag was found in the given content with the selector: #pdf\u001b[0m\n",
      "\u001b[1m[INFO]\u001b[0m | \u001b[32m2023/12/06 12:37:20\u001b[0m | \u001b[1mChoose scihub url [7]: http://sci-hub.st\u001b[0m\n",
      "\u001b[1m[INFO]\u001b[0m | \u001b[32m2023/12/06 12:37:20\u001b[0m | \u001b[1m<- Request: scihub_url=http://sci-hub.st, source=TitleSource[type=title, id=The effect of molybdenum on the corrosion behaviour of the high-entropy alloys Co1.5CrFeNi1.5Ti0.5Mox in aqueous environments], proxies={}\u001b[0m\n",
      "\u001b[1m[INFO]\u001b[0m | \u001b[32m2023/12/06 12:37:21\u001b[0m | \u001b[1m-> Response: status_code=403, content_length=747\u001b[0m\n",
      "\u001b[33m\u001b[1m[WARNING]\u001b[0m | \u001b[32m2023/12/06 12:37:21\u001b[0m | \u001b[33m\u001b[1mError occurs, task status: crawling_failed, error: Error occurs when crawling source: TitleSource[type=title, id=The effect of molybdenum on the corrosion behaviour of the high-entropy alloys Co1.5CrFeNi1.5Ti0.5Mox in aqueous environments]\u001b[0m\n",
      "\u001b[31m\u001b[1m[ERROR]\u001b[0m | \u001b[32m2023/12/06 12:37:21\u001b[0m | \u001b[31m\u001b[1mFailed to download the paper: The effect of molybdenum on the corrosion behaviour of the high-entropy alloys Co1.5CrFeNi1.5Ti0.5Mox in aqueous environments. Please try again.\u001b[0m\n",
      "\u001b[1m[INFO]\u001b[0m | \u001b[32m2023/12/06 12:37:21\u001b[0m | \u001b[1mChoose scihub url [0]: https://sci-hub.ru\u001b[0m\n",
      "\u001b[1m[INFO]\u001b[0m | \u001b[32m2023/12/06 12:37:21\u001b[0m | \u001b[1m<- Request: scihub_url=https://sci-hub.ru, source=TitleSource[type=title, id=Effects of Nb additions on the microstructure and mechanical property of CoCrFeNi high-entropy alloys], proxies={}\u001b[0m\n"
     ]
    },
    {
     "name": "stdout",
     "output_type": "stream",
     "text": [
      "95\n"
     ]
    },
    {
     "name": "stderr",
     "output_type": "stream",
     "text": [
      "\u001b[1m[INFO]\u001b[0m | \u001b[32m2023/12/06 12:37:23\u001b[0m | \u001b[1m-> Response: status_code=200, content_length=7643\u001b[0m\n",
      "\u001b[1m[INFO]\u001b[0m | \u001b[32m2023/12/06 12:37:23\u001b[0m | \u001b[1m* Extracted information: {'url': 'https://moscow.sci-hub.ru/3560/208b0ba4f62a8e3ea41c4c94405abec9/liu2015.pdf', 'title': 'Effects of Nb additions on the microstructure and mechanical property of CoCrFeNi high-entropy alloys. Intermetallics, 60, 1–8'}\u001b[0m\n"
     ]
    },
    {
     "name": "stdout",
     "output_type": "stream",
     "text": [
      "100% [==================================================] 2489360/2489360\n"
     ]
    },
    {
     "name": "stderr",
     "output_type": "stream",
     "text": [
      "\u001b[1m[INFO]\u001b[0m | \u001b[32m2023/12/06 12:37:24\u001b[0m | \u001b[1m↓ Successfully download the url to: references/reference_95.pdf\u001b[0m\n",
      "\u001b[1m[INFO]\u001b[0m | \u001b[32m2023/12/06 12:37:24\u001b[0m | \u001b[1mChoose scihub url [0]: https://sci-hub.ru\u001b[0m\n",
      "\u001b[1m[INFO]\u001b[0m | \u001b[32m2023/12/06 12:37:24\u001b[0m | \u001b[1m<- Request: scihub_url=https://sci-hub.ru, source=TitleSource[type=title, id=The use of high-entropy alloys in additive manufacturing], proxies={}\u001b[0m\n"
     ]
    },
    {
     "name": "stdout",
     "output_type": "stream",
     "text": [
      "96\n"
     ]
    },
    {
     "name": "stderr",
     "output_type": "stream",
     "text": [
      "\u001b[1m[INFO]\u001b[0m | \u001b[32m2023/12/06 12:37:25\u001b[0m | \u001b[1m-> Response: status_code=200, content_length=7531\u001b[0m\n",
      "\u001b[1m[INFO]\u001b[0m | \u001b[32m2023/12/06 12:37:25\u001b[0m | \u001b[1m* Extracted information: {'url': 'https://zero.sci-hub.ru/3374/1d1a5375c3867bda8b442aad5a4b7c74/brif2015.pdf', 'title': 'The use of high-entropy alloys in additive manufacturing. Scripta Materialia, 99, 93–96'}\u001b[0m\n"
     ]
    },
    {
     "name": "stdout",
     "output_type": "stream",
     "text": [
      "100% [==================================================] 845644/845644\n"
     ]
    },
    {
     "name": "stderr",
     "output_type": "stream",
     "text": [
      "\u001b[1m[INFO]\u001b[0m | \u001b[32m2023/12/06 12:37:26\u001b[0m | \u001b[1m↓ Successfully download the url to: references/reference_96.pdf\u001b[0m\n"
     ]
    },
    {
     "name": "stdout",
     "output_type": "stream",
     "text": [
      "97\n"
     ]
    },
    {
     "name": "stderr",
     "output_type": "stream",
     "text": [
      "\u001b[1m[INFO]\u001b[0m | \u001b[32m2023/12/06 12:37:26\u001b[0m | \u001b[1mChoose scihub url [0]: https://sci-hub.ru\u001b[0m\n",
      "\u001b[1m[INFO]\u001b[0m | \u001b[32m2023/12/06 12:37:26\u001b[0m | \u001b[1m<- Request: scihub_url=https://sci-hub.ru, source=TitleSource[type=title, id=Fabrication and properties of nanocrystalline Co0.5FeNiCrTi0.5 high entropy alloy by MA-SPS technique], proxies={}\u001b[0m\n",
      "\u001b[1m[INFO]\u001b[0m | \u001b[32m2023/12/06 12:37:27\u001b[0m | \u001b[1m-> Response: status_code=200, content_length=5917\u001b[0m\n",
      "\u001b[33m\u001b[1m[WARNING]\u001b[0m | \u001b[32m2023/12/06 12:37:27\u001b[0m | \u001b[33m\u001b[1mError occurs, task status: extracting_failed, error: No pdf tag was found in the given content with the selector: #pdf\u001b[0m\n",
      "\u001b[1m[INFO]\u001b[0m | \u001b[32m2023/12/06 12:37:27\u001b[0m | \u001b[1mChoose scihub url [1]: http://sci-hub.ru\u001b[0m\n",
      "\u001b[1m[INFO]\u001b[0m | \u001b[32m2023/12/06 12:37:27\u001b[0m | \u001b[1m<- Request: scihub_url=http://sci-hub.ru, source=TitleSource[type=title, id=Fabrication and properties of nanocrystalline Co0.5FeNiCrTi0.5 high entropy alloy by MA-SPS technique], proxies={}\u001b[0m\n",
      "\u001b[1m[INFO]\u001b[0m | \u001b[32m2023/12/06 12:37:28\u001b[0m | \u001b[1m-> Response: status_code=200, content_length=5917\u001b[0m\n",
      "\u001b[33m\u001b[1m[WARNING]\u001b[0m | \u001b[32m2023/12/06 12:37:28\u001b[0m | \u001b[33m\u001b[1mError occurs, task status: extracting_failed, error: No pdf tag was found in the given content with the selector: #pdf\u001b[0m\n",
      "\u001b[1m[INFO]\u001b[0m | \u001b[32m2023/12/06 12:37:28\u001b[0m | \u001b[1mChoose scihub url [2]: https://sci-hub.st\u001b[0m\n",
      "\u001b[1m[INFO]\u001b[0m | \u001b[32m2023/12/06 12:37:28\u001b[0m | \u001b[1m<- Request: scihub_url=https://sci-hub.st, source=TitleSource[type=title, id=Fabrication and properties of nanocrystalline Co0.5FeNiCrTi0.5 high entropy alloy by MA-SPS technique], proxies={}\u001b[0m\n",
      "\u001b[1m[INFO]\u001b[0m | \u001b[32m2023/12/06 12:37:28\u001b[0m | \u001b[1m-> Response: status_code=403, content_length=747\u001b[0m\n",
      "\u001b[33m\u001b[1m[WARNING]\u001b[0m | \u001b[32m2023/12/06 12:37:28\u001b[0m | \u001b[33m\u001b[1mError occurs, task status: crawling_failed, error: Error occurs when crawling source: TitleSource[type=title, id=Fabrication and properties of nanocrystalline Co0.5FeNiCrTi0.5 high entropy alloy by MA-SPS technique]\u001b[0m\n",
      "\u001b[1m[INFO]\u001b[0m | \u001b[32m2023/12/06 12:37:28\u001b[0m | \u001b[1mChoose scihub url [3]: https://sci-hub.mobi\u001b[0m\n",
      "\u001b[1m[INFO]\u001b[0m | \u001b[32m2023/12/06 12:37:28\u001b[0m | \u001b[1m<- Request: scihub_url=https://sci-hub.mobi, source=TitleSource[type=title, id=Fabrication and properties of nanocrystalline Co0.5FeNiCrTi0.5 high entropy alloy by MA-SPS technique], proxies={}\u001b[0m\n",
      "\u001b[1m[INFO]\u001b[0m | \u001b[32m2023/12/06 12:37:30\u001b[0m | \u001b[1m-> Response: status_code=200, content_length=5917\u001b[0m\n",
      "\u001b[33m\u001b[1m[WARNING]\u001b[0m | \u001b[32m2023/12/06 12:37:30\u001b[0m | \u001b[33m\u001b[1mError occurs, task status: extracting_failed, error: No pdf tag was found in the given content with the selector: #pdf\u001b[0m\n",
      "\u001b[1m[INFO]\u001b[0m | \u001b[32m2023/12/06 12:37:30\u001b[0m | \u001b[1mChoose scihub url [4]: https://sci-hub.se\u001b[0m\n",
      "\u001b[1m[INFO]\u001b[0m | \u001b[32m2023/12/06 12:37:30\u001b[0m | \u001b[1m<- Request: scihub_url=https://sci-hub.se, source=TitleSource[type=title, id=Fabrication and properties of nanocrystalline Co0.5FeNiCrTi0.5 high entropy alloy by MA-SPS technique], proxies={}\u001b[0m\n",
      "\u001b[1m[INFO]\u001b[0m | \u001b[32m2023/12/06 12:37:31\u001b[0m | \u001b[1m-> Response: status_code=200, content_length=5917\u001b[0m\n",
      "\u001b[33m\u001b[1m[WARNING]\u001b[0m | \u001b[32m2023/12/06 12:37:31\u001b[0m | \u001b[33m\u001b[1mError occurs, task status: extracting_failed, error: No pdf tag was found in the given content with the selector: #pdf\u001b[0m\n",
      "\u001b[1m[INFO]\u001b[0m | \u001b[32m2023/12/06 12:37:31\u001b[0m | \u001b[1mChoose scihub url [5]: http://sci-hub.se\u001b[0m\n",
      "\u001b[1m[INFO]\u001b[0m | \u001b[32m2023/12/06 12:37:31\u001b[0m | \u001b[1m<- Request: scihub_url=http://sci-hub.se, source=TitleSource[type=title, id=Fabrication and properties of nanocrystalline Co0.5FeNiCrTi0.5 high entropy alloy by MA-SPS technique], proxies={}\u001b[0m\n",
      "\u001b[1m[INFO]\u001b[0m | \u001b[32m2023/12/06 12:37:32\u001b[0m | \u001b[1m-> Response: status_code=200, content_length=5917\u001b[0m\n",
      "\u001b[33m\u001b[1m[WARNING]\u001b[0m | \u001b[32m2023/12/06 12:37:32\u001b[0m | \u001b[33m\u001b[1mError occurs, task status: extracting_failed, error: No pdf tag was found in the given content with the selector: #pdf\u001b[0m\n",
      "\u001b[1m[INFO]\u001b[0m | \u001b[32m2023/12/06 12:37:32\u001b[0m | \u001b[1mChoose scihub url [6]: http://sci-hub.mobi\u001b[0m\n",
      "\u001b[1m[INFO]\u001b[0m | \u001b[32m2023/12/06 12:37:32\u001b[0m | \u001b[1m<- Request: scihub_url=http://sci-hub.mobi, source=TitleSource[type=title, id=Fabrication and properties of nanocrystalline Co0.5FeNiCrTi0.5 high entropy alloy by MA-SPS technique], proxies={}\u001b[0m\n",
      "\u001b[1m[INFO]\u001b[0m | \u001b[32m2023/12/06 12:37:33\u001b[0m | \u001b[1m-> Response: status_code=200, content_length=39030\u001b[0m\n",
      "\u001b[33m\u001b[1m[WARNING]\u001b[0m | \u001b[32m2023/12/06 12:37:33\u001b[0m | \u001b[33m\u001b[1mError occurs, task status: extracting_failed, error: No pdf tag was found in the given content with the selector: #pdf\u001b[0m\n",
      "\u001b[1m[INFO]\u001b[0m | \u001b[32m2023/12/06 12:37:33\u001b[0m | \u001b[1mChoose scihub url [7]: http://sci-hub.st\u001b[0m\n",
      "\u001b[1m[INFO]\u001b[0m | \u001b[32m2023/12/06 12:37:33\u001b[0m | \u001b[1m<- Request: scihub_url=http://sci-hub.st, source=TitleSource[type=title, id=Fabrication and properties of nanocrystalline Co0.5FeNiCrTi0.5 high entropy alloy by MA-SPS technique], proxies={}\u001b[0m\n",
      "\u001b[1m[INFO]\u001b[0m | \u001b[32m2023/12/06 12:37:34\u001b[0m | \u001b[1m-> Response: status_code=403, content_length=747\u001b[0m\n",
      "\u001b[33m\u001b[1m[WARNING]\u001b[0m | \u001b[32m2023/12/06 12:37:34\u001b[0m | \u001b[33m\u001b[1mError occurs, task status: crawling_failed, error: Error occurs when crawling source: TitleSource[type=title, id=Fabrication and properties of nanocrystalline Co0.5FeNiCrTi0.5 high entropy alloy by MA-SPS technique]\u001b[0m\n",
      "\u001b[31m\u001b[1m[ERROR]\u001b[0m | \u001b[32m2023/12/06 12:37:34\u001b[0m | \u001b[31m\u001b[1mFailed to download the paper: Fabrication and properties of nanocrystalline Co0.5FeNiCrTi0.5 high entropy alloy by MA-SPS technique. Please try again.\u001b[0m\n",
      "\u001b[1m[INFO]\u001b[0m | \u001b[32m2023/12/06 12:37:34\u001b[0m | \u001b[1mChoose scihub url [0]: https://sci-hub.ru\u001b[0m\n",
      "\u001b[1m[INFO]\u001b[0m | \u001b[32m2023/12/06 12:37:34\u001b[0m | \u001b[1m<- Request: scihub_url=https://sci-hub.ru, source=TitleSource[type=title, id=Annealing effects on the microstructure and properties of bulk high-entropy CoCrFeNiTi0.5 alloy casting ingot], proxies={}\u001b[0m\n"
     ]
    },
    {
     "name": "stdout",
     "output_type": "stream",
     "text": [
      "98\n"
     ]
    },
    {
     "name": "stderr",
     "output_type": "stream",
     "text": [
      "\u001b[1m[INFO]\u001b[0m | \u001b[32m2023/12/06 12:37:35\u001b[0m | \u001b[1m-> Response: status_code=200, content_length=5925\u001b[0m\n",
      "\u001b[33m\u001b[1m[WARNING]\u001b[0m | \u001b[32m2023/12/06 12:37:35\u001b[0m | \u001b[33m\u001b[1mError occurs, task status: extracting_failed, error: No pdf tag was found in the given content with the selector: #pdf\u001b[0m\n",
      "\u001b[1m[INFO]\u001b[0m | \u001b[32m2023/12/06 12:37:35\u001b[0m | \u001b[1mChoose scihub url [1]: http://sci-hub.ru\u001b[0m\n",
      "\u001b[1m[INFO]\u001b[0m | \u001b[32m2023/12/06 12:37:35\u001b[0m | \u001b[1m<- Request: scihub_url=http://sci-hub.ru, source=TitleSource[type=title, id=Annealing effects on the microstructure and properties of bulk high-entropy CoCrFeNiTi0.5 alloy casting ingot], proxies={}\u001b[0m\n",
      "\u001b[1m[INFO]\u001b[0m | \u001b[32m2023/12/06 12:37:36\u001b[0m | \u001b[1m-> Response: status_code=200, content_length=5925\u001b[0m\n",
      "\u001b[33m\u001b[1m[WARNING]\u001b[0m | \u001b[32m2023/12/06 12:37:36\u001b[0m | \u001b[33m\u001b[1mError occurs, task status: extracting_failed, error: No pdf tag was found in the given content with the selector: #pdf\u001b[0m\n",
      "\u001b[1m[INFO]\u001b[0m | \u001b[32m2023/12/06 12:37:36\u001b[0m | \u001b[1mChoose scihub url [2]: https://sci-hub.st\u001b[0m\n",
      "\u001b[1m[INFO]\u001b[0m | \u001b[32m2023/12/06 12:37:36\u001b[0m | \u001b[1m<- Request: scihub_url=https://sci-hub.st, source=TitleSource[type=title, id=Annealing effects on the microstructure and properties of bulk high-entropy CoCrFeNiTi0.5 alloy casting ingot], proxies={}\u001b[0m\n",
      "\u001b[1m[INFO]\u001b[0m | \u001b[32m2023/12/06 12:37:36\u001b[0m | \u001b[1m-> Response: status_code=403, content_length=747\u001b[0m\n",
      "\u001b[33m\u001b[1m[WARNING]\u001b[0m | \u001b[32m2023/12/06 12:37:36\u001b[0m | \u001b[33m\u001b[1mError occurs, task status: crawling_failed, error: Error occurs when crawling source: TitleSource[type=title, id=Annealing effects on the microstructure and properties of bulk high-entropy CoCrFeNiTi0.5 alloy casting ingot]\u001b[0m\n",
      "\u001b[1m[INFO]\u001b[0m | \u001b[32m2023/12/06 12:37:36\u001b[0m | \u001b[1mChoose scihub url [3]: https://sci-hub.mobi\u001b[0m\n",
      "\u001b[1m[INFO]\u001b[0m | \u001b[32m2023/12/06 12:37:36\u001b[0m | \u001b[1m<- Request: scihub_url=https://sci-hub.mobi, source=TitleSource[type=title, id=Annealing effects on the microstructure and properties of bulk high-entropy CoCrFeNiTi0.5 alloy casting ingot], proxies={}\u001b[0m\n",
      "\u001b[1m[INFO]\u001b[0m | \u001b[32m2023/12/06 12:37:38\u001b[0m | \u001b[1m-> Response: status_code=200, content_length=5925\u001b[0m\n",
      "\u001b[33m\u001b[1m[WARNING]\u001b[0m | \u001b[32m2023/12/06 12:37:38\u001b[0m | \u001b[33m\u001b[1mError occurs, task status: extracting_failed, error: No pdf tag was found in the given content with the selector: #pdf\u001b[0m\n",
      "\u001b[1m[INFO]\u001b[0m | \u001b[32m2023/12/06 12:37:38\u001b[0m | \u001b[1mChoose scihub url [4]: https://sci-hub.se\u001b[0m\n",
      "\u001b[1m[INFO]\u001b[0m | \u001b[32m2023/12/06 12:37:38\u001b[0m | \u001b[1m<- Request: scihub_url=https://sci-hub.se, source=TitleSource[type=title, id=Annealing effects on the microstructure and properties of bulk high-entropy CoCrFeNiTi0.5 alloy casting ingot], proxies={}\u001b[0m\n",
      "\u001b[1m[INFO]\u001b[0m | \u001b[32m2023/12/06 12:37:39\u001b[0m | \u001b[1m-> Response: status_code=200, content_length=5925\u001b[0m\n",
      "\u001b[33m\u001b[1m[WARNING]\u001b[0m | \u001b[32m2023/12/06 12:37:39\u001b[0m | \u001b[33m\u001b[1mError occurs, task status: extracting_failed, error: No pdf tag was found in the given content with the selector: #pdf\u001b[0m\n",
      "\u001b[1m[INFO]\u001b[0m | \u001b[32m2023/12/06 12:37:39\u001b[0m | \u001b[1mChoose scihub url [5]: http://sci-hub.se\u001b[0m\n",
      "\u001b[1m[INFO]\u001b[0m | \u001b[32m2023/12/06 12:37:39\u001b[0m | \u001b[1m<- Request: scihub_url=http://sci-hub.se, source=TitleSource[type=title, id=Annealing effects on the microstructure and properties of bulk high-entropy CoCrFeNiTi0.5 alloy casting ingot], proxies={}\u001b[0m\n",
      "\u001b[1m[INFO]\u001b[0m | \u001b[32m2023/12/06 12:37:40\u001b[0m | \u001b[1m-> Response: status_code=200, content_length=5925\u001b[0m\n",
      "\u001b[33m\u001b[1m[WARNING]\u001b[0m | \u001b[32m2023/12/06 12:37:40\u001b[0m | \u001b[33m\u001b[1mError occurs, task status: extracting_failed, error: No pdf tag was found in the given content with the selector: #pdf\u001b[0m\n",
      "\u001b[1m[INFO]\u001b[0m | \u001b[32m2023/12/06 12:37:40\u001b[0m | \u001b[1mChoose scihub url [6]: http://sci-hub.mobi\u001b[0m\n",
      "\u001b[1m[INFO]\u001b[0m | \u001b[32m2023/12/06 12:37:40\u001b[0m | \u001b[1m<- Request: scihub_url=http://sci-hub.mobi, source=TitleSource[type=title, id=Annealing effects on the microstructure and properties of bulk high-entropy CoCrFeNiTi0.5 alloy casting ingot], proxies={}\u001b[0m\n",
      "\u001b[1m[INFO]\u001b[0m | \u001b[32m2023/12/06 12:37:42\u001b[0m | \u001b[1m-> Response: status_code=200, content_length=39030\u001b[0m\n",
      "\u001b[33m\u001b[1m[WARNING]\u001b[0m | \u001b[32m2023/12/06 12:37:42\u001b[0m | \u001b[33m\u001b[1mError occurs, task status: extracting_failed, error: No pdf tag was found in the given content with the selector: #pdf\u001b[0m\n",
      "\u001b[1m[INFO]\u001b[0m | \u001b[32m2023/12/06 12:37:42\u001b[0m | \u001b[1mChoose scihub url [7]: http://sci-hub.st\u001b[0m\n",
      "\u001b[1m[INFO]\u001b[0m | \u001b[32m2023/12/06 12:37:42\u001b[0m | \u001b[1m<- Request: scihub_url=http://sci-hub.st, source=TitleSource[type=title, id=Annealing effects on the microstructure and properties of bulk high-entropy CoCrFeNiTi0.5 alloy casting ingot], proxies={}\u001b[0m\n",
      "\u001b[1m[INFO]\u001b[0m | \u001b[32m2023/12/06 12:37:43\u001b[0m | \u001b[1m-> Response: status_code=403, content_length=747\u001b[0m\n",
      "\u001b[33m\u001b[1m[WARNING]\u001b[0m | \u001b[32m2023/12/06 12:37:43\u001b[0m | \u001b[33m\u001b[1mError occurs, task status: crawling_failed, error: Error occurs when crawling source: TitleSource[type=title, id=Annealing effects on the microstructure and properties of bulk high-entropy CoCrFeNiTi0.5 alloy casting ingot]\u001b[0m\n",
      "\u001b[31m\u001b[1m[ERROR]\u001b[0m | \u001b[32m2023/12/06 12:37:43\u001b[0m | \u001b[31m\u001b[1mFailed to download the paper: Annealing effects on the microstructure and properties of bulk high-entropy CoCrFeNiTi0.5 alloy casting ingot. Please try again.\u001b[0m\n",
      "\u001b[1m[INFO]\u001b[0m | \u001b[32m2023/12/06 12:37:43\u001b[0m | \u001b[1mChoose scihub url [0]: https://sci-hub.ru\u001b[0m\n",
      "\u001b[1m[INFO]\u001b[0m | \u001b[32m2023/12/06 12:37:43\u001b[0m | \u001b[1m<- Request: scihub_url=https://sci-hub.ru, source=TitleSource[type=title, id=Microstructure and tensile properties of FeMnNiCuCoSnx high entropy alloys], proxies={}\u001b[0m\n"
     ]
    },
    {
     "name": "stdout",
     "output_type": "stream",
     "text": [
      "99\n"
     ]
    },
    {
     "name": "stderr",
     "output_type": "stream",
     "text": [
      "\u001b[1m[INFO]\u001b[0m | \u001b[32m2023/12/06 12:37:44\u001b[0m | \u001b[1m-> Response: status_code=200, content_length=7580\u001b[0m\n",
      "\u001b[1m[INFO]\u001b[0m | \u001b[32m2023/12/06 12:37:44\u001b[0m | \u001b[1m* Extracted information: {'url': 'https://moscow.sci-hub.ru/1993/ed1a9098e348e95c038720e6635788b9/liu2013.pdf', 'title': 'Microstructure and tensile properties of FeMnNiCuCoSnx high entropy alloys. Materials & Design, 44, 223–227'}\u001b[0m\n"
     ]
    },
    {
     "name": "stdout",
     "output_type": "stream",
     "text": [
      "100% [==================================================] 1334829/1334829\n"
     ]
    },
    {
     "name": "stderr",
     "output_type": "stream",
     "text": [
      "\u001b[1m[INFO]\u001b[0m | \u001b[32m2023/12/06 12:37:46\u001b[0m | \u001b[1m↓ Successfully download the url to: references/reference_99.pdf\u001b[0m\n"
     ]
    },
    {
     "name": "stdout",
     "output_type": "stream",
     "text": [
      "100\n"
     ]
    },
    {
     "name": "stderr",
     "output_type": "stream",
     "text": [
      "\u001b[1m[INFO]\u001b[0m | \u001b[32m2023/12/06 12:37:46\u001b[0m | \u001b[1mChoose scihub url [0]: https://sci-hub.ru\u001b[0m\n",
      "\u001b[1m[INFO]\u001b[0m | \u001b[32m2023/12/06 12:37:46\u001b[0m | \u001b[1m<- Request: scihub_url=https://sci-hub.ru, source=TitleSource[type=title, id=Microstructure and the properties of FeCoCuNiSnx high entropy alloys], proxies={}\u001b[0m\n",
      "\u001b[1m[INFO]\u001b[0m | \u001b[32m2023/12/06 12:37:47\u001b[0m | \u001b[1m-> Response: status_code=200, content_length=7595\u001b[0m\n",
      "\u001b[1m[INFO]\u001b[0m | \u001b[32m2023/12/06 12:37:47\u001b[0m | \u001b[1m* Extracted information: {'url': 'https://zero.sci-hub.ru/1350/532ed9fdc66b2aca82a6fd3e1f2f5cc9/liu2012.pdf', 'title': 'Microstructure and the properties of FeCoCuNiSnx high entropy alloys. Materials Science and Engineering  A, 548, 64–68'}\u001b[0m\n"
     ]
    },
    {
     "name": "stdout",
     "output_type": "stream",
     "text": [
      "100% [==================================================] 2628005/2628005\n"
     ]
    },
    {
     "name": "stderr",
     "output_type": "stream",
     "text": [
      "\u001b[1m[INFO]\u001b[0m | \u001b[32m2023/12/06 12:37:49\u001b[0m | \u001b[1m↓ Successfully download the url to: references/reference_100.pdf\u001b[0m\n"
     ]
    },
    {
     "name": "stdout",
     "output_type": "stream",
     "text": [
      "101\n"
     ]
    },
    {
     "name": "stderr",
     "output_type": "stream",
     "text": [
      "\u001b[1m[INFO]\u001b[0m | \u001b[32m2023/12/06 12:37:49\u001b[0m | \u001b[1mChoose scihub url [0]: https://sci-hub.ru\u001b[0m\n",
      "\u001b[1m[INFO]\u001b[0m | \u001b[32m2023/12/06 12:37:49\u001b[0m | \u001b[1m<- Request: scihub_url=https://sci-hub.ru, source=TitleSource[type=title, id=Hydrogen storage properties of multi-principal-component CoFeMnTixVyZrz alloys], proxies={}\u001b[0m\n",
      "\u001b[1m[INFO]\u001b[0m | \u001b[32m2023/12/06 12:37:50\u001b[0m | \u001b[1m-> Response: status_code=200, content_length=7680\u001b[0m\n",
      "\u001b[1m[INFO]\u001b[0m | \u001b[32m2023/12/06 12:37:50\u001b[0m | \u001b[1m* Extracted information: {'url': 'https://zero.sci-hub.ru/307/b16b4a283db47933ba0bd8bb5bada470/kao2010.pdf', 'title': 'Hydrogen storage properties of multi-principal-component CoFeMnTixVyZrz alloys. International Journal of Hydrogen Energy, 35(17), 9046–9059'}\u001b[0m\n"
     ]
    },
    {
     "name": "stdout",
     "output_type": "stream",
     "text": [
      "100% [==================================================] 3890107/3890107\n"
     ]
    },
    {
     "name": "stderr",
     "output_type": "stream",
     "text": [
      "\u001b[1m[INFO]\u001b[0m | \u001b[32m2023/12/06 12:37:52\u001b[0m | \u001b[1m↓ Successfully download the url to: references/reference_101.pdf\u001b[0m\n"
     ]
    },
    {
     "name": "stdout",
     "output_type": "stream",
     "text": [
      "102\n"
     ]
    },
    {
     "name": "stderr",
     "output_type": "stream",
     "text": [
      "\u001b[1m[INFO]\u001b[0m | \u001b[32m2023/12/06 12:37:52\u001b[0m | \u001b[1mChoose scihub url [0]: https://sci-hub.ru\u001b[0m\n",
      "\u001b[1m[INFO]\u001b[0m | \u001b[32m2023/12/06 12:37:52\u001b[0m | \u001b[1m<- Request: scihub_url=https://sci-hub.ru, source=TitleSource[type=title, id=Effect of elemental interaction on microstructure of CuCrFeNiMn high entropy alloy system], proxies={}\u001b[0m\n",
      "\u001b[1m[INFO]\u001b[0m | \u001b[32m2023/12/06 12:37:53\u001b[0m | \u001b[1m-> Response: status_code=200, content_length=7663\u001b[0m\n",
      "\u001b[1m[INFO]\u001b[0m | \u001b[32m2023/12/06 12:37:53\u001b[0m | \u001b[1m* Extracted information: {'url': 'https://moscow.sci-hub.ru/1671/4cec1c6bca2f62257645ac55434e6068/ren2010.pdf', 'title': 'Effect of elemental interaction on microstructure of CuCrFeNiMn high entropy alloy system. Journal of Alloys and Compounds, 493(1-2), 148–153'}\u001b[0m\n"
     ]
    },
    {
     "name": "stdout",
     "output_type": "stream",
     "text": [
      "100% [==================================================] 1041476/1041476\n"
     ]
    },
    {
     "name": "stderr",
     "output_type": "stream",
     "text": [
      "\u001b[1m[INFO]\u001b[0m | \u001b[32m2023/12/06 12:37:55\u001b[0m | \u001b[1m↓ Successfully download the url to: references/reference_102.pdf\u001b[0m\n"
     ]
    },
    {
     "name": "stdout",
     "output_type": "stream",
     "text": [
      "103\n"
     ]
    },
    {
     "name": "stderr",
     "output_type": "stream",
     "text": [
      "\u001b[1m[INFO]\u001b[0m | \u001b[32m2023/12/06 12:37:55\u001b[0m | \u001b[1mChoose scihub url [0]: https://sci-hub.ru\u001b[0m\n",
      "\u001b[1m[INFO]\u001b[0m | \u001b[32m2023/12/06 12:37:55\u001b[0m | \u001b[1m<- Request: scihub_url=https://sci-hub.ru, source=TitleSource[type=title, id=Microstructures and mechanical properties of compositionally complex Co-free FeNiMnCr18 FCC solid solution alloy], proxies={}\u001b[0m\n",
      "\u001b[1m[INFO]\u001b[0m | \u001b[32m2023/12/06 12:37:57\u001b[0m | \u001b[1m-> Response: status_code=200, content_length=7656\u001b[0m\n",
      "\u001b[1m[INFO]\u001b[0m | \u001b[32m2023/12/06 12:37:57\u001b[0m | \u001b[1m* Extracted information: {'url': 'https://moscow.sci-hub.ru/4024/1b157eae30e677139acf931973a856d8/wu2015.pdf', 'title': 'Microstructures and mechanical properties of compositionally complex Co-free FeNiMnCr 18  FCC solid solution alloy. Materials Science and Engineering  A, 640, 217–224'}\u001b[0m\n"
     ]
    },
    {
     "name": "stdout",
     "output_type": "stream",
     "text": [
      "100% [==================================================] 1228360/1228360\n"
     ]
    },
    {
     "name": "stderr",
     "output_type": "stream",
     "text": [
      "\u001b[1m[INFO]\u001b[0m | \u001b[32m2023/12/06 12:38:03\u001b[0m | \u001b[1m↓ Successfully download the url to: references/reference_103.pdf\u001b[0m\n",
      "\u001b[1m[INFO]\u001b[0m | \u001b[32m2023/12/06 12:38:03\u001b[0m | \u001b[1mChoose scihub url [0]: https://sci-hub.ru\u001b[0m\n",
      "\u001b[1m[INFO]\u001b[0m | \u001b[32m2023/12/06 12:38:03\u001b[0m | \u001b[1m<- Request: scihub_url=https://sci-hub.ru, source=TitleSource[type=title, id=Nitride films deposited from an equimolar Al-Cr-Mo-Si-Ti alloy target by reactive direct current magnetron sputtering], proxies={}\u001b[0m\n"
     ]
    },
    {
     "name": "stdout",
     "output_type": "stream",
     "text": [
      "104\n"
     ]
    },
    {
     "name": "stderr",
     "output_type": "stream",
     "text": [
      "\u001b[1m[INFO]\u001b[0m | \u001b[32m2023/12/06 12:38:04\u001b[0m | \u001b[1m-> Response: status_code=200, content_length=7729\u001b[0m\n",
      "\u001b[1m[INFO]\u001b[0m | \u001b[32m2023/12/06 12:38:04\u001b[0m | \u001b[1m* Extracted information: {'url': 'https://dacemirror.sci-hub.ru/journal-article/f23d018e2340f0f38bb4de817291edee/chang2008.pdf', 'title': 'Nitride films deposited from an equimolar Al–Cr–Mo–Si–Ti alloy target by reactive direct current magnetron sputtering. Thin Solid Films, 516(18), 6402–6408'}\u001b[0m\n"
     ]
    },
    {
     "name": "stdout",
     "output_type": "stream",
     "text": [
      "100% [==================================================] 936874/936874\n"
     ]
    },
    {
     "name": "stderr",
     "output_type": "stream",
     "text": [
      "\u001b[1m[INFO]\u001b[0m | \u001b[32m2023/12/06 12:38:06\u001b[0m | \u001b[1m↓ Successfully download the url to: references/reference_104.pdf\u001b[0m\n"
     ]
    },
    {
     "name": "stdout",
     "output_type": "stream",
     "text": [
      "105\n"
     ]
    },
    {
     "name": "stderr",
     "output_type": "stream",
     "text": [
      "\u001b[1m[INFO]\u001b[0m | \u001b[32m2023/12/06 12:38:06\u001b[0m | \u001b[1mChoose scihub url [0]: https://sci-hub.ru\u001b[0m\n",
      "\u001b[1m[INFO]\u001b[0m | \u001b[32m2023/12/06 12:38:06\u001b[0m | \u001b[1m<- Request: scihub_url=https://sci-hub.ru, source=TitleSource[type=title, id=Effect of aluminum on the microstructure and properties of two refractory high entropy alloys], proxies={}\u001b[0m\n",
      "\u001b[1m[INFO]\u001b[0m | \u001b[32m2023/12/06 12:38:07\u001b[0m | \u001b[1m-> Response: status_code=200, content_length=7611\u001b[0m\n",
      "\u001b[1m[INFO]\u001b[0m | \u001b[32m2023/12/06 12:38:07\u001b[0m | \u001b[1m* Extracted information: {'url': 'https://zero.sci-hub.ru/2290/8b2b421985be63d0c8a267dccdb46061/senkov2014.pdf', 'title': 'Effect of aluminum on the microstructure and properties of two refractory high-entropy alloys. Acta Materialia, 68, 214–228'}\u001b[0m\n"
     ]
    },
    {
     "name": "stdout",
     "output_type": "stream",
     "text": [
      "100% [==================================================] 2668591/2668591\n"
     ]
    },
    {
     "name": "stderr",
     "output_type": "stream",
     "text": [
      "\u001b[1m[INFO]\u001b[0m | \u001b[32m2023/12/06 12:38:09\u001b[0m | \u001b[1m↓ Successfully download the url to: references/reference_105.pdf\u001b[0m\n",
      "\u001b[1m[INFO]\u001b[0m | \u001b[32m2023/12/06 12:38:09\u001b[0m | \u001b[1mChoose scihub url [0]: https://sci-hub.ru\u001b[0m\n",
      "\u001b[1m[INFO]\u001b[0m | \u001b[32m2023/12/06 12:38:09\u001b[0m | \u001b[1m<- Request: scihub_url=https://sci-hub.ru, source=TitleSource[type=title, id=Microstructure and Properties of Aluminum-Containing Refractory High-Entropy Alloys], proxies={}\u001b[0m\n"
     ]
    },
    {
     "name": "stdout",
     "output_type": "stream",
     "text": [
      "106\n"
     ]
    },
    {
     "name": "stderr",
     "output_type": "stream",
     "text": [
      "\u001b[1m[INFO]\u001b[0m | \u001b[32m2023/12/06 12:38:10\u001b[0m | \u001b[1m-> Response: status_code=200, content_length=7567\u001b[0m\n",
      "\u001b[1m[INFO]\u001b[0m | \u001b[32m2023/12/06 12:38:10\u001b[0m | \u001b[1m* Extracted information: {'url': 'https://zero.sci-hub.ru/3557/28a1cfea592d9081e5030ba6c20ebb1a/senkov2014.pdf', 'title': 'Microstructure and Properties of Aluminum-Containing Refractory High-Entropy Alloys. JOM, 66(10), 2030–2042'}\u001b[0m\n"
     ]
    },
    {
     "name": "stdout",
     "output_type": "stream",
     "text": [
      "100% [==================================================] 3662777/3662777\n"
     ]
    },
    {
     "name": "stderr",
     "output_type": "stream",
     "text": [
      "\u001b[1m[INFO]\u001b[0m | \u001b[32m2023/12/06 12:38:12\u001b[0m | \u001b[1m↓ Successfully download the url to: references/reference_106.pdf\u001b[0m\n",
      "\u001b[1m[INFO]\u001b[0m | \u001b[32m2023/12/06 12:38:12\u001b[0m | \u001b[1mChoose scihub url [0]: https://sci-hub.ru\u001b[0m\n",
      "\u001b[1m[INFO]\u001b[0m | \u001b[32m2023/12/06 12:38:12\u001b[0m | \u001b[1m<- Request: scihub_url=https://sci-hub.ru, source=TitleSource[type=title, id=Development of a Refractory High Entropy Superalloy], proxies={}\u001b[0m\n"
     ]
    },
    {
     "name": "stdout",
     "output_type": "stream",
     "text": [
      "107\n"
     ]
    },
    {
     "name": "stderr",
     "output_type": "stream",
     "text": [
      "\u001b[1m[INFO]\u001b[0m | \u001b[32m2023/12/06 12:38:13\u001b[0m | \u001b[1m-> Response: status_code=200, content_length=7512\u001b[0m\n",
      "\u001b[1m[INFO]\u001b[0m | \u001b[32m2023/12/06 12:38:13\u001b[0m | \u001b[1m* Extracted information: {'url': 'https://dacemirror.sci-hub.ru/journal-article/36cf165f714064e8e801f944b1e2a8fe/senkov2016.pdf', 'title': 'Development of a Refractory High Entropy Superalloy. Entropy, 18(3), 102'}\u001b[0m\n"
     ]
    },
    {
     "name": "stdout",
     "output_type": "stream",
     "text": [
      "100% [==================================================] 747/747\n"
     ]
    },
    {
     "name": "stderr",
     "output_type": "stream",
     "text": [
      "\u001b[1m[INFO]\u001b[0m | \u001b[32m2023/12/06 12:38:13\u001b[0m | \u001b[1m↓ Successfully download the url to: references/reference_107.pdf\u001b[0m\n",
      "\u001b[1m[INFO]\u001b[0m | \u001b[32m2023/12/06 12:38:13\u001b[0m | \u001b[1mChoose scihub url [0]: https://sci-hub.ru\u001b[0m\n",
      "\u001b[1m[INFO]\u001b[0m | \u001b[32m2023/12/06 12:38:13\u001b[0m | \u001b[1m<- Request: scihub_url=https://sci-hub.ru, source=TitleSource[type=title, id=Characterization of the microstructure of the compositionally complex alloy Al1Mo0.5Nb1Ta0.5Ti1Zr1], proxies={}\u001b[0m\n"
     ]
    },
    {
     "name": "stdout",
     "output_type": "stream",
     "text": [
      "108\n"
     ]
    },
    {
     "name": "stderr",
     "output_type": "stream",
     "text": [
      "\u001b[1m[INFO]\u001b[0m | \u001b[32m2023/12/06 12:38:14\u001b[0m | \u001b[1m-> Response: status_code=200, content_length=5914\u001b[0m\n",
      "\u001b[33m\u001b[1m[WARNING]\u001b[0m | \u001b[32m2023/12/06 12:38:14\u001b[0m | \u001b[33m\u001b[1mError occurs, task status: extracting_failed, error: No pdf tag was found in the given content with the selector: #pdf\u001b[0m\n",
      "\u001b[1m[INFO]\u001b[0m | \u001b[32m2023/12/06 12:38:14\u001b[0m | \u001b[1mChoose scihub url [1]: http://sci-hub.ru\u001b[0m\n",
      "\u001b[1m[INFO]\u001b[0m | \u001b[32m2023/12/06 12:38:14\u001b[0m | \u001b[1m<- Request: scihub_url=http://sci-hub.ru, source=TitleSource[type=title, id=Characterization of the microstructure of the compositionally complex alloy Al1Mo0.5Nb1Ta0.5Ti1Zr1], proxies={}\u001b[0m\n",
      "\u001b[1m[INFO]\u001b[0m | \u001b[32m2023/12/06 12:38:15\u001b[0m | \u001b[1m-> Response: status_code=200, content_length=5914\u001b[0m\n",
      "\u001b[33m\u001b[1m[WARNING]\u001b[0m | \u001b[32m2023/12/06 12:38:15\u001b[0m | \u001b[33m\u001b[1mError occurs, task status: extracting_failed, error: No pdf tag was found in the given content with the selector: #pdf\u001b[0m\n",
      "\u001b[1m[INFO]\u001b[0m | \u001b[32m2023/12/06 12:38:15\u001b[0m | \u001b[1mChoose scihub url [2]: https://sci-hub.st\u001b[0m\n",
      "\u001b[1m[INFO]\u001b[0m | \u001b[32m2023/12/06 12:38:15\u001b[0m | \u001b[1m<- Request: scihub_url=https://sci-hub.st, source=TitleSource[type=title, id=Characterization of the microstructure of the compositionally complex alloy Al1Mo0.5Nb1Ta0.5Ti1Zr1], proxies={}\u001b[0m\n",
      "\u001b[1m[INFO]\u001b[0m | \u001b[32m2023/12/06 12:38:15\u001b[0m | \u001b[1m-> Response: status_code=403, content_length=747\u001b[0m\n",
      "\u001b[33m\u001b[1m[WARNING]\u001b[0m | \u001b[32m2023/12/06 12:38:15\u001b[0m | \u001b[33m\u001b[1mError occurs, task status: crawling_failed, error: Error occurs when crawling source: TitleSource[type=title, id=Characterization of the microstructure of the compositionally complex alloy Al1Mo0.5Nb1Ta0.5Ti1Zr1]\u001b[0m\n",
      "\u001b[1m[INFO]\u001b[0m | \u001b[32m2023/12/06 12:38:15\u001b[0m | \u001b[1mChoose scihub url [3]: https://sci-hub.mobi\u001b[0m\n",
      "\u001b[1m[INFO]\u001b[0m | \u001b[32m2023/12/06 12:38:15\u001b[0m | \u001b[1m<- Request: scihub_url=https://sci-hub.mobi, source=TitleSource[type=title, id=Characterization of the microstructure of the compositionally complex alloy Al1Mo0.5Nb1Ta0.5Ti1Zr1], proxies={}\u001b[0m\n",
      "\u001b[1m[INFO]\u001b[0m | \u001b[32m2023/12/06 12:38:17\u001b[0m | \u001b[1m-> Response: status_code=200, content_length=5914\u001b[0m\n",
      "\u001b[33m\u001b[1m[WARNING]\u001b[0m | \u001b[32m2023/12/06 12:38:17\u001b[0m | \u001b[33m\u001b[1mError occurs, task status: extracting_failed, error: No pdf tag was found in the given content with the selector: #pdf\u001b[0m\n",
      "\u001b[1m[INFO]\u001b[0m | \u001b[32m2023/12/06 12:38:17\u001b[0m | \u001b[1mChoose scihub url [4]: https://sci-hub.se\u001b[0m\n",
      "\u001b[1m[INFO]\u001b[0m | \u001b[32m2023/12/06 12:38:17\u001b[0m | \u001b[1m<- Request: scihub_url=https://sci-hub.se, source=TitleSource[type=title, id=Characterization of the microstructure of the compositionally complex alloy Al1Mo0.5Nb1Ta0.5Ti1Zr1], proxies={}\u001b[0m\n",
      "\u001b[1m[INFO]\u001b[0m | \u001b[32m2023/12/06 12:38:18\u001b[0m | \u001b[1m-> Response: status_code=200, content_length=5914\u001b[0m\n",
      "\u001b[33m\u001b[1m[WARNING]\u001b[0m | \u001b[32m2023/12/06 12:38:18\u001b[0m | \u001b[33m\u001b[1mError occurs, task status: extracting_failed, error: No pdf tag was found in the given content with the selector: #pdf\u001b[0m\n",
      "\u001b[1m[INFO]\u001b[0m | \u001b[32m2023/12/06 12:38:18\u001b[0m | \u001b[1mChoose scihub url [5]: http://sci-hub.se\u001b[0m\n",
      "\u001b[1m[INFO]\u001b[0m | \u001b[32m2023/12/06 12:38:18\u001b[0m | \u001b[1m<- Request: scihub_url=http://sci-hub.se, source=TitleSource[type=title, id=Characterization of the microstructure of the compositionally complex alloy Al1Mo0.5Nb1Ta0.5Ti1Zr1], proxies={}\u001b[0m\n",
      "\u001b[1m[INFO]\u001b[0m | \u001b[32m2023/12/06 12:38:19\u001b[0m | \u001b[1m-> Response: status_code=200, content_length=5914\u001b[0m\n",
      "\u001b[33m\u001b[1m[WARNING]\u001b[0m | \u001b[32m2023/12/06 12:38:19\u001b[0m | \u001b[33m\u001b[1mError occurs, task status: extracting_failed, error: No pdf tag was found in the given content with the selector: #pdf\u001b[0m\n",
      "\u001b[1m[INFO]\u001b[0m | \u001b[32m2023/12/06 12:38:19\u001b[0m | \u001b[1mChoose scihub url [6]: http://sci-hub.mobi\u001b[0m\n",
      "\u001b[1m[INFO]\u001b[0m | \u001b[32m2023/12/06 12:38:19\u001b[0m | \u001b[1m<- Request: scihub_url=http://sci-hub.mobi, source=TitleSource[type=title, id=Characterization of the microstructure of the compositionally complex alloy Al1Mo0.5Nb1Ta0.5Ti1Zr1], proxies={}\u001b[0m\n",
      "\u001b[1m[INFO]\u001b[0m | \u001b[32m2023/12/06 12:38:20\u001b[0m | \u001b[1m-> Response: status_code=200, content_length=39030\u001b[0m\n",
      "\u001b[33m\u001b[1m[WARNING]\u001b[0m | \u001b[32m2023/12/06 12:38:20\u001b[0m | \u001b[33m\u001b[1mError occurs, task status: extracting_failed, error: No pdf tag was found in the given content with the selector: #pdf\u001b[0m\n",
      "\u001b[1m[INFO]\u001b[0m | \u001b[32m2023/12/06 12:38:20\u001b[0m | \u001b[1mChoose scihub url [7]: http://sci-hub.st\u001b[0m\n",
      "\u001b[1m[INFO]\u001b[0m | \u001b[32m2023/12/06 12:38:20\u001b[0m | \u001b[1m<- Request: scihub_url=http://sci-hub.st, source=TitleSource[type=title, id=Characterization of the microstructure of the compositionally complex alloy Al1Mo0.5Nb1Ta0.5Ti1Zr1], proxies={}\u001b[0m\n",
      "\u001b[1m[INFO]\u001b[0m | \u001b[32m2023/12/06 12:38:21\u001b[0m | \u001b[1m-> Response: status_code=403, content_length=747\u001b[0m\n",
      "\u001b[33m\u001b[1m[WARNING]\u001b[0m | \u001b[32m2023/12/06 12:38:21\u001b[0m | \u001b[33m\u001b[1mError occurs, task status: crawling_failed, error: Error occurs when crawling source: TitleSource[type=title, id=Characterization of the microstructure of the compositionally complex alloy Al1Mo0.5Nb1Ta0.5Ti1Zr1]\u001b[0m\n",
      "\u001b[31m\u001b[1m[ERROR]\u001b[0m | \u001b[32m2023/12/06 12:38:21\u001b[0m | \u001b[31m\u001b[1mFailed to download the paper: Characterization of the microstructure of the compositionally complex alloy Al1Mo0.5Nb1Ta0.5Ti1Zr1. Please try again.\u001b[0m\n",
      "\u001b[1m[INFO]\u001b[0m | \u001b[32m2023/12/06 12:38:21\u001b[0m | \u001b[1mChoose scihub url [0]: https://sci-hub.ru\u001b[0m\n",
      "\u001b[1m[INFO]\u001b[0m | \u001b[32m2023/12/06 12:38:21\u001b[0m | \u001b[1m<- Request: scihub_url=https://sci-hub.ru, source=TitleSource[type=title, id=Microstructure and compressive properties of NbTiVTaAlx high entropy alloys], proxies={}\u001b[0m\n"
     ]
    },
    {
     "name": "stdout",
     "output_type": "stream",
     "text": [
      "109\n"
     ]
    },
    {
     "name": "stderr",
     "output_type": "stream",
     "text": [
      "\u001b[1m[INFO]\u001b[0m | \u001b[32m2023/12/06 12:38:23\u001b[0m | \u001b[1m-> Response: status_code=200, content_length=7567\u001b[0m\n",
      "\u001b[1m[INFO]\u001b[0m | \u001b[32m2023/12/06 12:38:23\u001b[0m | \u001b[1m* Extracted information: {'url': 'https://zero.sci-hub.ru/1894/4968d0995159443849a2f6ad49125674/yang2012.pdf', 'title': 'Microstructure and Compressive Properties of NbTiVTaAlx High Entropy Alloys. Procedia Engineering, 36, 292–298'}\u001b[0m\n"
     ]
    },
    {
     "name": "stdout",
     "output_type": "stream",
     "text": [
      "100% [==================================================] 1356007/1356007\n"
     ]
    },
    {
     "name": "stderr",
     "output_type": "stream",
     "text": [
      "\u001b[1m[INFO]\u001b[0m | \u001b[32m2023/12/06 12:38:25\u001b[0m | \u001b[1m↓ Successfully download the url to: references/reference_109.pdf\u001b[0m\n",
      "\u001b[1m[INFO]\u001b[0m | \u001b[32m2023/12/06 12:38:25\u001b[0m | \u001b[1mChoose scihub url [0]: https://sci-hub.ru\u001b[0m\n",
      "\u001b[1m[INFO]\u001b[0m | \u001b[32m2023/12/06 12:38:25\u001b[0m | \u001b[1m<- Request: scihub_url=https://sci-hub.ru, source=TitleSource[type=title, id=Microstructure and properties of a refractory NbCrMo0.5Ta0.5TiZr alloy], proxies={}\u001b[0m\n"
     ]
    },
    {
     "name": "stdout",
     "output_type": "stream",
     "text": [
      "110\n"
     ]
    },
    {
     "name": "stderr",
     "output_type": "stream",
     "text": [
      "\u001b[1m[INFO]\u001b[0m | \u001b[32m2023/12/06 12:38:25\u001b[0m | \u001b[1m-> Response: status_code=200, content_length=5886\u001b[0m\n",
      "\u001b[33m\u001b[1m[WARNING]\u001b[0m | \u001b[32m2023/12/06 12:38:25\u001b[0m | \u001b[33m\u001b[1mError occurs, task status: extracting_failed, error: No pdf tag was found in the given content with the selector: #pdf\u001b[0m\n",
      "\u001b[1m[INFO]\u001b[0m | \u001b[32m2023/12/06 12:38:25\u001b[0m | \u001b[1mChoose scihub url [1]: http://sci-hub.ru\u001b[0m\n",
      "\u001b[1m[INFO]\u001b[0m | \u001b[32m2023/12/06 12:38:25\u001b[0m | \u001b[1m<- Request: scihub_url=http://sci-hub.ru, source=TitleSource[type=title, id=Microstructure and properties of a refractory NbCrMo0.5Ta0.5TiZr alloy], proxies={}\u001b[0m\n",
      "\u001b[1m[INFO]\u001b[0m | \u001b[32m2023/12/06 12:38:26\u001b[0m | \u001b[1m-> Response: status_code=200, content_length=5886\u001b[0m\n",
      "\u001b[33m\u001b[1m[WARNING]\u001b[0m | \u001b[32m2023/12/06 12:38:26\u001b[0m | \u001b[33m\u001b[1mError occurs, task status: extracting_failed, error: No pdf tag was found in the given content with the selector: #pdf\u001b[0m\n",
      "\u001b[1m[INFO]\u001b[0m | \u001b[32m2023/12/06 12:38:26\u001b[0m | \u001b[1mChoose scihub url [2]: https://sci-hub.st\u001b[0m\n",
      "\u001b[1m[INFO]\u001b[0m | \u001b[32m2023/12/06 12:38:26\u001b[0m | \u001b[1m<- Request: scihub_url=https://sci-hub.st, source=TitleSource[type=title, id=Microstructure and properties of a refractory NbCrMo0.5Ta0.5TiZr alloy], proxies={}\u001b[0m\n",
      "\u001b[1m[INFO]\u001b[0m | \u001b[32m2023/12/06 12:38:27\u001b[0m | \u001b[1m-> Response: status_code=403, content_length=747\u001b[0m\n",
      "\u001b[33m\u001b[1m[WARNING]\u001b[0m | \u001b[32m2023/12/06 12:38:27\u001b[0m | \u001b[33m\u001b[1mError occurs, task status: crawling_failed, error: Error occurs when crawling source: TitleSource[type=title, id=Microstructure and properties of a refractory NbCrMo0.5Ta0.5TiZr alloy]\u001b[0m\n",
      "\u001b[1m[INFO]\u001b[0m | \u001b[32m2023/12/06 12:38:27\u001b[0m | \u001b[1mChoose scihub url [3]: https://sci-hub.mobi\u001b[0m\n",
      "\u001b[1m[INFO]\u001b[0m | \u001b[32m2023/12/06 12:38:27\u001b[0m | \u001b[1m<- Request: scihub_url=https://sci-hub.mobi, source=TitleSource[type=title, id=Microstructure and properties of a refractory NbCrMo0.5Ta0.5TiZr alloy], proxies={}\u001b[0m\n",
      "\u001b[1m[INFO]\u001b[0m | \u001b[32m2023/12/06 12:38:28\u001b[0m | \u001b[1m-> Response: status_code=200, content_length=5886\u001b[0m\n",
      "\u001b[33m\u001b[1m[WARNING]\u001b[0m | \u001b[32m2023/12/06 12:38:28\u001b[0m | \u001b[33m\u001b[1mError occurs, task status: extracting_failed, error: No pdf tag was found in the given content with the selector: #pdf\u001b[0m\n",
      "\u001b[1m[INFO]\u001b[0m | \u001b[32m2023/12/06 12:38:28\u001b[0m | \u001b[1mChoose scihub url [4]: https://sci-hub.se\u001b[0m\n",
      "\u001b[1m[INFO]\u001b[0m | \u001b[32m2023/12/06 12:38:28\u001b[0m | \u001b[1m<- Request: scihub_url=https://sci-hub.se, source=TitleSource[type=title, id=Microstructure and properties of a refractory NbCrMo0.5Ta0.5TiZr alloy], proxies={}\u001b[0m\n",
      "\u001b[1m[INFO]\u001b[0m | \u001b[32m2023/12/06 12:38:29\u001b[0m | \u001b[1m-> Response: status_code=200, content_length=5886\u001b[0m\n",
      "\u001b[33m\u001b[1m[WARNING]\u001b[0m | \u001b[32m2023/12/06 12:38:29\u001b[0m | \u001b[33m\u001b[1mError occurs, task status: extracting_failed, error: No pdf tag was found in the given content with the selector: #pdf\u001b[0m\n",
      "\u001b[1m[INFO]\u001b[0m | \u001b[32m2023/12/06 12:38:29\u001b[0m | \u001b[1mChoose scihub url [5]: http://sci-hub.se\u001b[0m\n",
      "\u001b[1m[INFO]\u001b[0m | \u001b[32m2023/12/06 12:38:29\u001b[0m | \u001b[1m<- Request: scihub_url=http://sci-hub.se, source=TitleSource[type=title, id=Microstructure and properties of a refractory NbCrMo0.5Ta0.5TiZr alloy], proxies={}\u001b[0m\n",
      "\u001b[1m[INFO]\u001b[0m | \u001b[32m2023/12/06 12:38:30\u001b[0m | \u001b[1m-> Response: status_code=200, content_length=5886\u001b[0m\n",
      "\u001b[33m\u001b[1m[WARNING]\u001b[0m | \u001b[32m2023/12/06 12:38:30\u001b[0m | \u001b[33m\u001b[1mError occurs, task status: extracting_failed, error: No pdf tag was found in the given content with the selector: #pdf\u001b[0m\n",
      "\u001b[1m[INFO]\u001b[0m | \u001b[32m2023/12/06 12:38:30\u001b[0m | \u001b[1mChoose scihub url [6]: http://sci-hub.mobi\u001b[0m\n",
      "\u001b[1m[INFO]\u001b[0m | \u001b[32m2023/12/06 12:38:30\u001b[0m | \u001b[1m<- Request: scihub_url=http://sci-hub.mobi, source=TitleSource[type=title, id=Microstructure and properties of a refractory NbCrMo0.5Ta0.5TiZr alloy], proxies={}\u001b[0m\n",
      "\u001b[1m[INFO]\u001b[0m | \u001b[32m2023/12/06 12:38:32\u001b[0m | \u001b[1m-> Response: status_code=200, content_length=39030\u001b[0m\n",
      "\u001b[33m\u001b[1m[WARNING]\u001b[0m | \u001b[32m2023/12/06 12:38:32\u001b[0m | \u001b[33m\u001b[1mError occurs, task status: extracting_failed, error: No pdf tag was found in the given content with the selector: #pdf\u001b[0m\n",
      "\u001b[1m[INFO]\u001b[0m | \u001b[32m2023/12/06 12:38:32\u001b[0m | \u001b[1mChoose scihub url [7]: http://sci-hub.st\u001b[0m\n",
      "\u001b[1m[INFO]\u001b[0m | \u001b[32m2023/12/06 12:38:32\u001b[0m | \u001b[1m<- Request: scihub_url=http://sci-hub.st, source=TitleSource[type=title, id=Microstructure and properties of a refractory NbCrMo0.5Ta0.5TiZr alloy], proxies={}\u001b[0m\n",
      "\u001b[1m[INFO]\u001b[0m | \u001b[32m2023/12/06 12:38:33\u001b[0m | \u001b[1m-> Response: status_code=403, content_length=747\u001b[0m\n",
      "\u001b[33m\u001b[1m[WARNING]\u001b[0m | \u001b[32m2023/12/06 12:38:33\u001b[0m | \u001b[33m\u001b[1mError occurs, task status: crawling_failed, error: Error occurs when crawling source: TitleSource[type=title, id=Microstructure and properties of a refractory NbCrMo0.5Ta0.5TiZr alloy]\u001b[0m\n",
      "\u001b[31m\u001b[1m[ERROR]\u001b[0m | \u001b[32m2023/12/06 12:38:33\u001b[0m | \u001b[31m\u001b[1mFailed to download the paper: Microstructure and properties of a refractory NbCrMo0.5Ta0.5TiZr alloy. Please try again.\u001b[0m\n",
      "\u001b[1m[INFO]\u001b[0m | \u001b[32m2023/12/06 12:38:33\u001b[0m | \u001b[1mChoose scihub url [0]: https://sci-hub.ru\u001b[0m\n",
      "\u001b[1m[INFO]\u001b[0m | \u001b[32m2023/12/06 12:38:33\u001b[0m | \u001b[1m<- Request: scihub_url=https://sci-hub.ru, source=TitleSource[type=title, id=Low-density, refractory multi-principal element alloys of the Cr–Nb–Ti–V–Zr system: Microstructure and phase analysis], proxies={}\u001b[0m\n"
     ]
    },
    {
     "name": "stdout",
     "output_type": "stream",
     "text": [
      "111\n"
     ]
    },
    {
     "name": "stderr",
     "output_type": "stream",
     "text": [
      "\u001b[1m[INFO]\u001b[0m | \u001b[32m2023/12/06 12:38:34\u001b[0m | \u001b[1m-> Response: status_code=200, content_length=7685\u001b[0m\n",
      "\u001b[1m[INFO]\u001b[0m | \u001b[32m2023/12/06 12:38:34\u001b[0m | \u001b[1m* Extracted information: {'url': 'https://zero.sci-hub.ru/2078/311a66b6a4d63b012ca8fa4e5416c4b8/senkov2013.pdf', 'title': 'Low-density, refractory multi-principal element alloys of the Cr–Nb–Ti–V–Zr system  Microstructure and phase analysis. Acta Materialia, 61(5), 1545–1557'}\u001b[0m\n"
     ]
    },
    {
     "name": "stdout",
     "output_type": "stream",
     "text": [
      "100% [==================================================] 3179929/3179929\n"
     ]
    },
    {
     "name": "stderr",
     "output_type": "stream",
     "text": [
      "\u001b[1m[INFO]\u001b[0m | \u001b[32m2023/12/06 12:38:36\u001b[0m | \u001b[1m↓ Successfully download the url to: references/reference_111.pdf\u001b[0m\n",
      "\u001b[1m[INFO]\u001b[0m | \u001b[32m2023/12/06 12:38:36\u001b[0m | \u001b[1mChoose scihub url [0]: https://sci-hub.ru\u001b[0m\n",
      "\u001b[1m[INFO]\u001b[0m | \u001b[32m2023/12/06 12:38:36\u001b[0m | \u001b[1m<- Request: scihub_url=https://sci-hub.ru, source=TitleSource[type=title, id=Microstructure and room temperature properties of a high-entropy TaNbHfZrTi alloy], proxies={}\u001b[0m\n"
     ]
    },
    {
     "name": "stdout",
     "output_type": "stream",
     "text": [
      "112\n"
     ]
    },
    {
     "name": "stderr",
     "output_type": "stream",
     "text": [
      "\u001b[1m[INFO]\u001b[0m | \u001b[32m2023/12/06 12:38:37\u001b[0m | \u001b[1m-> Response: status_code=200, content_length=7670\u001b[0m\n",
      "\u001b[1m[INFO]\u001b[0m | \u001b[32m2023/12/06 12:38:37\u001b[0m | \u001b[1m* Extracted information: {'url': 'https://moscow.sci-hub.ru/1671/79a1c9555c3488e1c528274d17103c42/senkov2011.pdf', 'title': 'Microstructure and room temperature properties of a high-entropy TaNbHfZrTi alloy. Journal of Alloys and Compounds, 509(20), 6043–6048'}\u001b[0m\n"
     ]
    },
    {
     "name": "stdout",
     "output_type": "stream",
     "text": [
      "100% [==================================================] 851010/851010\n"
     ]
    },
    {
     "name": "stderr",
     "output_type": "stream",
     "text": [
      "\u001b[1m[INFO]\u001b[0m | \u001b[32m2023/12/06 12:38:39\u001b[0m | \u001b[1m↓ Successfully download the url to: references/reference_112.pdf\u001b[0m\n"
     ]
    },
    {
     "name": "stdout",
     "output_type": "stream",
     "text": [
      "113\n"
     ]
    },
    {
     "name": "stderr",
     "output_type": "stream",
     "text": [
      "\u001b[1m[INFO]\u001b[0m | \u001b[32m2023/12/06 12:38:39\u001b[0m | \u001b[1mChoose scihub url [0]: https://sci-hub.ru\u001b[0m\n",
      "\u001b[1m[INFO]\u001b[0m | \u001b[32m2023/12/06 12:38:39\u001b[0m | \u001b[1m<- Request: scihub_url=https://sci-hub.ru, source=TitleSource[type=title, id=Microstructure and properties of a refractory high-entropy alloy after cold working], proxies={}\u001b[0m\n",
      "\u001b[1m[INFO]\u001b[0m | \u001b[32m2023/12/06 12:38:40\u001b[0m | \u001b[1m-> Response: status_code=200, content_length=7620\u001b[0m\n",
      "\u001b[1m[INFO]\u001b[0m | \u001b[32m2023/12/06 12:38:40\u001b[0m | \u001b[1m* Extracted information: {'url': 'https://moscow.sci-hub.ru/4348/1dcf9cdef68391f40f74422da12ee65e/senkov2015.pdf', 'title': 'Microstructure and properties of a refractory high-entropy alloy after cold working. Journal of Alloys and Compounds, 649, 1110–1123'}\u001b[0m\n"
     ]
    },
    {
     "name": "stdout",
     "output_type": "stream",
     "text": [
      "100% [==================================================] 3960922/3960922\n"
     ]
    },
    {
     "name": "stderr",
     "output_type": "stream",
     "text": [
      "\u001b[1m[INFO]\u001b[0m | \u001b[32m2023/12/06 12:38:42\u001b[0m | \u001b[1m↓ Successfully download the url to: references/reference_113.pdf\u001b[0m\n"
     ]
    },
    {
     "name": "stdout",
     "output_type": "stream",
     "text": [
      "114\n"
     ]
    },
    {
     "name": "stderr",
     "output_type": "stream",
     "text": [
      "\u001b[1m[INFO]\u001b[0m | \u001b[32m2023/12/06 12:38:42\u001b[0m | \u001b[1mChoose scihub url [0]: https://sci-hub.ru\u001b[0m\n",
      "\u001b[1m[INFO]\u001b[0m | \u001b[32m2023/12/06 12:38:42\u001b[0m | \u001b[1m<- Request: scihub_url=https://sci-hub.ru, source=TitleSource[type=title, id=A refractory Hf25Nb25Ti25Zr25 high-entropy alloy with excellent structural stability and tensile properties], proxies={}\u001b[0m\n",
      "\u001b[1m[INFO]\u001b[0m | \u001b[32m2023/12/06 12:38:43\u001b[0m | \u001b[1m-> Response: status_code=200, content_length=7667\u001b[0m\n",
      "\u001b[1m[INFO]\u001b[0m | \u001b[32m2023/12/06 12:38:43\u001b[0m | \u001b[1m* Extracted information: {'url': 'https://zero.sci-hub.ru/2611/4a6be1452ec0e4990f43e185a6685783/wu2014.pdf', 'title': 'A refractory Hf25Nb25Ti25Zr25 high-entropy alloy with excellent structural stability and tensile properties. Materials Letters, 130, 277–280'}\u001b[0m\n"
     ]
    },
    {
     "name": "stdout",
     "output_type": "stream",
     "text": [
      "100% [==================================================] 1863886/1863886\n"
     ]
    },
    {
     "name": "stderr",
     "output_type": "stream",
     "text": [
      "\u001b[1m[INFO]\u001b[0m | \u001b[32m2023/12/06 12:38:44\u001b[0m | \u001b[1m↓ Successfully download the url to: references/reference_114.pdf\u001b[0m\n"
     ]
    },
    {
     "name": "stdout",
     "output_type": "stream",
     "text": [
      "115\n"
     ]
    },
    {
     "name": "stderr",
     "output_type": "stream",
     "text": [
      "\u001b[1m[INFO]\u001b[0m | \u001b[32m2023/12/06 12:38:44\u001b[0m | \u001b[1mChoose scihub url [0]: https://sci-hub.ru\u001b[0m\n",
      "\u001b[1m[INFO]\u001b[0m | \u001b[32m2023/12/06 12:38:44\u001b[0m | \u001b[1m<- Request: scihub_url=https://sci-hub.ru, source=TitleSource[type=title, id=Refractory high-entropy alloys], proxies={}\u001b[0m\n",
      "\u001b[1m[INFO]\u001b[0m | \u001b[32m2023/12/06 12:38:44\u001b[0m | \u001b[1m-> Response: status_code=200, content_length=5838\u001b[0m\n",
      "\u001b[33m\u001b[1m[WARNING]\u001b[0m | \u001b[32m2023/12/06 12:38:44\u001b[0m | \u001b[33m\u001b[1mError occurs, task status: extracting_failed, error: No pdf tag was found in the given content with the selector: #pdf\u001b[0m\n",
      "\u001b[1m[INFO]\u001b[0m | \u001b[32m2023/12/06 12:38:44\u001b[0m | \u001b[1mChoose scihub url [1]: http://sci-hub.ru\u001b[0m\n",
      "\u001b[1m[INFO]\u001b[0m | \u001b[32m2023/12/06 12:38:44\u001b[0m | \u001b[1m<- Request: scihub_url=http://sci-hub.ru, source=TitleSource[type=title, id=Refractory high-entropy alloys], proxies={}\u001b[0m\n",
      "\u001b[1m[INFO]\u001b[0m | \u001b[32m2023/12/06 12:38:45\u001b[0m | \u001b[1m-> Response: status_code=200, content_length=5838\u001b[0m\n",
      "\u001b[33m\u001b[1m[WARNING]\u001b[0m | \u001b[32m2023/12/06 12:38:45\u001b[0m | \u001b[33m\u001b[1mError occurs, task status: extracting_failed, error: No pdf tag was found in the given content with the selector: #pdf\u001b[0m\n",
      "\u001b[1m[INFO]\u001b[0m | \u001b[32m2023/12/06 12:38:45\u001b[0m | \u001b[1mChoose scihub url [2]: https://sci-hub.st\u001b[0m\n",
      "\u001b[1m[INFO]\u001b[0m | \u001b[32m2023/12/06 12:38:45\u001b[0m | \u001b[1m<- Request: scihub_url=https://sci-hub.st, source=TitleSource[type=title, id=Refractory high-entropy alloys], proxies={}\u001b[0m\n",
      "\u001b[1m[INFO]\u001b[0m | \u001b[32m2023/12/06 12:38:46\u001b[0m | \u001b[1m-> Response: status_code=403, content_length=747\u001b[0m\n",
      "\u001b[33m\u001b[1m[WARNING]\u001b[0m | \u001b[32m2023/12/06 12:38:46\u001b[0m | \u001b[33m\u001b[1mError occurs, task status: crawling_failed, error: Error occurs when crawling source: TitleSource[type=title, id=Refractory high-entropy alloys]\u001b[0m\n",
      "\u001b[1m[INFO]\u001b[0m | \u001b[32m2023/12/06 12:38:46\u001b[0m | \u001b[1mChoose scihub url [3]: https://sci-hub.mobi\u001b[0m\n",
      "\u001b[1m[INFO]\u001b[0m | \u001b[32m2023/12/06 12:38:46\u001b[0m | \u001b[1m<- Request: scihub_url=https://sci-hub.mobi, source=TitleSource[type=title, id=Refractory high-entropy alloys], proxies={}\u001b[0m\n",
      "\u001b[1m[INFO]\u001b[0m | \u001b[32m2023/12/06 12:38:47\u001b[0m | \u001b[1m-> Response: status_code=200, content_length=5838\u001b[0m\n",
      "\u001b[33m\u001b[1m[WARNING]\u001b[0m | \u001b[32m2023/12/06 12:38:47\u001b[0m | \u001b[33m\u001b[1mError occurs, task status: extracting_failed, error: No pdf tag was found in the given content with the selector: #pdf\u001b[0m\n",
      "\u001b[1m[INFO]\u001b[0m | \u001b[32m2023/12/06 12:38:47\u001b[0m | \u001b[1mChoose scihub url [4]: https://sci-hub.se\u001b[0m\n",
      "\u001b[1m[INFO]\u001b[0m | \u001b[32m2023/12/06 12:38:47\u001b[0m | \u001b[1m<- Request: scihub_url=https://sci-hub.se, source=TitleSource[type=title, id=Refractory high-entropy alloys], proxies={}\u001b[0m\n",
      "\u001b[1m[INFO]\u001b[0m | \u001b[32m2023/12/06 12:38:48\u001b[0m | \u001b[1m-> Response: status_code=200, content_length=5838\u001b[0m\n",
      "\u001b[33m\u001b[1m[WARNING]\u001b[0m | \u001b[32m2023/12/06 12:38:48\u001b[0m | \u001b[33m\u001b[1mError occurs, task status: extracting_failed, error: No pdf tag was found in the given content with the selector: #pdf\u001b[0m\n",
      "\u001b[1m[INFO]\u001b[0m | \u001b[32m2023/12/06 12:38:48\u001b[0m | \u001b[1mChoose scihub url [5]: http://sci-hub.se\u001b[0m\n",
      "\u001b[1m[INFO]\u001b[0m | \u001b[32m2023/12/06 12:38:48\u001b[0m | \u001b[1m<- Request: scihub_url=http://sci-hub.se, source=TitleSource[type=title, id=Refractory high-entropy alloys], proxies={}\u001b[0m\n",
      "\u001b[1m[INFO]\u001b[0m | \u001b[32m2023/12/06 12:38:49\u001b[0m | \u001b[1m-> Response: status_code=200, content_length=5838\u001b[0m\n",
      "\u001b[33m\u001b[1m[WARNING]\u001b[0m | \u001b[32m2023/12/06 12:38:49\u001b[0m | \u001b[33m\u001b[1mError occurs, task status: extracting_failed, error: No pdf tag was found in the given content with the selector: #pdf\u001b[0m\n",
      "\u001b[1m[INFO]\u001b[0m | \u001b[32m2023/12/06 12:38:49\u001b[0m | \u001b[1mChoose scihub url [6]: http://sci-hub.mobi\u001b[0m\n",
      "\u001b[1m[INFO]\u001b[0m | \u001b[32m2023/12/06 12:38:49\u001b[0m | \u001b[1m<- Request: scihub_url=http://sci-hub.mobi, source=TitleSource[type=title, id=Refractory high-entropy alloys], proxies={}\u001b[0m\n",
      "\u001b[1m[INFO]\u001b[0m | \u001b[32m2023/12/06 12:38:51\u001b[0m | \u001b[1m-> Response: status_code=200, content_length=39030\u001b[0m\n",
      "\u001b[33m\u001b[1m[WARNING]\u001b[0m | \u001b[32m2023/12/06 12:38:51\u001b[0m | \u001b[33m\u001b[1mError occurs, task status: extracting_failed, error: No pdf tag was found in the given content with the selector: #pdf\u001b[0m\n",
      "\u001b[1m[INFO]\u001b[0m | \u001b[32m2023/12/06 12:38:51\u001b[0m | \u001b[1mChoose scihub url [7]: http://sci-hub.st\u001b[0m\n",
      "\u001b[1m[INFO]\u001b[0m | \u001b[32m2023/12/06 12:38:51\u001b[0m | \u001b[1m<- Request: scihub_url=http://sci-hub.st, source=TitleSource[type=title, id=Refractory high-entropy alloys], proxies={}\u001b[0m\n",
      "\u001b[1m[INFO]\u001b[0m | \u001b[32m2023/12/06 12:38:52\u001b[0m | \u001b[1m-> Response: status_code=403, content_length=747\u001b[0m\n",
      "\u001b[33m\u001b[1m[WARNING]\u001b[0m | \u001b[32m2023/12/06 12:38:52\u001b[0m | \u001b[33m\u001b[1mError occurs, task status: crawling_failed, error: Error occurs when crawling source: TitleSource[type=title, id=Refractory high-entropy alloys]\u001b[0m\n",
      "\u001b[31m\u001b[1m[ERROR]\u001b[0m | \u001b[32m2023/12/06 12:38:52\u001b[0m | \u001b[31m\u001b[1mFailed to download the paper: Refractory high-entropy alloys. Please try again.\u001b[0m\n",
      "\u001b[1m[INFO]\u001b[0m | \u001b[32m2023/12/06 12:38:52\u001b[0m | \u001b[1mChoose scihub url [0]: https://sci-hub.ru\u001b[0m\n",
      "\u001b[1m[INFO]\u001b[0m | \u001b[32m2023/12/06 12:38:52\u001b[0m | \u001b[1m<- Request: scihub_url=https://sci-hub.ru, source=TitleSource[type=title, id=Mechanical properties of Nb25Mo25Ta25W25 and V20Nb20Mo20Ta20W20 refractory high entropy alloys], proxies={}\u001b[0m\n"
     ]
    },
    {
     "name": "stdout",
     "output_type": "stream",
     "text": [
      "116\n"
     ]
    },
    {
     "name": "stderr",
     "output_type": "stream",
     "text": [
      "\u001b[1m[INFO]\u001b[0m | \u001b[32m2023/12/06 12:38:53\u001b[0m | \u001b[1m-> Response: status_code=200, content_length=7668\u001b[0m\n",
      "\u001b[1m[INFO]\u001b[0m | \u001b[32m2023/12/06 12:38:53\u001b[0m | \u001b[1m* Extracted information: {'url': 'https://dacemirror.sci-hub.ru/journal-article/f5fc75cdd70df2f756573eab7d956c1c/senkov2011.pdf', 'title': 'Mechanical properties of Nb25Mo25Ta25W25 and V20Nb20Mo20Ta20W20 refractory high entropy alloys. Intermetallics, 19(5), 698–706'}\u001b[0m\n"
     ]
    },
    {
     "name": "stdout",
     "output_type": "stream",
     "text": [
      "100% [==================================================] 747/747\n"
     ]
    },
    {
     "name": "stderr",
     "output_type": "stream",
     "text": [
      "\u001b[1m[INFO]\u001b[0m | \u001b[32m2023/12/06 12:38:53\u001b[0m | \u001b[1m↓ Successfully download the url to: references/reference_116.pdf\u001b[0m\n",
      "\u001b[1m[INFO]\u001b[0m | \u001b[32m2023/12/06 12:38:53\u001b[0m | \u001b[1mChoose scihub url [0]: https://sci-hub.ru\u001b[0m\n",
      "\u001b[1m[INFO]\u001b[0m | \u001b[32m2023/12/06 12:38:53\u001b[0m | \u001b[1m<- Request: scihub_url=https://sci-hub.ru, source=TitleSource[type=title, id=Phase Stability of Low-Density, Multiprincipal Component Alloys Containing Aluminum, Magnesium, and Lithium], proxies={}\u001b[0m\n"
     ]
    },
    {
     "name": "stdout",
     "output_type": "stream",
     "text": [
      "117\n"
     ]
    },
    {
     "name": "stderr",
     "output_type": "stream",
     "text": [
      "\u001b[1m[INFO]\u001b[0m | \u001b[32m2023/12/06 12:38:54\u001b[0m | \u001b[1m-> Response: status_code=200, content_length=7619\u001b[0m\n",
      "\u001b[1m[INFO]\u001b[0m | \u001b[32m2023/12/06 12:38:54\u001b[0m | \u001b[1m* Extracted information: {'url': 'https://moscow.sci-hub.ru/3109/f0f033953601be1b9d34b65f16d392e3/yang2014.pdf', 'title': 'Phase Stability of Low-Density, Multiprincipal Component Alloys Containing Aluminum, Magnesium, and Lithium. JOM, 66(10), 2009–2020'}\u001b[0m\n"
     ]
    },
    {
     "name": "stdout",
     "output_type": "stream",
     "text": [
      "100% [==================================================] 2354771/2354771\n"
     ]
    },
    {
     "name": "stderr",
     "output_type": "stream",
     "text": [
      "\u001b[1m[INFO]\u001b[0m | \u001b[32m2023/12/06 12:38:56\u001b[0m | \u001b[1m↓ Successfully download the url to: references/reference_117.pdf\u001b[0m\n"
     ]
    },
    {
     "name": "stdout",
     "output_type": "stream",
     "text": [
      "118\n"
     ]
    },
    {
     "name": "stderr",
     "output_type": "stream",
     "text": [
      "\u001b[1m[INFO]\u001b[0m | \u001b[32m2023/12/06 12:38:56\u001b[0m | \u001b[1mChoose scihub url [0]: https://sci-hub.ru\u001b[0m\n",
      "\u001b[1m[INFO]\u001b[0m | \u001b[32m2023/12/06 12:38:56\u001b[0m | \u001b[1m<- Request: scihub_url=https://sci-hub.ru, source=TitleSource[type=title, id=A novel low density, high hardness, high-entropy alloy with close-packed single-phase nanocrystalline structures], proxies={}\u001b[0m\n",
      "\u001b[1m[INFO]\u001b[0m | \u001b[32m2023/12/06 12:38:57\u001b[0m | \u001b[1m-> Response: status_code=200, content_length=7694\u001b[0m\n",
      "\u001b[1m[INFO]\u001b[0m | \u001b[32m2023/12/06 12:38:57\u001b[0m | \u001b[1m* Extracted information: {'url': 'https://zero.sci-hub.ru/6584/06a95327f14fd3b82cc0db18bfceba4f/youssef2014.pdf', 'title': 'A Novel Low-Density, High-Hardness, High-entropy Alloy with Close-packed Single-phase Nanocrystalline Structures. Materials Research Letters, 3(2), 95–99'}\u001b[0m\n"
     ]
    },
    {
     "name": "stdout",
     "output_type": "stream",
     "text": [
      "100% [==================================================] 977965/977965\n"
     ]
    },
    {
     "name": "stderr",
     "output_type": "stream",
     "text": [
      "\u001b[1m[INFO]\u001b[0m | \u001b[32m2023/12/06 12:38:59\u001b[0m | \u001b[1m↓ Successfully download the url to: references/reference_118.pdf\u001b[0m\n",
      "\u001b[1m[INFO]\u001b[0m | \u001b[32m2023/12/06 12:38:59\u001b[0m | \u001b[1mChoose scihub url [0]: https://sci-hub.ru\u001b[0m\n",
      "\u001b[1m[INFO]\u001b[0m | \u001b[32m2023/12/06 12:38:59\u001b[0m | \u001b[1m<- Request: scihub_url=https://sci-hub.ru, source=TitleSource[type=title, id=High-Entropy Alloys with a Hexagonal Close-Packed Structure Designed by Equi-Atomic Alloy Strategy and Binary Phase Diagrams], proxies={}\u001b[0m\n"
     ]
    },
    {
     "name": "stdout",
     "output_type": "stream",
     "text": [
      "119\n"
     ]
    },
    {
     "name": "stderr",
     "output_type": "stream",
     "text": [
      "\u001b[1m[INFO]\u001b[0m | \u001b[32m2023/12/06 12:39:00\u001b[0m | \u001b[1m-> Response: status_code=200, content_length=7670\u001b[0m\n",
      "\u001b[1m[INFO]\u001b[0m | \u001b[32m2023/12/06 12:39:00\u001b[0m | \u001b[1m* Extracted information: {'url': 'https://moscow.sci-hub.ru/3635/daa7dd8dd6ef9ff68505482d21685041/takeuchi2014.pdf', 'title': 'High-Entropy Alloys with a Hexagonal Close-Packed Structure Designed by Equi-Atomic Alloy Strategy and Binary Phase Diagrams. JOM, 66(10), 1984–1992'}\u001b[0m\n"
     ]
    },
    {
     "name": "stdout",
     "output_type": "stream",
     "text": [
      "100% [==================================================] 2404215/2404215\n"
     ]
    },
    {
     "name": "stderr",
     "output_type": "stream",
     "text": [
      "\u001b[1m[INFO]\u001b[0m | \u001b[32m2023/12/06 12:39:05\u001b[0m | \u001b[1m↓ Successfully download the url to: references/reference_119.pdf\u001b[0m\n",
      "\u001b[1m[INFO]\u001b[0m | \u001b[32m2023/12/06 12:39:05\u001b[0m | \u001b[1mChoose scihub url [0]: https://sci-hub.ru\u001b[0m\n",
      "\u001b[1m[INFO]\u001b[0m | \u001b[32m2023/12/06 12:39:05\u001b[0m | \u001b[1m<- Request: scihub_url=https://sci-hub.ru, source=TitleSource[type=title, id=Bulk glass formation of Ti-Zr-Hf-Cu-M (M=Fe, Co, Ni) alloys], proxies={}\u001b[0m\n"
     ]
    },
    {
     "name": "stdout",
     "output_type": "stream",
     "text": [
      "120\n"
     ]
    },
    {
     "name": "stderr",
     "output_type": "stream",
     "text": [
      "\u001b[1m[INFO]\u001b[0m | \u001b[32m2023/12/06 12:39:17\u001b[0m | \u001b[1m-> Response: status_code=200, content_length=7593\u001b[0m\n",
      "\u001b[1m[INFO]\u001b[0m | \u001b[32m2023/12/06 12:39:17\u001b[0m | \u001b[1m* Extracted information: {'url': 'https://dacemirror.sci-hub.ru/journal-article/f72100ba8026480ec481dce17a8c5d27/zhang2004.pdf', 'title': 'Bulk Glass Formation of 12 mm Rod in La–Cu–Ni–Al Alloys. Materials Science and Engineering  A, 375-377, 436–439'}\u001b[0m\n"
     ]
    },
    {
     "name": "stdout",
     "output_type": "stream",
     "text": [
      "100% [==================================================] 747/747\n"
     ]
    },
    {
     "name": "stderr",
     "output_type": "stream",
     "text": [
      "\u001b[1m[INFO]\u001b[0m | \u001b[32m2023/12/06 12:39:17\u001b[0m | \u001b[1m↓ Successfully download the url to: references/reference_120.pdf\u001b[0m\n",
      "\u001b[1m[INFO]\u001b[0m | \u001b[32m2023/12/06 12:39:17\u001b[0m | \u001b[1mChoose scihub url [0]: https://sci-hub.ru\u001b[0m\n",
      "\u001b[1m[INFO]\u001b[0m | \u001b[32m2023/12/06 12:39:17\u001b[0m | \u001b[1m<- Request: scihub_url=https://sci-hub.ru, source=TitleSource[type=title, id=Phase equilibria in the quaternary molybdenum-ruthenium-rhodium-palladium system], proxies={}\u001b[0m\n"
     ]
    },
    {
     "name": "stdout",
     "output_type": "stream",
     "text": [
      "121\n"
     ]
    },
    {
     "name": "stderr",
     "output_type": "stream",
     "text": [
      "\u001b[1m[INFO]\u001b[0m | \u001b[32m2023/12/06 12:39:18\u001b[0m | \u001b[1m-> Response: status_code=200, content_length=5888\u001b[0m\n",
      "\u001b[33m\u001b[1m[WARNING]\u001b[0m | \u001b[32m2023/12/06 12:39:18\u001b[0m | \u001b[33m\u001b[1mError occurs, task status: extracting_failed, error: No pdf tag was found in the given content with the selector: #pdf\u001b[0m\n",
      "\u001b[1m[INFO]\u001b[0m | \u001b[32m2023/12/06 12:39:18\u001b[0m | \u001b[1mChoose scihub url [1]: http://sci-hub.ru\u001b[0m\n",
      "\u001b[1m[INFO]\u001b[0m | \u001b[32m2023/12/06 12:39:18\u001b[0m | \u001b[1m<- Request: scihub_url=http://sci-hub.ru, source=TitleSource[type=title, id=Phase equilibria in the quaternary molybdenum-ruthenium-rhodium-palladium system], proxies={}\u001b[0m\n",
      "\u001b[1m[INFO]\u001b[0m | \u001b[32m2023/12/06 12:39:19\u001b[0m | \u001b[1m-> Response: status_code=200, content_length=5888\u001b[0m\n",
      "\u001b[33m\u001b[1m[WARNING]\u001b[0m | \u001b[32m2023/12/06 12:39:19\u001b[0m | \u001b[33m\u001b[1mError occurs, task status: extracting_failed, error: No pdf tag was found in the given content with the selector: #pdf\u001b[0m\n",
      "\u001b[1m[INFO]\u001b[0m | \u001b[32m2023/12/06 12:39:19\u001b[0m | \u001b[1mChoose scihub url [2]: https://sci-hub.st\u001b[0m\n",
      "\u001b[1m[INFO]\u001b[0m | \u001b[32m2023/12/06 12:39:19\u001b[0m | \u001b[1m<- Request: scihub_url=https://sci-hub.st, source=TitleSource[type=title, id=Phase equilibria in the quaternary molybdenum-ruthenium-rhodium-palladium system], proxies={}\u001b[0m\n",
      "\u001b[1m[INFO]\u001b[0m | \u001b[32m2023/12/06 12:39:19\u001b[0m | \u001b[1m-> Response: status_code=403, content_length=747\u001b[0m\n",
      "\u001b[33m\u001b[1m[WARNING]\u001b[0m | \u001b[32m2023/12/06 12:39:19\u001b[0m | \u001b[33m\u001b[1mError occurs, task status: crawling_failed, error: Error occurs when crawling source: TitleSource[type=title, id=Phase equilibria in the quaternary molybdenum-ruthenium-rhodium-palladium system]\u001b[0m\n",
      "\u001b[1m[INFO]\u001b[0m | \u001b[32m2023/12/06 12:39:19\u001b[0m | \u001b[1mChoose scihub url [3]: https://sci-hub.mobi\u001b[0m\n",
      "\u001b[1m[INFO]\u001b[0m | \u001b[32m2023/12/06 12:39:19\u001b[0m | \u001b[1m<- Request: scihub_url=https://sci-hub.mobi, source=TitleSource[type=title, id=Phase equilibria in the quaternary molybdenum-ruthenium-rhodium-palladium system], proxies={}\u001b[0m\n",
      "\u001b[1m[INFO]\u001b[0m | \u001b[32m2023/12/06 12:39:21\u001b[0m | \u001b[1m-> Response: status_code=200, content_length=5888\u001b[0m\n",
      "\u001b[33m\u001b[1m[WARNING]\u001b[0m | \u001b[32m2023/12/06 12:39:21\u001b[0m | \u001b[33m\u001b[1mError occurs, task status: extracting_failed, error: No pdf tag was found in the given content with the selector: #pdf\u001b[0m\n",
      "\u001b[1m[INFO]\u001b[0m | \u001b[32m2023/12/06 12:39:21\u001b[0m | \u001b[1mChoose scihub url [4]: https://sci-hub.se\u001b[0m\n",
      "\u001b[1m[INFO]\u001b[0m | \u001b[32m2023/12/06 12:39:21\u001b[0m | \u001b[1m<- Request: scihub_url=https://sci-hub.se, source=TitleSource[type=title, id=Phase equilibria in the quaternary molybdenum-ruthenium-rhodium-palladium system], proxies={}\u001b[0m\n",
      "\u001b[1m[INFO]\u001b[0m | \u001b[32m2023/12/06 12:39:21\u001b[0m | \u001b[1m-> Response: status_code=200, content_length=5888\u001b[0m\n",
      "\u001b[33m\u001b[1m[WARNING]\u001b[0m | \u001b[32m2023/12/06 12:39:21\u001b[0m | \u001b[33m\u001b[1mError occurs, task status: extracting_failed, error: No pdf tag was found in the given content with the selector: #pdf\u001b[0m\n",
      "\u001b[1m[INFO]\u001b[0m | \u001b[32m2023/12/06 12:39:21\u001b[0m | \u001b[1mChoose scihub url [5]: http://sci-hub.se\u001b[0m\n",
      "\u001b[1m[INFO]\u001b[0m | \u001b[32m2023/12/06 12:39:21\u001b[0m | \u001b[1m<- Request: scihub_url=http://sci-hub.se, source=TitleSource[type=title, id=Phase equilibria in the quaternary molybdenum-ruthenium-rhodium-palladium system], proxies={}\u001b[0m\n",
      "\u001b[1m[INFO]\u001b[0m | \u001b[32m2023/12/06 12:39:23\u001b[0m | \u001b[1m-> Response: status_code=200, content_length=5888\u001b[0m\n",
      "\u001b[33m\u001b[1m[WARNING]\u001b[0m | \u001b[32m2023/12/06 12:39:23\u001b[0m | \u001b[33m\u001b[1mError occurs, task status: extracting_failed, error: No pdf tag was found in the given content with the selector: #pdf\u001b[0m\n",
      "\u001b[1m[INFO]\u001b[0m | \u001b[32m2023/12/06 12:39:23\u001b[0m | \u001b[1mChoose scihub url [6]: http://sci-hub.mobi\u001b[0m\n",
      "\u001b[1m[INFO]\u001b[0m | \u001b[32m2023/12/06 12:39:23\u001b[0m | \u001b[1m<- Request: scihub_url=http://sci-hub.mobi, source=TitleSource[type=title, id=Phase equilibria in the quaternary molybdenum-ruthenium-rhodium-palladium system], proxies={}\u001b[0m\n",
      "\u001b[1m[INFO]\u001b[0m | \u001b[32m2023/12/06 12:39:24\u001b[0m | \u001b[1m-> Response: status_code=200, content_length=39030\u001b[0m\n",
      "\u001b[33m\u001b[1m[WARNING]\u001b[0m | \u001b[32m2023/12/06 12:39:24\u001b[0m | \u001b[33m\u001b[1mError occurs, task status: extracting_failed, error: No pdf tag was found in the given content with the selector: #pdf\u001b[0m\n",
      "\u001b[1m[INFO]\u001b[0m | \u001b[32m2023/12/06 12:39:24\u001b[0m | \u001b[1mChoose scihub url [7]: http://sci-hub.st\u001b[0m\n",
      "\u001b[1m[INFO]\u001b[0m | \u001b[32m2023/12/06 12:39:24\u001b[0m | \u001b[1m<- Request: scihub_url=http://sci-hub.st, source=TitleSource[type=title, id=Phase equilibria in the quaternary molybdenum-ruthenium-rhodium-palladium system], proxies={}\u001b[0m\n",
      "\u001b[1m[INFO]\u001b[0m | \u001b[32m2023/12/06 12:39:25\u001b[0m | \u001b[1m-> Response: status_code=403, content_length=747\u001b[0m\n",
      "\u001b[33m\u001b[1m[WARNING]\u001b[0m | \u001b[32m2023/12/06 12:39:25\u001b[0m | \u001b[33m\u001b[1mError occurs, task status: crawling_failed, error: Error occurs when crawling source: TitleSource[type=title, id=Phase equilibria in the quaternary molybdenum-ruthenium-rhodium-palladium system]\u001b[0m\n",
      "\u001b[31m\u001b[1m[ERROR]\u001b[0m | \u001b[32m2023/12/06 12:39:25\u001b[0m | \u001b[31m\u001b[1mFailed to download the paper: Phase equilibria in the quaternary molybdenum-ruthenium-rhodium-palladium system. Please try again.\u001b[0m\n"
     ]
    }
   ],
   "source": [
    "from scidownl import scihub_download\n",
    "import os\n",
    "import re\n",
    "\n",
    "try:\n",
    "    last_pdf_done = max(list(map(lambda x: int(re.search(\"reference_([0-9]+)\", x).groups()[0]), os.listdir(\"references/\"))))\n",
    "except: \n",
    "    last_pdf_done = 0\n",
    "\n",
    "print(f\"Starting from reference_{last_pdf_done+1}\")\n",
    "# Needs to be re-run if stuck\n",
    "for i in range(len(list_of_paper_names)):\n",
    "    if i + 1 <= last_pdf_done or i+1 in [41]: # 41 gets stuck, idk\n",
    "        continue\n",
    "    print(i+1)\n",
    "    scihub_download(list_of_paper_names[i], paper_type=\"title\", out=f\"references/reference_{i+1}.pdf\")"
   ]
  },
  {
   "cell_type": "markdown",
   "id": "d518f1ae-ee43-4f1b-99ae-bdc3fee60481",
   "metadata": {},
   "source": [
    "Lets see which ones are missing"
   ]
  },
  {
   "cell_type": "code",
   "execution_count": 49,
   "id": "ebbaa63d-11b9-4565-80f3-a258deb18ed4",
   "metadata": {},
   "outputs": [
    {
     "name": "stdout",
     "output_type": "stream",
     "text": [
      "Missing references: 41/121 (can't do anything about it..)\n"
     ]
    },
    {
     "data": {
      "text/plain": [
       "'0, 2, 8, 10, 13, 15, 16, 18, 19, 20, 21, 22, 23, 32, 34, 39, 40, 41, 42, 49, 51, 61, 62, 65, 66, 67, 71, 74, 75, 77, 78, 80, 83, 84, 85, 94, 97, 98, 108, 110, 115'"
      ]
     },
     "execution_count": 49,
     "metadata": {},
     "output_type": "execute_result"
    }
   ],
   "source": [
    "not_dones = sorted(list(set(list(range(len(list_of_paper_names)))) - set(list(map(lambda x: int(re.search(\"reference_([0-9]+)\", x).groups()[0]), os.listdir(\"references/\"))))))\n",
    "print(f\"Missing references: {len(not_dones)}/{len(list_of_paper_names)} (can't do anything about it..)\")\n",
    "\", \".join(list(map(str, not_dones)))"
   ]
  },
  {
   "cell_type": "markdown",
   "id": "24557876-057b-4ba5-a3e5-f4b6eed8e370",
   "metadata": {},
   "source": [
    "# Convert to txt files (along with some processing to only keep \"content\")"
   ]
  },
  {
   "cell_type": "code",
   "execution_count": 54,
   "id": "a52bf180-f5b6-422d-aac9-e9db4b6d70fe",
   "metadata": {},
   "outputs": [
    {
     "name": "stdout",
     "output_type": "stream",
     "text": [
      "references/reference_86.pdf\n"
     ]
    }
   ],
   "source": [
    "from pdfminer.high_level import extract_text\n",
    "import glob\n",
    "\n",
    "for file in glob.glob(\"references/*\"):\n",
    "    print(file)\n",
    "    raw = extract_text(file)\n",
    "    break"
   ]
  },
  {
   "cell_type": "code",
   "execution_count": 64,
   "id": "3ee6ae7e-c509-4d69-9384-5acce397ea33",
   "metadata": {},
   "outputs": [
    {
     "data": {
      "text/plain": [
       "['Intermetallics 15 (2007) 357e362',\n",
       " '',\n",
       " 'www.elsevier.com/locate/intermet',\n",
       " '',\n",
       " 'Novel microstructure and properties of multicomponent',\n",
       " 'CoCrCuFeNiTix alloys',\n",
       " '',\n",
       " 'X.F. Wang, Y. Zhang*, Y. Qiao, G.L. Chen',\n",
       " '',\n",
       " 'State Key Laboratory for Advanced Metals and Materials, University of Science and Technology Beijing,',\n",
       " 'XueYuan Road 30#, Haidian District, Beijing 100083, China',\n",
       " '',\n",
       " 'Received 10 May 2006; received in revised form 7 July 2006; accepted 4 August 2006',\n",
       " 'Available online 5 October 2006',\n",
       " '',\n",
       " 'Abstract',\n",
       " '',\n",
       " 'CoCrCuFeNiTix (x values in molar ratio, x ¼ 0, 0.5, 0.8 and 1.0) were prepared by arc melting of the pure elements and suction casting under an',\n",
       " 'argon atmosphere. Both CoCrCuFeNi and CoCrCuFeNiTi0.5 alloys form a single FCC solid solution. While the alloys of CoCrCuFeNiTi0.8 and',\n",
       " 'CoCrCuFeNiTi are basically composed of primary FCC solid solution and eutectic mixture of FCC phase and Laves phase of Fe2Ti type. The yield',\n",
       " 'strength of the alloys increases from 230 MPa to 1272 MPa with the increase of Ti addition, among which the CoCrCuFeNiTi0.5 alloy, especially,',\n",
       " 'exhibits compressive strength of up to 1650 MPa together with extensive work hardening and large plastic strain limit of 22%. An interesting tran-',\n",
       " 'sition from paramagnetism to superparamagnetism has been discovered due to the appearance of nanoparticles embedded in the amorphous phase.',\n",
       " '(cid:2) 2006 Elsevier Ltd. All rights reserved.',\n",
       " '',\n",
       " 'Keywords: B. Magnetic properties; B. Mechanical properties at ambient temperature; C. Casting; D. Microstructure',\n",
       " '',\n",
       " '1. Introduction',\n",
       " '',\n",
       " 'Conventional strategy for developing metallic alloys is to',\n",
       " 'select one or two elements as the main components based',\n",
       " 'on a primary property requirement, and to use alloying addi-',\n",
       " 'tions to confer secondary properties [1], such as iron-, cop-',\n",
       " 'per-, and aluminum-based alloys [2,3] or the intermetallic',\n",
       " 'compounds of TieAl, NieAl and FeeAl binary systems',\n",
       " 'which appeared in the 1970s because of their extremely high',\n",
       " 'speciﬁc strengths and thermal resistance [4]. In the last two de-',\n",
       " 'cades, multicomponent bulk amorphous alloys have attracted',\n",
       " 'great attentions because they exhibit unique properties com-',\n",
       " 'pared to its counterpart crystalline materials, e.g. 2e3 times',\n",
       " 'of fracture strength of crystalline materials, high elastic strain',\n",
       " 'limit and high corrosion resistance [5e9]. However, the design',\n",
       " 'concept of multicomponent bulk amorphous alloys was, once',\n",
       " 'again, based on one principal element [10]. Conventional alloy',\n",
       " '',\n",
       " '* Corresponding author. Tel.: þ86 010 62322160; fax: þ86 010 62332508.',\n",
       " '',\n",
       " 'E-mail address: drzhangy@skl.ustb.edu.cn (Y. Zhang).',\n",
       " '',\n",
       " '0966-9795/$ - see front matter (cid:2) 2006 Elsevier Ltd. All rights reserved.',\n",
       " 'doi:10.1016/j.intermet.2006.08.005',\n",
       " '',\n",
       " 'development strategy leads to an enormous amount of knowl-',\n",
       " 'edge about alloys based on one or two main components, but',\n",
       " 'to very little or no knowledge about multiprincipal elements',\n",
       " 'system. Actually, for quaternary, quinary and higher order sys-',\n",
       " 'tems, information about alloys in the center of the phase dia-',\n",
       " '[1]. The main reason for not',\n",
       " 'gram is non-existent',\n",
       " 'incorporating multiprincipal elements is the anticipated forma-',\n",
       " 'tion of many intermetallic compounds and complex micro-',\n",
       " 'structures. However, it has been reported that a quinary alloy',\n",
       " 'Fe20Cr20Mn20Ni20Co20 [1] and the AlxCoCrCuFeNi alloys',\n",
       " 'with minor aluminum addition [10] form a single FCC solid',\n",
       " 'solution, as well with promising mechanical properties that',\n",
       " 'may have potential for the requirements of high temperature',\n",
       " 'alloys [11]. Just based on the simple structure and unique',\n",
       " 'properties, there has been increasing interests for exploring',\n",
       " 'the equiatomic multicomponent alloy series.',\n",
       " '',\n",
       " 'In this paper, a novel series of CoCrCuFeNiTix (x values in',\n",
       " 'molar ratio, x ¼ 0, 0.5, 0.8 and 1.0) alloys were prepared by',\n",
       " 'well-developed arc melting and casting method. Their micro-',\n",
       " 'structure and mechanical properties were examined, further-',\n",
       " 'to investigate the',\n",
       " 'more, we described an initial attempt',\n",
       " '',\n",
       " '\\x0cX.F. Wang et al. / Intermetallics 15 (2007) 357e362',\n",
       " '',\n",
       " '358',\n",
       " '',\n",
       " '700',\n",
       " '',\n",
       " '600',\n",
       " '',\n",
       " '500',\n",
       " '',\n",
       " '400',\n",
       " '',\n",
       " '300',\n",
       " '',\n",
       " ')',\n",
       " '.',\n",
       " 'u',\n",
       " '.',\n",
       " 'a',\n",
       " '(',\n",
       " 'Y',\n",
       " 'T',\n",
       " 'S',\n",
       " 'N',\n",
       " 'E',\n",
       " 'T',\n",
       " 'N',\n",
       " '',\n",
       " 'I',\n",
       " '',\n",
       " 'I',\n",
       " '',\n",
       " 'Ti1',\n",
       " '',\n",
       " 'Ti0.8',\n",
       " '',\n",
       " '200',\n",
       " '',\n",
       " 'Ti0.5',\n",
       " '',\n",
       " '100',\n",
       " '',\n",
       " 'Ti0',\n",
       " '',\n",
       " '0',\n",
       " '',\n",
       " '20',\n",
       " '',\n",
       " ')',\n",
       " '0',\n",
       " '0',\n",
       " '2',\n",
       " '(',\n",
       " '',\n",
       " ')',\n",
       " '1',\n",
       " '1',\n",
       " '1',\n",
       " '(',\n",
       " '',\n",
       " ')',\n",
       " '1',\n",
       " '0',\n",
       " '2',\n",
       " '(',\n",
       " '+',\n",
       " '',\n",
       " ')',\n",
       " '0',\n",
       " '1',\n",
       " '1',\n",
       " '(',\n",
       " '+',\n",
       " '',\n",
       " 'FCC',\n",
       " '',\n",
       " '+',\n",
       " '',\n",
       " 'LAVES',\n",
       " '',\n",
       " ')',\n",
       " '0',\n",
       " '2',\n",
       " '2',\n",
       " '(',\n",
       " '',\n",
       " ')',\n",
       " '0',\n",
       " '2',\n",
       " '2',\n",
       " '(',\n",
       " '+',\n",
       " '',\n",
       " '30',\n",
       " '',\n",
       " '40',\n",
       " '',\n",
       " '50',\n",
       " '',\n",
       " '60',\n",
       " '',\n",
       " '70',\n",
       " '',\n",
       " '80',\n",
       " '',\n",
       " '90',\n",
       " '',\n",
       " '2θ( º )',\n",
       " '',\n",
       " 'Fig. 1. XRD patterns of the CoCrCuFeNiTix rod samples with diameter of',\n",
       " '5 mm (x ¼ 0, 0.5, 0.8, and 1).',\n",
       " '',\n",
       " 'magnetic property of the alloy series above and discovered an',\n",
       " 'interesting transition.',\n",
       " '',\n",
       " '2. Experimental procedures',\n",
       " '',\n",
       " 'Ingots with nominal compositions of CoCrCuFeNiTix (x',\n",
       " 'values in molar ratio, x ¼ 0, 0.5, 0.8 and 1.0) were prepared',\n",
       " 'from commercial-purity Ti (99.9%), Cr (99.9%), Fe (99%),',\n",
       " 'Co (99.95%), Ni (99.9%) and Cu (99.9%) by arc melting un-',\n",
       " 'der argon atmosphere on a water-cooled Cu hearth. The alloys',\n",
       " '',\n",
       " 'were remelted several times in order to improve homogeneity.',\n",
       " 'Finally 5 mm diameter cylindrical rods were prepared in suc-',\n",
       " 'tion casting facility attached to the arc melter. Structural inves-',\n",
       " 'tigations were carried out by X-ray diffraction (XRD) with Cu',\n",
       " 'Ka radiation using an MXP21VAHF diffractometer. An LEO-',\n",
       " '1450 scanning electron microscope (SEM) equipped with',\n",
       " 'a KEVEX Sigma energy-dispersive X-ray (EDX) spectrometer',\n",
       " 'was used for microstructure observation and phase composi-',\n",
       " 'tion identiﬁcation. Thin slices from the as-cast rods were pre-',\n",
       " 'pared by the conventional method of slicing and grinding,',\n",
       " 'followed by dimpling and ﬁnally ion milling (LBS-1). These',\n",
       " 'slices were used for detailed structural investigations of the',\n",
       " 'as-cast samples by transmission electron microscopy (TEM).',\n",
       " 'A CMT4305 testing machine was used for compressive tests,',\n",
       " 'with the strain rate of 10(cid:2)4 s(cid:2)1. In order to evaluate the mag-',\n",
       " 'netic property, squares of 3 mm length and 0.5 mm thickness',\n",
       " 'were prepared from the 5 mm diameter as-cast rods and tested',\n",
       " 'by an LDJ 9600 vibrating sample magnetometer (VSM). And',\n",
       " 'the magnetic moments of low-temperature were characterized',\n",
       " 'with an MPMS-7 superconducting quantum device magnetom-',\n",
       " 'eter (SQUID Magnetometer).',\n",
       " '',\n",
       " '3. Results',\n",
       " '',\n",
       " '3.1. Microstructure evolution',\n",
       " '',\n",
       " 'The XRD patterns of the as-cast rods are presented in',\n",
       " 'Fig. 1. Both CoCrCuFeNi and CoCrCuFeNiTi0.5 alloys show',\n",
       " '',\n",
       " 'Fig. 2. SEM back-scatter electron images of the CoCrCuFeNiTix alloys after polishing, x ¼ 0, 0.5, 0.8, and 1 corresponding to (a), (b), (c) and (d), respectively. In',\n",
       " '(d), a region marked by circle denotes the region for HRTEM observation (as shown in Fig. 3).',\n",
       " '',\n",
       " '\\x0cX.F. Wang et al. / Intermetallics 15 (2007) 357e362',\n",
       " '',\n",
       " '359',\n",
       " '',\n",
       " 'The microstructure of',\n",
       " '',\n",
       " 'the presence of FCC reﬂections. For CoCrCuFeNiTi0.8 and',\n",
       " 'CoCrCuFeNiTi, the reﬂections of Laves phase occur besides',\n",
       " 'FCC reﬂections, the relative intensity of which is smaller',\n",
       " 'than that of the FCC reﬂections. The lattice parameter of the',\n",
       " 'solid solution is estimated to be 3.579 A˚ from the strongest',\n",
       " '(111) peak for CoCrCuFeNi. The energy-dispersive X-ray',\n",
       " '(EDX) analysis reveals that Cobalt acts as the solvent and',\n",
       " 'other atoms replace the Cobalt atoms in FCC lattice. The',\n",
       " 'Laves phase in the alloys of CoCrCuFeNiTi0.8 and CoCrCuFe-',\n",
       " 'NiTi, with lattice parameters of a ¼ 4.765 A˚ and c ¼ 7.723 A˚ ,',\n",
       " 'should be ranged as an Fe2Ti type. The peaks of the FCC re-',\n",
       " 'ﬂections shift a little leftwards with the increase of Ti addition,',\n",
       " 'which indicates that the lattice parameter of FCC phase has',\n",
       " 'a slight increment. A broad diffraction peak at 2q ¼ 42e47(cid:3)',\n",
       " 'for CoCrCuFeNiTi0.8 and CoCrCuFeNiTi alloys can be ob-',\n",
       " 'served, which indicates the existence of amorphous structure.',\n",
       " 'the alloys is characterized in',\n",
       " 'Fig. 2. The as-cast CoCrCuFeNi alloy exhibits a dendritic',\n",
       " 'microstructure with an average primary arm width of about',\n",
       " '15 mm and Cu element segregates preferentially to the inter-',\n",
       " 'dendritic regions because more electronegative elements',\n",
       " 'such as Cu are less stable in the FCC dendrites and are re-',\n",
       " 'jected into the interdendritic regions (as shown in Fig. 2(a)).',\n",
       " 'Compared with CoCrCuFeNi alloy,',\n",
       " 'the microstructure of',\n",
       " 'CoCrCuFeNiTi0.5 alloy (as shown in Fig. 2(b)) displays',\n",
       " 'a changed morphology. Both dendritic and interdendritic',\n",
       " 'phases gathered to clusters of about 2e3 mm. According',\n",
       " 'to EDX analysis of the black phase, it is reasonable to con-',\n",
       " 'sider it as another FCC solid solution, but the solvent is Ni.',\n",
       " 'In Fig. 2(c) and (d), Laves phase and eutectic can be ob-',\n",
       " 'served, the difference lies in that eutectic only exists around',\n",
       " 'crystal boundaries for CoCrCuFeNiTi0.8 alloy, while in',\n",
       " 'CoCrCuFeNiTi alloy the eutectic structure has a rather',\n",
       " 'high volume fraction.',\n",
       " '',\n",
       " 'Fig. 3 shows the HRTEM image of the A region marked by',\n",
       " 'circle in Fig. 2(d). The disordered matrix, its inverse fast Four-',\n",
       " 'ier transform (IFFT) image (as shown in Fig. 3(c)), conﬁrms',\n",
       " 'the existence of amorphous phase. In addition,',\n",
       " 'it can be',\n",
       " 'seen that the dispersing nanoparticles, which may be NiTi2',\n",
       " 'with an FCC lattice of a ¼ 3.553 A˚ , embedded in the amor-',\n",
       " 'phous phase.',\n",
       " '',\n",
       " '3.2. Mechanical properties',\n",
       " '',\n",
       " 'Fig. 4 shows the true stressetrue strain curves of com-',\n",
       " 'pression test for the alloy series. It is noticeable that CoCr-',\n",
       " 'CuFeNi alloy exhibits exceptional ductility so that',\n",
       " 'the',\n",
       " 'sample did not break even under about 50% true strain.',\n",
       " 'And the alloy of CoCrCuFeNiTi0.5 possesses better inte-',\n",
       " 'grated properties. The maximum compressive strength of',\n",
       " 'CoCrCuFeNiTi0.5 alloy is 1650 MPa.',\n",
       " 'It exhibits about',\n",
       " '22.4% deformation and a large work hardening capacity',\n",
       " 'in the compression test at room temperature. Compared',\n",
       " 'with CoCrCuFeNi, the CoCrCuFeNiTi0.5 alloy has an en-',\n",
       " 'hanced strength, but lower ductility, which can be ascribed',\n",
       " 'the second-phase particles staggering',\n",
       " 'to the reason that',\n",
       " 'the',\n",
       " 'with matrix lattice and it requires extra energy for',\n",
       " '',\n",
       " 'Fig. 3. (a) HRTEM image of nanoparticles embedded in the amorphous phase',\n",
       " 'in CoCrCuFeNiTi alloy, its IFFT images (b) and (c) indicate, respectively, re-',\n",
       " 'gion A of nanoparticles and region B of full amorphous matrix. The inset',\n",
       " 'shows the diffraction pattern of the nanophase.',\n",
       " '',\n",
       " ')',\n",
       " 'a',\n",
       " 'P',\n",
       " 'M',\n",
       " '',\n",
       " '(',\n",
       " '',\n",
       " 's',\n",
       " 's',\n",
       " 'e',\n",
       " 'r',\n",
       " 't',\n",
       " '',\n",
       " 'S',\n",
       " 'e',\n",
       " 'u',\n",
       " 'r',\n",
       " 'T',\n",
       " '',\n",
       " '2000',\n",
       " '',\n",
       " '1800',\n",
       " '',\n",
       " '1600',\n",
       " '',\n",
       " '1400',\n",
       " '',\n",
       " '1200',\n",
       " '',\n",
       " '1000',\n",
       " '',\n",
       " '800',\n",
       " '',\n",
       " '600',\n",
       " '',\n",
       " '400',\n",
       " '',\n",
       " '200',\n",
       " '',\n",
       " '0',\n",
       " '',\n",
       " '0',\n",
       " '',\n",
       " 'Ti0.8',\n",
       " '',\n",
       " 'Ti1',\n",
       " '',\n",
       " 'Ti0.5',\n",
       " '',\n",
       " '(not fractured)',\n",
       " '',\n",
       " 'Ti0',\n",
       " '',\n",
       " '10',\n",
       " '',\n",
       " '20',\n",
       " '',\n",
       " '30',\n",
       " '',\n",
       " '40',\n",
       " '',\n",
       " '50',\n",
       " '',\n",
       " 'True Strain (%)',\n",
       " '',\n",
       " 'Fig. 4. True stressetrue strain curves of the CoCrCuFeNiTix rod samples with',\n",
       " 'diameter of 5 mm (x ¼ 0, 0.5, 0.8, and 1).',\n",
       " '',\n",
       " ' ',\n",
       " ' ',\n",
       " '\\x0c360',\n",
       " '',\n",
       " 'X.F. Wang et al. / Intermetallics 15 (2007) 357e362',\n",
       " '',\n",
       " 'Table 1',\n",
       " 'Room temperature compression test results for the alloy series',\n",
       " '',\n",
       " '3.3. Magnetic properties',\n",
       " '',\n",
       " 'Alloy',\n",
       " '',\n",
       " 'E (GPa)',\n",
       " '',\n",
       " 'sy (MPa)',\n",
       " '',\n",
       " 'smax (MPa)',\n",
       " '',\n",
       " '3e (%)',\n",
       " '',\n",
       " '3p (%)',\n",
       " '',\n",
       " 'CoCrCuFeNi',\n",
       " 'CoCrCuFeNiTi0.5',\n",
       " 'CoCrCuFeNiTi0.8',\n",
       " 'CoCrCuFeNiTi',\n",
       " '',\n",
       " '55.6',\n",
       " '98.6',\n",
       " '128.3',\n",
       " '76.5',\n",
       " '',\n",
       " '230',\n",
       " '700',\n",
       " '1042',\n",
       " '1272',\n",
       " '',\n",
       " '888',\n",
       " '1650',\n",
       " '1848',\n",
       " '1272',\n",
       " '',\n",
       " '0.56',\n",
       " '0.8',\n",
       " '0.89',\n",
       " '1.6',\n",
       " '',\n",
       " '50.2',\n",
       " '21.6',\n",
       " '2.11',\n",
       " '0',\n",
       " '',\n",
       " 'Young’s modulus, E; yield stress, sy; compressive strength, smax; elastic strain',\n",
       " 'limit, 3e; and plastic strain, 3p.',\n",
       " '',\n",
       " 'dislocations passing through the second-phase particles.',\n",
       " 'With Ti content increasing to x ¼ 0.8, the maximum com-',\n",
       " 'pressive strength has a slight',\n",
       " 'increase to 1848 MPa, but',\n",
       " 'the deformation sharply decreases to 3%. As for CoCrCuFe-',\n",
       " 'NiTi alloy, it has only elastic strain of 1.6% and its fracture',\n",
       " 'strength is 1272 MPa. The Young’s modulus (E ), yield',\n",
       " 'strength sy, compressive strength smax, elastic strain limit',\n",
       " '3e and plastic strain limit 3p are listed in Table 1.',\n",
       " '',\n",
       " 'The specimen surface and the fracture surfaces after failure',\n",
       " 'are presented in Fig. 5. Fig. 5(a) shows the side surface of the',\n",
       " 'as-cast CoCrCuFeNi cylinder sample. On the surface there are',\n",
       " 'a large number of slip bands which are inclined to horizontal',\n",
       " 'direction. For CoCrCuFeNiTi0.5 alloy, we can see clusters of',\n",
       " 'dendrites along various directions in Fig. 5(b), which might',\n",
       " 'be attributed to its favorable ductility. Fig. 5(c) shows the frac-',\n",
       " 'ture surface of CoCrCuFeNiTi0.8 alloy. Due to the existence of',\n",
       " 'brittle microstructure around the crystal boundaries, the plas-',\n",
       " 'ticity of the alloy becomes very weak. It can be seen that',\n",
       " 'the fracture pattern of CoCrCuFeNiTi alloy is similar to that',\n",
       " 'of CoCrCuFeNiTi0.8 alloy in Fig. 5(d), and the brittle structure',\n",
       " 'accounts for a signiﬁcant proportion, which results in CoCr-',\n",
       " 'CuFeNiTi alloy losing plasticity at all.',\n",
       " '',\n",
       " 'Fig. 6 presents the magnetization curves of the alloy series.',\n",
       " 'Both CoCrCuFeNi and CoCrCuFeNiTi0.5 exhibit typical para-',\n",
       " 'magnetism, and the saturation magnetizations are 1.505 emu/g',\n",
       " 'respectively, under 20,000 Oe magnetic',\n",
       " 'and 0.333 emu/g,',\n",
       " 'ﬁeld, while the alloys of CoCrCuFeNiTi0.8 and CoCrCuFeNiTi',\n",
       " 'have likely superparamagnetic curves with the saturation mag-',\n",
       " 'netizations of 1.368 emu/g and 1.511 emu/g, respectively. For',\n",
       " 'electron microscopy',\n",
       " 'transmission',\n",
       " 'the',\n",
       " '(HRTEM) observation (as shown in Fig. 3), amorphous phase',\n",
       " 'and crystalline phase will exhibit different phasic contrasts.',\n",
       " 'According to the scale given, the sizes of the nanoparticles',\n",
       " 'are around 3e4 nm, which ensure granule volumes small',\n",
       " 'enough to exhibit superparamagnetic property [13].',\n",
       " '',\n",
       " 'resolution',\n",
       " '',\n",
       " 'high',\n",
       " '',\n",
       " '4. Discussion',\n",
       " '',\n",
       " 'According to Greer’s ‘confusion principle’: the more ele-',\n",
       " 'ments involved, the lower the chance that the alloy can select',\n",
       " 'viable crystal structures, and the greater the chance of glass',\n",
       " 'formation [12]. And the further explanation is that the most',\n",
       " '‘confusing’ elements will be those that differ most from each',\n",
       " 'other in size because a mixture of these elements lead to dense',\n",
       " 'packing in the liquid state, and the resulting stability favours',\n",
       " 'glass formation over crystallization. The little difference in',\n",
       " 'size is just the reason why the ‘confusion principle’ is not appli-',\n",
       " 'cable in our alloy series when x is less than 0.5. On the other',\n",
       " 'hand, the formation of solid solution still follows the principle',\n",
       " 'of lowest energy. According to the formula of free energy:',\n",
       " 'G ¼ H (cid:2) TS, solid solution containing multiprincipal elements',\n",
       " 'will tend to be more stable at elevated temperatures because',\n",
       " '',\n",
       " 'Fig. 5. SEM secondary electron images of fracture surfaces of the CoCrCuFeNiTix alloys, x ¼ 0, 0.5, 0.8, and 1 corresponding to (a), (b), (c) and (d), respectively.',\n",
       " '',\n",
       " '\\x0cX.F. Wang et al. / Intermetallics 15 (2007) 357e362',\n",
       " '',\n",
       " '361',\n",
       " '',\n",
       " '2.0',\n",
       " '',\n",
       " '1.5',\n",
       " '',\n",
       " '1.0',\n",
       " '',\n",
       " '0.5',\n",
       " '',\n",
       " '0.0',\n",
       " '',\n",
       " '-0.5',\n",
       " '',\n",
       " '-1.0',\n",
       " '',\n",
       " '-1.5',\n",
       " '',\n",
       " ')',\n",
       " 'g',\n",
       " '/',\n",
       " 'u',\n",
       " 'm',\n",
       " 'e',\n",
       " '(',\n",
       " '',\n",
       " 'M',\n",
       " '',\n",
       " 'Ti1.0',\n",
       " '',\n",
       " 'Ti0',\n",
       " '',\n",
       " 'Ti0.8',\n",
       " '',\n",
       " 'Ti0.5',\n",
       " '',\n",
       " '-20000',\n",
       " '',\n",
       " '-10000',\n",
       " '',\n",
       " '0',\n",
       " '',\n",
       " '10000',\n",
       " '',\n",
       " '20000',\n",
       " '',\n",
       " 'H (Oe)',\n",
       " '',\n",
       " '1300',\n",
       " '',\n",
       " 'S0',\n",
       " '',\n",
       " 'S1',\n",
       " '',\n",
       " 'S2',\n",
       " '',\n",
       " 'S3',\n",
       " '',\n",
       " 'Liquid',\n",
       " '',\n",
       " ')',\n",
       " '',\n",
       " 'C',\n",
       " 'º',\n",
       " '(',\n",
       " '',\n",
       " 'e',\n",
       " 'r',\n",
       " 'u',\n",
       " 't',\n",
       " 'a',\n",
       " 'r',\n",
       " 'e',\n",
       " 'p',\n",
       " 'm',\n",
       " 'e',\n",
       " 'T',\n",
       " '',\n",
       " 'Liquid+FCC',\n",
       " '',\n",
       " '1200',\n",
       " '',\n",
       " '1100',\n",
       " '',\n",
       " '1000',\n",
       " '',\n",
       " 'FCC',\n",
       " '',\n",
       " '900',\n",
       " '',\n",
       " '0',\n",
       " 'CoCrCuFeNi',\n",
       " '',\n",
       " '5',\n",
       " '',\n",
       " 'Liquid',\n",
       " '+Laves',\n",
       " '',\n",
       " 'FCC+Laves',\n",
       " '',\n",
       " '10',\n",
       " '',\n",
       " '15',\n",
       " 'Ti content (at.%)',\n",
       " '',\n",
       " '20',\n",
       " '',\n",
       " '25',\n",
       " '',\n",
       " '30',\n",
       " '',\n",
       " 'Fig. 6. Magnetization curves of the TixCoCrCuFeNi alloys (x ¼ 0, 0.5, 0.8, and 1),',\n",
       " 'showing a transition from the paramagnetism (x ¼ 0 and 0.5) to superpar-',\n",
       " 'amagnetism (x ¼ 0.8 and 1).',\n",
       " '',\n",
       " 'Fig. 8. The diagrammatic sketch of CoCrCuFeNi system with the Ti addition,',\n",
       " 'S0, S1, S2 and S3 corresponding to x ¼ 0, 0.5, 0.8 and 1.0, respectively.',\n",
       " '',\n",
       " 'of the large mixing entropies [10]. To check the formula of mix-',\n",
       " 'ing entropy: Sm ¼ (cid:2)R Pn',\n",
       " 'i¼1 Ci Ln Ci, a maximum point can be',\n",
       " 'attained when the alloy system contains equiatomic multicom-',\n",
       " 'ponent. With the increase of Ti addition, a dense packing will',\n",
       " 'be attained in local regions due to the proper arrangement of',\n",
       " 'elements with remarkable difference in atomic size such as Ti',\n",
       " 'and Ni, the difference in atomic radii is near 17%. Hence, the',\n",
       " '‘confusion principle’ may be applicable in this case and glass',\n",
       " 'formation does occur in local regions.',\n",
       " '',\n",
       " 'It can be seen that both the onset melting temperature Tm',\n",
       " 'and the liquidus temperature Tl decrease with increasing Ti ad-',\n",
       " 'dition (Fig. 7). This tendency should be derived from the evo-',\n",
       " 'lution of the microstructure. Based on the fact that almost all',\n",
       " 'of the binary phase diagrams of TieM (M refer to Co, Cu, Fe',\n",
       " 'and Ni) are eutectic type, and their eutectic temperatures are',\n",
       " 'very close to the Tm of CoCrCuFeNiTi0.8 and CoCrCuFeNiTi',\n",
       " 'alloys, so it may be reasonable to conceive a pseudo-binary',\n",
       " 'eutectic diagram (Fig. 8) for illustrating the formation of',\n",
       " '',\n",
       " 'Tm',\n",
       " '',\n",
       " 'Tl',\n",
       " '',\n",
       " 'Ti1.0',\n",
       " '',\n",
       " 'Ti0.8',\n",
       " '',\n",
       " 'Ti0.5',\n",
       " '',\n",
       " 'Ti0',\n",
       " '',\n",
       " ')',\n",
       " '.',\n",
       " 'u',\n",
       " 'a',\n",
       " '(',\n",
       " '',\n",
       " '.',\n",
       " '',\n",
       " 'w',\n",
       " 'o',\n",
       " 'F',\n",
       " '',\n",
       " 'l',\n",
       " '',\n",
       " 't',\n",
       " '',\n",
       " 'a',\n",
       " 'e',\n",
       " 'H',\n",
       " '',\n",
       " 'microstructure. According to Fig. 8, the systems of CoCrCu-',\n",
       " 'FeNiTi0.8 and CoCrCuFeNiTi alloys (marked S2 and S3 in',\n",
       " 'Fig. 8) would precipitate FCC solid solution as primary phase,',\n",
       " 'then eutectic resultant including Laves phase of Fe2Ti type',\n",
       " 'because of the non-equilibrium solidiﬁcation resulting from',\n",
       " 'high cooling rate. And the local segments having the compo-',\n",
       " 'sition close to eutectic may favour a glass transition under',\n",
       " 'high cooling rates. As a result of fast cooling, the short-range',\n",
       " 'structure (denoted by arrows in Fig. 3(c)) of the amorphous',\n",
       " 'phase showing a hexagonal pattern which accords with the',\n",
       " 'lattice of Fe2Ti type.',\n",
       " '',\n",
       " 'In general, a number of slip bands would be beneﬁcial for',\n",
       " 'plasticity. For CoCrCuFeNi and CoCrCuFeNiTi0.5, the dislo-',\n",
       " 'cations cannot propagate through the whole sample due to',\n",
       " 'the constraint of the interdendritic regions. And multiple slip',\n",
       " 'bands may be activated resulting from the stress concentration',\n",
       " 'in this case, thus the ductility improved. Both Fig. 5(c) and (d)',\n",
       " 'show the typical fracture surfaces of quasi-cleavage facets, and',\n",
       " 'also a few dimples (Fig. 5(d)). The difference lies in the facets',\n",
       " 'in Fig. 5(d) which are bigger and ﬂatter reﬂecting their weaker',\n",
       " 'ductility.',\n",
       " '',\n",
       " 'The fact of magnetic transition can also be proved by the',\n",
       " 'temperature dependence of magnetization (M (T )) curves pre-',\n",
       " 'sented in Fig. 9. For CoCrCuFeNi and CoCrCuFeNiTi0.5, there',\n",
       " 'are only Curie temperatures (TC) appearing on the curves,',\n",
       " 'whereas the alloys of CoCrCuFeNiTi0.8 and CoCrCuFeNiTi',\n",
       " 'have the blocking temperatures (TB) besides TC in a lower',\n",
       " 'temperature region of 19e23 K. Despite TB is so low that it',\n",
       " 'limits the application for this kind of superparamagnetic al-',\n",
       " 'loys, the tendency of TB increasing with increased addition',\n",
       " 'of Ti is irradiative for further improving the magnetic proper-',\n",
       " 'ties by adjusting the alloy composition.',\n",
       " '',\n",
       " '200',\n",
       " '',\n",
       " '400',\n",
       " '',\n",
       " '600',\n",
       " '',\n",
       " '800',\n",
       " '',\n",
       " '1000',\n",
       " '',\n",
       " '1200',\n",
       " '',\n",
       " 'Temperature (ºC)',\n",
       " '',\n",
       " '5. Conclusions',\n",
       " '',\n",
       " 'Fig. 7. DSC heating curves of the CoCrCuFeNiTix alloys (x ¼ 0, 0.5, 0.8',\n",
       " 'and 1.0).',\n",
       " '',\n",
       " 'In summary, the alloy series of CoCrCuFeNiTix (x values in',\n",
       " 'molar ratio, x ¼ 0, 0.5, 0.8 and 1.0) have relatively simple',\n",
       " '',\n",
       " ' ',\n",
       " ' ',\n",
       " ' ',\n",
       " ' ',\n",
       " ' ',\n",
       " '\\x0c362',\n",
       " '',\n",
       " 'X.F. Wang et al. / Intermetallics 15 (2007) 357e362',\n",
       " '',\n",
       " ')',\n",
       " 'u',\n",
       " 'm',\n",
       " 'e',\n",
       " '(',\n",
       " '',\n",
       " 'M',\n",
       " '',\n",
       " '12',\n",
       " '',\n",
       " '10',\n",
       " '',\n",
       " '8',\n",
       " '',\n",
       " '6',\n",
       " '',\n",
       " '4',\n",
       " '',\n",
       " '2',\n",
       " '',\n",
       " '0',\n",
       " '',\n",
       " 'Ti0',\n",
       " '',\n",
       " 'Ti1',\n",
       " '',\n",
       " 'Ti0.8',\n",
       " '',\n",
       " 'TB',\n",
       " '',\n",
       " 'TB',\n",
       " '',\n",
       " 'Ti0.5',\n",
       " '',\n",
       " 'TC',\n",
       " '',\n",
       " 'TC',\n",
       " '',\n",
       " '0',\n",
       " '',\n",
       " '50',\n",
       " '',\n",
       " '100',\n",
       " '',\n",
       " '150',\n",
       " '',\n",
       " '200',\n",
       " '',\n",
       " '250',\n",
       " '',\n",
       " '300',\n",
       " '',\n",
       " '350',\n",
       " '',\n",
       " 'T (K)',\n",
       " '',\n",
       " 'appearance of nanoparticle assemblies embedded in the amor-',\n",
       " 'phous phase due to the increment of Ti addition. And the in-',\n",
       " 'crease of TB with Ti addition may suggest a way for',\n",
       " 'developing a new superparamagnetic material.',\n",
       " '',\n",
       " 'Acknowledgment',\n",
       " '',\n",
       " 'The authors would like to thank X.P. Song for technical as-',\n",
       " 'sistance in TEM experiments, and X.J. Liu and J. Chen for',\n",
       " 'processing the ﬁgures. One of the authors (Z.Y.) would like',\n",
       " 'to acknowledge the ﬁnancial support by National Natural Sci-',\n",
       " 'ence Foundation of China (NNSFC) under the granted No.',\n",
       " '50571018, and Program for New Century Excellent Talents',\n",
       " 'in University (NCET).',\n",
       " '',\n",
       " 'Fig. 9. The temperature dependence of magnetization (M (T )) curves while',\n",
       " 'cooling the alloy series of CoCrCuFeNiTix (x ¼ 0, 0.5, 0.8 and 1) at 2000 Oe.',\n",
       " '',\n",
       " 'References',\n",
       " '',\n",
       " 'microstructure and promising properties. As Ti addition in-',\n",
       " 'creases from 0 to 1.0, the microstructure of the alloy series',\n",
       " 'evolves from a single FCC solid solution to the composite',\n",
       " 'structure: FCC and Laves phases, also a fraction of amorphous',\n",
       " 'phase. The yield strength of the alloys increases from 230 MPa',\n",
       " 'to 1272 MPa with the increase of Ti addition, among which',\n",
       " 'the CoCrCuFeNiTi0.5 alloy exhibits high strength of up to',\n",
       " '1650 MPa together with extensive work hardening and large',\n",
       " 'ductility of 22%. For CoCrCuFeNi and CoCrCuFeNiTi0.5',\n",
       " 'alloys, the FCC solid solutions exhibit typical paramagnetism,',\n",
       " 'while CoCrCuFeNiTi0.8 and CoCrCuFeNiTi alloys exhibit',\n",
       " 'attributed to the',\n",
       " 'superparamagnetism which may be',\n",
       " '',\n",
       " '[1] Cantor B, Chang ITH, Knight P, Vincent AJB. Mater Sci Eng A',\n",
       " '',\n",
       " '2004;375-377:213.',\n",
       " '',\n",
       " '[2] Porter DA, Easterling KE. Phase transformations in metals and alloys.',\n",
       " '',\n",
       " '2nd ed. Nelson Thornes Ltd.; 2001.',\n",
       " '',\n",
       " '[3] Liu CT, Stiegler JO. Science 1984;226(4675):636.',\n",
       " '[4] Chen GL, Liu CT. Int Mater Rev 2001;46(60):253.',\n",
       " '[5] Inoue A. Mater Sci Eng A 2004;375-377:16.',\n",
       " '[6] Wang WH, Dong C, Shek CH. Mater Sci Eng R 2004;44(2e3):45.',\n",
       " '[7] Tan H, Zhang Y, Ma D, Feng YP, Li Y. Acta Mater 2003;51:4551.',\n",
       " '[8] Johnson WL. MRS Bull 1999;24:42.',\n",
       " '[9] Zhang Y, Zhao DQ, Pan MX, Wang WH. J Non-Cryst Sol 2003;315:206.',\n",
       " '[10] Tong CJ, Chen YL, Chen SK. Met Mater Trans A 2005;36A:881.',\n",
       " '[11] Tong CJ, Chen MR, Chen SK. Met Mater Trans A 2005;36A:1263.',\n",
       " '[12] Greer AL. Nature 1993;366:303.',\n",
       " '[13] Shinde SR, Ogale SB, Higgins JS. Phys Rev Lett 2004;92:166601.',\n",
       " '',\n",
       " ' ',\n",
       " '\\x0c']"
      ]
     },
     "execution_count": 64,
     "metadata": {},
     "output_type": "execute_result"
    }
   ],
   "source": [
    "raw.split(\"\\n\")"
   ]
  },
  {
   "cell_type": "code",
   "execution_count": 62,
   "id": "d773044c-092b-44f8-b519-0ef76decc55c",
   "metadata": {},
   "outputs": [
    {
     "data": {
      "text/plain": [
       "['Intermetallics 15 (2007) 357e362\\n\\nwww.elsevier.com/locate/intermet\\n\\nNovel microstructure and properties of multicomponent\\nCoCrCuFeNiTix alloys\\n\\nX.F. Wang, Y. Zhang*, Y. Qiao, G.L. Chen\\n\\nState Key Laboratory for Advanced Metals and Materials, University of Science and Technology Beijing,\\nXueYuan Road 30#, Haidian District, Beijing 100083, China\\n\\nReceived 10 May 2006; received in revised form 7 July 2006; accepted 4 August 2006\\nAvailable online 5 October 2006\\n\\n',\n",
       " '\\n\\nCoCrCuFeNiTix (x values in molar ratio, x ¼ 0, 0.5, 0.8 and 1.0) were prepared by arc melting of the pure elements and suction casting under an\\nargon atmosphere. Both CoCrCuFeNi and CoCrCuFeNiTi0.5 alloys form a single FCC solid solution. While the alloys of CoCrCuFeNiTi0.8 and\\nCoCrCuFeNiTi are basically composed of primary FCC solid solution and eutectic mixture of FCC phase and Laves phase of Fe2Ti type. The yield\\nstrength of the alloys increases from 230 MPa to 1272 MPa with the increase of Ti addition, among which the CoCrCuFeNiTi0.5 alloy, especially,\\nexhibits compressive strength of up to 1650 MPa together with extensive work hardening and large plastic strain limit of 22%. An interesting tran-\\nsition from paramagnetism to superparamagnetism has been discovered due to the appearance of nanoparticles embedded in the amorphous phase.\\n(cid:2) 2006 Elsevier Ltd. All rights reserved.\\n\\nKeywords: B. Magnetic properties; B. Mechanical properties at ambient temperature; C. Casting; D. Microstructure\\n\\n1. Introduction\\n\\nConventional strategy for developing metallic alloys is to\\nselect one or two elements as the main components based\\non a primary property requirement, and to use alloying addi-\\ntions to confer secondary properties [1], such as iron-, cop-\\nper-, and aluminum-based alloys [2,3] or the intermetallic\\ncompounds of TieAl, NieAl and FeeAl binary systems\\nwhich appeared in the 1970s because of their extremely high\\nspeciﬁc strengths and thermal resistance [4]. In the last two de-\\ncades, multicomponent bulk amorphous alloys have attracted\\ngreat attentions because they exhibit unique properties com-\\npared to its counterpart crystalline materials, e.g. 2e3 times\\nof fracture strength of crystalline materials, high elastic strain\\nlimit and high corrosion resistance [5e9]. However, the design\\nconcept of multicomponent bulk amorphous alloys was, once\\nagain, based on one principal element [10]. Conventional alloy\\n\\n* Corresponding author. Tel.: þ86 010 62322160; fax: þ86 010 62332508.\\n\\nE-mail address: drzhangy@skl.ustb.edu.cn (Y. Zhang).\\n\\n0966-9795/$ - see front matter (cid:2) 2006 Elsevier Ltd. All rights reserved.\\ndoi:10.1016/j.intermet.2006.08.005\\n\\ndevelopment strategy leads to an enormous amount of knowl-\\nedge about alloys based on one or two main components, but\\nto very little or no knowledge about multiprincipal elements\\nsystem. Actually, for quaternary, quinary and higher order sys-\\ntems, information about alloys in the center of the phase dia-\\n[1]. The main reason for not\\ngram is non-existent\\nincorporating multiprincipal elements is the anticipated forma-\\ntion of many intermetallic compounds and complex micro-\\nstructures. However, it has been reported that a quinary alloy\\nFe20Cr20Mn20Ni20Co20 [1] and the AlxCoCrCuFeNi alloys\\nwith minor aluminum addition [10] form a single FCC solid\\nsolution, as well with promising mechanical properties that\\nmay have potential for the requirements of high temperature\\nalloys [11]. Just based on the simple structure and unique\\nproperties, there has been increasing interests for exploring\\nthe equiatomic multicomponent alloy series.\\n\\nIn this paper, a novel series of CoCrCuFeNiTix (x values in\\nmolar ratio, x ¼ 0, 0.5, 0.8 and 1.0) alloys were prepared by\\nwell-developed arc melting and casting method. Their micro-\\nstructure and mechanical properties were examined, further-\\nto investigate the\\nmore, we described an initial attempt\\n\\n\\x0cX.F. Wang et al. / Intermetallics 15 (2007) 357e362\\n\\n358\\n\\n700\\n\\n600\\n\\n500\\n\\n400\\n\\n300\\n\\n)\\n.\\nu\\n.\\na\\n(\\nY\\nT\\nS\\nN\\nE\\nT\\nN\\n\\nI\\n\\nI\\n\\nTi1\\n\\nTi0.8\\n\\n200\\n\\nTi0.5\\n\\n100\\n\\nTi0\\n\\n0\\n\\n20\\n\\n)\\n0\\n0\\n2\\n(\\n\\n)\\n1\\n1\\n1\\n(\\n\\n)\\n1\\n0\\n2\\n(\\n+\\n\\n)\\n0\\n1\\n1\\n(\\n+\\n\\nFCC\\n\\n+\\n\\nLAVES\\n\\n)\\n0\\n2\\n2\\n(\\n\\n)\\n0\\n2\\n2\\n(\\n+\\n\\n30\\n\\n40\\n\\n50\\n\\n60\\n\\n70\\n\\n80\\n\\n90\\n\\n2θ( º )\\n\\nFig. 1. XRD patterns of the CoCrCuFeNiTix rod samples with diameter of\\n5 mm (x ¼ 0, 0.5, 0.8, and 1).\\n\\nmagnetic property of the alloy series above and discovered an\\ninteresting transition.\\n\\n2. Experimental procedures\\n\\nIngots with nominal compositions of CoCrCuFeNiTix (x\\nvalues in molar ratio, x ¼ 0, 0.5, 0.8 and 1.0) were prepared\\nfrom commercial-purity Ti (99.9%), Cr (99.9%), Fe (99%),\\nCo (99.95%), Ni (99.9%) and Cu (99.9%) by arc melting un-\\nder argon atmosphere on a water-cooled Cu hearth. The alloys\\n\\nwere remelted several times in order to improve homogeneity.\\nFinally 5 mm diameter cylindrical rods were prepared in suc-\\ntion casting facility attached to the arc melter. Structural inves-\\ntigations were carried out by X-ray diffraction (XRD) with Cu\\nKa radiation using an MXP21VAHF diffractometer. An LEO-\\n1450 scanning electron microscope (SEM) equipped with\\na KEVEX Sigma energy-dispersive X-ray (EDX) spectrometer\\nwas used for microstructure observation and phase composi-\\ntion identiﬁcation. Thin slices from the as-cast rods were pre-\\npared by the conventional method of slicing and grinding,\\nfollowed by dimpling and ﬁnally ion milling (LBS-1). These\\nslices were used for detailed structural investigations of the\\nas-cast samples by transmission electron microscopy (TEM).\\nA CMT4305 testing machine was used for compressive tests,\\nwith the strain rate of 10(cid:2)4 s(cid:2)1. In order to evaluate the mag-\\nnetic property, squares of 3 mm length and 0.5 mm thickness\\nwere prepared from the 5 mm diameter as-cast rods and tested\\nby an LDJ 9600 vibrating sample magnetometer (VSM). And\\nthe magnetic moments of low-temperature were characterized\\nwith an MPMS-7 superconducting quantum device magnetom-\\neter (SQUID Magnetometer).\\n\\n3. Results\\n\\n3.1. Microstructure evolution\\n\\nThe XRD patterns of the as-cast rods are presented in\\nFig. 1. Both CoCrCuFeNi and CoCrCuFeNiTi0.5 alloys show\\n\\nFig. 2. SEM back-scatter electron images of the CoCrCuFeNiTix alloys after polishing, x ¼ 0, 0.5, 0.8, and 1 corresponding to (a), (b), (c) and (d), respectively. In\\n(d), a region marked by circle denotes the region for HRTEM observation (as shown in Fig. 3).\\n\\n\\x0cX.F. Wang et al. / Intermetallics 15 (2007) 357e362\\n\\n359\\n\\nThe microstructure of\\n\\nthe presence of FCC reﬂections. For CoCrCuFeNiTi0.8 and\\nCoCrCuFeNiTi, the reﬂections of Laves phase occur besides\\nFCC reﬂections, the relative intensity of which is smaller\\nthan that of the FCC reﬂections. The lattice parameter of the\\nsolid solution is estimated to be 3.579 A˚ from the strongest\\n(111) peak for CoCrCuFeNi. The energy-dispersive X-ray\\n(EDX) analysis reveals that Cobalt acts as the solvent and\\nother atoms replace the Cobalt atoms in FCC lattice. The\\nLaves phase in the alloys of CoCrCuFeNiTi0.8 and CoCrCuFe-\\nNiTi, with lattice parameters of a ¼ 4.765 A˚ and c ¼ 7.723 A˚ ,\\nshould be ranged as an Fe2Ti type. The peaks of the FCC re-\\nﬂections shift a little leftwards with the increase of Ti addition,\\nwhich indicates that the lattice parameter of FCC phase has\\na slight increment. A broad diffraction peak at 2q ¼ 42e47(cid:3)\\nfor CoCrCuFeNiTi0.8 and CoCrCuFeNiTi alloys can be ob-\\nserved, which indicates the existence of amorphous structure.\\nthe alloys is characterized in\\nFig. 2. The as-cast CoCrCuFeNi alloy exhibits a dendritic\\nmicrostructure with an average primary arm width of about\\n15 mm and Cu element segregates preferentially to the inter-\\ndendritic regions because more electronegative elements\\nsuch as Cu are less stable in the FCC dendrites and are re-\\njected into the interdendritic regions (as shown in Fig. 2(a)).\\nCompared with CoCrCuFeNi alloy,\\nthe microstructure of\\nCoCrCuFeNiTi0.5 alloy (as shown in Fig. 2(b)) displays\\na changed morphology. Both dendritic and interdendritic\\nphases gathered to clusters of about 2e3 mm. According\\nto EDX analysis of the black phase, it is reasonable to con-\\nsider it as another FCC solid solution, but the solvent is Ni.\\nIn Fig. 2(c) and (d), Laves phase and eutectic can be ob-\\nserved, the difference lies in that eutectic only exists around\\ncrystal boundaries for CoCrCuFeNiTi0.8 alloy, while in\\nCoCrCuFeNiTi alloy the eutectic structure has a rather\\nhigh volume fraction.\\n\\nFig. 3 shows the HRTEM image of the A region marked by\\ncircle in Fig. 2(d). The disordered matrix, its inverse fast Four-\\nier transform (IFFT) image (as shown in Fig. 3(c)), conﬁrms\\nthe existence of amorphous phase. In addition,\\nit can be\\nseen that the dispersing nanoparticles, which may be NiTi2\\nwith an FCC lattice of a ¼ 3.553 A˚ , embedded in the amor-\\nphous phase.\\n\\n3.2. Mechanical properties\\n\\nFig. 4 shows the true stressetrue strain curves of com-\\npression test for the alloy series. It is noticeable that CoCr-\\nCuFeNi alloy exhibits exceptional ductility so that\\nthe\\nsample did not break even under about 50% true strain.\\nAnd the alloy of CoCrCuFeNiTi0.5 possesses better inte-\\ngrated properties. The maximum compressive strength of\\nCoCrCuFeNiTi0.5 alloy is 1650 MPa.\\nIt exhibits about\\n22.4% deformation and a large work hardening capacity\\nin the compression test at room temperature. Compared\\nwith CoCrCuFeNi, the CoCrCuFeNiTi0.5 alloy has an en-\\nhanced strength, but lower ductility, which can be ascribed\\nthe second-phase particles staggering\\nto the reason that\\nthe\\nwith matrix lattice and it requires extra energy for\\n\\nFig. 3. (a) HRTEM image of nanoparticles embedded in the amorphous phase\\nin CoCrCuFeNiTi alloy, its IFFT images (b) and (c) indicate, respectively, re-\\ngion A of nanoparticles and region B of full amorphous matrix. The inset\\nshows the diffraction pattern of the nanophase.\\n\\n)\\na\\nP\\nM\\n\\n(\\n\\ns\\ns\\ne\\nr\\nt\\n\\nS\\ne\\nu\\nr\\nT\\n\\n2000\\n\\n1800\\n\\n1600\\n\\n1400\\n\\n1200\\n\\n1000\\n\\n800\\n\\n600\\n\\n400\\n\\n200\\n\\n0\\n\\n0\\n\\nTi0.8\\n\\nTi1\\n\\nTi0.5\\n\\n(not fractured)\\n\\nTi0\\n\\n10\\n\\n20\\n\\n30\\n\\n40\\n\\n50\\n\\nTrue Strain (%)\\n\\nFig. 4. True stressetrue strain curves of the CoCrCuFeNiTix rod samples with\\ndiameter of 5 mm (x ¼ 0, 0.5, 0.8, and 1).\\n\\n \\n \\n\\x0c360\\n\\nX.F. Wang et al. / Intermetallics 15 (2007) 357e362\\n\\nTable 1\\nRoom temperature compression test results for the alloy series\\n\\n3.3. Magnetic properties\\n\\nAlloy\\n\\nE (GPa)\\n\\nsy (MPa)\\n\\nsmax (MPa)\\n\\n3e (%)\\n\\n3p (%)\\n\\nCoCrCuFeNi\\nCoCrCuFeNiTi0.5\\nCoCrCuFeNiTi0.8\\nCoCrCuFeNiTi\\n\\n55.6\\n98.6\\n128.3\\n76.5\\n\\n230\\n700\\n1042\\n1272\\n\\n888\\n1650\\n1848\\n1272\\n\\n0.56\\n0.8\\n0.89\\n1.6\\n\\n50.2\\n21.6\\n2.11\\n0\\n\\nYoung’s modulus, E; yield stress, sy; compressive strength, smax; elastic strain\\nlimit, 3e; and plastic strain, 3p.\\n\\ndislocations passing through the second-phase particles.\\nWith Ti content increasing to x ¼ 0.8, the maximum com-\\npressive strength has a slight\\nincrease to 1848 MPa, but\\nthe deformation sharply decreases to 3%. As for CoCrCuFe-\\nNiTi alloy, it has only elastic strain of 1.6% and its fracture\\nstrength is 1272 MPa. The Young’s modulus (E ), yield\\nstrength sy, compressive strength smax, elastic strain limit\\n3e and plastic strain limit 3p are listed in Table 1.\\n\\nThe specimen surface and the fracture surfaces after failure\\nare presented in Fig. 5. Fig. 5(a) shows the side surface of the\\nas-cast CoCrCuFeNi cylinder sample. On the surface there are\\na large number of slip bands which are inclined to horizontal\\ndirection. For CoCrCuFeNiTi0.5 alloy, we can see clusters of\\ndendrites along various directions in Fig. 5(b), which might\\nbe attributed to its favorable ductility. Fig. 5(c) shows the frac-\\nture surface of CoCrCuFeNiTi0.8 alloy. Due to the existence of\\nbrittle microstructure around the crystal boundaries, the plas-\\nticity of the alloy becomes very weak. It can be seen that\\nthe fracture pattern of CoCrCuFeNiTi alloy is similar to that\\nof CoCrCuFeNiTi0.8 alloy in Fig. 5(d), and the brittle structure\\naccounts for a signiﬁcant proportion, which results in CoCr-\\nCuFeNiTi alloy losing plasticity at all.\\n\\nFig. 6 presents the magnetization curves of the alloy series.\\nBoth CoCrCuFeNi and CoCrCuFeNiTi0.5 exhibit typical para-\\nmagnetism, and the saturation magnetizations are 1.505 emu/g\\nrespectively, under 20,000 Oe magnetic\\nand 0.333 emu/g,\\nﬁeld, while the alloys of CoCrCuFeNiTi0.8 and CoCrCuFeNiTi\\nhave likely superparamagnetic curves with the saturation mag-\\nnetizations of 1.368 emu/g and 1.511 emu/g, respectively. For\\nelectron microscopy\\ntransmission\\nthe\\n(HRTEM) observation (as shown in Fig. 3), amorphous phase\\nand crystalline phase will exhibit different phasic contrasts.\\nAccording to the scale given, the sizes of the nanoparticles\\nare around 3e4 nm, which ensure granule volumes small\\nenough to exhibit superparamagnetic property [13].\\n\\nresolution\\n\\nhigh\\n\\n4. Discussion\\n\\nAccording to Greer’s ‘confusion principle’: the more ele-\\nments involved, the lower the chance that the alloy can select\\nviable crystal structures, and the greater the chance of glass\\nformation [12]. And the further explanation is that the most\\n‘confusing’ elements will be those that differ most from each\\nother in size because a mixture of these elements lead to dense\\npacking in the liquid state, and the resulting stability favours\\nglass formation over crystallization. The little difference in\\nsize is just the reason why the ‘confusion principle’ is not appli-\\ncable in our alloy series when x is less than 0.5. On the other\\nhand, the formation of solid solution still follows the principle\\nof lowest energy. According to the formula of free energy:\\nG ¼ H (cid:2) TS, solid solution containing multiprincipal elements\\nwill tend to be more stable at elevated temperatures because\\n\\nFig. 5. SEM secondary electron images of fracture surfaces of the CoCrCuFeNiTix alloys, x ¼ 0, 0.5, 0.8, and 1 corresponding to (a), (b), (c) and (d), respectively.\\n\\n\\x0cX.F. Wang et al. / Intermetallics 15 (2007) 357e362\\n\\n361\\n\\n2.0\\n\\n1.5\\n\\n1.0\\n\\n0.5\\n\\n0.0\\n\\n-0.5\\n\\n-1.0\\n\\n-1.5\\n\\n)\\ng\\n/\\nu\\nm\\ne\\n(\\n\\nM\\n\\nTi1.0\\n\\nTi0\\n\\nTi0.8\\n\\nTi0.5\\n\\n-20000\\n\\n-10000\\n\\n0\\n\\n10000\\n\\n20000\\n\\nH (Oe)\\n\\n1300\\n\\nS0\\n\\nS1\\n\\nS2\\n\\nS3\\n\\nLiquid\\n\\n)\\n\\nC\\nº\\n(\\n\\ne\\nr\\nu\\nt\\na\\nr\\ne\\np\\nm\\ne\\nT\\n\\nLiquid+FCC\\n\\n1200\\n\\n1100\\n\\n1000\\n\\nFCC\\n\\n900\\n\\n0\\nCoCrCuFeNi\\n\\n5\\n\\nLiquid\\n+Laves\\n\\nFCC+Laves\\n\\n10\\n\\n15\\nTi content (at.%)\\n\\n20\\n\\n25\\n\\n30\\n\\nFig. 6. Magnetization curves of the TixCoCrCuFeNi alloys (x ¼ 0, 0.5, 0.8, and 1),\\nshowing a transition from the paramagnetism (x ¼ 0 and 0.5) to superpar-\\namagnetism (x ¼ 0.8 and 1).\\n\\nFig. 8. The diagrammatic sketch of CoCrCuFeNi system with the Ti addition,\\nS0, S1, S2 and S3 corresponding to x ¼ 0, 0.5, 0.8 and 1.0, respectively.\\n\\nof the large mixing entropies [10]. To check the formula of mix-\\ning entropy: Sm ¼ (cid:2)R Pn\\ni¼1 Ci Ln Ci, a maximum point can be\\nattained when the alloy system contains equiatomic multicom-\\nponent. With the increase of Ti addition, a dense packing will\\nbe attained in local regions due to the proper arrangement of\\nelements with remarkable difference in atomic size such as Ti\\nand Ni, the difference in atomic radii is near 17%. Hence, the\\n‘confusion principle’ may be applicable in this case and glass\\nformation does occur in local regions.\\n\\nIt can be seen that both the onset melting temperature Tm\\nand the liquidus temperature Tl decrease with increasing Ti ad-\\ndition (Fig. 7). This tendency should be derived from the evo-\\nlution of the microstructure. Based on the fact that almost all\\nof the binary phase diagrams of TieM (M refer to Co, Cu, Fe\\nand Ni) are eutectic type, and their eutectic temperatures are\\nvery close to the Tm of CoCrCuFeNiTi0.8 and CoCrCuFeNiTi\\nalloys, so it may be reasonable to conceive a pseudo-binary\\neutectic diagram (Fig. 8) for illustrating the formation of\\n\\nTm\\n\\nTl\\n\\nTi1.0\\n\\nTi0.8\\n\\nTi0.5\\n\\nTi0\\n\\n)\\n.\\nu\\na\\n(\\n\\n.\\n\\nw\\no\\nF\\n\\nl\\n\\nt\\n\\na\\ne\\nH\\n\\nmicrostructure. According to Fig. 8, the systems of CoCrCu-\\nFeNiTi0.8 and CoCrCuFeNiTi alloys (marked S2 and S3 in\\nFig. 8) would precipitate FCC solid solution as primary phase,\\nthen eutectic resultant including Laves phase of Fe2Ti type\\nbecause of the non-equilibrium solidiﬁcation resulting from\\nhigh cooling rate. And the local segments having the compo-\\nsition close to eutectic may favour a glass transition under\\nhigh cooling rates. As a result of fast cooling, the short-range\\nstructure (denoted by arrows in Fig. 3(c)) of the amorphous\\nphase showing a hexagonal pattern which accords with the\\nlattice of Fe2Ti type.\\n\\nIn general, a number of slip bands would be beneﬁcial for\\nplasticity. For CoCrCuFeNi and CoCrCuFeNiTi0.5, the dislo-\\ncations cannot propagate through the whole sample due to\\nthe constraint of the interdendritic regions. And multiple slip\\nbands may be activated resulting from the stress concentration\\nin this case, thus the ductility improved. Both Fig. 5(c) and (d)\\nshow the typical fracture surfaces of quasi-cleavage facets, and\\nalso a few dimples (Fig. 5(d)). The difference lies in the facets\\nin Fig. 5(d) which are bigger and ﬂatter reﬂecting their weaker\\nductility.\\n\\nThe fact of magnetic transition can also be proved by the\\ntemperature dependence of magnetization (M (T )) curves pre-\\nsented in Fig. 9. For CoCrCuFeNi and CoCrCuFeNiTi0.5, there\\nare only Curie temperatures (TC) appearing on the curves,\\nwhereas the alloys of CoCrCuFeNiTi0.8 and CoCrCuFeNiTi\\nhave the blocking temperatures (TB) besides TC in a lower\\ntemperature region of 19e23 K. Despite TB is so low that it\\nlimits the application for this kind of superparamagnetic al-\\nloys, the tendency of TB increasing with increased addition\\nof Ti is irradiative for further improving the magnetic proper-\\nties by adjusting the alloy composition.\\n\\n200\\n\\n400\\n\\n600\\n\\n800\\n\\n1000\\n\\n1200\\n\\nTemperature (ºC)\\n\\n5. Conclusions\\n\\nFig. 7. DSC heating curves of the CoCrCuFeNiTix alloys (x ¼ 0, 0.5, 0.8\\nand 1.0).\\n\\nIn summary, the alloy series of CoCrCuFeNiTix (x values in\\nmolar ratio, x ¼ 0, 0.5, 0.8 and 1.0) have relatively simple\\n\\n \\n \\n \\n \\n \\n\\x0c362\\n\\nX.F. Wang et al. / Intermetallics 15 (2007) 357e362\\n\\n)\\nu\\nm\\ne\\n(\\n\\nM\\n\\n12\\n\\n10\\n\\n8\\n\\n6\\n\\n4\\n\\n2\\n\\n0\\n\\nTi0\\n\\nTi1\\n\\nTi0.8\\n\\nTB\\n\\nTB\\n\\nTi0.5\\n\\nTC\\n\\nTC\\n\\n0\\n\\n50\\n\\n100\\n\\n150\\n\\n200\\n\\n250\\n\\n300\\n\\n350\\n\\nT (K)\\n\\nappearance of nanoparticle assemblies embedded in the amor-\\nphous phase due to the increment of Ti addition. And the in-\\ncrease of TB with Ti addition may suggest a way for\\ndeveloping a new superparamagnetic material.\\n\\nAcknowledgment\\n\\nThe authors would like to thank X.P. Song for technical as-\\nsistance in TEM experiments, and X.J. Liu and J. Chen for\\nprocessing the ﬁgures. One of the authors (Z.Y.) would like\\nto acknowledge the ﬁnancial support by National Natural Sci-\\nence Foundation of China (NNSFC) under the granted No.\\n50571018, and Program for New Century Excellent Talents\\nin University (NCET).\\n\\nFig. 9. The temperature dependence of magnetization (M (T )) curves while\\ncooling the alloy series of CoCrCuFeNiTix (x ¼ 0, 0.5, 0.8 and 1) at 2000 Oe.\\n\\nReferences\\n\\nmicrostructure and promising properties. As Ti addition in-\\ncreases from 0 to 1.0, the microstructure of the alloy series\\nevolves from a single FCC solid solution to the composite\\nstructure: FCC and Laves phases, also a fraction of amorphous\\nphase. The yield strength of the alloys increases from 230 MPa\\nto 1272 MPa with the increase of Ti addition, among which\\nthe CoCrCuFeNiTi0.5 alloy exhibits high strength of up to\\n1650 MPa together with extensive work hardening and large\\nductility of 22%. For CoCrCuFeNi and CoCrCuFeNiTi0.5\\nalloys, the FCC solid solutions exhibit typical paramagnetism,\\nwhile CoCrCuFeNiTi0.8 and CoCrCuFeNiTi alloys exhibit\\nattributed to the\\nsuperparamagnetism which may be\\n\\n[1] Cantor B, Chang ITH, Knight P, Vincent AJB. Mater Sci Eng A\\n\\n2004;375-377:213.\\n\\n[2] Porter DA, Easterling KE. Phase transformations in metals and alloys.\\n\\n2nd ed. Nelson Thornes Ltd.; 2001.\\n\\n[3] Liu CT, Stiegler JO. Science 1984;226(4675):636.\\n[4] Chen GL, Liu CT. Int Mater Rev 2001;46(60):253.\\n[5] Inoue A. Mater Sci Eng A 2004;375-377:16.\\n[6] Wang WH, Dong C, Shek CH. Mater Sci Eng R 2004;44(2e3):45.\\n[7] Tan H, Zhang Y, Ma D, Feng YP, Li Y. Acta Mater 2003;51:4551.\\n[8] Johnson WL. MRS Bull 1999;24:42.\\n[9] Zhang Y, Zhao DQ, Pan MX, Wang WH. J Non-Cryst Sol 2003;315:206.\\n[10] Tong CJ, Chen YL, Chen SK. Met Mater Trans A 2005;36A:881.\\n[11] Tong CJ, Chen MR, Chen SK. Met Mater Trans A 2005;36A:1263.\\n[12] Greer AL. Nature 1993;366:303.\\n[13] Shinde SR, Ogale SB, Higgins JS. Phys Rev Lett 2004;92:166601.\\n\\n \\n\\x0c']"
      ]
     },
     "execution_count": 62,
     "metadata": {},
     "output_type": "execute_result"
    }
   ],
   "source": [
    "import re\n",
    "\n",
    "s = re.findall(\"abstract\", raw, re.IGNORECASE)\n",
    "assert len(s) == 1, f\"There's more than 1 match for 'abstract' : {s}\"\n",
    "\n",
    "raw.split(s[0])"
   ]
  },
  {
   "cell_type": "code",
   "execution_count": 58,
   "id": "c4a9bd86-4a36-4e62-bf11-a3efbc1d4573",
   "metadata": {},
   "outputs": [
    {
     "data": {
      "text/plain": [
       "'Intermetallics 15 (2007) 357e362\\n\\nwww.elsevier.com/locate/intermet\\n\\nNovel microstructure and properties of multicomponent\\nCoCrCuFeNiTix alloys\\n\\nX.F. Wang, Y. Zhang*, Y. Qiao, G.L. Chen\\n\\nState Key Laboratory for Advanced Metals and Materials, University of Science and Technology Beijing,\\nXueYuan Road 30#, Haidian District, Beijing 100083, China\\n\\nReceived 10 May 2006; received in revised form 7 July 2006; accepted 4 August 2006\\nAvailable online 5 October 2006\\n\\nAbstract\\n\\nCoCrCuFeNiTix (x values in molar ratio, x ¼ 0, 0.5, 0.8 and 1.0) were prepared by arc melting of the pure elements and suction casting under an\\nargon atmosphere. Both CoCrCuFeNi and CoCrCuFeNiTi0.5 alloys form a single FCC solid solution. While the alloys of CoCrCuFeNiTi0.8 and\\nCoCrCuFeNiTi are basically composed of primary FCC solid solution and eutectic mixture of FCC phase and Laves phase of Fe2Ti type. The yield\\nstrength of the alloys increases from 230 MPa to 1272 MPa with the increase of Ti addition, among which the CoCrCuFeNiTi0.5 alloy, especially,\\nexhibits compressive strength of up to 1650 MPa together with extensive work hardening and large plastic strain limit of 22%. An interesting tran-\\nsition from paramagnetism to superparamagnetism has been discovered due to the appearance of nanoparticles embedded in the amorphous phase.\\n(cid:2) 2006 Elsevier Ltd. All rights reserved.\\n\\nKeywords: B. Magnetic properties; B. Mechanical properties at ambient temperature; C. Casting; D. Microstructure\\n\\n1. Introduction\\n\\nConventional strategy for developing metallic alloys is to\\nselect one or two elements as the main components based\\non a primary property requirement, and to use alloying addi-\\ntions to confer secondary properties [1], such as iron-, cop-\\nper-, and aluminum-based alloys [2,3] or the intermetallic\\ncompounds of TieAl, NieAl and FeeAl binary systems\\nwhich appeared in the 1970s because of their extremely high\\nspeciﬁc strengths and thermal resistance [4]. In the last two de-\\ncades, multicomponent bulk amorphous alloys have attracted\\ngreat attentions because they exhibit unique properties com-\\npared to its counterpart crystalline materials, e.g. 2e3 times\\nof fracture strength of crystalline materials, high elastic strain\\nlimit and high corrosion resistance [5e9]. However, the design\\nconcept of multicomponent bulk amorphous alloys was, once\\nagain, based on one principal element [10]. Conventional alloy\\n\\n* Corresponding author. Tel.: þ86 010 62322160; fax: þ86 010 62332508.\\n\\nE-mail address: drzhangy@skl.ustb.edu.cn (Y. Zhang).\\n\\n0966-9795/$ - see front matter (cid:2) 2006 Elsevier Ltd. All rights reserved.\\ndoi:10.1016/j.intermet.2006.08.005\\n\\ndevelopment strategy leads to an enormous amount of knowl-\\nedge about alloys based on one or two main components, but\\nto very little or no knowledge about multiprincipal elements\\nsystem. Actually, for quaternary, quinary and higher order sys-\\ntems, information about alloys in the center of the phase dia-\\n[1]. The main reason for not\\ngram is non-existent\\nincorporating multiprincipal elements is the anticipated forma-\\ntion of many intermetallic compounds and complex micro-\\nstructures. However, it has been reported that a quinary alloy\\nFe20Cr20Mn20Ni20Co20 [1] and the AlxCoCrCuFeNi alloys\\nwith minor aluminum addition [10] form a single FCC solid\\nsolution, as well with promising mechanical properties that\\nmay have potential for the requirements of high temperature\\nalloys [11]. Just based on the simple structure and unique\\nproperties, there has been increasing interests for exploring\\nthe equiatomic multicomponent alloy series.\\n\\nIn this paper, a novel series of CoCrCuFeNiTix (x values in\\nmolar ratio, x ¼ 0, 0.5, 0.8 and 1.0) alloys were prepared by\\nwell-developed arc melting and casting method. Their micro-\\nstructure and mechanical properties were examined, further-\\nto investigate the\\nmore, we described an initial attempt\\n\\n\\x0cX.F. Wang et al. / Intermetallics 15 (2007) 357e362\\n\\n358\\n\\n700\\n\\n600\\n\\n500\\n\\n400\\n\\n300\\n\\n)\\n.\\nu\\n.\\na\\n(\\nY\\nT\\nS\\nN\\nE\\nT\\nN\\n\\nI\\n\\nI\\n\\nTi1\\n\\nTi0.8\\n\\n200\\n\\nTi0.5\\n\\n100\\n\\nTi0\\n\\n0\\n\\n20\\n\\n)\\n0\\n0\\n2\\n(\\n\\n)\\n1\\n1\\n1\\n(\\n\\n)\\n1\\n0\\n2\\n(\\n+\\n\\n)\\n0\\n1\\n1\\n(\\n+\\n\\nFCC\\n\\n+\\n\\nLAVES\\n\\n)\\n0\\n2\\n2\\n(\\n\\n)\\n0\\n2\\n2\\n(\\n+\\n\\n30\\n\\n40\\n\\n50\\n\\n60\\n\\n70\\n\\n80\\n\\n90\\n\\n2θ( º )\\n\\nFig. 1. XRD patterns of the CoCrCuFeNiTix rod samples with diameter of\\n5 mm (x ¼ 0, 0.5, 0.8, and 1).\\n\\nmagnetic property of the alloy series above and discovered an\\ninteresting transition.\\n\\n2. Experimental procedures\\n\\nIngots with nominal compositions of CoCrCuFeNiTix (x\\nvalues in molar ratio, x ¼ 0, 0.5, 0.8 and 1.0) were prepared\\nfrom commercial-purity Ti (99.9%), Cr (99.9%), Fe (99%),\\nCo (99.95%), Ni (99.9%) and Cu (99.9%) by arc melting un-\\nder argon atmosphere on a water-cooled Cu hearth. The alloys\\n\\nwere remelted several times in order to improve homogeneity.\\nFinally 5 mm diameter cylindrical rods were prepared in suc-\\ntion casting facility attached to the arc melter. Structural inves-\\ntigations were carried out by X-ray diffraction (XRD) with Cu\\nKa radiation using an MXP21VAHF diffractometer. An LEO-\\n1450 scanning electron microscope (SEM) equipped with\\na KEVEX Sigma energy-dispersive X-ray (EDX) spectrometer\\nwas used for microstructure observation and phase composi-\\ntion identiﬁcation. Thin slices from the as-cast rods were pre-\\npared by the conventional method of slicing and grinding,\\nfollowed by dimpling and ﬁnally ion milling (LBS-1). These\\nslices were used for detailed structural investigations of the\\nas-cast samples by transmission electron microscopy (TEM).\\nA CMT4305 testing machine was used for compressive tests,\\nwith the strain rate of 10(cid:2)4 s(cid:2)1. In order to evaluate the mag-\\nnetic property, squares of 3 mm length and 0.5 mm thickness\\nwere prepared from the 5 mm diameter as-cast rods and tested\\nby an LDJ 9600 vibrating sample magnetometer (VSM). And\\nthe magnetic moments of low-temperature were characterized\\nwith an MPMS-7 superconducting quantum device magnetom-\\neter (SQUID Magnetometer).\\n\\n3. Results\\n\\n3.1. Microstructure evolution\\n\\nThe XRD patterns of the as-cast rods are presented in\\nFig. 1. Both CoCrCuFeNi and CoCrCuFeNiTi0.5 alloys show\\n\\nFig. 2. SEM back-scatter electron images of the CoCrCuFeNiTix alloys after polishing, x ¼ 0, 0.5, 0.8, and 1 corresponding to (a), (b), (c) and (d), respectively. In\\n(d), a region marked by circle denotes the region for HRTEM observation (as shown in Fig. 3).\\n\\n\\x0cX.F. Wang et al. / Intermetallics 15 (2007) 357e362\\n\\n359\\n\\nThe microstructure of\\n\\nthe presence of FCC reﬂections. For CoCrCuFeNiTi0.8 and\\nCoCrCuFeNiTi, the reﬂections of Laves phase occur besides\\nFCC reﬂections, the relative intensity of which is smaller\\nthan that of the FCC reﬂections. The lattice parameter of the\\nsolid solution is estimated to be 3.579 A˚ from the strongest\\n(111) peak for CoCrCuFeNi. The energy-dispersive X-ray\\n(EDX) analysis reveals that Cobalt acts as the solvent and\\nother atoms replace the Cobalt atoms in FCC lattice. The\\nLaves phase in the alloys of CoCrCuFeNiTi0.8 and CoCrCuFe-\\nNiTi, with lattice parameters of a ¼ 4.765 A˚ and c ¼ 7.723 A˚ ,\\nshould be ranged as an Fe2Ti type. The peaks of the FCC re-\\nﬂections shift a little leftwards with the increase of Ti addition,\\nwhich indicates that the lattice parameter of FCC phase has\\na slight increment. A broad diffraction peak at 2q ¼ 42e47(cid:3)\\nfor CoCrCuFeNiTi0.8 and CoCrCuFeNiTi alloys can be ob-\\nserved, which indicates the existence of amorphous structure.\\nthe alloys is characterized in\\nFig. 2. The as-cast CoCrCuFeNi alloy exhibits a dendritic\\nmicrostructure with an average primary arm width of about\\n15 mm and Cu element segregates preferentially to the inter-\\ndendritic regions because more electronegative elements\\nsuch as Cu are less stable in the FCC dendrites and are re-\\njected into the interdendritic regions (as shown in Fig. 2(a)).\\nCompared with CoCrCuFeNi alloy,\\nthe microstructure of\\nCoCrCuFeNiTi0.5 alloy (as shown in Fig. 2(b)) displays\\na changed morphology. Both dendritic and interdendritic\\nphases gathered to clusters of about 2e3 mm. According\\nto EDX analysis of the black phase, it is reasonable to con-\\nsider it as another FCC solid solution, but the solvent is Ni.\\nIn Fig. 2(c) and (d), Laves phase and eutectic can be ob-\\nserved, the difference lies in that eutectic only exists around\\ncrystal boundaries for CoCrCuFeNiTi0.8 alloy, while in\\nCoCrCuFeNiTi alloy the eutectic structure has a rather\\nhigh volume fraction.\\n\\nFig. 3 shows the HRTEM image of the A region marked by\\ncircle in Fig. 2(d). The disordered matrix, its inverse fast Four-\\nier transform (IFFT) image (as shown in Fig. 3(c)), conﬁrms\\nthe existence of amorphous phase. In addition,\\nit can be\\nseen that the dispersing nanoparticles, which may be NiTi2\\nwith an FCC lattice of a ¼ 3.553 A˚ , embedded in the amor-\\nphous phase.\\n\\n3.2. Mechanical properties\\n\\nFig. 4 shows the true stressetrue strain curves of com-\\npression test for the alloy series. It is noticeable that CoCr-\\nCuFeNi alloy exhibits exceptional ductility so that\\nthe\\nsample did not break even under about 50% true strain.\\nAnd the alloy of CoCrCuFeNiTi0.5 possesses better inte-\\ngrated properties. The maximum compressive strength of\\nCoCrCuFeNiTi0.5 alloy is 1650 MPa.\\nIt exhibits about\\n22.4% deformation and a large work hardening capacity\\nin the compression test at room temperature. Compared\\nwith CoCrCuFeNi, the CoCrCuFeNiTi0.5 alloy has an en-\\nhanced strength, but lower ductility, which can be ascribed\\nthe second-phase particles staggering\\nto the reason that\\nthe\\nwith matrix lattice and it requires extra energy for\\n\\nFig. 3. (a) HRTEM image of nanoparticles embedded in the amorphous phase\\nin CoCrCuFeNiTi alloy, its IFFT images (b) and (c) indicate, respectively, re-\\ngion A of nanoparticles and region B of full amorphous matrix. The inset\\nshows the diffraction pattern of the nanophase.\\n\\n)\\na\\nP\\nM\\n\\n(\\n\\ns\\ns\\ne\\nr\\nt\\n\\nS\\ne\\nu\\nr\\nT\\n\\n2000\\n\\n1800\\n\\n1600\\n\\n1400\\n\\n1200\\n\\n1000\\n\\n800\\n\\n600\\n\\n400\\n\\n200\\n\\n0\\n\\n0\\n\\nTi0.8\\n\\nTi1\\n\\nTi0.5\\n\\n(not fractured)\\n\\nTi0\\n\\n10\\n\\n20\\n\\n30\\n\\n40\\n\\n50\\n\\nTrue Strain (%)\\n\\nFig. 4. True stressetrue strain curves of the CoCrCuFeNiTix rod samples with\\ndiameter of 5 mm (x ¼ 0, 0.5, 0.8, and 1).\\n\\n \\n \\n\\x0c360\\n\\nX.F. Wang et al. / Intermetallics 15 (2007) 357e362\\n\\nTable 1\\nRoom temperature compression test results for the alloy series\\n\\n3.3. Magnetic properties\\n\\nAlloy\\n\\nE (GPa)\\n\\nsy (MPa)\\n\\nsmax (MPa)\\n\\n3e (%)\\n\\n3p (%)\\n\\nCoCrCuFeNi\\nCoCrCuFeNiTi0.5\\nCoCrCuFeNiTi0.8\\nCoCrCuFeNiTi\\n\\n55.6\\n98.6\\n128.3\\n76.5\\n\\n230\\n700\\n1042\\n1272\\n\\n888\\n1650\\n1848\\n1272\\n\\n0.56\\n0.8\\n0.89\\n1.6\\n\\n50.2\\n21.6\\n2.11\\n0\\n\\nYoung’s modulus, E; yield stress, sy; compressive strength, smax; elastic strain\\nlimit, 3e; and plastic strain, 3p.\\n\\ndislocations passing through the second-phase particles.\\nWith Ti content increasing to x ¼ 0.8, the maximum com-\\npressive strength has a slight\\nincrease to 1848 MPa, but\\nthe deformation sharply decreases to 3%. As for CoCrCuFe-\\nNiTi alloy, it has only elastic strain of 1.6% and its fracture\\nstrength is 1272 MPa. The Young’s modulus (E ), yield\\nstrength sy, compressive strength smax, elastic strain limit\\n3e and plastic strain limit 3p are listed in Table 1.\\n\\nThe specimen surface and the fracture surfaces after failure\\nare presented in Fig. 5. Fig. 5(a) shows the side surface of the\\nas-cast CoCrCuFeNi cylinder sample. On the surface there are\\na large number of slip bands which are inclined to horizontal\\ndirection. For CoCrCuFeNiTi0.5 alloy, we can see clusters of\\ndendrites along various directions in Fig. 5(b), which might\\nbe attributed to its favorable ductility. Fig. 5(c) shows the frac-\\nture surface of CoCrCuFeNiTi0.8 alloy. Due to the existence of\\nbrittle microstructure around the crystal boundaries, the plas-\\nticity of the alloy becomes very weak. It can be seen that\\nthe fracture pattern of CoCrCuFeNiTi alloy is similar to that\\nof CoCrCuFeNiTi0.8 alloy in Fig. 5(d), and the brittle structure\\naccounts for a signiﬁcant proportion, which results in CoCr-\\nCuFeNiTi alloy losing plasticity at all.\\n\\nFig. 6 presents the magnetization curves of the alloy series.\\nBoth CoCrCuFeNi and CoCrCuFeNiTi0.5 exhibit typical para-\\nmagnetism, and the saturation magnetizations are 1.505 emu/g\\nrespectively, under 20,000 Oe magnetic\\nand 0.333 emu/g,\\nﬁeld, while the alloys of CoCrCuFeNiTi0.8 and CoCrCuFeNiTi\\nhave likely superparamagnetic curves with the saturation mag-\\nnetizations of 1.368 emu/g and 1.511 emu/g, respectively. For\\nelectron microscopy\\ntransmission\\nthe\\n(HRTEM) observation (as shown in Fig. 3), amorphous phase\\nand crystalline phase will exhibit different phasic contrasts.\\nAccording to the scale given, the sizes of the nanoparticles\\nare around 3e4 nm, which ensure granule volumes small\\nenough to exhibit superparamagnetic property [13].\\n\\nresolution\\n\\nhigh\\n\\n4. Discussion\\n\\nAccording to Greer’s ‘confusion principle’: the more ele-\\nments involved, the lower the chance that the alloy can select\\nviable crystal structures, and the greater the chance of glass\\nformation [12]. And the further explanation is that the most\\n‘confusing’ elements will be those that differ most from each\\nother in size because a mixture of these elements lead to dense\\npacking in the liquid state, and the resulting stability favours\\nglass formation over crystallization. The little difference in\\nsize is just the reason why the ‘confusion principle’ is not appli-\\ncable in our alloy series when x is less than 0.5. On the other\\nhand, the formation of solid solution still follows the principle\\nof lowest energy. According to the formula of free energy:\\nG ¼ H (cid:2) TS, solid solution containing multiprincipal elements\\nwill tend to be more stable at elevated temperatures because\\n\\nFig. 5. SEM secondary electron images of fracture surfaces of the CoCrCuFeNiTix alloys, x ¼ 0, 0.5, 0.8, and 1 corresponding to (a), (b), (c) and (d), respectively.\\n\\n\\x0cX.F. Wang et al. / Intermetallics 15 (2007) 357e362\\n\\n361\\n\\n2.0\\n\\n1.5\\n\\n1.0\\n\\n0.5\\n\\n0.0\\n\\n-0.5\\n\\n-1.0\\n\\n-1.5\\n\\n)\\ng\\n/\\nu\\nm\\ne\\n(\\n\\nM\\n\\nTi1.0\\n\\nTi0\\n\\nTi0.8\\n\\nTi0.5\\n\\n-20000\\n\\n-10000\\n\\n0\\n\\n10000\\n\\n20000\\n\\nH (Oe)\\n\\n1300\\n\\nS0\\n\\nS1\\n\\nS2\\n\\nS3\\n\\nLiquid\\n\\n)\\n\\nC\\nº\\n(\\n\\ne\\nr\\nu\\nt\\na\\nr\\ne\\np\\nm\\ne\\nT\\n\\nLiquid+FCC\\n\\n1200\\n\\n1100\\n\\n1000\\n\\nFCC\\n\\n900\\n\\n0\\nCoCrCuFeNi\\n\\n5\\n\\nLiquid\\n+Laves\\n\\nFCC+Laves\\n\\n10\\n\\n15\\nTi content (at.%)\\n\\n20\\n\\n25\\n\\n30\\n\\nFig. 6. Magnetization curves of the TixCoCrCuFeNi alloys (x ¼ 0, 0.5, 0.8, and 1),\\nshowing a transition from the paramagnetism (x ¼ 0 and 0.5) to superpar-\\namagnetism (x ¼ 0.8 and 1).\\n\\nFig. 8. The diagrammatic sketch of CoCrCuFeNi system with the Ti addition,\\nS0, S1, S2 and S3 corresponding to x ¼ 0, 0.5, 0.8 and 1.0, respectively.\\n\\nof the large mixing entropies [10]. To check the formula of mix-\\ning entropy: Sm ¼ (cid:2)R Pn\\ni¼1 Ci Ln Ci, a maximum point can be\\nattained when the alloy system contains equiatomic multicom-\\nponent. With the increase of Ti addition, a dense packing will\\nbe attained in local regions due to the proper arrangement of\\nelements with remarkable difference in atomic size such as Ti\\nand Ni, the difference in atomic radii is near 17%. Hence, the\\n‘confusion principle’ may be applicable in this case and glass\\nformation does occur in local regions.\\n\\nIt can be seen that both the onset melting temperature Tm\\nand the liquidus temperature Tl decrease with increasing Ti ad-\\ndition (Fig. 7). This tendency should be derived from the evo-\\nlution of the microstructure. Based on the fact that almost all\\nof the binary phase diagrams of TieM (M refer to Co, Cu, Fe\\nand Ni) are eutectic type, and their eutectic temperatures are\\nvery close to the Tm of CoCrCuFeNiTi0.8 and CoCrCuFeNiTi\\nalloys, so it may be reasonable to conceive a pseudo-binary\\neutectic diagram (Fig. 8) for illustrating the formation of\\n\\nTm\\n\\nTl\\n\\nTi1.0\\n\\nTi0.8\\n\\nTi0.5\\n\\nTi0\\n\\n)\\n.\\nu\\na\\n(\\n\\n.\\n\\nw\\no\\nF\\n\\nl\\n\\nt\\n\\na\\ne\\nH\\n\\nmicrostructure. According to Fig. 8, the systems of CoCrCu-\\nFeNiTi0.8 and CoCrCuFeNiTi alloys (marked S2 and S3 in\\nFig. 8) would precipitate FCC solid solution as primary phase,\\nthen eutectic resultant including Laves phase of Fe2Ti type\\nbecause of the non-equilibrium solidiﬁcation resulting from\\nhigh cooling rate. And the local segments having the compo-\\nsition close to eutectic may favour a glass transition under\\nhigh cooling rates. As a result of fast cooling, the short-range\\nstructure (denoted by arrows in Fig. 3(c)) of the amorphous\\nphase showing a hexagonal pattern which accords with the\\nlattice of Fe2Ti type.\\n\\nIn general, a number of slip bands would be beneﬁcial for\\nplasticity. For CoCrCuFeNi and CoCrCuFeNiTi0.5, the dislo-\\ncations cannot propagate through the whole sample due to\\nthe constraint of the interdendritic regions. And multiple slip\\nbands may be activated resulting from the stress concentration\\nin this case, thus the ductility improved. Both Fig. 5(c) and (d)\\nshow the typical fracture surfaces of quasi-cleavage facets, and\\nalso a few dimples (Fig. 5(d)). The difference lies in the facets\\nin Fig. 5(d) which are bigger and ﬂatter reﬂecting their weaker\\nductility.\\n\\nThe fact of magnetic transition can also be proved by the\\ntemperature dependence of magnetization (M (T )) curves pre-\\nsented in Fig. 9. For CoCrCuFeNi and CoCrCuFeNiTi0.5, there\\nare only Curie temperatures (TC) appearing on the curves,\\nwhereas the alloys of CoCrCuFeNiTi0.8 and CoCrCuFeNiTi\\nhave the blocking temperatures (TB) besides TC in a lower\\ntemperature region of 19e23 K. Despite TB is so low that it\\nlimits the application for this kind of superparamagnetic al-\\nloys, the tendency of TB increasing with increased addition\\nof Ti is irradiative for further improving the magnetic proper-\\nties by adjusting the alloy composition.\\n\\n200\\n\\n400\\n\\n600\\n\\n800\\n\\n1000\\n\\n1200\\n\\nTemperature (ºC)\\n\\n5. Conclusions\\n\\nFig. 7. DSC heating curves of the CoCrCuFeNiTix alloys (x ¼ 0, 0.5, 0.8\\nand 1.0).\\n\\nIn summary, the alloy series of CoCrCuFeNiTix (x values in\\nmolar ratio, x ¼ 0, 0.5, 0.8 and 1.0) have relatively simple\\n\\n \\n \\n \\n \\n \\n\\x0c362\\n\\nX.F. Wang et al. / Intermetallics 15 (2007) 357e362\\n\\n)\\nu\\nm\\ne\\n(\\n\\nM\\n\\n12\\n\\n10\\n\\n8\\n\\n6\\n\\n4\\n\\n2\\n\\n0\\n\\nTi0\\n\\nTi1\\n\\nTi0.8\\n\\nTB\\n\\nTB\\n\\nTi0.5\\n\\nTC\\n\\nTC\\n\\n0\\n\\n50\\n\\n100\\n\\n150\\n\\n200\\n\\n250\\n\\n300\\n\\n350\\n\\nT (K)\\n\\nappearance of nanoparticle assemblies embedded in the amor-\\nphous phase due to the increment of Ti addition. And the in-\\ncrease of TB with Ti addition may suggest a way for\\ndeveloping a new superparamagnetic material.\\n\\nAcknowledgment\\n\\nThe authors would like to thank X.P. Song for technical as-\\nsistance in TEM experiments, and X.J. Liu and J. Chen for\\nprocessing the ﬁgures. One of the authors (Z.Y.) would like\\nto acknowledge the ﬁnancial support by National Natural Sci-\\nence Foundation of China (NNSFC) under the granted No.\\n50571018, and Program for New Century Excellent Talents\\nin University (NCET).\\n\\nFig. 9. The temperature dependence of magnetization (M (T )) curves while\\ncooling the alloy series of CoCrCuFeNiTix (x ¼ 0, 0.5, 0.8 and 1) at 2000 Oe.\\n\\nReferences\\n\\nmicrostructure and promising properties. As Ti addition in-\\ncreases from 0 to 1.0, the microstructure of the alloy series\\nevolves from a single FCC solid solution to the composite\\nstructure: FCC and Laves phases, also a fraction of amorphous\\nphase. The yield strength of the alloys increases from 230 MPa\\nto 1272 MPa with the increase of Ti addition, among which\\nthe CoCrCuFeNiTi0.5 alloy exhibits high strength of up to\\n1650 MPa together with extensive work hardening and large\\nductility of 22%. For CoCrCuFeNi and CoCrCuFeNiTi0.5\\nalloys, the FCC solid solutions exhibit typical paramagnetism,\\nwhile CoCrCuFeNiTi0.8 and CoCrCuFeNiTi alloys exhibit\\nattributed to the\\nsuperparamagnetism which may be\\n\\n[1] Cantor B, Chang ITH, Knight P, Vincent AJB. Mater Sci Eng A\\n\\n2004;375-377:213.\\n\\n[2] Porter DA, Easterling KE. Phase transformations in metals and alloys.\\n\\n2nd ed. Nelson Thornes Ltd.; 2001.\\n\\n[3] Liu CT, Stiegler JO. Science 1984;226(4675):636.\\n[4] Chen GL, Liu CT. Int Mater Rev 2001;46(60):253.\\n[5] Inoue A. Mater Sci Eng A 2004;375-377:16.\\n[6] Wang WH, Dong C, Shek CH. Mater Sci Eng R 2004;44(2e3):45.\\n[7] Tan H, Zhang Y, Ma D, Feng YP, Li Y. Acta Mater 2003;51:4551.\\n[8] Johnson WL. MRS Bull 1999;24:42.\\n[9] Zhang Y, Zhao DQ, Pan MX, Wang WH. J Non-Cryst Sol 2003;315:206.\\n[10] Tong CJ, Chen YL, Chen SK. Met Mater Trans A 2005;36A:881.\\n[11] Tong CJ, Chen MR, Chen SK. Met Mater Trans A 2005;36A:1263.\\n[12] Greer AL. Nature 1993;366:303.\\n[13] Shinde SR, Ogale SB, Higgins JS. Phys Rev Lett 2004;92:166601.\\n\\n \\n\\x0c'"
      ]
     },
     "execution_count": 58,
     "metadata": {},
     "output_type": "execute_result"
    }
   ],
   "source": [
    "raw"
   ]
  }
 ],
 "metadata": {
  "kernelspec": {
   "display_name": "Python 3 (ipykernel)",
   "language": "python",
   "name": "python3"
  },
  "language_info": {
   "codemirror_mode": {
    "name": "ipython",
    "version": 3
   },
   "file_extension": ".py",
   "mimetype": "text/x-python",
   "name": "python",
   "nbconvert_exporter": "python",
   "pygments_lexer": "ipython3",
   "version": "3.8.18"
  }
 },
 "nbformat": 4,
 "nbformat_minor": 5
}
